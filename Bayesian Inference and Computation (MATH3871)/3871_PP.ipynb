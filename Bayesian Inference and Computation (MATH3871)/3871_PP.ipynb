{
  "nbformat": 4,
  "nbformat_minor": 0,
  "metadata": {
    "kernelspec": {
      "display_name": "R",
      "language": "R",
      "name": "ir"
    },
    "language_info": {
      "codemirror_mode": "r",
      "file_extension": ".r",
      "mimetype": "text/x-r-source",
      "name": "R",
      "pygments_lexer": "r",
      "version": "3.3.1"
    },
    "colab": {
      "name": "3871_PP.ipynb",
      "provenance": [],
      "collapsed_sections": [],
      "toc_visible": true
    }
  },
  "cells": [
    {
      "cell_type": "code",
      "metadata": {
        "colab": {
          "base_uri": "https://localhost:8080/"
        },
        "id": "rmGAHBvbv98T",
        "outputId": "2ef16e0a-0417-44d2-eda6-65b0bd1fdd8a"
      },
      "source": [
        "install.packages('mcmc')\n",
        "library(mcmc)"
      ],
      "execution_count": null,
      "outputs": [
        {
          "output_type": "stream",
          "text": [
            "Installing package into ‘/usr/local/lib/R/site-library’\n",
            "(as ‘lib’ is unspecified)\n",
            "\n"
          ],
          "name": "stderr"
        }
      ]
    },
    {
      "cell_type": "code",
      "metadata": {
        "colab": {
          "base_uri": "https://localhost:8080/"
        },
        "id": "GDrfMae6wSDQ",
        "outputId": "cbe0268e-464b-4dc5-b2d4-bca362aa5e66"
      },
      "source": [
        "install.packages('mvtnorm')\n",
        "library(mvtnorm)"
      ],
      "execution_count": null,
      "outputs": [
        {
          "output_type": "stream",
          "text": [
            "Installing package into ‘/usr/local/lib/R/site-library’\n",
            "(as ‘lib’ is unspecified)\n",
            "\n"
          ],
          "name": "stderr"
        }
      ]
    },
    {
      "cell_type": "code",
      "metadata": {
        "colab": {
          "base_uri": "https://localhost:8080/"
        },
        "id": "UzbWYWMwwS7R",
        "outputId": "6d67643f-9c6f-4350-8293-c2c01e61ad4c"
      },
      "source": [
        "install.packages('MHadaptive')\n",
        "library(MHadaptive)"
      ],
      "execution_count": null,
      "outputs": [
        {
          "output_type": "stream",
          "text": [
            "Installing package into ‘/usr/local/lib/R/site-library’\n",
            "(as ‘lib’ is unspecified)\n",
            "\n",
            "Loading required package: MASS\n",
            "\n"
          ],
          "name": "stderr"
        }
      ]
    },
    {
      "cell_type": "markdown",
      "metadata": {
        "id": "ygVgBh-gv_sP"
      },
      "source": [
        "# 3871 Question 1"
      ]
    },
    {
      "cell_type": "code",
      "metadata": {
        "id": "eQYz6lJmaA-W"
      },
      "source": [
        "x = 8\n",
        "p = 0.8\n",
        "n = 15\n",
        "\n",
        "cdf = function(x, p) {\n",
        "  sum(dbinom(x:n, size = n, p = p))\n",
        "}"
      ],
      "execution_count": null,
      "outputs": []
    },
    {
      "cell_type": "code",
      "metadata": {
        "colab": {
          "base_uri": "https://localhost:8080/",
          "height": 68
        },
        "id": "jdhD8uY4afPf",
        "outputId": "76d9194a-8cde-4247-99a5-665746d3d2bd"
      },
      "source": [
        "p1 = cdf(x = 8,p = 0.8)\n",
        "p2 = cdf(x = 8, p = 1/3)\n",
        "\n",
        "p1\n",
        "p2\n",
        "\n",
        "num = 0.7*p1\n",
        "denom = 0.7*p1 + 0.3*p2\n",
        "\n",
        "num/denom"
      ],
      "execution_count": null,
      "outputs": [
        {
          "output_type": "display_data",
          "data": {
            "text/plain": [
              "[1] 0.9957603"
            ],
            "text/latex": "0.995760250290176",
            "text/markdown": "0.995760250290176",
            "text/html": [
              "0.995760250290176"
            ]
          },
          "metadata": {
            "tags": []
          }
        },
        {
          "output_type": "display_data",
          "data": {
            "text/plain": [
              "[1] 0.0882316"
            ],
            "text/latex": "0.0882315984067635",
            "text/markdown": "0.0882315984067635",
            "text/html": [
              "0.0882315984067635"
            ]
          },
          "metadata": {
            "tags": []
          }
        },
        {
          "output_type": "display_data",
          "data": {
            "text/plain": [
              "[1] 0.9634148"
            ],
            "text/latex": "0.963414762980626",
            "text/markdown": "0.963414762980626",
            "text/html": [
              "0.963414762980626"
            ]
          },
          "metadata": {
            "tags": []
          }
        }
      ]
    },
    {
      "cell_type": "code",
      "metadata": {
        "colab": {
          "base_uri": "https://localhost:8080/",
          "height": 34
        },
        "id": "VCY9LiS9ms3g",
        "outputId": "ebc4926c-028c-4b1d-e8eb-9997a82894a7"
      },
      "source": [
        "pbinom(7, size = 15, prob = 1/3,lower.tail=FALSE)"
      ],
      "execution_count": null,
      "outputs": [
        {
          "output_type": "display_data",
          "data": {
            "text/plain": [
              "[1] 0.0882316"
            ],
            "text/latex": "0.0882315984067637",
            "text/markdown": "0.0882315984067637",
            "text/html": [
              "0.0882315984067637"
            ]
          },
          "metadata": {
            "tags": []
          }
        }
      ]
    },
    {
      "cell_type": "code",
      "metadata": {
        "colab": {
          "base_uri": "https://localhost:8080/",
          "height": 68
        },
        "id": "PHLPxh1T3H6B",
        "outputId": "a2646a2d-481e-474f-cd27-d1e42fb2b5b1"
      },
      "source": [
        "p1 = 1-pbinom(7, size = 15, prob = 0.8)\n",
        "p2 = 1-pbinom(7, size = 15, prob = 1/3)\n",
        "\n",
        "p1\n",
        "p2\n",
        "\n",
        "num = 0.7*p1\n",
        "denom = 0.7*p1 + 0.3*p2\n",
        "\n",
        "num/denom"
      ],
      "execution_count": null,
      "outputs": [
        {
          "output_type": "display_data",
          "data": {
            "text/plain": [
              "[1] 0.9957603"
            ],
            "text/latex": "0.995760250290176",
            "text/markdown": "0.995760250290176",
            "text/html": [
              "0.995760250290176"
            ]
          },
          "metadata": {
            "tags": []
          }
        },
        {
          "output_type": "display_data",
          "data": {
            "text/plain": [
              "[1] 0.0882316"
            ],
            "text/latex": "0.0882315984067638",
            "text/markdown": "0.0882315984067638",
            "text/html": [
              "0.0882315984067638"
            ]
          },
          "metadata": {
            "tags": []
          }
        },
        {
          "output_type": "display_data",
          "data": {
            "text/plain": [
              "[1] 0.9634148"
            ],
            "text/latex": "0.963414762980626",
            "text/markdown": "0.963414762980626",
            "text/html": [
              "0.963414762980626"
            ]
          },
          "metadata": {
            "tags": []
          }
        }
      ]
    },
    {
      "cell_type": "code",
      "metadata": {
        "colab": {
          "base_uri": "https://localhost:8080/"
        },
        "id": "4R7g-NXW32ee",
        "outputId": "7eccd42a-c62f-46c0-8632-f015b2f3dddc"
      },
      "source": [
        "install.packages('mle.tools')\n",
        "library(mle.tools)"
      ],
      "execution_count": null,
      "outputs": [
        {
          "output_type": "stream",
          "text": [
            "Installing package into ‘/usr/local/lib/R/site-library’\n",
            "(as ‘lib’ is unspecified)\n",
            "\n"
          ],
          "name": "stderr"
        }
      ]
    },
    {
      "cell_type": "code",
      "metadata": {
        "colab": {
          "base_uri": "https://localhost:8080/",
          "height": 96
        },
        "id": "fvSedEwpfTsE",
        "outputId": "48d37b36-caa3-4eff-8987-87ccf1837e69"
      },
      "source": [
        "## Normal distribution\n",
        "n = 1e3\n",
        "\n",
        "pdf = quote(1 / (sqrt(2 * pi) * sigma) * exp(-0.5 / sigma ^ 2 * (x - mu) ^ 2))\n",
        "lpdf = quote(-log(sigma) - 0.5 / sigma ^ 2 * (x - mu) ^ 2)\n",
        "\n",
        "x = rnorm(n = 100, mean = 0.0, sd = 1.0)\n",
        "\n",
        "# fisher = mean(x)/\n",
        "\n",
        "expected.varcov(density = pdf, logdensity = lpdf, n = n, parms = c(\"mu\", \"sigma\"),\n",
        "                mle = c(mean(x), sd(x)), lower = '-Inf', upper = 'Inf')"
      ],
      "execution_count": null,
      "outputs": [
        {
          "output_type": "error",
          "ename": "ERROR",
          "evalue": "ignored",
          "traceback": [
            "Error in maxLik(loglik, start = 1, control = list(printLevel = 2)): could not find function \"maxLik\"\nTraceback:\n"
          ]
        }
      ]
    },
    {
      "cell_type": "code",
      "metadata": {
        "colab": {
          "base_uri": "https://localhost:8080/"
        },
        "id": "tyQ843RUhwOH",
        "outputId": "882eb883-289d-4f68-f239-c8185f2b439c"
      },
      "source": [
        "install.packages('maxLik')\n",
        "library(maxLik)"
      ],
      "execution_count": null,
      "outputs": [
        {
          "output_type": "stream",
          "text": [
            "Installing package into ‘/usr/local/lib/R/site-library’\n",
            "(as ‘lib’ is unspecified)\n",
            "\n",
            "also installing the dependencies ‘zoo’, ‘miscTools’, ‘sandwich’\n",
            "\n",
            "\n",
            "Loading required package: miscTools\n",
            "\n",
            "\n",
            "Please cite the 'maxLik' package as:\n",
            "Henningsen, Arne and Toomet, Ott (2011). maxLik: A package for maximum likelihood estimation in R. Computational Statistics 26(3), 443-458. DOI 10.1007/s00180-010-0217-1.\n",
            "\n",
            "If you have questions, suggestions, or comments regarding the 'maxLik' package, please use a forum or 'tracker' at maxLik's R-Forge site:\n",
            "https://r-forge.r-project.org/projects/maxlik/\n",
            "\n"
          ],
          "name": "stderr"
        }
      ]
    },
    {
      "cell_type": "code",
      "metadata": {
        "colab": {
          "base_uri": "https://localhost:8080/",
          "height": 320
        },
        "id": "aa14kBDyiWbb",
        "outputId": "74599952-16b0-4266-8922-37c4e300ba46"
      },
      "source": [
        "## log likelihood function.\n",
        "## Note: 'param' is a vector\n",
        "\n",
        "llf <- function( param ) {\n",
        "  mu <- param[ 1 ]\n",
        "  sigma <- param[ 2 ]\n",
        "  llValue <- dnorm(x, mean=mu, sd=sigma, log=TRUE)\n",
        "  return(sum(llValue))\n",
        "}\n",
        "\n",
        "## Estimate it. Take standard normal as start values\n",
        "ml <- maxLik(llf, start = c(mu=0, sigma=1))\n",
        "\n",
        "print(summary(ml))\n",
        "vcov(ml)^-1\n"
      ],
      "execution_count": null,
      "outputs": [
        {
          "output_type": "stream",
          "text": [
            "--------------------------------------------\n",
            "Maximum Likelihood estimation\n",
            "Newton-Raphson maximisation, 4 iterations\n",
            "Return code 1: gradient close to zero (gradtol)\n",
            "Log-Likelihood: -121.9466 \n",
            "2  free parameters\n",
            "Estimates:\n",
            "      Estimate Std. error t value Pr(> t)    \n",
            "mu     0.07229    0.08192   0.882   0.378    \n",
            "sigma  0.81916    0.05792  14.142  <2e-16 ***\n",
            "---\n",
            "Signif. codes:  0 ‘***’ 0.001 ‘**’ 0.01 ‘*’ 0.05 ‘.’ 0.1 ‘ ’ 1\n",
            "--------------------------------------------\n"
          ],
          "name": "stdout"
        },
        {
          "output_type": "display_data",
          "data": {
            "text/plain": [
              "      mu           sigma        \n",
              "mu         149.015 -3125441.0686\n",
              "sigma -3125441.069      298.0585"
            ],
            "text/latex": "A matrix: 2 × 2 of type dbl\n\\begin{tabular}{r|ll}\n  & mu & sigma\\\\\n\\hline\n\tmu &      149.015 & -3125441.0686\\\\\n\tsigma & -3125441.069 &      298.0585\\\\\n\\end{tabular}\n",
            "text/markdown": "\nA matrix: 2 × 2 of type dbl\n\n| <!--/--> | mu | sigma |\n|---|---|---|\n| mu |      149.015 | -3125441.0686 |\n| sigma | -3125441.069 |      298.0585 |\n\n",
            "text/html": [
              "<table>\n",
              "<caption>A matrix: 2 × 2 of type dbl</caption>\n",
              "<thead>\n",
              "\t<tr><th></th><th scope=col>mu</th><th scope=col>sigma</th></tr>\n",
              "</thead>\n",
              "<tbody>\n",
              "\t<tr><th scope=row>mu</th><td>     149.015</td><td>-3125441.0686</td></tr>\n",
              "\t<tr><th scope=row>sigma</th><td>-3125441.069</td><td>     298.0585</td></tr>\n",
              "</tbody>\n",
              "</table>\n"
            ]
          },
          "metadata": {
            "tags": []
          }
        }
      ]
    },
    {
      "cell_type": "code",
      "metadata": {
        "id": "VDUVlI88h45E"
      },
      "source": [
        ""
      ],
      "execution_count": null,
      "outputs": []
    }
  ]
}