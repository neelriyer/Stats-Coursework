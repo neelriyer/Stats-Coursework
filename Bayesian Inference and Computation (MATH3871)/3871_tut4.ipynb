{
  "nbformat": 4,
  "nbformat_minor": 0,
  "metadata": {
    "kernelspec": {
      "display_name": "R",
      "language": "R",
      "name": "ir"
    },
    "language_info": {
      "codemirror_mode": "r",
      "file_extension": ".r",
      "mimetype": "text/x-r-source",
      "name": "R",
      "pygments_lexer": "r",
      "version": "3.3.1"
    },
    "colab": {
      "name": "3871_tut4.ipynb",
      "provenance": [],
      "collapsed_sections": []
    }
  },
  "cells": [
    {
      "cell_type": "code",
      "metadata": {
        "colab": {
          "base_uri": "https://localhost:8080/",
          "height": 51
        },
        "id": "Thtpw-YNWu1O",
        "outputId": "66c221e9-a8a3-4de0-bf6e-86e0a0a046f8"
      },
      "source": [
        "x = c(5.3, 5.6, 5.9, 6.1, 6.2, 6.5)\n",
        "n = 6\n",
        "\n",
        "c = 0\n",
        "b = 0\n",
        "\n",
        "tau = 1\n",
        "\n",
        "# (a)\n",
        "\n",
        "alpha = 0.1\n",
        "qnorm(alpha/2, (c*b+n*1*mean(x))/(c+n*1), 1/(c+n))\n",
        "qnorm(1-alpha/2, (c*b+n*1*mean(x))/(c+n*1), 1/(c+n))\n"
      ],
      "execution_count": null,
      "outputs": [
        {
          "output_type": "display_data",
          "data": {
            "text/plain": [
              "[1] 5.659191"
            ],
            "text/latex": "5.65919106217475",
            "text/markdown": "5.65919106217475",
            "text/html": [
              "5.65919106217475"
            ]
          },
          "metadata": {
            "tags": []
          }
        },
        {
          "output_type": "display_data",
          "data": {
            "text/plain": [
              "[1] 6.207476"
            ],
            "text/latex": "6.20747560449191",
            "text/markdown": "6.20747560449191",
            "text/html": [
              "6.20747560449191"
            ]
          },
          "metadata": {
            "tags": []
          }
        }
      ]
    },
    {
      "cell_type": "code",
      "metadata": {
        "colab": {
          "base_uri": "https://localhost:8080/",
          "height": 51
        },
        "id": "F6T9-3y7J_B5",
        "outputId": "eea29fe4-e1b6-4766-eb50-01d08d813a60"
      },
      "source": [
        "# (b)\n",
        "mean(x) + qt(alpha/2, df = n-1) * sd(x)/sqrt(n)\n",
        "mean(x) - qt(alpha/2, df = n-1) * sd(x)/sqrt(n)"
      ],
      "execution_count": null,
      "outputs": [
        {
          "output_type": "display_data",
          "data": {
            "text/plain": [
              "[1] 5.577912"
            ],
            "text/latex": "5.57791220829304",
            "text/markdown": "5.57791220829304",
            "text/html": [
              "5.57791220829304"
            ]
          },
          "metadata": {
            "tags": []
          }
        },
        {
          "output_type": "display_data",
          "data": {
            "text/plain": [
              "[1] 6.288754"
            ],
            "text/latex": "6.28875445837363",
            "text/markdown": "6.28875445837363",
            "text/html": [
              "6.28875445837363"
            ]
          },
          "metadata": {
            "tags": []
          }
        }
      ]
    },
    {
      "cell_type": "code",
      "metadata": {
        "colab": {
          "base_uri": "https://localhost:8080/",
          "height": 204
        },
        "id": "eEduyc1XK-oL",
        "outputId": "3ea8c38a-a431-4a98-81ba-5a4c118bb2a3"
      },
      "source": [
        "t.test(x, conf.level = 0.9)"
      ],
      "execution_count": null,
      "outputs": [
        {
          "output_type": "display_data",
          "data": {
            "text/plain": [
              "\n",
              "\tOne Sample t-test\n",
              "\n",
              "data:  x\n",
              "t = 33.639, df = 5, p-value = 4.365e-07\n",
              "alternative hypothesis: true mean is not equal to 0\n",
              "90 percent confidence interval:\n",
              " 5.577912 6.288754\n",
              "sample estimates:\n",
              "mean of x \n",
              " 5.933333 \n"
            ]
          },
          "metadata": {
            "tags": []
          }
        }
      ]
    },
    {
      "cell_type": "code",
      "metadata": {
        "colab": {
          "base_uri": "https://localhost:8080/",
          "height": 204
        },
        "id": "WDJ6hrDKtkUv",
        "outputId": "0d1e343e-a12b-427a-b4ce-5c1979479f51"
      },
      "source": [
        "prop.test(83, 100, 0.75)"
      ],
      "execution_count": null,
      "outputs": [
        {
          "output_type": "display_data",
          "data": {
            "text/plain": [
              "\n",
              "\t1-sample proportions test with continuity correction\n",
              "\n",
              "data:  83 out of 100, null probability 0.75\n",
              "X-squared = 3, df = 1, p-value = 0.08326\n",
              "alternative hypothesis: true p is not equal to 0.75\n",
              "95 percent confidence interval:\n",
              " 0.7389130 0.8950666\n",
              "sample estimates:\n",
              "   p \n",
              "0.83 \n"
            ]
          },
          "metadata": {
            "tags": []
          }
        }
      ]
    },
    {
      "cell_type": "code",
      "metadata": {
        "colab": {
          "base_uri": "https://localhost:8080/",
          "height": 34
        },
        "id": "GfqIqlNatuut",
        "outputId": "9d5bac03-f143-4fb7-ef04-8f0fc6fee05a"
      },
      "source": [
        "# don't use this. Use the posterior CI calc.\n",
        "\n",
        "norm_interval = function(data, variance = var(data), conf = 0.95) {\n",
        "  z = qnorm((1 - conf)/2, lower.tail = F)\n",
        "  x_bar = mean(data)\n",
        "  n = length(data)\n",
        "  std_x = sqrt(variance/n)\n",
        "  c(x_bar - z * std_x, x_bar + z * std_x)\n",
        "}\n",
        "\n",
        "norm_interval(x, var(x))"
      ],
      "execution_count": null,
      "outputs": [
        {
          "output_type": "display_data",
          "data": {
            "text/plain": [
              "[1] 5.587628 6.279038"
            ],
            "text/latex": "\\begin{enumerate*}\n\\item 5.58762818121759\n\\item 6.27903848544908\n\\end{enumerate*}\n",
            "text/markdown": "1. 5.58762818121759\n2. 6.27903848544908\n\n\n",
            "text/html": [
              "<style>\n",
              ".list-inline {list-style: none; margin:0; padding: 0}\n",
              ".list-inline>li {display: inline-block}\n",
              ".list-inline>li:not(:last-child)::after {content: \"\\00b7\"; padding: 0 .5ex}\n",
              "</style>\n",
              "<ol class=list-inline><li>5.58762818121759</li><li>6.27903848544908</li></ol>\n"
            ]
          },
          "metadata": {
            "tags": []
          }
        }
      ]
    },
    {
      "cell_type": "markdown",
      "metadata": {
        "id": "SP2D_5cqNDR1"
      },
      "source": [
        "question 2"
      ]
    },
    {
      "cell_type": "code",
      "metadata": {
        "id": "N2ChJ0GgK4sW"
      },
      "source": [
        "x = c(108.0, 109.0, 107.4, 109.6, 112.0)\n",
        "\n",
        "b = 110\n",
        "c = 2.5\n",
        "tau = 0.25\n",
        "n = length(x)\n",
        "\n",
        "S = 1e6\n",
        "\n",
        "theta = rnorm(b, c^-1)\n",
        "density = function (theta) rnorm(theta, 4)\n",
        "post_theta = rnorm(S, (c*b+n*tau*mean(x))/(c+n*tau), 1/(c+n*tau))\n",
        "pred = density(post_theta)\n"
      ],
      "execution_count": null,
      "outputs": []
    },
    {
      "cell_type": "code",
      "metadata": {
        "id": "5-tzhkmFPm3g"
      },
      "source": [
        ""
      ],
      "execution_count": null,
      "outputs": []
    }
  ]
}