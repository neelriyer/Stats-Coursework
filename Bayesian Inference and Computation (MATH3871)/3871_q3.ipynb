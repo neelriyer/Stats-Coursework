{
  "nbformat": 4,
  "nbformat_minor": 0,
  "metadata": {
    "kernelspec": {
      "display_name": "R",
      "language": "R",
      "name": "ir"
    },
    "language_info": {
      "codemirror_mode": "r",
      "file_extension": ".r",
      "mimetype": "text/x-r-source",
      "name": "R",
      "pygments_lexer": "r",
      "version": "3.3.1"
    },
    "colab": {
      "name": "3871_q3.ipynb",
      "provenance": [],
      "collapsed_sections": [],
      "toc_visible": true
    }
  },
  "cells": [
    {
      "cell_type": "code",
      "metadata": {
        "colab": {
          "base_uri": "https://localhost:8080/"
        },
        "id": "rmGAHBvbv98T",
        "outputId": "14eee815-6440-4ca4-f612-7ec94073c623"
      },
      "source": [
        "install.packages('mcmc')\n",
        "install.packages('mvtnorm')\n",
        "install.packages('MHadaptive')\n",
        "library(mcmc)\n",
        "library(mvtnorm)\n",
        "library(MHadaptive)"
      ],
      "execution_count": null,
      "outputs": [
        {
          "output_type": "stream",
          "text": [
            "Installing package into ‘/usr/local/lib/R/site-library’\n",
            "(as ‘lib’ is unspecified)\n",
            "\n",
            "Installing package into ‘/usr/local/lib/R/site-library’\n",
            "(as ‘lib’ is unspecified)\n",
            "\n",
            "Installing package into ‘/usr/local/lib/R/site-library’\n",
            "(as ‘lib’ is unspecified)\n",
            "\n",
            "Loading required package: MASS\n",
            "\n"
          ],
          "name": "stderr"
        }
      ]
    },
    {
      "cell_type": "markdown",
      "metadata": {
        "id": "2tDixW9E4Tk4"
      },
      "source": [
        "# Question 3"
      ]
    },
    {
      "cell_type": "code",
      "metadata": {
        "colab": {
          "base_uri": "https://localhost:8080/",
          "height": 51
        },
        "id": "6UEEC-t84Z6R",
        "outputId": "6336f9e2-f812-4936-bd0d-7b06e938d82b"
      },
      "source": [
        "N = 1e3\n",
        "means = NULL\n",
        "\n",
        "h = function(x) {\n",
        "    exp(-(x-3)^2/2) + exp(-(x-6)^2/2)\n",
        "}\n",
        "\n",
        "for (i in 1:N) {\n",
        "\n",
        "  x = rnorm(N, 0, 1)\n",
        "  means = c(means, mean(h(x)))\n",
        "\n",
        "}\n",
        "\n",
        "alpha = 0.05\n",
        "mean(means)\n",
        "quantile(means, c(alpha, 1-alpha/2))"
      ],
      "execution_count": null,
      "outputs": [
        {
          "output_type": "display_data",
          "data": {
            "text/plain": [
              "[1] 0.07454915"
            ],
            "text/latex": "0.0745491542884231",
            "text/markdown": "0.0745491542884231",
            "text/html": [
              "0.0745491542884231"
            ]
          },
          "metadata": {
            "tags": []
          }
        },
        {
          "output_type": "display_data",
          "data": {
            "text/plain": [
              "        5%      97.5% \n",
              "0.06683194 0.08379231 "
            ],
            "text/latex": "\\begin{description*}\n\\item[5\\textbackslash{}\\%] 0.0668319413677509\n\\item[97.5\\textbackslash{}\\%] 0.0837923084160647\n\\end{description*}\n",
            "text/markdown": "5%\n:   0.066831941367750997.5%\n:   0.0837923084160647\n\n",
            "text/html": [
              "<style>\n",
              ".dl-inline {width: auto; margin:0; padding: 0}\n",
              ".dl-inline>dt, .dl-inline>dd {float: none; width: auto; display: inline-block}\n",
              ".dl-inline>dt::after {content: \":\\0020\"; padding-right: .5ex}\n",
              ".dl-inline>dt:not(:first-of-type) {padding-left: .5ex}\n",
              "</style><dl class=dl-inline><dt>5%</dt><dd>0.0668319413677509</dd><dt>97.5%</dt><dd>0.0837923084160647</dd></dl>\n"
            ]
          },
          "metadata": {
            "tags": []
          }
        }
      ]
    },
    {
      "cell_type": "code",
      "metadata": {
        "colab": {
          "base_uri": "https://localhost:8080/",
          "height": 68
        },
        "id": "P3VDCRLn4qY_",
        "outputId": "376bd45a-f24e-4f40-ab10-f771bccd8ceb"
      },
      "source": [
        "N = 1e3\n",
        "means = NULL\n",
        "ess = NULL\n",
        "\n",
        "for (i in 1:N) {\n",
        "\n",
        "  y = runif(N, -8, -1)\n",
        "  w = h(y)/dunif(y, -8, -1)\n",
        "  w_norm = w/sum(w)\n",
        "  ess = c(ess, 1/sum(w_norm)^2)\n",
        "\n",
        "  means = c(means, mean(w))\n",
        "\n",
        "}\n",
        "\n",
        "alpha = 0.05\n",
        "mean(means)\n",
        "mean(ess)\n",
        "quantile(means, c(alpha, 1-alpha/2))"
      ],
      "execution_count": null,
      "outputs": [
        {
          "output_type": "display_data",
          "data": {
            "text/plain": [
              "[1] 7.920929e-05"
            ],
            "text/latex": "7.92092872577302e-05",
            "text/markdown": "7.92092872577302e-05",
            "text/html": [
              "7.92092872577302e-05"
            ]
          },
          "metadata": {
            "tags": []
          }
        },
        {
          "output_type": "display_data",
          "data": {
            "text/plain": [
              "[1] 1"
            ],
            "text/latex": "1",
            "text/markdown": "1",
            "text/html": [
              "1"
            ]
          },
          "metadata": {
            "tags": []
          }
        },
        {
          "output_type": "display_data",
          "data": {
            "text/plain": [
              "          5%        97.5% \n",
              "6.433811e-05 9.684727e-05 "
            ],
            "text/latex": "\\begin{description*}\n\\item[5\\textbackslash{}\\%] 6.43381103388741e-05\n\\item[97.5\\textbackslash{}\\%] 9.6847274265992e-05\n\\end{description*}\n",
            "text/markdown": "5%\n:   6.43381103388741e-0597.5%\n:   9.6847274265992e-05\n\n",
            "text/html": [
              "<style>\n",
              ".dl-inline {width: auto; margin:0; padding: 0}\n",
              ".dl-inline>dt, .dl-inline>dd {float: none; width: auto; display: inline-block}\n",
              ".dl-inline>dt::after {content: \":\\0020\"; padding-right: .5ex}\n",
              ".dl-inline>dt:not(:first-of-type) {padding-left: .5ex}\n",
              "</style><dl class=dl-inline><dt>5%</dt><dd>6.43381103388741e-05</dd><dt>97.5%</dt><dd>9.6847274265992e-05</dd></dl>\n"
            ]
          },
          "metadata": {
            "tags": []
          }
        }
      ]
    },
    {
      "cell_type": "code",
      "metadata": {
        "id": "FekWxZpZ6Khz"
      },
      "source": [
        "N = 1e3\n",
        "means = NULL\n",
        "ess = NULL\n",
        "\n",
        "for (i in 1:N) {\n",
        "\n",
        "  y = rt(N, df = 1)\n",
        "  w = h(y)/dt(y, df = 5)\n",
        "  w_norm = w/sum(w)\n",
        "  ess = c(ess, 1/sum(w_norm)^2)\n",
        "\n",
        "  means = c(means, mean(w))\n",
        "\n",
        "}\n",
        "\n",
        "alpha = 0.05\n",
        "mean(means)\n",
        "mean(ess)\n",
        "quantile(means, c(alpha, 1-alpha/2))"
      ],
      "execution_count": null,
      "outputs": []
    },
    {
      "cell_type": "code",
      "metadata": {
        "id": "cicsKxEO7503"
      },
      "source": [
        ""
      ],
      "execution_count": null,
      "outputs": []
    }
  ]
}