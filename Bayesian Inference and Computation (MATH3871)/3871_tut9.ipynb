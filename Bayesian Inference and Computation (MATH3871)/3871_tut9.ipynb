{
  "nbformat": 4,
  "nbformat_minor": 0,
  "metadata": {
    "kernelspec": {
      "display_name": "R",
      "language": "R",
      "name": "ir"
    },
    "language_info": {
      "codemirror_mode": "r",
      "file_extension": ".r",
      "mimetype": "text/x-r-source",
      "name": "R",
      "pygments_lexer": "r",
      "version": "3.3.1"
    },
    "colab": {
      "name": "3871_tut9.ipynb",
      "provenance": [],
      "collapsed_sections": [],
      "toc_visible": true
    }
  },
  "cells": [
    {
      "cell_type": "code",
      "metadata": {
        "id": "zRiadL7wfejm",
        "colab": {
          "base_uri": "https://localhost:8080/"
        },
        "outputId": "f87d19ea-0c86-4a9a-bdcc-4ebb5bdf0700"
      },
      "source": [
        "install.packages(\"superml\")\n",
        "install.packages('pracma')"
      ],
      "execution_count": null,
      "outputs": [
        {
          "output_type": "stream",
          "text": [
            "Installing package into ‘/usr/local/lib/R/site-library’\n",
            "(as ‘lib’ is unspecified)\n",
            "\n",
            "also installing the dependencies ‘data.table’, ‘Metrics’, ‘RcppArmadillo’\n",
            "\n",
            "\n",
            "Installing package into ‘/usr/local/lib/R/site-library’\n",
            "(as ‘lib’ is unspecified)\n",
            "\n"
          ],
          "name": "stderr"
        }
      ]
    },
    {
      "cell_type": "code",
      "metadata": {
        "id": "Yc82RxqEZ90U",
        "colab": {
          "base_uri": "https://localhost:8080/",
          "height": 326
        },
        "outputId": "8232359b-451f-4257-f5be-edbb629ce857"
      },
      "source": [
        "df = read.csv(file = 'adult.csv', header = FALSE, strip.white=T)\n",
        "names(df) = c('age','type_employer','fnlwgt', 'education', 'education_num', 'marital', 'occupation', 'relationship', 'race', 'sex', 'capital_gain', 'capital_loss', 'hr_per_week', 'country', 'income')\n",
        "head(df)"
      ],
      "execution_count": null,
      "outputs": [
        {
          "output_type": "display_data",
          "data": {
            "text/plain": [
              "  age type_employer    fnlwgt education education_num marital           \n",
              "1 39  State-gov         77516 Bachelors 13            Never-married     \n",
              "2 50  Self-emp-not-inc  83311 Bachelors 13            Married-civ-spouse\n",
              "3 38  Private          215646 HS-grad    9            Divorced          \n",
              "4 53  Private          234721 11th       7            Married-civ-spouse\n",
              "5 28  Private          338409 Bachelors 13            Married-civ-spouse\n",
              "6 37  Private          284582 Masters   14            Married-civ-spouse\n",
              "  occupation        relationship  race  sex    capital_gain capital_loss\n",
              "1 Adm-clerical      Not-in-family White Male   2174         0           \n",
              "2 Exec-managerial   Husband       White Male      0         0           \n",
              "3 Handlers-cleaners Not-in-family White Male      0         0           \n",
              "4 Handlers-cleaners Husband       Black Male      0         0           \n",
              "5 Prof-specialty    Wife          Black Female    0         0           \n",
              "6 Exec-managerial   Wife          White Female    0         0           \n",
              "  hr_per_week country       income\n",
              "1 40          United-States <=50K \n",
              "2 13          United-States <=50K \n",
              "3 40          United-States <=50K \n",
              "4 40          United-States <=50K \n",
              "5 40          Cuba          <=50K \n",
              "6 40          United-States <=50K "
            ],
            "text/latex": "A data.frame: 6 × 15\n\\begin{tabular}{r|lllllllllllllll}\n  & age & type\\_employer & fnlwgt & education & education\\_num & marital & occupation & relationship & race & sex & capital\\_gain & capital\\_loss & hr\\_per\\_week & country & income\\\\\n  & <int> & <chr> & <int> & <chr> & <int> & <chr> & <chr> & <chr> & <chr> & <chr> & <int> & <int> & <int> & <chr> & <chr>\\\\\n\\hline\n\t1 & 39 & State-gov        &  77516 & Bachelors & 13 & Never-married      & Adm-clerical      & Not-in-family & White & Male   & 2174 & 0 & 40 & United-States & <=50K\\\\\n\t2 & 50 & Self-emp-not-inc &  83311 & Bachelors & 13 & Married-civ-spouse & Exec-managerial   & Husband       & White & Male   &    0 & 0 & 13 & United-States & <=50K\\\\\n\t3 & 38 & Private          & 215646 & HS-grad   &  9 & Divorced           & Handlers-cleaners & Not-in-family & White & Male   &    0 & 0 & 40 & United-States & <=50K\\\\\n\t4 & 53 & Private          & 234721 & 11th      &  7 & Married-civ-spouse & Handlers-cleaners & Husband       & Black & Male   &    0 & 0 & 40 & United-States & <=50K\\\\\n\t5 & 28 & Private          & 338409 & Bachelors & 13 & Married-civ-spouse & Prof-specialty    & Wife          & Black & Female &    0 & 0 & 40 & Cuba          & <=50K\\\\\n\t6 & 37 & Private          & 284582 & Masters   & 14 & Married-civ-spouse & Exec-managerial   & Wife          & White & Female &    0 & 0 & 40 & United-States & <=50K\\\\\n\\end{tabular}\n",
            "text/markdown": "\nA data.frame: 6 × 15\n\n| <!--/--> | age &lt;int&gt; | type_employer &lt;chr&gt; | fnlwgt &lt;int&gt; | education &lt;chr&gt; | education_num &lt;int&gt; | marital &lt;chr&gt; | occupation &lt;chr&gt; | relationship &lt;chr&gt; | race &lt;chr&gt; | sex &lt;chr&gt; | capital_gain &lt;int&gt; | capital_loss &lt;int&gt; | hr_per_week &lt;int&gt; | country &lt;chr&gt; | income &lt;chr&gt; |\n|---|---|---|---|---|---|---|---|---|---|---|---|---|---|---|---|\n| 1 | 39 | State-gov        |  77516 | Bachelors | 13 | Never-married      | Adm-clerical      | Not-in-family | White | Male   | 2174 | 0 | 40 | United-States | &lt;=50K |\n| 2 | 50 | Self-emp-not-inc |  83311 | Bachelors | 13 | Married-civ-spouse | Exec-managerial   | Husband       | White | Male   |    0 | 0 | 13 | United-States | &lt;=50K |\n| 3 | 38 | Private          | 215646 | HS-grad   |  9 | Divorced           | Handlers-cleaners | Not-in-family | White | Male   |    0 | 0 | 40 | United-States | &lt;=50K |\n| 4 | 53 | Private          | 234721 | 11th      |  7 | Married-civ-spouse | Handlers-cleaners | Husband       | Black | Male   |    0 | 0 | 40 | United-States | &lt;=50K |\n| 5 | 28 | Private          | 338409 | Bachelors | 13 | Married-civ-spouse | Prof-specialty    | Wife          | Black | Female |    0 | 0 | 40 | Cuba          | &lt;=50K |\n| 6 | 37 | Private          | 284582 | Masters   | 14 | Married-civ-spouse | Exec-managerial   | Wife          | White | Female |    0 | 0 | 40 | United-States | &lt;=50K |\n\n",
            "text/html": [
              "<table>\n",
              "<caption>A data.frame: 6 × 15</caption>\n",
              "<thead>\n",
              "\t<tr><th></th><th scope=col>age</th><th scope=col>type_employer</th><th scope=col>fnlwgt</th><th scope=col>education</th><th scope=col>education_num</th><th scope=col>marital</th><th scope=col>occupation</th><th scope=col>relationship</th><th scope=col>race</th><th scope=col>sex</th><th scope=col>capital_gain</th><th scope=col>capital_loss</th><th scope=col>hr_per_week</th><th scope=col>country</th><th scope=col>income</th></tr>\n",
              "\t<tr><th></th><th scope=col>&lt;int&gt;</th><th scope=col>&lt;chr&gt;</th><th scope=col>&lt;int&gt;</th><th scope=col>&lt;chr&gt;</th><th scope=col>&lt;int&gt;</th><th scope=col>&lt;chr&gt;</th><th scope=col>&lt;chr&gt;</th><th scope=col>&lt;chr&gt;</th><th scope=col>&lt;chr&gt;</th><th scope=col>&lt;chr&gt;</th><th scope=col>&lt;int&gt;</th><th scope=col>&lt;int&gt;</th><th scope=col>&lt;int&gt;</th><th scope=col>&lt;chr&gt;</th><th scope=col>&lt;chr&gt;</th></tr>\n",
              "</thead>\n",
              "<tbody>\n",
              "\t<tr><th scope=row>1</th><td>39</td><td><span style=white-space:pre-wrap>State-gov       </span></td><td> 77516</td><td>Bachelors</td><td>13</td><td><span style=white-space:pre-wrap>Never-married     </span></td><td><span style=white-space:pre-wrap>Adm-clerical     </span></td><td>Not-in-family</td><td>White</td><td><span style=white-space:pre-wrap>Male  </span></td><td>2174</td><td>0</td><td>40</td><td>United-States</td><td>&lt;=50K</td></tr>\n",
              "\t<tr><th scope=row>2</th><td>50</td><td>Self-emp-not-inc</td><td> 83311</td><td>Bachelors</td><td>13</td><td>Married-civ-spouse</td><td><span style=white-space:pre-wrap>Exec-managerial  </span></td><td><span style=white-space:pre-wrap>Husband      </span></td><td>White</td><td><span style=white-space:pre-wrap>Male  </span></td><td><span style=white-space:pre-wrap>   0</span></td><td>0</td><td>13</td><td>United-States</td><td>&lt;=50K</td></tr>\n",
              "\t<tr><th scope=row>3</th><td>38</td><td><span style=white-space:pre-wrap>Private         </span></td><td>215646</td><td><span style=white-space:pre-wrap>HS-grad  </span></td><td> 9</td><td><span style=white-space:pre-wrap>Divorced          </span></td><td>Handlers-cleaners</td><td>Not-in-family</td><td>White</td><td><span style=white-space:pre-wrap>Male  </span></td><td><span style=white-space:pre-wrap>   0</span></td><td>0</td><td>40</td><td>United-States</td><td>&lt;=50K</td></tr>\n",
              "\t<tr><th scope=row>4</th><td>53</td><td><span style=white-space:pre-wrap>Private         </span></td><td>234721</td><td><span style=white-space:pre-wrap>11th     </span></td><td> 7</td><td>Married-civ-spouse</td><td>Handlers-cleaners</td><td><span style=white-space:pre-wrap>Husband      </span></td><td>Black</td><td><span style=white-space:pre-wrap>Male  </span></td><td><span style=white-space:pre-wrap>   0</span></td><td>0</td><td>40</td><td>United-States</td><td>&lt;=50K</td></tr>\n",
              "\t<tr><th scope=row>5</th><td>28</td><td><span style=white-space:pre-wrap>Private         </span></td><td>338409</td><td>Bachelors</td><td>13</td><td>Married-civ-spouse</td><td><span style=white-space:pre-wrap>Prof-specialty   </span></td><td><span style=white-space:pre-wrap>Wife         </span></td><td>Black</td><td>Female</td><td><span style=white-space:pre-wrap>   0</span></td><td>0</td><td>40</td><td><span style=white-space:pre-wrap>Cuba         </span></td><td>&lt;=50K</td></tr>\n",
              "\t<tr><th scope=row>6</th><td>37</td><td><span style=white-space:pre-wrap>Private         </span></td><td>284582</td><td><span style=white-space:pre-wrap>Masters  </span></td><td>14</td><td>Married-civ-spouse</td><td><span style=white-space:pre-wrap>Exec-managerial  </span></td><td><span style=white-space:pre-wrap>Wife         </span></td><td>White</td><td>Female</td><td><span style=white-space:pre-wrap>   0</span></td><td>0</td><td>40</td><td>United-States</td><td>&lt;=50K</td></tr>\n",
              "</tbody>\n",
              "</table>\n"
            ]
          },
          "metadata": {
            "tags": []
          }
        }
      ]
    },
    {
      "cell_type": "markdown",
      "metadata": {
        "id": "7wRXxfBWdx_-"
      },
      "source": [
        "# label encode education column"
      ]
    },
    {
      "cell_type": "code",
      "metadata": {
        "id": "iXkw-6B39o8x",
        "colab": {
          "base_uri": "https://localhost:8080/"
        },
        "outputId": "7a46a47e-befb-4438-d524-36f1faff268f"
      },
      "source": [
        "library(superml)"
      ],
      "execution_count": null,
      "outputs": [
        {
          "output_type": "stream",
          "text": [
            "Loading required package: R6\n",
            "\n"
          ],
          "name": "stderr"
        }
      ]
    },
    {
      "cell_type": "code",
      "metadata": {
        "id": "6OOqNw0AZ-pP",
        "colab": {
          "base_uri": "https://localhost:8080/",
          "height": 414
        },
        "outputId": "3a71ca9b-1977-4fbb-df7e-3df660b2a110"
      },
      "source": [
        "value_counts = function(df, col) {\n",
        "  values = df[,col, drop=FALSE]\n",
        "  as.data.frame(table(values))\n",
        "}\n",
        "\n",
        "value_counts(df, 'education')"
      ],
      "execution_count": null,
      "outputs": [
        {
          "output_type": "display_data",
          "data": {
            "text/plain": [
              "   values       Freq \n",
              "1  10th           933\n",
              "2  11th          1175\n",
              "3  12th           433\n",
              "4  1st-4th        168\n",
              "5  5th-6th        333\n",
              "6  7th-8th        646\n",
              "7  9th            514\n",
              "8  Assoc-acdm    1067\n",
              "9  Assoc-voc     1382\n",
              "10 Bachelors     5355\n",
              "11 Doctorate      413\n",
              "12 HS-grad      10501\n",
              "13 Masters       1723\n",
              "14 Preschool       51\n",
              "15 Prof-school    576\n",
              "16 Some-college  7291"
            ],
            "text/latex": "A data.frame: 16 × 2\n\\begin{tabular}{ll}\n values & Freq\\\\\n <fct> & <int>\\\\\n\\hline\n\t 10th         &   933\\\\\n\t 11th         &  1175\\\\\n\t 12th         &   433\\\\\n\t 1st-4th      &   168\\\\\n\t 5th-6th      &   333\\\\\n\t 7th-8th      &   646\\\\\n\t 9th          &   514\\\\\n\t Assoc-acdm   &  1067\\\\\n\t Assoc-voc    &  1382\\\\\n\t Bachelors    &  5355\\\\\n\t Doctorate    &   413\\\\\n\t HS-grad      & 10501\\\\\n\t Masters      &  1723\\\\\n\t Preschool    &    51\\\\\n\t Prof-school  &   576\\\\\n\t Some-college &  7291\\\\\n\\end{tabular}\n",
            "text/markdown": "\nA data.frame: 16 × 2\n\n| values &lt;fct&gt; | Freq &lt;int&gt; |\n|---|---|\n| 10th         |   933 |\n| 11th         |  1175 |\n| 12th         |   433 |\n| 1st-4th      |   168 |\n| 5th-6th      |   333 |\n| 7th-8th      |   646 |\n| 9th          |   514 |\n| Assoc-acdm   |  1067 |\n| Assoc-voc    |  1382 |\n| Bachelors    |  5355 |\n| Doctorate    |   413 |\n| HS-grad      | 10501 |\n| Masters      |  1723 |\n| Preschool    |    51 |\n| Prof-school  |   576 |\n| Some-college |  7291 |\n\n",
            "text/html": [
              "<table>\n",
              "<caption>A data.frame: 16 × 2</caption>\n",
              "<thead>\n",
              "\t<tr><th scope=col>values</th><th scope=col>Freq</th></tr>\n",
              "\t<tr><th scope=col>&lt;fct&gt;</th><th scope=col>&lt;int&gt;</th></tr>\n",
              "</thead>\n",
              "<tbody>\n",
              "\t<tr><td>10th        </td><td>  933</td></tr>\n",
              "\t<tr><td>11th        </td><td> 1175</td></tr>\n",
              "\t<tr><td>12th        </td><td>  433</td></tr>\n",
              "\t<tr><td>1st-4th     </td><td>  168</td></tr>\n",
              "\t<tr><td>5th-6th     </td><td>  333</td></tr>\n",
              "\t<tr><td>7th-8th     </td><td>  646</td></tr>\n",
              "\t<tr><td>9th         </td><td>  514</td></tr>\n",
              "\t<tr><td>Assoc-acdm  </td><td> 1067</td></tr>\n",
              "\t<tr><td>Assoc-voc   </td><td> 1382</td></tr>\n",
              "\t<tr><td>Bachelors   </td><td> 5355</td></tr>\n",
              "\t<tr><td>Doctorate   </td><td>  413</td></tr>\n",
              "\t<tr><td>HS-grad     </td><td>10501</td></tr>\n",
              "\t<tr><td>Masters     </td><td> 1723</td></tr>\n",
              "\t<tr><td>Preschool   </td><td>   51</td></tr>\n",
              "\t<tr><td>Prof-school </td><td>  576</td></tr>\n",
              "\t<tr><td>Some-college</td><td> 7291</td></tr>\n",
              "</tbody>\n",
              "</table>\n"
            ]
          },
          "metadata": {
            "tags": []
          }
        }
      ]
    },
    {
      "cell_type": "code",
      "metadata": {
        "id": "7dKdXa1ygmBw"
      },
      "source": [
        "attach(df)"
      ],
      "execution_count": null,
      "outputs": []
    },
    {
      "cell_type": "code",
      "metadata": {
        "id": "0B57IsDGbon_"
      },
      "source": [
        "df$education = ifelse(education == 'Assoc-acdm', 0, df$education)\n",
        "df$education = ifelse(education == 'Assoc-voc', 1, df$education)\n",
        "df$education = ifelse(education == 'Bachelors', 2, df$education)\n",
        "df$education = ifelse(education == 'Doctorate', 3, df$education)\n",
        "df$education = ifelse(education == '1st-4th', 4, df$education)\n",
        "df$education = ifelse(education == 'HS-grad', 5, df$education)\n",
        "df$education = ifelse(education == '5th-6th', 6, df$education)\n",
        "df$education = ifelse(education == '7th-8th', 8, df$education)\n",
        "df$education = ifelse(education == '9th', 9, df$education)\n",
        "df$education = ifelse(education == '10th', 10, df$education)\n",
        "df$education = ifelse(education == '11th', 11, df$education)\n",
        "df$education = ifelse(education == '12th', 12, df$education)\n",
        "df$education = ifelse(education == 'Masters', 13, df$education)\n",
        "df$education = ifelse(education == 'Preschool', 14, df$education)\n",
        "df$education = ifelse(education == 'Prof-school', 15, df$education)\n",
        "df$education = ifelse(education == 'Some-college', 16, df$education)\n"
      ],
      "execution_count": null,
      "outputs": []
    },
    {
      "cell_type": "code",
      "metadata": {
        "id": "QZ2V80mDdaw3",
        "colab": {
          "base_uri": "https://localhost:8080/",
          "height": 431
        },
        "outputId": "c367633f-2022-4c10-8da6-1efa41bf494d"
      },
      "source": [
        "value_counts(df, 'education')"
      ],
      "execution_count": null,
      "outputs": [
        {
          "output_type": "display_data",
          "data": {
            "text/plain": [
              "   values Freq \n",
              "1  0       1067\n",
              "2  1       1382\n",
              "3  10       933\n",
              "4  11      1175\n",
              "5  12       433\n",
              "6  13      1723\n",
              "7  14        51\n",
              "8  15       576\n",
              "9  16      7291\n",
              "10 2       5355\n",
              "11 3        413\n",
              "12 4        168\n",
              "13 5      10501\n",
              "14 6        333\n",
              "15 8        646\n",
              "16 9        514"
            ],
            "text/latex": "A data.frame: 16 × 2\n\\begin{tabular}{ll}\n values & Freq\\\\\n <fct> & <int>\\\\\n\\hline\n\t 0  &  1067\\\\\n\t 1  &  1382\\\\\n\t 10 &   933\\\\\n\t 11 &  1175\\\\\n\t 12 &   433\\\\\n\t 13 &  1723\\\\\n\t 14 &    51\\\\\n\t 15 &   576\\\\\n\t 16 &  7291\\\\\n\t 2  &  5355\\\\\n\t 3  &   413\\\\\n\t 4  &   168\\\\\n\t 5  & 10501\\\\\n\t 6  &   333\\\\\n\t 8  &   646\\\\\n\t 9  &   514\\\\\n\\end{tabular}\n",
            "text/markdown": "\nA data.frame: 16 × 2\n\n| values &lt;fct&gt; | Freq &lt;int&gt; |\n|---|---|\n| 0  |  1067 |\n| 1  |  1382 |\n| 10 |   933 |\n| 11 |  1175 |\n| 12 |   433 |\n| 13 |  1723 |\n| 14 |    51 |\n| 15 |   576 |\n| 16 |  7291 |\n| 2  |  5355 |\n| 3  |   413 |\n| 4  |   168 |\n| 5  | 10501 |\n| 6  |   333 |\n| 8  |   646 |\n| 9  |   514 |\n\n",
            "text/html": [
              "<table>\n",
              "<caption>A data.frame: 16 × 2</caption>\n",
              "<thead>\n",
              "\t<tr><th scope=col>values</th><th scope=col>Freq</th></tr>\n",
              "\t<tr><th scope=col>&lt;fct&gt;</th><th scope=col>&lt;int&gt;</th></tr>\n",
              "</thead>\n",
              "<tbody>\n",
              "\t<tr><td>0 </td><td> 1067</td></tr>\n",
              "\t<tr><td>1 </td><td> 1382</td></tr>\n",
              "\t<tr><td>10</td><td>  933</td></tr>\n",
              "\t<tr><td>11</td><td> 1175</td></tr>\n",
              "\t<tr><td>12</td><td>  433</td></tr>\n",
              "\t<tr><td>13</td><td> 1723</td></tr>\n",
              "\t<tr><td>14</td><td>   51</td></tr>\n",
              "\t<tr><td>15</td><td>  576</td></tr>\n",
              "\t<tr><td>16</td><td> 7291</td></tr>\n",
              "\t<tr><td>2 </td><td> 5355</td></tr>\n",
              "\t<tr><td>3 </td><td>  413</td></tr>\n",
              "\t<tr><td>4 </td><td>  168</td></tr>\n",
              "\t<tr><td>5 </td><td>10501</td></tr>\n",
              "\t<tr><td>6 </td><td>  333</td></tr>\n",
              "\t<tr><td>8 </td><td>  646</td></tr>\n",
              "\t<tr><td>9 </td><td>  514</td></tr>\n",
              "</tbody>\n",
              "</table>\n"
            ]
          },
          "metadata": {
            "tags": []
          }
        }
      ]
    },
    {
      "cell_type": "markdown",
      "metadata": {
        "id": "1z-2vzUIeSVm"
      },
      "source": [
        "# status of individual"
      ]
    },
    {
      "cell_type": "code",
      "metadata": {
        "id": "aaLxTGzXeQka",
        "colab": {
          "base_uri": "https://localhost:8080/",
          "height": 225
        },
        "outputId": "32b489af-ff39-4484-b281-e874c5f83f2e"
      },
      "source": [
        "value_counts(df, 'marital')"
      ],
      "execution_count": null,
      "outputs": [
        {
          "output_type": "display_data",
          "data": {
            "text/plain": [
              "  values                Freq \n",
              "1 Divorced               4443\n",
              "2 Married-AF-spouse        23\n",
              "3 Married-civ-spouse    14976\n",
              "4 Married-spouse-absent   418\n",
              "5 Never-married         10683\n",
              "6 Separated              1025\n",
              "7 Widowed                 993"
            ],
            "text/latex": "A data.frame: 7 × 2\n\\begin{tabular}{ll}\n values & Freq\\\\\n <fct> & <int>\\\\\n\\hline\n\t Divorced              &  4443\\\\\n\t Married-AF-spouse     &    23\\\\\n\t Married-civ-spouse    & 14976\\\\\n\t Married-spouse-absent &   418\\\\\n\t Never-married         & 10683\\\\\n\t Separated             &  1025\\\\\n\t Widowed               &   993\\\\\n\\end{tabular}\n",
            "text/markdown": "\nA data.frame: 7 × 2\n\n| values &lt;fct&gt; | Freq &lt;int&gt; |\n|---|---|\n| Divorced              |  4443 |\n| Married-AF-spouse     |    23 |\n| Married-civ-spouse    | 14976 |\n| Married-spouse-absent |   418 |\n| Never-married         | 10683 |\n| Separated             |  1025 |\n| Widowed               |   993 |\n\n",
            "text/html": [
              "<table>\n",
              "<caption>A data.frame: 7 × 2</caption>\n",
              "<thead>\n",
              "\t<tr><th scope=col>values</th><th scope=col>Freq</th></tr>\n",
              "\t<tr><th scope=col>&lt;fct&gt;</th><th scope=col>&lt;int&gt;</th></tr>\n",
              "</thead>\n",
              "<tbody>\n",
              "\t<tr><td>Divorced             </td><td> 4443</td></tr>\n",
              "\t<tr><td>Married-AF-spouse    </td><td>   23</td></tr>\n",
              "\t<tr><td>Married-civ-spouse   </td><td>14976</td></tr>\n",
              "\t<tr><td>Married-spouse-absent</td><td>  418</td></tr>\n",
              "\t<tr><td>Never-married        </td><td>10683</td></tr>\n",
              "\t<tr><td>Separated            </td><td> 1025</td></tr>\n",
              "\t<tr><td>Widowed              </td><td>  993</td></tr>\n",
              "</tbody>\n",
              "</table>\n"
            ]
          },
          "metadata": {
            "tags": []
          }
        }
      ]
    },
    {
      "cell_type": "code",
      "metadata": {
        "id": "eb0dppJnjfTi"
      },
      "source": [
        "marital_labeller = function (x) {\n",
        "  # x[x=='Divorced'] = 0\n",
        "  # x[x=='Widowed'] = 0\n",
        "  x[x=='Separated' | x=='Widowed' | x == 'Never-married'] = 0\n",
        "  x[x!=0] = 1\n",
        "  x\n",
        "}\n",
        "\n",
        "df$marital = marital_labeller(df$marital)"
      ],
      "execution_count": null,
      "outputs": []
    },
    {
      "cell_type": "code",
      "metadata": {
        "id": "M8OUM3mmecaw"
      },
      "source": [
        "# marital_labeller = LabelEncoder$new()\n",
        "# marital_labeller$fit(df$marital)\n",
        "# df$marital = marital_labeller$fit_transform(df$marital)"
      ],
      "execution_count": null,
      "outputs": []
    },
    {
      "cell_type": "code",
      "metadata": {
        "id": "5QOWIF8b9fhT",
        "colab": {
          "base_uri": "https://localhost:8080/",
          "height": 137
        },
        "outputId": "753142a9-b826-4a6e-86e7-6cfc92f4bf2c"
      },
      "source": [
        "value_counts(df, 'marital')"
      ],
      "execution_count": null,
      "outputs": [
        {
          "output_type": "display_data",
          "data": {
            "text/plain": [
              "  values Freq \n",
              "1 0      12701\n",
              "2 1      19860"
            ],
            "text/latex": "A data.frame: 2 × 2\n\\begin{tabular}{ll}\n values & Freq\\\\\n <fct> & <int>\\\\\n\\hline\n\t 0 & 12701\\\\\n\t 1 & 19860\\\\\n\\end{tabular}\n",
            "text/markdown": "\nA data.frame: 2 × 2\n\n| values &lt;fct&gt; | Freq &lt;int&gt; |\n|---|---|\n| 0 | 12701 |\n| 1 | 19860 |\n\n",
            "text/html": [
              "<table>\n",
              "<caption>A data.frame: 2 × 2</caption>\n",
              "<thead>\n",
              "\t<tr><th scope=col>values</th><th scope=col>Freq</th></tr>\n",
              "\t<tr><th scope=col>&lt;fct&gt;</th><th scope=col>&lt;int&gt;</th></tr>\n",
              "</thead>\n",
              "<tbody>\n",
              "\t<tr><td>0</td><td>12701</td></tr>\n",
              "\t<tr><td>1</td><td>19860</td></tr>\n",
              "</tbody>\n",
              "</table>\n"
            ]
          },
          "metadata": {
            "tags": []
          }
        }
      ]
    },
    {
      "cell_type": "markdown",
      "metadata": {
        "id": "6QbHu51Ue1VC"
      },
      "source": [
        "# create response var"
      ]
    },
    {
      "cell_type": "code",
      "metadata": {
        "id": "-F2CYRP3e2Sw",
        "colab": {
          "base_uri": "https://localhost:8080/",
          "height": 137
        },
        "outputId": "4ab4742d-8ca0-44f9-bfe4-8d7bc249316e"
      },
      "source": [
        "value_counts(df, 'income')"
      ],
      "execution_count": null,
      "outputs": [
        {
          "output_type": "display_data",
          "data": {
            "text/plain": [
              "  values Freq \n",
              "1 <=50K  24720\n",
              "2 >50K    7841"
            ],
            "text/latex": "A data.frame: 2 × 2\n\\begin{tabular}{ll}\n values & Freq\\\\\n <fct> & <int>\\\\\n\\hline\n\t <=50K & 24720\\\\\n\t >50K  &  7841\\\\\n\\end{tabular}\n",
            "text/markdown": "\nA data.frame: 2 × 2\n\n| values &lt;fct&gt; | Freq &lt;int&gt; |\n|---|---|\n| &lt;=50K | 24720 |\n| &gt;50K  |  7841 |\n\n",
            "text/html": [
              "<table>\n",
              "<caption>A data.frame: 2 × 2</caption>\n",
              "<thead>\n",
              "\t<tr><th scope=col>values</th><th scope=col>Freq</th></tr>\n",
              "\t<tr><th scope=col>&lt;fct&gt;</th><th scope=col>&lt;int&gt;</th></tr>\n",
              "</thead>\n",
              "<tbody>\n",
              "\t<tr><td>&lt;=50K</td><td>24720</td></tr>\n",
              "\t<tr><td>&gt;50K </td><td> 7841</td></tr>\n",
              "</tbody>\n",
              "</table>\n"
            ]
          },
          "metadata": {
            "tags": []
          }
        }
      ]
    },
    {
      "cell_type": "code",
      "metadata": {
        "id": "2SO6X7Olf6iP",
        "colab": {
          "base_uri": "https://localhost:8080/"
        },
        "outputId": "2ea628ef-d3f3-4dc0-e5c4-a2fd6cd32cb1"
      },
      "source": [
        "library(dplyr)"
      ],
      "execution_count": null,
      "outputs": [
        {
          "output_type": "stream",
          "text": [
            "\n",
            "Attaching package: ‘dplyr’\n",
            "\n",
            "\n",
            "The following objects are masked from ‘package:stats’:\n",
            "\n",
            "    filter, lag\n",
            "\n",
            "\n",
            "The following objects are masked from ‘package:base’:\n",
            "\n",
            "    intersect, setdiff, setequal, union\n",
            "\n",
            "\n"
          ],
          "name": "stderr"
        }
      ]
    },
    {
      "cell_type": "code",
      "metadata": {
        "id": "Wyh6Bus7gaJ7",
        "colab": {
          "base_uri": "https://localhost:8080/"
        },
        "outputId": "dc0bf3e1-524b-4e68-96e0-d62e66971ff8"
      },
      "source": [
        "library(pracma)"
      ],
      "execution_count": null,
      "outputs": [
        {
          "output_type": "stream",
          "text": [
            "\n",
            "Attaching package: ‘pracma’\n",
            "\n",
            "\n",
            "The following object is masked from ‘package:superml’:\n",
            "\n",
            "    dot\n",
            "\n",
            "\n"
          ],
          "name": "stderr"
        }
      ]
    },
    {
      "cell_type": "code",
      "metadata": {
        "id": "0-iTvN4Xe4UG"
      },
      "source": [
        "label_encode_income = function(x) {\n",
        "  x[x == '<=50K'] = 0\n",
        "  x[x == '>50K'] = 1\n",
        "  x\n",
        "}\n",
        "\n",
        "df$income = label_encode_income(df$income)"
      ],
      "execution_count": null,
      "outputs": []
    },
    {
      "cell_type": "code",
      "metadata": {
        "id": "HeHVllt_gByL",
        "colab": {
          "base_uri": "https://localhost:8080/",
          "height": 137
        },
        "outputId": "1475be1c-960c-40d8-a06c-579723a97045"
      },
      "source": [
        "value_counts(df, 'income')"
      ],
      "execution_count": null,
      "outputs": [
        {
          "output_type": "display_data",
          "data": {
            "text/plain": [
              "  values Freq \n",
              "1 0      24720\n",
              "2 1       7841"
            ],
            "text/latex": "A data.frame: 2 × 2\n\\begin{tabular}{ll}\n values & Freq\\\\\n <fct> & <int>\\\\\n\\hline\n\t 0 & 24720\\\\\n\t 1 &  7841\\\\\n\\end{tabular}\n",
            "text/markdown": "\nA data.frame: 2 × 2\n\n| values &lt;fct&gt; | Freq &lt;int&gt; |\n|---|---|\n| 0 | 24720 |\n| 1 |  7841 |\n\n",
            "text/html": [
              "<table>\n",
              "<caption>A data.frame: 2 × 2</caption>\n",
              "<thead>\n",
              "\t<tr><th scope=col>values</th><th scope=col>Freq</th></tr>\n",
              "\t<tr><th scope=col>&lt;fct&gt;</th><th scope=col>&lt;int&gt;</th></tr>\n",
              "</thead>\n",
              "<tbody>\n",
              "\t<tr><td>0</td><td>24720</td></tr>\n",
              "\t<tr><td>1</td><td> 7841</td></tr>\n",
              "</tbody>\n",
              "</table>\n"
            ]
          },
          "metadata": {
            "tags": []
          }
        }
      ]
    },
    {
      "cell_type": "markdown",
      "metadata": {
        "id": "O10jS49KAtsf"
      },
      "source": [
        "# sex label encode\n"
      ]
    },
    {
      "cell_type": "code",
      "metadata": {
        "id": "lHy7Ib4UkJjh",
        "colab": {
          "base_uri": "https://localhost:8080/",
          "height": 137
        },
        "outputId": "07e0f8b2-a4c5-48f1-8400-b3aeb54e4ace"
      },
      "source": [
        "value_counts(df, 'sex')"
      ],
      "execution_count": null,
      "outputs": [
        {
          "output_type": "display_data",
          "data": {
            "text/plain": [
              "  values Freq \n",
              "1 Female 10771\n",
              "2 Male   21790"
            ],
            "text/latex": "A data.frame: 2 × 2\n\\begin{tabular}{ll}\n values & Freq\\\\\n <fct> & <int>\\\\\n\\hline\n\t Female & 10771\\\\\n\t Male   & 21790\\\\\n\\end{tabular}\n",
            "text/markdown": "\nA data.frame: 2 × 2\n\n| values &lt;fct&gt; | Freq &lt;int&gt; |\n|---|---|\n| Female | 10771 |\n| Male   | 21790 |\n\n",
            "text/html": [
              "<table>\n",
              "<caption>A data.frame: 2 × 2</caption>\n",
              "<thead>\n",
              "\t<tr><th scope=col>values</th><th scope=col>Freq</th></tr>\n",
              "\t<tr><th scope=col>&lt;fct&gt;</th><th scope=col>&lt;int&gt;</th></tr>\n",
              "</thead>\n",
              "<tbody>\n",
              "\t<tr><td>Female</td><td>10771</td></tr>\n",
              "\t<tr><td>Male  </td><td>21790</td></tr>\n",
              "</tbody>\n",
              "</table>\n"
            ]
          },
          "metadata": {
            "tags": []
          }
        }
      ]
    },
    {
      "cell_type": "code",
      "metadata": {
        "id": "g_boxGtLfyGq"
      },
      "source": [
        "sex_labeller = LabelEncoder$new()\n",
        "sex_labeller$fit(df$sex)\n",
        "df$sex = sex_labeller$fit_transform(df$sex)"
      ],
      "execution_count": null,
      "outputs": []
    },
    {
      "cell_type": "code",
      "metadata": {
        "id": "BiGpVsljkLg2",
        "colab": {
          "base_uri": "https://localhost:8080/",
          "height": 137
        },
        "outputId": "491759a5-30d3-4f06-a1b5-f84f4f1437e7"
      },
      "source": [
        "value_counts(df, 'sex')"
      ],
      "execution_count": null,
      "outputs": [
        {
          "output_type": "display_data",
          "data": {
            "text/plain": [
              "  values Freq \n",
              "1 0      21790\n",
              "2 1      10771"
            ],
            "text/latex": "A data.frame: 2 × 2\n\\begin{tabular}{ll}\n values & Freq\\\\\n <fct> & <int>\\\\\n\\hline\n\t 0 & 21790\\\\\n\t 1 & 10771\\\\\n\\end{tabular}\n",
            "text/markdown": "\nA data.frame: 2 × 2\n\n| values &lt;fct&gt; | Freq &lt;int&gt; |\n|---|---|\n| 0 | 21790 |\n| 1 | 10771 |\n\n",
            "text/html": [
              "<table>\n",
              "<caption>A data.frame: 2 × 2</caption>\n",
              "<thead>\n",
              "\t<tr><th scope=col>values</th><th scope=col>Freq</th></tr>\n",
              "\t<tr><th scope=col>&lt;fct&gt;</th><th scope=col>&lt;int&gt;</th></tr>\n",
              "</thead>\n",
              "<tbody>\n",
              "\t<tr><td>0</td><td>21790</td></tr>\n",
              "\t<tr><td>1</td><td>10771</td></tr>\n",
              "</tbody>\n",
              "</table>\n"
            ]
          },
          "metadata": {
            "tags": []
          }
        }
      ]
    },
    {
      "cell_type": "markdown",
      "metadata": {
        "id": "L3UW6qPvBuq-"
      },
      "source": [
        "# Normalize"
      ]
    },
    {
      "cell_type": "code",
      "metadata": {
        "id": "SG4P1GXpA-Rl"
      },
      "source": [
        "df$hr_per_week = scale(df$hr_per_week)"
      ],
      "execution_count": null,
      "outputs": []
    },
    {
      "cell_type": "code",
      "metadata": {
        "id": "BH1wCiS8B0Tz",
        "colab": {
          "base_uri": "https://localhost:8080/",
          "height": 34
        },
        "outputId": "1588b145-8bed-4f8c-e08a-5c4c07ef787f"
      },
      "source": [
        "df$hr_per_week[0:5]"
      ],
      "execution_count": null,
      "outputs": [
        {
          "output_type": "display_data",
          "data": {
            "text/plain": [
              "[1] -0.0354289 -2.2221190 -0.0354289 -0.0354289 -0.0354289"
            ],
            "text/latex": "\\begin{enumerate*}\n\\item -0.0354289029213196\n\\item -2.22211899815927\n\\item -0.0354289029213196\n\\item -0.0354289029213196\n\\item -0.0354289029213196\n\\end{enumerate*}\n",
            "text/markdown": "1. -0.0354289029213196\n2. -2.22211899815927\n3. -0.0354289029213196\n4. -0.0354289029213196\n5. -0.0354289029213196\n\n\n",
            "text/html": [
              "<style>\n",
              ".list-inline {list-style: none; margin:0; padding: 0}\n",
              ".list-inline>li {display: inline-block}\n",
              ".list-inline>li:not(:last-child)::after {content: \"\\00b7\"; padding: 0 .5ex}\n",
              "</style>\n",
              "<ol class=list-inline><li>-0.0354289029213196</li><li>-2.22211899815927</li><li>-0.0354289029213196</li><li>-0.0354289029213196</li><li>-0.0354289029213196</li></ol>\n"
            ]
          },
          "metadata": {
            "tags": []
          }
        }
      ]
    },
    {
      "cell_type": "code",
      "metadata": {
        "id": "O7tn5oJLB1dY"
      },
      "source": [
        "df$age = scale(df$age)"
      ],
      "execution_count": null,
      "outputs": []
    },
    {
      "cell_type": "code",
      "metadata": {
        "id": "j2iG2xhqDc1e",
        "colab": {
          "base_uri": "https://localhost:8080/",
          "height": 34
        },
        "outputId": "8c17a003-749f-4f70-cbc3-9e892a66f515"
      },
      "source": [
        "df$age[0:5]"
      ],
      "execution_count": null,
      "outputs": [
        {
          "output_type": "display_data",
          "data": {
            "text/plain": [
              "[1]  0.03067009  0.83709613 -0.04264137  1.05703050 -0.77575595"
            ],
            "text/latex": "\\begin{enumerate*}\n\\item 0.030670086380023\n\\item 0.837096125788276\n\\item -0.042641371748\n\\item 1.05703050017234\n\\item -0.77575595302823\n\\end{enumerate*}\n",
            "text/markdown": "1. 0.030670086380023\n2. 0.837096125788276\n3. -0.042641371748\n4. 1.05703050017234\n5. -0.77575595302823\n\n\n",
            "text/html": [
              "<style>\n",
              ".list-inline {list-style: none; margin:0; padding: 0}\n",
              ".list-inline>li {display: inline-block}\n",
              ".list-inline>li:not(:last-child)::after {content: \"\\00b7\"; padding: 0 .5ex}\n",
              "</style>\n",
              "<ol class=list-inline><li>0.030670086380023</li><li>0.837096125788276</li><li>-0.042641371748</li><li>1.05703050017234</li><li>-0.77575595302823</li></ol>\n"
            ]
          },
          "metadata": {
            "tags": []
          }
        }
      ]
    },
    {
      "cell_type": "markdown",
      "metadata": {
        "id": "T82JTxdBXnl3"
      },
      "source": [
        "# Frequentist analysis"
      ]
    },
    {
      "cell_type": "code",
      "metadata": {
        "id": "jLR2a0kocgqG",
        "colab": {
          "base_uri": "https://localhost:8080/",
          "height": 187
        },
        "outputId": "c9928c48-2d76-4b8f-f9a1-f1539003cf5e"
      },
      "source": [
        "df$marital"
      ],
      "execution_count": null,
      "outputs": [
        {
          "output_type": "display_data",
          "data": {
            "text/plain": [
              "    [1] \"0\" \"1\" \"1\" \"1\" \"1\" \"1\" \"1\" \"1\" \"0\" \"1\" \"1\" \"1\" \"0\" \"0\" \"1\" \"1\" \"0\" \"0\"\n",
              "   [19] \"1\" \"1\" \"1\" \"0\" \"1\" \"1\" \"1\" \"1\" \"0\" \"1\" \"1\" \"1\" \"0\" \"0\" \"1\" \"1\" \"1\" \"0\"\n",
              "   [37] \"0\" \"1\" \"1\" \"1\" \"1\" \"1\" \"1\" \"0\" \"0\" \"1\" \"1\" \"1\" \"1\" \"0\" \"1\" \"0\" \"1\" \"1\"\n",
              "   [55] \"1\" \"1\" \"1\" \"1\" \"1\" \"1\" \"1\" \"1\" \"1\" \"1\" \"1\" \"1\" \"1\" \"1\" \"1\" \"0\" \"0\" \"0\"\n",
              "   [73] \"1\" \"0\" \"1\" \"0\" \"1\" \"1\" \"0\" \"1\" \"0\" \"1\" \"1\" \"1\" \"1\" \"1\" \"1\" \"1\" \"0\" \"0\"\n",
              "   [91] \"1\" \"1\" \"1\" \"1\" \"1\" \"0\" \"1\" \"1\" \"1\" \"0\" \"1\" \"1\" \"0\" \"0\" \"0\" \"1\" \"0\" \"0\"\n",
              "  [109] \"0\" \"1\" \"0\" \"1\" \"1\" \"1\" \"0\" \"1\" \"1\" \"1\" \"1\" \"0\" \"0\" \"1\" \"0\" \"1\" \"0\" \"1\"\n",
              "  [127] \"0\" \"1\" \"1\" \"1\" \"0\" \"0\" \"1\" \"1\" \"1\" \"1\" \"1\" \"1\" \"0\" \"1\" \"1\" \"0\" \"0\" \"0\"\n",
              "  [145] \"0\" \"0\" \"1\" \"0\" \"1\" \"1\" \"1\" \"0\" \"0\" \"0\" \"1\" \"1\" \"0\" \"0\" \"1\" \"0\" \"1\" \"0\"\n",
              "  [163] \"1\" \"0\" \"1\" \"1\" \"0\" \"0\" \"0\" \"0\" \"0\" \"1\" \"1\" \"0\" \"1\" \"1\" \"0\" \"0\" \"0\" \"1\"\n",
              "  [181] \"1\" \"1\" \"0\" \"1\" \"1\" \"1\" \"1\" \"1\" \"1\" \"1\" \"1\" \"1\" \"1\" \"1\" \"1\" \"1\" \"1\" \"0\"\n",
              "  [199] \"1\" \"0\" \"0\" \"0\" \"1\" \"0\" \"1\" \"0\" \"1\" \"1\" \"1\" \"0\" \"1\" \"1\" \"0\" \"1\" \"1\" \"0\"\n",
              "  [217] \"1\" \"1\" \"1\" \"0\" \"1\" \"1\" \"0\" \"1\" \"0\" \"0\" \"1\" \"1\" \"0\" \"1\" \"0\" \"1\" \"0\" \"1\"\n",
              "  [235] \"0\" \"1\" \"0\" \"1\" \"1\" \"0\" \"1\" \"1\" \"1\" \"0\" \"1\" \"1\" \"1\" \"0\" \"1\" \"1\" \"1\" \"1\"\n",
              "  [253] \"0\" \"0\" \"0\" \"1\" \"0\" \"0\" \"0\" \"1\" \"1\" \"1\" \"0\" \"1\" \"1\" \"1\" \"0\" \"1\" \"0\" \"1\"\n",
              "  [271] \"1\" \"0\" \"1\" \"0\" \"1\" \"1\" \"1\" \"0\" \"0\" \"1\" \"0\" \"1\" \"1\" \"1\" \"0\" \"1\" \"1\" \"1\"\n",
              "  [289] \"0\" \"1\" \"1\" \"1\" \"0\" \"0\" \"0\" \"1\" \"1\" \"1\" \"0\" \"1\" \"1\" \"0\" \"1\" \"1\" \"1\" \"1\"\n",
              "  [307] \"0\" \"0\" \"1\" \"1\" \"0\" \"1\" \"0\" \"1\" \"0\" \"0\" \"1\" \"1\" \"0\" \"0\" \"1\" \"1\" \"1\" \"0\"\n",
              "  [325] \"1\" \"1\" \"0\" \"1\" \"1\" \"0\" \"0\" \"0\" \"0\" \"1\" \"1\" \"0\" \"0\" \"0\" \"0\" \"1\" \"0\" \"1\"\n",
              "  [343] \"1\" \"0\" \"0\" \"0\" \"1\" \"1\" \"1\" \"0\" \"1\" \"1\" \"1\" \"1\" \"1\" \"1\" \"0\" \"1\" \"1\" \"1\"\n",
              "  [361] \"1\" \"1\" \"1\" \"1\" \"1\" \"1\" \"1\" \"0\" \"1\" \"1\" \"0\" \"0\" \"1\" \"1\" \"0\" \"0\" \"1\" \"0\"\n",
              "  [379] \"1\" \"1\" \"1\" \"1\" \"1\" \"1\" \"1\" \"0\" \"0\" \"1\" \"0\" \"0\" \"1\" \"0\" \"0\" \"1\" \"0\" \"1\"\n",
              "  [397] \"1\" \"0\" \"1\" \"1\" \"0\" \"0\" \"1\" \"1\" \"1\" \"1\" \"1\" \"1\" \"1\" \"1\" \"1\" \"0\" \"1\" \"1\"\n",
              "  [415] \"1\" \"1\" \"1\" \"0\" \"0\" \"1\" \"1\" \"0\" \"1\" \"1\" \"0\" \"1\" \"0\" \"0\" \"1\" \"1\" \"0\" \"0\"\n",
              "  [433] \"1\" \"1\" \"0\" \"1\" \"0\" \"0\" \"1\" \"1\" \"0\" \"1\" \"0\" \"1\" \"0\" \"0\" \"0\" \"1\" \"1\" \"0\"\n",
              "  [451] \"0\" \"1\" \"1\" \"1\" \"1\" \"1\" \"1\" \"1\" \"1\" \"1\" \"0\" \"1\" \"1\" \"1\" \"0\" \"1\" \"1\" \"1\"\n",
              "  [469] \"1\" \"1\" \"0\" \"0\" \"0\" \"0\" \"1\" \"0\" \"0\" \"0\" \"0\" \"0\" \"1\" \"1\" \"0\" \"1\" \"0\" \"1\"\n",
              "  [487] \"1\" \"1\" \"1\" \"1\" \"0\" \"1\" \"0\" \"1\" \"0\" \"1\" \"0\" \"0\" \"0\" \"1\" \"0\" \"1\" \"1\" \"1\"\n",
              "  [505] \"0\" \"0\" \"0\" \"1\" \"0\" \"1\" \"1\" \"0\" \"0\" \"1\" \"1\" \"0\" \"0\" \"0\" \"0\" \"1\" \"1\" \"1\"\n",
              "  [523] \"1\" \"1\" \"1\" \"1\" \"1\" \"1\" \"1\" \"1\" \"1\" \"0\" \"1\" \"1\" \"1\" \"1\" \"0\" \"0\" \"0\" \"0\"\n",
              "  [541] \"1\" \"0\" \"0\" \"0\" \"1\" \"0\" \"1\" \"1\" \"0\" \"0\" \"1\" \"0\" \"0\" \"1\" \"1\" \"0\" \"1\" \"0\"\n",
              "  [559] \"1\" \"1\" \"0\" \"1\" \"1\" \"0\" \"1\" \"0\" \"1\" \"0\" \"0\" \"1\" \"0\" \"1\" \"0\" \"1\" \"0\" \"1\"\n",
              "  [577] \"0\" \"1\" \"0\" \"1\" \"1\" \"1\" \"1\" \"1\" \"0\" \"0\" \"0\" \"0\" \"1\" \"1\" \"1\" \"1\" \"0\" \"1\"\n",
              "  [595] \"0\" \"0\" \"0\" \"1\" \"0\" \"0\" \"0\" \"0\" \"1\" \"1\" \"0\" \"0\" \"1\" \"0\" \"0\" \"0\" \"1\" \"0\"\n",
              "  [613] \"1\" \"0\" \"0\" \"0\" \"1\" \"1\" \"1\" \"1\" \"0\" \"0\" \"0\" \"1\" \"1\" \"0\" \"1\" \"1\" \"1\" \"1\"\n",
              "  [631] \"0\" \"0\" \"1\" \"1\" \"1\" \"0\" \"0\" \"1\" \"1\" \"1\" \"1\" \"1\" \"0\" \"1\" \"1\" \"0\" \"1\" \"1\"\n",
              "  [649] \"1\" \"1\" \"0\" \"0\" \"1\" \"0\" \"0\" \"0\" \"0\" \"1\" \"1\" \"1\" \"1\" \"0\" \"0\" \"0\" \"0\" \"1\"\n",
              "  [667] \"1\" \"1\" \"1\" \"0\" \"1\" \"0\" \"0\" \"1\" \"1\" \"0\" \"0\" \"1\" \"0\" \"0\" \"0\" \"1\" \"1\" \"0\"\n",
              "  [685] \"0\" \"1\" \"0\" \"1\" \"0\" \"0\" \"1\" \"0\" \"1\" \"0\" \"0\" \"0\" \"0\" \"1\" \"0\" \"0\" \"0\" \"0\"\n",
              "  [703] \"0\" \"1\" \"1\" \"1\" \"1\" \"0\" \"1\" \"0\" \"1\" \"1\" \"0\" \"1\" \"1\" \"0\" \"1\" \"0\" \"0\" \"1\"\n",
              "  [721] \"0\" \"1\" \"0\" \"1\" \"1\" \"0\" \"1\" \"0\" \"1\" \"1\" \"0\" \"1\" \"1\" \"0\" \"1\" \"1\" \"0\" \"1\"\n",
              "  [739] \"0\" \"1\" \"0\" \"1\" \"0\" \"0\" \"0\" \"1\" \"1\" \"0\" \"0\" \"1\" \"1\" \"0\" \"1\" \"0\" \"0\" \"0\"\n",
              "  [757] \"1\" \"0\" \"1\" \"0\" \"0\" \"1\" \"1\" \"1\" \"0\" \"0\" \"1\" \"1\" \"1\" \"0\" \"0\" \"0\" \"1\" \"1\"\n",
              "  [775] \"0\" \"1\" \"1\" \"1\" \"1\" \"0\" \"1\" \"0\" \"1\" \"1\" \"0\" \"1\" \"1\" \"0\" \"1\" \"0\" \"1\" \"1\"\n",
              "  [793] \"0\" \"0\" \"1\" \"0\" \"1\" \"0\" \"0\" \"1\" \"1\" \"0\" \"0\" \"1\" \"0\" \"1\" \"1\" \"1\" \"1\" \"0\"\n",
              "  [811] \"0\" \"0\" \"1\" \"0\" \"0\" \"1\" \"0\" \"1\" \"1\" \"1\" \"0\" \"0\" \"0\" \"0\" \"1\" \"0\" \"0\" \"0\"\n",
              "  [829] \"0\" \"0\" \"1\" \"1\" \"0\" \"1\" \"0\" \"1\" \"1\" \"1\" \"0\" \"0\" \"0\" \"1\" \"1\" \"0\" \"1\" \"1\"\n",
              "  [847] \"1\" \"1\" \"1\" \"0\" \"0\" \"1\" \"1\" \"0\" \"1\" \"0\" \"0\" \"1\" \"0\" \"0\" \"0\" \"1\" \"1\" \"1\"\n",
              "  [865] \"1\" \"0\" \"0\" \"0\" \"1\" \"0\" \"1\" \"0\" \"1\" \"1\" \"1\" \"1\" \"0\" \"1\" \"1\" \"0\" \"1\" \"1\"\n",
              "  [883] \"1\" \"1\" \"1\" \"1\" \"0\" \"1\" \"1\" \"1\" \"1\" \"0\" \"1\" \"1\" \"1\" \"1\" \"1\" \"0\" \"1\" \"1\"\n",
              "  [901] \"1\" \"1\" \"0\" \"1\" \"0\" \"1\" \"1\" \"0\" \"1\" \"1\" \"0\" \"1\" \"1\" \"0\" \"0\" \"1\" \"1\" \"1\"\n",
              "  [919] \"1\" \"0\" \"0\" \"0\" \"1\" \"1\" \"1\" \"1\" \"1\" \"1\" \"0\" \"1\" \"1\" \"0\" \"1\" \"1\" \"1\" \"1\"\n",
              "  [937] \"0\" \"1\" \"1\" \"0\" \"1\" \"1\" \"1\" \"0\" \"1\" \"1\" \"1\" \"1\" \"1\" \"1\" \"1\" \"1\" \"0\" \"0\"\n",
              "  [955] \"1\" \"1\" \"1\" \"1\" \"1\" \"1\" \"1\" \"1\" \"1\" \"1\" \"1\" \"0\" \"1\" \"1\" \"1\" \"0\" \"1\" \"0\"\n",
              "  [973] \"0\" \"1\" \"0\" \"0\" \"0\" \"1\" \"0\" \"1\" \"0\" \"0\" \"0\" \"0\" \"0\" \"1\" \"0\" \"1\" \"1\" \"0\"\n",
              "  [991] \"0\" \"1\" \"1\" \"1\" \"0\" \"1\" \"1\" \"1\" \"1\" \"1\" \"0\" \"1\" \"1\" \"0\" \"0\" \"1\" \"0\" \"1\"\n",
              " [1009] \"1\" \"1\" \"1\" \"0\" \"1\" \"1\" \"1\" \"1\" \"1\" \"0\" \"1\" \"0\" \"0\" \"1\" \"0\" \"1\" \"0\" \"1\"\n",
              " [1027] \"0\" \"1\" \"1\" \"1\" \"0\" \"0\" \"0\" \"0\" \"0\" \"0\" \"1\" \"0\" \"1\" \"1\" \"0\" \"0\" \"1\" \"1\"\n",
              " [1045] \"0\" \"1\" \"0\" \"1\" \"0\" \"1\" \"1\" \"1\" \"1\" \"1\" \"1\" \"1\" \"1\" \"1\" \"1\" \"1\" \"1\" \"1\"\n",
              " [1063] \"1\" \"0\" \"1\" \"0\" \"1\" \"1\" \"1\" \"1\" \"0\" \"1\" \"1\" \"1\" \"0\" \"0\" \"0\" \"0\" \"1\" \"1\"\n",
              " [1081] \"0\" \"1\" \"1\" \"1\" \"1\" \"1\" \"1\" \"0\" \"1\" \"1\" \"1\" \"0\" \"1\" \"1\" \"0\" \"0\" \"1\" \"0\"\n",
              " [1099] \"1\" \"1\" \"1\" \"1\" \"1\" \"1\" \"1\" \"1\" \"0\" \"0\" \"1\" \"1\" \"1\" \"1\" \"0\" \"1\" \"1\" \"1\"\n",
              " [1117] \"1\" \"1\" \"1\" \"1\" \"1\" \"1\" \"1\" \"1\" \"1\" \"0\" \"1\" \"0\" \"1\" \"1\" \"0\" \"1\" \"0\" \"0\"\n",
              " [1135] \"1\" \"1\" \"1\" \"1\" \"1\" \"1\" \"0\" \"0\" \"0\" \"0\" \"1\" \"1\" \"0\" \"1\" \"1\" \"1\" \"0\" \"1\"\n",
              " [1153] \"0\" \"1\" \"1\" \"1\" \"1\" \"1\" \"0\" \"0\" \"1\" \"0\" \"1\" \"1\" \"1\" \"1\" \"1\" \"0\" \"1\" \"1\"\n",
              " [1171] \"1\" \"1\" \"1\" \"0\" \"1\" \"1\" \"0\" \"1\" \"0\" \"0\" \"1\" \"1\" \"1\" \"1\" \"1\" \"1\" \"0\" \"1\"\n",
              " [1189] \"0\" \"0\" \"1\" \"1\" \"1\" \"1\" \"0\" \"1\" \"1\" \"1\" \"0\" \"1\" \"1\" \"1\" \"1\" \"0\" \"1\" \"1\"\n",
              " [1207] \"1\" \"1\" \"0\" \"1\" \"1\" \"0\" \"1\" \"1\" \"0\" \"0\" \"1\" \"1\" \"1\" \"1\" \"1\" \"1\" \"1\" \"0\"\n",
              " [1225] \"1\" \"0\" \"1\" \"1\" \"1\" \"1\" \"1\" \"1\" \"0\" \"1\" \"0\" \"0\" \"0\" \"1\" \"0\" \"0\" \"0\" \"0\"\n",
              " [1243] \"0\" \"1\" \"0\" \"0\" \"1\" \"1\" \"1\" \"0\" \"1\" \"1\" \"1\" \"1\" \"0\" \"1\" \"0\" \"1\" \"1\" \"0\"\n",
              " [1261] \"1\" \"1\" \"0\" \"0\" \"0\" \"0\" \"1\" \"1\" \"1\" \"1\" \"0\" \"1\" \"0\" \"0\" \"0\" \"1\" \"1\" \"1\"\n",
              " [1279] \"1\" \"1\" \"0\" \"1\" \"1\" \"0\" \"1\" \"1\" \"1\" \"1\" \"0\" \"1\" \"1\" \"0\" \"1\" \"1\" \"1\" \"1\"\n",
              " [1297] \"0\" \"1\" \"0\" \"1\" \"0\" \"0\" \"1\" \"1\" \"1\" \"1\" \"0\" \"0\" \"1\" \"1\" \"1\" \"0\" \"0\" \"1\"\n",
              " [1315] \"1\" \"0\" \"1\" \"0\" \"1\" \"1\" \"0\" \"0\" \"0\" \"1\" \"1\" \"0\" \"1\" \"0\" \"0\" \"0\" \"0\" \"0\"\n",
              " [1333] \"0\" \"1\" \"1\" \"0\" \"0\" \"1\" \"1\" \"1\" \"0\" \"1\" \"1\" \"0\" \"0\" \"0\" \"1\" \"0\" \"1\" \"1\"\n",
              " [1351] \"0\" \"1\" \"0\" \"1\" \"1\" \"1\" \"0\" \"0\" \"0\" \"0\" \"0\" \"1\" \"0\" \"1\" \"0\" \"1\" \"1\" \"0\"\n",
              " [1369] \"1\" \"0\" \"0\" \"1\" \"0\" \"1\" \"0\" \"1\" \"1\" \"1\" \"1\" \"1\" \"0\" \"0\" \"0\" \"0\" \"1\" \"0\"\n",
              " [1387] \"0\" \"1\" \"0\" \"0\" \"0\" \"1\" \"1\" \"0\" \"0\" \"0\" \"1\" \"1\" \"1\" \"1\" \"0\" \"1\" \"1\" \"1\"\n",
              " [1405] \"1\" \"1\" \"1\" \"1\" \"1\" \"1\" \"0\" \"1\" \"1\" \"1\" \"1\" \"1\" \"0\" \"1\" \"1\" \"0\" \"0\" \"1\"\n",
              " [1423] \"0\" \"1\" \"1\" \"1\" \"1\" \"1\" \"0\" \"1\" \"1\" \"1\" \"1\" \"0\" \"0\" \"1\" \"0\" \"1\" \"1\" \"1\"\n",
              " [1441] \"1\" \"1\" \"1\" \"1\" \"1\" \"1\" \"1\" \"1\" \"1\" \"1\" \"1\" \"0\" \"0\" \"1\" \"1\" \"0\" \"1\" \"0\"\n",
              " [1459] \"0\" \"1\" \"1\" \"0\" \"0\" \"1\" \"1\" \"1\" \"1\" \"1\" \"0\" \"1\" \"1\" \"0\" \"0\" \"1\" \"0\" \"1\"\n",
              " [1477] \"1\" \"0\" \"0\" \"0\" \"1\" \"1\" \"1\" \"0\" \"1\" \"1\" \"0\" \"0\" \"1\" \"1\" \"1\" \"1\" \"1\" \"1\"\n",
              " [1495] \"0\" \"1\" \"1\" \"1\" \"1\" \"0\" \"1\" \"1\" \"0\" \"1\" \"1\" \"1\" \"1\" \"1\" \"0\" \"1\" \"1\" \"1\"\n",
              " [1513] \"1\" \"1\" \"1\" \"1\" \"1\" \"1\" \"0\" \"0\" \"1\" \"1\" \"1\" \"0\" \"0\" \"0\" \"1\" \"1\" \"1\" \"1\"\n",
              " [1531] \"1\" \"1\" \"1\" \"1\" \"1\" \"0\" \"1\" \"1\" \"1\" \"0\" \"1\" \"1\" \"0\" \"1\" \"1\" \"1\" \"0\" \"1\"\n",
              " [1549] \"1\" \"0\" \"0\" \"0\" \"1\" \"0\" \"1\" \"1\" \"0\" \"0\" \"0\" \"0\" \"0\" \"1\" \"0\" \"1\" \"0\" \"0\"\n",
              " [1567] \"1\" \"0\" \"1\" \"0\" \"0\" \"1\" \"0\" \"0\" \"0\" \"1\" \"0\" \"0\" \"0\" \"0\" \"1\" \"0\" \"1\" \"1\"\n",
              " [1585] \"1\" \"1\" \"1\" \"1\" \"0\" \"0\" \"1\" \"1\" \"0\" \"1\" \"1\" \"0\" \"1\" \"0\" \"0\" \"0\" \"1\" \"1\"\n",
              " [1603] \"0\" \"1\" \"1\" \"1\" \"0\" \"0\" \"1\" \"1\" \"1\" \"1\" \"1\" \"1\" \"0\" \"1\" \"1\" \"1\" \"0\" \"1\"\n",
              " [1621] \"1\" \"1\" \"0\" \"1\" \"0\" \"1\" \"1\" \"1\" \"1\" \"1\" \"1\" \"1\" \"1\" \"0\" \"1\" \"1\" \"1\" \"0\"\n",
              " [1639] \"1\" \"1\" \"1\" \"1\" \"1\" \"1\" \"1\" \"1\" \"1\" \"1\" \"1\" \"1\" \"0\" \"1\" \"0\" \"1\" \"1\" \"1\"\n",
              " [1657] \"0\" \"1\" \"0\" \"1\" \"1\" \"1\" \"0\" \"1\" \"1\" \"1\" \"1\" \"0\" \"1\" \"1\" \"1\" \"0\" \"1\" \"0\"\n",
              " [1675] \"1\" \"1\" \"1\" \"0\" \"1\" \"1\" \"1\" \"1\" \"1\" \"1\" \"0\" \"1\" \"0\" \"1\" \"1\" \"1\" \"0\" \"0\"\n",
              " [1693] \"0\" \"1\" \"1\" \"1\" \"1\" \"1\" \"1\" \"1\" \"1\" \"0\" \"1\" \"1\" \"1\" \"0\" \"1\" \"0\" \"0\" \"1\"\n",
              " [1711] \"0\" \"1\" \"1\" \"1\" \"1\" \"1\" \"1\" \"1\" \"1\" \"1\" \"1\" \"1\" \"1\" \"1\" \"0\" \"1\" \"1\" \"1\"\n",
              " [1729] \"1\" \"1\" \"0\" \"0\" \"0\" \"0\" \"0\" \"1\" \"0\" \"0\" \"1\" \"1\" \"1\" \"1\" \"1\" \"0\" \"1\" \"0\"\n",
              " [1747] \"0\" \"0\" \"0\" \"0\" \"0\" \"1\" \"1\" \"1\" \"1\" \"1\" \"1\" \"0\" \"1\" \"0\" \"1\" \"1\" \"1\" \"0\"\n",
              " [1765] \"1\" \"1\" \"0\" \"1\" \"1\" \"1\" \"1\" \"1\" \"1\" \"0\" \"1\" \"1\" \"1\" \"0\" \"0\" \"1\" \"1\" \"1\"\n",
              " [1783] \"0\" \"1\" \"0\" \"1\" \"1\" \"1\" \"1\" \"1\" \"1\" \"1\" \"0\" \"0\" \"1\" \"1\" \"0\" \"1\" \"1\" \"1\"\n",
              " [1801] \"1\" \"0\" \"1\" \"1\" \"0\" \"0\" \"1\" \"1\" \"1\" \"1\" \"1\" \"1\" \"1\" \"0\" \"1\" \"0\" \"1\" \"1\"\n",
              " [1819] \"1\" \"1\" \"1\" \"0\" \"0\" \"0\" \"1\" \"1\" \"0\" \"1\" \"0\" \"1\" \"0\" \"0\" \"1\" \"1\" \"0\" \"0\"\n",
              " [1837] \"1\" \"1\" \"1\" \"1\" \"0\" \"1\" \"1\" \"1\" \"0\" \"0\" \"0\" \"0\" \"0\" \"1\" \"1\" \"1\" \"0\" \"1\"\n",
              " [1855] \"0\" \"0\" \"0\" \"0\" \"0\" \"1\" \"1\" \"1\" \"1\" \"0\" \"1\" \"1\" \"0\" \"1\" \"1\" \"1\" \"1\" \"0\"\n",
              " [1873] \"1\" \"0\" \"0\" \"1\" \"0\" \"1\" \"0\" \"1\" \"0\" \"1\" \"1\" \"0\" \"0\" \"0\" \"0\" \"1\" \"0\" \"1\"\n",
              " [1891] \"1\" \"0\" \"1\" \"1\" \"0\" \"0\" \"1\" \"0\" \"1\" \"0\" \"0\" \"0\" \"0\" \"0\" \"1\" \"1\" \"1\" \"0\"\n",
              " [1909] \"1\" \"1\" \"1\" \"0\" \"1\" \"1\" \"1\" \"1\" \"1\" \"1\" \"0\" \"0\" \"0\" \"1\" \"1\" \"0\" \"0\" \"0\"\n",
              " [1927] \"0\" \"1\" \"0\" \"0\" \"1\" \"1\" \"1\" \"1\" \"1\" \"1\" \"0\" \"1\" \"1\" \"0\" \"1\" \"1\" \"1\" \"1\"\n",
              " [1945] \"0\" \"1\" \"1\" \"0\" \"1\" \"1\" \"1\" \"1\" \"0\" \"1\" \"1\" \"0\" \"1\" \"0\" \"0\" \"1\" \"0\" \"1\"\n",
              " [1963] \"1\" \"1\" \"0\" \"1\" \"0\" \"0\" \"1\" \"1\" \"0\" \"0\" \"0\" \"1\" \"1\" \"1\" \"0\" \"0\" \"1\" \"1\"\n",
              " [1981] \"1\" \"1\" \"0\" \"1\" \"1\" \"0\" \"1\" \"1\" \"1\" \"0\" \"0\" \"0\" \"0\" \"1\" \"0\" \"1\" \"1\" \"1\"\n",
              " [1999] \"1\" \"1\" \"0\" \"0\" \"1\" \"1\" \"0\" \"0\" \"0\" \"1\" \"0\" \"1\" \"0\" \"0\" \"0\" \"0\" \"1\" \"0\"\n",
              " [2017] \"0\" \"0\" \"1\" \"0\" \"1\" \"0\" \"1\" \"1\" \"1\" \"0\" \"1\" \"0\" \"1\" \"1\" \"1\" \"1\" \"1\" \"1\"\n",
              " [2035] \"1\" \"0\" \"0\" \"1\" \"1\" \"1\" \"0\" \"0\" \"1\" \"1\" \"1\" \"0\" \"0\" \"0\" \"1\" \"1\" \"0\" \"1\"\n",
              " [2053] \"0\" \"0\" \"0\" \"1\" \"0\" \"1\" \"0\" \"0\" \"1\" \"0\" \"0\" \"1\" \"1\" \"0\" \"1\" \"0\" \"1\" \"1\"\n",
              " [2071] \"0\" \"1\" \"1\" \"1\" \"1\" \"0\" \"1\" \"0\" \"0\" \"1\" \"0\" \"1\" \"0\" \"1\" \"1\" \"1\" \"1\" \"0\"\n",
              " [2089] \"1\" \"1\" \"1\" \"0\" \"1\" \"1\" \"0\" \"1\" \"0\" \"1\" \"1\" \"1\" \"1\" \"1\" \"1\" \"1\" \"1\" \"0\"\n",
              " [2107] \"1\" \"1\" \"1\" \"1\" \"1\" \"0\" \"1\" \"0\" \"0\" \"0\" \"1\" \"1\" \"0\" \"0\" \"1\" \"0\" \"0\" \"0\"\n",
              " [2125] \"0\" \"0\" \"0\" \"0\" \"1\" \"1\" \"0\" \"1\" \"0\" \"0\" \"1\" \"0\" \"0\" \"1\" \"0\" \"1\" \"0\" \"0\"\n",
              " [2143] \"0\" \"1\" \"1\" \"1\" \"0\" \"1\" \"1\" \"1\" \"0\" \"0\" \"0\" \"1\" \"0\" \"1\" \"1\" \"1\" \"1\" \"1\"\n",
              " [2161] \"1\" \"0\" \"0\" \"1\" \"1\" \"0\" \"1\" \"1\" \"1\" \"0\" \"1\" \"0\" \"1\" \"1\" \"1\" \"1\" \"1\" \"1\"\n",
              " [2179] \"1\" \"1\" \"1\" \"1\" \"1\" \"1\" \"1\" \"1\" \"1\" \"0\" \"0\" \"0\" \"1\" \"0\" \"0\" \"1\" \"1\" \"1\"\n",
              " [2197] \"1\" \"0\" \"1\" \"1\" \"1\" \"1\" \"0\" \"0\" \"0\" \"1\" \"1\" \"0\" \"1\" \"0\" \"1\" \"0\" \"1\" \"1\"\n",
              " [2215] \"0\" \"1\" \"0\" \"1\" \"0\" \"1\" \"0\" \"0\" \"0\" \"0\" \"0\" \"0\" \"0\" \"0\" \"1\" \"1\" \"1\" \"0\"\n",
              " [2233] \"0\" \"1\" \"1\" \"1\" \"1\" \"1\" \"0\" \"1\" \"1\" \"1\" \"1\" \"1\" \"1\" \"1\" \"1\" \"1\" \"0\" \"1\"\n",
              " [2251] \"1\" \"0\" \"1\" \"0\" \"1\" \"0\" \"1\" \"0\" \"1\" \"0\" \"0\" \"1\" \"1\" \"1\" \"0\" \"1\" \"0\" \"0\"\n",
              " [2269] \"1\" \"1\" \"1\" \"0\" \"0\" \"1\" \"1\" \"1\" \"0\" \"1\" \"0\" \"0\" \"0\" \"0\" \"1\" \"0\" \"0\" \"0\"\n",
              " [2287] \"1\" \"1\" \"1\" \"1\" \"0\" \"1\" \"0\" \"1\" \"1\" \"0\" \"0\" \"1\" \"1\" \"0\" \"1\" \"0\" \"1\" \"0\"\n",
              " [2305] \"1\" \"1\" \"1\" \"0\" \"1\" \"0\" \"0\" \"1\" \"1\" \"0\" \"1\" \"0\" \"1\" \"0\" \"1\" \"1\" \"0\" \"1\"\n",
              " [2323] \"0\" \"0\" \"1\" \"1\" \"0\" \"1\" \"1\" \"1\" \"1\" \"1\" \"1\" \"0\" \"1\" \"0\" \"1\" \"0\" \"0\" \"1\"\n",
              " [2341] \"1\" \"1\" \"0\" \"0\" \"1\" \"1\" \"1\" \"0\" \"1\" \"0\" \"1\" \"0\" \"1\" \"1\" \"0\" \"1\" \"0\" \"1\"\n",
              " [2359] \"1\" \"0\" \"1\" \"1\" \"1\" \"0\" \"0\" \"0\" \"0\" \"0\" \"0\" \"1\" \"1\" \"0\" \"1\" \"1\" \"0\" \"1\"\n",
              " [2377] \"0\" \"1\" \"0\" \"1\" \"0\" \"0\" \"0\" \"1\" \"0\" \"1\" \"1\" \"1\" \"1\" \"1\" \"1\" \"0\" \"1\" \"0\"\n",
              " [2395] \"0\" \"0\" \"0\" \"0\" \"0\" \"1\" \"0\" \"0\" \"1\" \"1\" \"1\" \"1\" \"1\" \"1\" \"0\" \"0\" \"1\" \"1\"\n",
              " [2413] \"0\" \"0\" \"1\" \"1\" \"1\" \"0\" \"0\" \"1\" \"1\" \"0\" \"1\" \"0\" \"1\" \"1\" \"1\" \"0\" \"0\" \"1\"\n",
              " [2431] \"1\" \"1\" \"1\" \"1\" \"0\" \"0\" \"0\" \"0\" \"0\" \"1\" \"1\" \"1\" \"1\" \"0\" \"0\" \"1\" \"1\" \"1\"\n",
              " [2449] \"0\" \"0\" \"1\" \"0\" \"0\" \"1\" \"1\" \"1\" \"1\" \"1\" \"0\" \"1\" \"1\" \"0\" \"1\" \"1\" \"1\" \"1\"\n",
              " [2467] \"1\" \"1\" \"1\" \"1\" \"1\" \"0\" \"1\" \"1\" \"1\" \"0\" \"0\" \"0\" \"1\" \"0\" \"1\" \"1\" \"0\" \"1\"\n",
              " [2485] \"1\" \"1\" \"1\" \"1\" \"1\" \"1\" \"1\" \"1\" \"0\" \"0\" \"1\" \"1\" \"0\" \"1\" \"1\" \"0\" \"0\" \"1\"\n",
              " [2503] \"1\" \"1\" \"1\" \"0\" \"0\" \"1\" \"0\" \"1\" \"1\" \"0\" \"1\" \"1\" \"1\" \"0\" \"1\" \"1\" \"0\" \"1\"\n",
              " [2521] \"1\" \"0\" \"1\" \"0\" \"1\" \"1\" \"1\" \"0\" \"1\" \"0\" \"0\" \"0\" \"0\" \"0\" \"1\" \"1\" \"0\" \"0\"\n",
              " [2539] \"1\" \"0\" \"0\" \"1\" \"1\" \"0\" \"0\" \"1\" \"1\" \"0\" \"1\" \"1\" \"0\" \"1\" \"1\" \"0\" \"1\" \"0\"\n",
              " [2557] \"1\" \"0\" \"1\" \"1\" \"1\" \"0\" \"1\" \"0\" \"0\" \"1\" \"1\" \"0\" \"0\" \"1\" \"1\" \"0\" \"0\" \"1\"\n",
              " [2575] \"1\" \"0\" \"1\" \"1\" \"1\" \"1\" \"1\" \"1\" \"1\" \"1\" \"1\" \"1\" \"0\" \"1\" \"1\" \"1\" \"1\" \"1\"\n",
              " [2593] \"0\" \"0\" \"0\" \"1\" \"0\" \"1\" \"1\" \"1\" \"0\" \"1\" \"1\" \"1\" \"0\" \"1\" \"0\" \"1\" \"0\" \"1\"\n",
              " [2611] \"0\" \"1\" \"1\" \"0\" \"1\" \"0\" \"0\" \"0\" \"1\" \"1\" \"1\" \"0\" \"1\" \"0\" \"1\" \"1\" \"1\" \"1\"\n",
              " [2629] \"0\" \"1\" \"0\" \"1\" \"1\" \"1\" \"0\" \"1\" \"0\" \"1\" \"1\" \"0\" \"1\" \"1\" \"0\" \"1\" \"0\" \"1\"\n",
              " [2647] \"0\" \"1\" \"0\" \"1\" \"0\" \"1\" \"1\" \"0\" \"1\" \"0\" \"0\" \"0\" \"1\" \"1\" \"1\" \"1\" \"0\" \"1\"\n",
              " [2665] \"1\" \"1\" \"0\" \"1\" \"0\" \"0\" \"1\" \"0\" \"0\" \"0\" \"0\" \"1\" \"1\" \"0\" \"0\" \"0\" \"1\" \"1\"\n",
              " [2683] \"1\" \"1\" \"1\" \"0\" \"1\" \"1\" \"1\" \"0\" \"1\" \"1\" \"1\" \"0\" \"1\" \"1\" \"1\" \"1\" \"1\" \"1\"\n",
              " [2701] \"1\" \"0\" \"1\" \"0\" \"0\" \"1\" \"1\" \"1\" \"1\" \"0\" \"1\" \"0\" \"0\" \"1\" \"0\" \"0\" \"1\" \"1\"\n",
              " [2719] \"1\" \"1\" \"0\" \"1\" \"0\" \"0\" \"1\" \"0\" \"0\" \"0\" \"0\" \"0\" \"1\" \"1\" \"0\" \"1\" \"1\" \"0\"\n",
              " [2737] \"1\" \"1\" \"1\" \"0\" \"1\" \"1\" \"1\" \"1\" \"1\" \"1\" \"1\" \"1\" \"1\" \"0\" \"1\" \"1\" \"1\" \"1\"\n",
              " [2755] \"1\" \"0\" \"1\" \"0\" \"0\" \"1\" \"1\" \"1\" \"1\" \"0\" \"0\" \"1\" \"0\" \"1\" \"1\" \"0\" \"1\" \"1\"\n",
              " [2773] \"0\" \"0\" \"1\" \"1\" \"0\" \"1\" \"0\" \"1\" \"1\" \"1\" \"0\" \"1\" \"0\" \"0\" \"1\" \"0\" \"0\" \"1\"\n",
              " [2791] \"0\" \"1\" \"1\" \"0\" \"1\" \"1\" \"1\" \"0\" \"0\" \"1\" \"1\" \"0\" \"1\" \"0\" \"1\" \"0\" \"0\" \"0\"\n",
              " [2809] \"1\" \"0\" \"1\" \"0\" \"1\" \"0\" \"0\" \"1\" \"1\" \"1\" \"0\" \"0\" \"1\" \"0\" \"1\" \"0\" \"1\" \"1\"\n",
              " [2827] \"1\" \"0\" \"1\" \"1\" \"1\" \"1\" \"1\" \"1\" \"0\" \"0\" \"1\" \"1\" \"1\" \"1\" \"0\" \"1\" \"1\" \"1\"\n",
              " [2845] \"1\" \"1\" \"1\" \"0\" \"1\" \"0\" \"1\" \"0\" \"1\" \"0\" \"0\" \"0\" \"1\" \"1\" \"0\" \"0\" \"1\" \"0\"\n",
              " [2863] \"0\" \"1\" \"1\" \"1\" \"1\" \"1\" \"0\" \"0\" \"1\" \"1\" \"1\" \"1\" \"1\" \"0\" \"0\" \"1\" \"1\" \"0\"\n",
              " [2881] \"0\" \"0\" \"1\" \"1\" \"0\" \"0\" \"1\" \"1\" \"1\" \"1\" \"1\" \"0\" \"1\" \"0\" \"1\" \"0\" \"1\" \"0\"\n",
              " [2899] \"0\" \"1\" \"1\" \"1\" \"1\" \"1\" \"1\" \"1\" \"0\" \"1\" \"0\" \"1\" \"0\" \"0\" \"0\" \"0\" \"0\" \"1\"\n",
              " [2917] \"1\" \"1\" \"1\" \"1\" \"1\" \"0\" \"1\" \"1\" \"0\" \"1\" \"1\" \"1\" \"0\" \"1\" \"0\" \"0\" \"0\" \"0\"\n",
              " [2935] \"0\" \"1\" \"0\" \"0\" \"1\" \"1\" \"0\" \"1\" \"1\" \"0\" \"0\" \"0\" \"0\" \"0\" \"1\" \"0\" \"1\" \"0\"\n",
              " [2953] \"1\" \"1\" \"0\" \"1\" \"1\" \"0\" \"1\" \"1\" \"0\" \"0\" \"1\" \"0\" \"0\" \"1\" \"0\" \"0\" \"1\" \"0\"\n",
              " [2971] \"0\" \"1\" \"1\" \"1\" \"1\" \"0\" \"1\" \"1\" \"1\" \"1\" \"0\" \"0\" \"1\" \"1\" \"1\" \"0\" \"1\" \"0\"\n",
              " [2989] \"0\" \"1\" \"0\" \"1\" \"0\" \"1\" \"1\" \"1\" \"0\" \"1\" \"1\" \"1\" \"1\" \"1\" \"0\" \"1\" \"0\" \"0\"\n",
              " [3007] \"1\" \"1\" \"0\" \"1\" \"1\" \"0\" \"1\" \"0\" \"1\" \"0\" \"1\" \"1\" \"0\" \"0\" \"1\" \"1\" \"1\" \"0\"\n",
              " [3025] \"0\" \"1\" \"1\" \"1\" \"0\" \"1\" \"0\" \"0\" \"1\" \"1\" \"1\" \"1\" \"0\" \"1\" \"1\" \"1\" \"0\" \"0\"\n",
              " [3043] \"1\" \"0\" \"0\" \"1\" \"1\" \"0\" \"1\" \"1\" \"1\" \"1\" \"1\" \"1\" \"1\" \"1\" \"1\" \"1\" \"0\" \"1\"\n",
              " [3061] \"0\" \"1\" \"1\" \"1\" \"1\" \"0\" \"0\" \"0\" \"1\" \"1\" \"0\" \"1\" \"0\" \"0\" \"0\" \"0\" \"1\" \"1\"\n",
              " [3079] \"0\" \"1\" \"1\" \"1\" \"0\" \"0\" \"0\" \"0\" \"1\" \"1\" \"0\" \"1\" \"0\" \"1\" \"1\" \"1\" \"1\" \"1\"\n",
              " [3097] \"0\" \"0\" \"1\" \"0\" \"1\" \"1\" \"1\" \"0\" \"1\" \"1\" \"1\" \"1\" \"1\" \"0\" \"0\" \"1\" \"0\" \"1\"\n",
              " [3115] \"0\" \"1\" \"1\" \"0\" \"0\" \"1\" \"1\" \"0\" \"1\" \"1\" \"0\" \"1\" \"1\" \"0\" \"1\" \"0\" \"1\" \"0\"\n",
              " [3133] \"1\" \"0\" \"1\" \"1\" \"0\" \"1\" \"1\" \"0\" \"1\" \"1\" \"1\" \"1\" \"1\" \"1\" \"1\" \"0\" \"1\" \"1\"\n",
              " [3151] \"1\" \"0\" \"1\" \"1\" \"1\" \"1\" \"0\" \"1\" \"0\" \"1\" \"1\" \"0\" \"0\" \"1\" \"1\" \"1\" \"1\" \"1\"\n",
              " [3169] \"1\" \"1\" \"0\" \"1\" \"0\" \"1\" \"1\" \"1\" \"1\" \"0\" \"1\" \"0\" \"1\" \"0\" \"0\" \"0\" \"0\" \"1\"\n",
              " [3187] \"1\" \"1\" \"0\" \"1\" \"1\" \"0\" \"0\" \"1\" \"1\" \"1\" \"1\" \"1\" \"1\" \"1\" \"0\" \"0\" \"0\" \"1\"\n",
              " [3205] \"0\" \"0\" \"1\" \"0\" \"0\" \"0\" \"1\" \"0\" \"1\" \"0\" \"0\" \"1\" \"1\" \"1\" \"1\" \"1\" \"1\" \"1\"\n",
              " [3223] \"0\" \"1\" \"1\" \"1\" \"1\" \"1\" \"0\" \"1\" \"1\" \"1\" \"0\" \"1\" \"0\" \"1\" \"1\" \"0\" \"1\" \"0\"\n",
              " [3241] \"0\" \"0\" \"0\" \"0\" \"0\" \"1\" \"0\" \"1\" \"1\" \"1\" \"1\" \"0\" \"0\" \"0\" \"1\" \"1\" \"1\" \"1\"\n",
              " [3259] \"0\" \"1\" \"1\" \"0\" \"1\" \"0\" \"0\" \"1\" \"1\" \"1\" \"0\" \"1\" \"0\" \"1\" \"0\" \"1\" \"1\" \"1\"\n",
              " [3277] \"0\" \"1\" \"1\" \"1\" \"0\" \"0\" \"0\" \"0\" \"1\" \"0\" \"0\" \"1\" \"1\" \"1\" \"1\" \"1\" \"1\" \"1\"\n",
              " [3295] \"1\" \"0\" \"1\" \"1\" \"0\" \"0\" \"1\" \"1\" \"1\" \"1\" \"1\" \"1\" \"0\" \"1\" \"1\" \"1\" \"0\" \"1\"\n",
              " [3313] \"1\" \"0\" \"0\" \"0\" \"0\" \"1\" \"1\" \"0\" \"0\" \"1\" \"1\" \"1\" \"0\" \"1\" \"1\" \"1\" \"1\" \"1\"\n",
              " [3331] \"0\" \"0\" \"1\" \"1\" \"0\" \"1\" \"1\" \"1\" \"0\" \"0\" \"0\" \"1\" \"0\" \"1\" \"0\" \"0\" \"0\" \"1\"\n",
              " [3349] \"1\" \"1\" \"1\" \"0\" \"1\" \"1\" \"0\" \"0\" \"0\" \"0\" \"1\" \"0\" \"1\" \"0\" \"0\" \"1\" \"0\" \"1\"\n",
              " [3367] \"1\" \"1\" \"1\" \"1\" \"1\" \"0\" \"0\" \"1\" \"1\" \"1\" \"1\" \"1\" \"1\" \"0\" \"0\" \"1\" \"1\" \"1\"\n",
              " [3385] \"1\" \"1\" \"1\" \"1\" \"1\" \"1\" \"0\" \"0\" \"1\" \"1\" \"0\" \"0\" \"0\" \"0\" \"1\" \"1\" \"1\" \"1\"\n",
              " [3403] \"1\" \"0\" \"1\" \"1\" \"1\" \"1\" \"1\" \"0\" \"1\" \"0\" \"1\" \"1\" \"1\" \"1\" \"0\" \"0\" \"1\" \"0\"\n",
              " [3421] \"0\" \"0\" \"1\" \"1\" \"1\" \"0\" \"1\" \"1\" \"1\" \"0\" \"1\" \"0\" \"1\" \"1\" \"1\" \"1\" \"1\" \"1\"\n",
              " [3439] \"1\" \"1\" \"0\" \"0\" \"1\" \"0\" \"1\" \"1\" \"1\" \"1\" \"1\" \"0\" \"1\" \"1\" \"0\" \"0\" \"1\" \"0\"\n",
              " [3457] \"0\" \"0\" \"1\" \"0\" \"1\" \"0\" \"1\" \"0\" \"1\" \"0\" \"1\" \"1\" \"1\" \"1\" \"1\" \"1\" \"0\" \"0\"\n",
              " [3475] \"1\" \"1\" \"0\" \"1\" \"0\" \"0\" \"1\" \"0\" \"1\" \"1\" \"0\" \"1\" \"0\" \"0\" \"0\" \"1\" \"1\" \"0\"\n",
              " [3493] \"1\" \"1\" \"0\" \"0\" \"0\" \"1\" \"1\" \"1\" \"1\" \"0\" \"1\" \"1\" \"0\" \"1\" \"1\" \"0\" \"1\" \"0\"\n",
              " [3511] \"0\" \"1\" \"0\" \"0\" \"1\" \"1\" \"0\" \"1\" \"1\" \"1\" \"1\" \"1\" \"1\" \"1\" \"0\" \"1\" \"0\" \"1\"\n",
              " [3529] \"0\" \"1\" \"1\" \"1\" \"0\" \"1\" \"0\" \"0\" \"1\" \"0\" \"1\" \"1\" \"1\" \"1\" \"0\" \"1\" \"1\" \"0\"\n",
              " [3547] \"0\" \"1\" \"0\" \"0\" \"1\" \"0\" \"1\" \"1\" \"0\" \"0\" \"1\" \"0\" \"0\" \"1\" \"1\" \"1\" \"0\" \"1\"\n",
              " [3565] \"1\" \"1\" \"0\" \"1\" \"1\" \"0\" \"1\" \"1\" \"0\" \"0\" \"1\" \"1\" \"0\" \"1\" \"1\" \"0\" \"1\" \"1\"\n",
              " [3583] \"1\" \"1\" \"0\" \"0\" \"0\" \"1\" \"0\" \"0\" \"0\" \"0\" \"0\" \"1\" \"1\" \"1\" \"0\" \"0\" \"1\" \"1\"\n",
              " [3601] \"1\" \"0\" \"1\" \"1\" \"1\" \"0\" \"1\" \"0\" \"0\" \"0\" \"1\" \"1\" \"1\" \"0\" \"1\" \"1\" \"0\" \"1\"\n",
              " [3619] \"0\" \"1\" \"0\" \"0\" \"0\" \"1\" \"0\" \"1\" \"1\" \"1\" \"0\" \"1\" \"1\" \"1\" \"0\" \"0\" \"1\" \"1\"\n",
              " [3637] \"1\" \"1\" \"0\" \"1\" \"0\" \"0\" \"1\" \"1\" \"1\" \"0\" \"1\" \"1\" \"0\" \"0\" \"0\" \"1\" \"1\" \"1\"\n",
              " [3655] \"1\" \"1\" \"1\" \"1\" \"0\" \"1\" \"1\" \"0\" \"0\" \"1\" \"1\" \"0\" \"1\" \"1\" \"1\" \"1\" \"1\" \"1\"\n",
              " [3673] \"1\" \"1\" \"1\" \"0\" \"1\" \"1\" \"1\" \"0\" \"1\" \"0\" \"1\" \"1\" \"1\" \"1\" \"0\" \"0\" \"1\" \"1\"\n",
              " [3691] \"1\" \"1\" \"1\" \"1\" \"1\" \"1\" \"0\" \"1\" \"1\" \"1\" \"1\" \"1\" \"0\" \"1\" \"1\" \"1\" \"0\" \"1\"\n",
              " [3709] \"1\" \"1\" \"0\" \"1\" \"0\" \"1\" \"1\" \"0\" \"1\" \"0\" \"0\" \"0\" \"1\" \"1\" \"0\" \"1\" \"1\" \"0\"\n",
              " [3727] \"1\" \"1\" \"1\" \"0\" \"0\" \"1\" \"1\" \"1\" \"0\" \"1\" \"1\" \"0\" \"1\" \"1\" \"1\" \"1\" \"1\" \"1\"\n",
              " [3745] \"0\" \"1\" \"0\" \"1\" \"1\" \"1\" \"1\" \"1\" \"1\" \"0\" \"1\" \"0\" \"1\" \"1\" \"1\" \"1\" \"1\" \"0\"\n",
              " [3763] \"0\" \"0\" \"0\" \"1\" \"1\" \"0\" \"1\" \"0\" \"0\" \"1\" \"1\" \"0\" \"1\" \"0\" \"1\" \"0\" \"1\" \"1\"\n",
              " [3781] \"1\" \"0\" \"0\" \"1\" \"1\" \"0\" \"1\" \"1\" \"1\" \"1\" \"1\" \"0\" \"1\" \"0\" \"0\" \"1\" \"0\" \"1\"\n",
              " [3799] \"0\" \"1\" \"1\" \"0\" \"0\" \"0\" \"0\" \"0\" \"1\" \"0\" \"1\" \"1\" \"0\" \"1\" \"1\" \"1\" \"0\" \"0\"\n",
              " [3817] \"1\" \"1\" \"1\" \"0\" \"0\" \"1\" \"1\" \"0\" \"0\" \"0\" \"1\" \"1\" \"0\" \"1\" \"1\" \"1\" \"1\" \"1\"\n",
              " [3835] \"0\" \"0\" \"1\" \"1\" \"1\" \"0\" \"1\" \"0\" \"1\" \"0\" \"0\" \"1\" \"1\" \"1\" \"0\" \"0\" \"1\" \"0\"\n",
              " [3853] \"0\" \"0\" \"1\" \"0\" \"0\" \"1\" \"0\" \"1\" \"1\" \"1\" \"1\" \"1\" \"1\" \"1\" \"1\" \"1\" \"0\" \"0\"\n",
              " [3871] \"1\" \"1\" \"1\" \"0\" \"0\" \"0\" \"1\" \"1\" \"1\" \"1\" \"1\" \"0\" \"1\" \"1\" \"1\" \"1\" \"1\" \"1\"\n",
              " [3889] \"0\" \"1\" \"1\" \"0\" \"1\" \"1\" \"1\" \"1\" \"1\" \"0\" \"0\" \"0\" \"1\" \"0\" \"0\" \"0\" \"1\" \"1\"\n",
              " [3907] \"1\" \"0\" \"1\" \"1\" \"1\" \"1\" \"1\" \"1\" \"1\" \"1\" \"0\" \"0\" \"1\" \"0\" \"1\" \"1\" \"0\" \"1\"\n",
              " [3925] \"1\" \"1\" \"1\" \"1\" \"1\" \"1\" \"0\" \"0\" \"1\" \"1\" \"1\" \"0\" \"1\" \"0\" \"1\" \"1\" \"0\" \"1\"\n",
              " [3943] \"0\" \"0\" \"1\" \"1\" \"0\" \"1\" \"1\" \"0\" \"1\" \"0\" \"1\" \"1\" \"1\" \"0\" \"1\" \"1\" \"1\" \"1\"\n",
              " [3961] \"1\" \"1\" \"1\" \"0\" \"1\" \"1\" \"1\" \"1\" \"1\" \"1\" \"0\" \"1\" \"0\" \"0\" \"0\" \"0\" \"1\" \"0\"\n",
              " [3979] \"1\" \"1\" \"1\" \"0\" \"1\" \"1\" \"1\" \"0\" \"0\" \"1\" \"1\" \"0\" \"0\" \"0\" \"1\" \"1\" \"0\" \"0\"\n",
              " [3997] \"0\" \"1\" \"1\" \"1\" \"1\" \"0\" \"0\" \"0\" \"0\" \"1\" \"0\" \"1\" \"1\" \"1\" \"0\" \"0\" \"1\" \"0\"\n",
              " [4015] \"0\" \"1\" \"1\" \"1\" \"1\" \"0\" \"1\" \"0\" \"1\" \"0\" \"1\" \"1\" \"0\" \"1\" \"1\" \"1\" \"0\" \"1\"\n",
              " [4033] \"1\" \"0\" \"0\" \"0\" \"0\" \"1\" \"0\" \"1\" \"0\" \"1\" \"1\" \"1\" \"0\" \"1\" \"0\" \"0\" \"1\" \"1\"\n",
              " [4051] \"1\" \"0\" \"1\" \"1\" \"1\" \"1\" \"1\" \"0\" \"1\" \"0\" \"1\" \"1\" \"0\" \"1\" \"1\" \"1\" \"1\" \"1\"\n",
              " [4069] \"0\" \"0\" \"0\" \"1\" \"0\" \"1\" \"0\" \"1\" \"0\" \"1\" \"0\" \"1\" \"0\" \"0\" \"1\" \"1\" \"1\" \"1\"\n",
              " [4087] \"1\" \"1\" \"1\" \"0\" \"0\" \"1\" \"0\" \"1\" \"1\" \"1\" \"1\" \"1\" \"0\" \"1\" \"0\" \"1\" \"1\" \"0\"\n",
              " [4105] \"1\" \"1\" \"0\" \"1\" \"0\" \"0\" \"0\" \"1\" \"1\" \"0\" \"0\" \"1\" \"1\" \"0\" \"0\" \"1\" \"1\" \"1\"\n",
              " [4123] \"1\" \"1\" \"0\" \"1\" \"1\" \"1\" \"0\" \"0\" \"0\" \"1\" \"1\" \"1\" \"1\" \"0\" \"1\" \"1\" \"0\" \"0\"\n",
              " [4141] \"1\" \"1\" \"0\" \"1\" \"1\" \"1\" \"1\" \"1\" \"1\" \"0\" \"1\" \"1\" \"0\" \"0\" \"1\" \"0\" \"0\" \"1\"\n",
              " [4159] \"1\" \"1\" \"1\" \"1\" \"1\" \"1\" \"1\" \"1\" \"0\" \"1\" \"0\" \"1\" \"1\" \"1\" \"1\" \"0\" \"0\" \"0\"\n",
              " [4177] \"1\" \"1\" \"1\" \"0\" \"0\" \"0\" \"1\" \"0\" \"0\" \"1\" \"1\" \"1\" \"1\" \"1\" \"0\" \"0\" \"1\" \"0\"\n",
              " [4195] \"0\" \"0\" \"1\" \"1\" \"1\" \"0\" \"0\" \"1\" \"1\" \"0\" \"0\" \"0\" \"0\" \"1\" \"0\" \"0\" \"1\" \"1\"\n",
              " [4213] \"0\" \"0\" \"1\" \"0\" \"0\" \"0\" \"0\" \"0\" \"0\" \"1\" \"1\" \"0\" \"0\" \"0\" \"1\" \"0\" \"1\" \"1\"\n",
              " [4231] \"1\" \"1\" \"1\" \"0\" \"0\" \"0\" \"1\" \"0\" \"1\" \"0\" \"0\" \"0\" \"1\" \"0\" \"1\" \"0\" \"1\" \"0\"\n",
              " [4249] \"0\" \"1\" \"0\" \"1\" \"1\" \"1\" \"0\" \"1\" \"1\" \"1\" \"1\" \"0\" \"1\" \"0\" \"0\" \"1\" \"1\" \"1\"\n",
              " [4267] \"1\" \"1\" \"0\" \"0\" \"1\" \"1\" \"0\" \"0\" \"0\" \"1\" \"0\" \"0\" \"0\" \"1\" \"1\" \"0\" \"1\" \"1\"\n",
              " [4285] \"0\" \"1\" \"0\" \"1\" \"1\" \"0\" \"1\" \"1\" \"0\" \"1\" \"0\" \"1\" \"0\" \"1\" \"0\" \"0\" \"0\" \"0\"\n",
              " [4303] \"1\" \"1\" \"1\" \"0\" \"1\" \"1\" \"1\" \"0\" \"0\" \"1\" \"1\" \"0\" \"1\" \"1\" \"0\" \"0\" \"0\" \"1\"\n",
              " [4321] \"0\" \"1\" \"1\" \"0\" \"0\" \"0\" \"1\" \"1\" \"0\" \"1\" \"1\" \"1\" \"1\" \"0\" \"1\" \"1\" \"0\" \"0\"\n",
              " [4339] \"1\" \"1\" \"1\" \"1\" \"0\" \"1\" \"1\" \"1\" \"0\" \"0\" \"1\" \"1\" \"0\" \"1\" \"1\" \"1\" \"1\" \"1\"\n",
              " [4357] \"1\" \"0\" \"0\" \"0\" \"0\" \"1\" \"0\" \"1\" \"0\" \"1\" \"1\" \"1\" \"1\" \"0\" \"1\" \"1\" \"0\" \"0\"\n",
              " [4375] \"1\" \"0\" \"1\" \"1\" \"1\" \"0\" \"1\" \"1\" \"1\" \"0\" \"1\" \"1\" \"0\" \"1\" \"1\" \"1\" \"1\" \"0\"\n",
              " [4393] \"1\" \"0\" \"0\" \"0\" \"0\" \"0\" \"0\" \"0\" \"1\" \"1\" \"0\" \"1\" \"1\" \"1\" \"0\" \"1\" \"1\" \"0\"\n",
              " [4411] \"1\" \"1\" \"1\" \"0\" \"0\" \"1\" \"0\" \"1\" \"0\" \"0\" \"0\" \"1\" \"0\" \"1\" \"1\" \"1\" \"1\" \"0\"\n",
              " [4429] \"1\" \"1\" \"1\" \"0\" \"1\" \"1\" \"0\" \"1\" \"1\" \"0\" \"1\" \"0\" \"1\" \"1\" \"0\" \"1\" \"0\" \"1\"\n",
              " [4447] \"0\" \"0\" \"1\" \"1\" \"0\" \"0\" \"0\" \"1\" \"0\" \"1\" \"1\" \"1\" \"1\" \"0\" \"1\" \"0\" \"1\" \"0\"\n",
              " [4465] \"0\" \"1\" \"1\" \"1\" \"0\" \"0\" \"1\" \"1\" \"1\" \"1\" \"1\" \"1\" \"0\" \"1\" \"1\" \"0\" \"1\" \"0\"\n",
              " [4483] \"0\" \"0\" \"0\" \"1\" \"1\" \"0\" \"0\" \"0\" \"0\" \"1\" \"1\" \"1\" \"1\" \"1\" \"1\" \"1\" \"1\" \"0\"\n",
              " [4501] \"0\" \"0\" \"1\" \"0\" \"1\" \"0\" \"0\" \"1\" \"0\" \"0\" \"1\" \"0\" \"1\" \"0\" \"1\" \"0\" \"0\" \"1\"\n",
              " [4519] \"1\" \"0\" \"1\" \"1\" \"0\" \"1\" \"1\" \"0\" \"1\" \"0\" \"1\" \"1\" \"1\" \"0\" \"1\" \"0\" \"0\" \"1\"\n",
              " [4537] \"0\" \"1\" \"0\" \"1\" \"1\" \"1\" \"1\" \"1\" \"0\" \"1\" \"1\" \"1\" \"1\" \"1\" \"1\" \"0\" \"1\" \"0\"\n",
              " [4555] \"0\" \"1\" \"0\" \"0\" \"1\" \"1\" \"0\" \"1\" \"0\" \"0\" \"1\" \"1\" \"1\" \"1\" \"0\" \"1\" \"0\" \"1\"\n",
              " [4573] \"0\" \"0\" \"0\" \"1\" \"1\" \"1\" \"1\" \"1\" \"0\" \"1\" \"0\" \"1\" \"1\" \"0\" \"0\" \"0\" \"1\" \"0\"\n",
              " [4591] \"1\" \"0\" \"1\" \"1\" \"0\" \"1\" \"0\" \"1\" \"1\" \"1\" \"1\" \"0\" \"0\" \"1\" \"0\" \"0\" \"1\" \"0\"\n",
              " [4609] \"1\" \"1\" \"1\" \"1\" \"1\" \"1\" \"1\" \"0\" \"1\" \"0\" \"1\" \"1\" \"0\" \"0\" \"1\" \"0\" \"0\" \"1\"\n",
              " [4627] \"0\" \"1\" \"0\" \"1\" \"1\" \"0\" \"1\" \"1\" \"1\" \"0\" \"1\" \"1\" \"1\" \"0\" \"0\" \"1\" \"0\" \"0\"\n",
              " [4645] \"1\" \"1\" \"1\" \"0\" \"0\" \"0\" \"0\" \"1\" \"1\" \"1\" \"1\" \"0\" \"1\" \"1\" \"0\" \"1\" \"0\" \"1\"\n",
              " [4663] \"1\" \"1\" \"0\" \"1\" \"1\" \"0\" \"1\" \"1\" \"1\" \"1\" \"0\" \"1\" \"1\" \"1\" \"0\" \"1\" \"0\" \"0\"\n",
              " [4681] \"1\" \"1\" \"1\" \"0\" \"0\" \"1\" \"0\" \"0\" \"0\" \"1\" \"0\" \"1\" \"1\" \"0\" \"1\" \"1\" \"1\" \"0\"\n",
              " [4699] \"1\" \"1\" \"0\" \"0\" \"0\" \"1\" \"1\" \"1\" \"1\" \"1\" \"0\" \"1\" \"1\" \"1\" \"0\" \"1\" \"0\" \"0\"\n",
              " [4717] \"0\" \"1\" \"0\" \"1\" \"0\" \"1\" \"0\" \"1\" \"1\" \"0\" \"1\" \"1\" \"0\" \"0\" \"1\" \"1\" \"0\" \"0\"\n",
              " [4735] \"0\" \"0\" \"1\" \"0\" \"0\" \"0\" \"0\" \"0\" \"1\" \"1\" \"0\" \"0\" \"0\" \"1\" \"1\" \"1\" \"1\" \"1\"\n",
              " [4753] \"1\" \"1\" \"1\" \"1\" \"1\" \"1\" \"0\" \"0\" \"1\" \"1\" \"0\" \"1\" \"1\" \"1\" \"1\" \"0\" \"1\" \"0\"\n",
              " [4771] \"0\" \"1\" \"1\" \"0\" \"0\" \"0\" \"1\" \"0\" \"1\" \"0\" \"1\" \"0\" \"1\" \"0\" \"1\" \"0\" \"0\" \"1\"\n",
              " [4789] \"1\" \"1\" \"1\" \"1\" \"1\" \"1\" \"1\" \"1\" \"0\" \"1\" \"0\" \"0\" \"1\" \"0\" \"1\" \"0\" \"1\" \"0\"\n",
              " [4807] \"1\" \"1\" \"1\" \"0\" \"1\" \"0\" \"1\" \"1\" \"0\" \"1\" \"1\" \"0\" \"0\" \"1\" \"1\" \"1\" \"0\" \"1\"\n",
              " [4825] \"1\" \"1\" \"0\" \"1\" \"1\" \"1\" \"1\" \"0\" \"1\" \"1\" \"1\" \"0\" \"1\" \"0\" \"1\" \"0\" \"0\" \"1\"\n",
              " [4843] \"0\" \"1\" \"0\" \"1\" \"1\" \"1\" \"0\" \"1\" \"1\" \"1\" \"1\" \"0\" \"0\" \"0\" \"0\" \"1\" \"1\" \"0\"\n",
              " [4861] \"0\" \"0\" \"1\" \"1\" \"0\" \"1\" \"0\" \"1\" \"0\" \"1\" \"1\" \"0\" \"1\" \"1\" \"1\" \"1\" \"0\" \"1\"\n",
              " [4879] \"1\" \"1\" \"0\" \"0\" \"1\" \"0\" \"0\" \"1\" \"0\" \"0\" \"1\" \"1\" \"1\" \"0\" \"0\" \"0\" \"1\" \"0\"\n",
              " [4897] \"0\" \"1\" \"1\" \"0\" \"1\" \"0\" \"1\" \"1\" \"0\" \"1\" \"0\" \"0\" \"1\" \"0\" \"1\" \"0\" \"0\" \"0\"\n",
              " [4915] \"1\" \"0\" \"1\" \"0\" \"1\" \"0\" \"1\" \"1\" \"0\" \"1\" \"1\" \"0\" \"0\" \"1\" \"1\" \"1\" \"0\" \"0\"\n",
              " [4933] \"1\" \"0\" \"1\" \"1\" \"0\" \"0\" \"1\" \"1\" \"1\" \"1\" \"0\" \"1\" \"1\" \"1\" \"0\" \"1\" \"1\" \"1\"\n",
              " [4951] \"1\" \"1\" \"1\" \"1\" \"1\" \"1\" \"0\" \"0\" \"0\" \"0\" \"0\" \"1\" \"0\" \"0\" \"1\" \"0\" \"0\" \"1\"\n",
              " [4969] \"0\" \"0\" \"1\" \"1\" \"1\" \"1\" \"1\" \"1\" \"1\" \"1\" \"1\" \"1\" \"0\" \"0\" \"0\" \"1\" \"0\" \"0\"\n",
              " [4987] \"0\" \"1\" \"1\" \"0\" \"1\" \"1\" \"1\" \"0\" \"1\" \"0\" \"1\" \"1\" \"0\" \"0\" \"1\" \"0\" \"1\" \"0\"\n",
              " [5005] \"1\" \"1\" \"0\" \"1\" \"1\" \"1\" \"0\" \"0\" \"0\" \"1\" \"1\" \"1\" \"1\" \"1\" \"0\" \"0\" \"0\" \"1\"\n",
              " [5023] \"1\" \"0\" \"1\" \"1\" \"1\" \"1\" \"1\" \"0\" \"0\" \"1\" \"0\" \"1\" \"1\" \"1\" \"1\" \"1\" \"1\" \"1\"\n",
              " [5041] \"0\" \"1\" \"1\" \"1\" \"1\" \"1\" \"1\" \"0\" \"0\" \"1\" \"1\" \"1\" \"0\" \"1\" \"0\" \"0\" \"1\" \"1\"\n",
              " [5059] \"1\" \"1\" \"1\" \"0\" \"1\" \"1\" \"0\" \"1\" \"1\" \"1\" \"0\" \"0\" \"0\" \"1\" \"1\" \"1\" \"1\" \"1\"\n",
              " [5077] \"0\" \"1\" \"1\" \"1\" \"0\" \"0\" \"1\" \"0\" \"0\" \"1\" \"1\" \"0\" \"1\" \"1\" \"0\" \"1\" \"1\" \"1\"\n",
              " [5095] \"1\" \"1\" \"0\" \"1\" \"1\" \"1\" \"1\" \"1\" \"1\" \"1\" \"0\" \"1\" \"1\" \"0\" \"1\" \"1\" \"0\" \"0\"\n",
              " [5113] \"1\" \"0\" \"1\" \"0\" \"1\" \"0\" \"1\" \"1\" \"1\" \"1\" \"0\" \"1\" \"0\" \"0\" \"0\" \"0\" \"0\" \"1\"\n",
              " [5131] \"1\" \"1\" \"0\" \"0\" \"1\" \"0\" \"0\" \"1\" \"0\" \"1\" \"1\" \"0\" \"0\" \"1\" \"1\" \"0\" \"0\" \"0\"\n",
              " [5149] \"1\" \"1\" \"1\" \"1\" \"0\" \"1\" \"1\" \"1\" \"0\" \"1\" \"1\" \"1\" \"1\" \"1\" \"1\" \"0\" \"1\" \"0\"\n",
              " [5167] \"1\" \"1\" \"1\" \"1\" \"1\" \"0\" \"1\" \"1\" \"0\" \"1\" \"1\" \"1\" \"1\" \"1\" \"1\" \"0\" \"1\" \"1\"\n",
              " [5185] \"1\" \"0\" \"1\" \"0\" \"0\" \"1\" \"1\" \"0\" \"1\" \"0\" \"1\" \"1\" \"1\" \"1\" \"1\" \"1\" \"0\" \"1\"\n",
              " [5203] \"1\" \"0\" \"0\" \"0\" \"0\" \"1\" \"0\" \"0\" \"0\" \"1\" \"0\" \"0\" \"0\" \"1\" \"0\" \"0\" \"0\" \"1\"\n",
              " [5221] \"1\" \"0\" \"1\" \"1\" \"1\" \"1\" \"1\" \"1\" \"0\" \"1\" \"1\" \"1\" \"1\" \"1\" \"1\" \"0\" \"1\" \"0\"\n",
              " [5239] \"1\" \"0\" \"0\" \"1\" \"1\" \"0\" \"1\" \"1\" \"1\" \"0\" \"1\" \"1\" \"1\" \"1\" \"0\" \"0\" \"1\" \"1\"\n",
              " [5257] \"0\" \"0\" \"0\" \"0\" \"0\" \"0\" \"1\" \"0\" \"1\" \"0\" \"0\" \"1\" \"0\" \"1\" \"1\" \"0\" \"0\" \"1\"\n",
              " [5275] \"1\" \"1\" \"1\" \"0\" \"1\" \"1\" \"1\" \"0\" \"1\" \"1\" \"0\" \"1\" \"0\" \"1\" \"0\" \"1\" \"1\" \"0\"\n",
              " [5293] \"0\" \"1\" \"1\" \"1\" \"1\" \"1\" \"1\" \"1\" \"1\" \"1\" \"0\" \"0\" \"0\" \"1\" \"1\" \"0\" \"0\" \"0\"\n",
              " [5311] \"1\" \"0\" \"1\" \"0\" \"1\" \"0\" \"0\" \"1\" \"1\" \"1\" \"0\" \"0\" \"0\" \"1\" \"1\" \"0\" \"1\" \"1\"\n",
              " [5329] \"0\" \"1\" \"1\" \"0\" \"0\" \"1\" \"1\" \"1\" \"0\" \"1\" \"1\" \"0\" \"1\" \"0\" \"1\" \"1\" \"1\" \"1\"\n",
              " [5347] \"0\" \"1\" \"0\" \"1\" \"0\" \"0\" \"0\" \"1\" \"1\" \"1\" \"0\" \"1\" \"1\" \"0\" \"0\" \"0\" \"1\" \"0\"\n",
              " [5365] \"1\" \"1\" \"0\" \"0\" \"1\" \"1\" \"1\" \"0\" \"1\" \"1\" \"1\" \"0\" \"1\" \"0\" \"1\" \"1\" \"1\" \"0\"\n",
              " [5383] \"1\" \"0\" \"0\" \"1\" \"1\" \"1\" \"1\" \"1\" \"1\" \"1\" \"0\" \"0\" \"1\" \"0\" \"0\" \"0\" \"1\" \"1\"\n",
              " [5401] \"1\" \"0\" \"1\" \"1\" \"1\" \"1\" \"0\" \"1\" \"1\" \"1\" \"1\" \"0\" \"0\" \"1\" \"1\" \"0\" \"1\" \"1\"\n",
              " [5419] \"1\" \"1\" \"1\" \"1\" \"0\" \"1\" \"0\" \"1\" \"0\" \"1\" \"1\" \"1\" \"1\" \"1\" \"1\" \"1\" \"0\" \"1\"\n",
              " [5437] \"0\" \"1\" \"1\" \"1\" \"0\" \"1\" \"1\" \"1\" \"1\" \"1\" \"0\" \"0\" \"0\" \"0\" \"0\" \"0\" \"0\" \"1\"\n",
              " [5455] \"1\" \"1\" \"1\" \"1\" \"1\" \"0\" \"0\" \"0\" \"1\" \"1\" \"1\" \"1\" \"0\" \"0\" \"1\" \"0\" \"1\" \"0\"\n",
              " [5473] \"0\" \"1\" \"1\" \"1\" \"0\" \"0\" \"1\" \"1\" \"1\" \"1\" \"0\" \"0\" \"1\" \"1\" \"1\" \"1\" \"1\" \"1\"\n",
              " [5491] \"1\" \"0\" \"1\" \"0\" \"1\" \"0\" \"1\" \"1\" \"1\" \"1\" \"1\" \"1\" \"0\" \"0\" \"0\" \"1\" \"0\" \"1\"\n",
              " [5509] \"0\" \"1\" \"0\" \"0\" \"0\" \"1\" \"0\" \"0\" \"1\" \"1\" \"1\" \"0\" \"0\" \"1\" \"0\" \"1\" \"0\" \"0\"\n",
              " [5527] \"0\" \"0\" \"1\" \"1\" \"1\" \"1\" \"1\" \"1\" \"0\" \"0\" \"1\" \"1\" \"1\" \"0\" \"1\" \"0\" \"1\" \"1\"\n",
              " [5545] \"1\" \"0\" \"0\" \"1\" \"0\" \"1\" \"1\" \"0\" \"1\" \"0\" \"1\" \"1\" \"0\" \"0\" \"1\" \"1\" \"1\" \"0\"\n",
              " [5563] \"1\" \"1\" \"1\" \"0\" \"1\" \"0\" \"1\" \"0\" \"1\" \"1\" \"1\" \"1\" \"0\" \"1\" \"0\" \"1\" \"0\" \"0\"\n",
              " [5581] \"1\" \"1\" \"1\" \"0\" \"1\" \"1\" \"1\" \"1\" \"1\" \"1\" \"0\" \"0\" \"0\" \"1\" \"0\" \"1\" \"1\" \"0\"\n",
              " [5599] \"0\" \"0\" \"1\" \"1\" \"1\" \"0\" \"0\" \"0\" \"1\" \"0\" \"1\" \"1\" \"1\" \"1\" \"1\" \"0\" \"0\" \"1\"\n",
              " [5617] \"0\" \"0\" \"0\" \"1\" \"1\" \"0\" \"1\" \"1\" \"1\" \"1\" \"1\" \"1\" \"1\" \"1\" \"0\" \"1\" \"1\" \"0\"\n",
              " [5635] \"1\" \"1\" \"1\" \"0\" \"0\" \"1\" \"1\" \"1\" \"1\" \"1\" \"1\" \"1\" \"1\" \"0\" \"1\" \"1\" \"0\" \"0\"\n",
              " [5653] \"1\" \"1\" \"0\" \"0\" \"0\" \"1\" \"1\" \"0\" \"1\" \"0\" \"1\" \"1\" \"0\" \"1\" \"1\" \"0\" \"0\" \"1\"\n",
              " [5671] \"0\" \"1\" \"0\" \"1\" \"1\" \"1\" \"0\" \"0\" \"1\" \"1\" \"1\" \"1\" \"1\" \"1\" \"0\" \"1\" \"0\" \"1\"\n",
              " [5689] \"1\" \"0\" \"1\" \"1\" \"0\" \"0\" \"1\" \"1\" \"1\" \"0\" \"1\" \"0\" \"1\" \"1\" \"1\" \"1\" \"1\" \"1\"\n",
              " [5707] \"0\" \"1\" \"1\" \"1\" \"1\" \"1\" \"1\" \"0\" \"1\" \"0\" \"0\" \"1\" \"1\" \"1\" \"0\" \"1\" \"0\" \"0\"\n",
              " [5725] \"0\" \"1\" \"0\" \"1\" \"1\" \"1\" \"0\" \"1\" \"0\" \"1\" \"1\" \"0\" \"1\" \"1\" \"1\" \"0\" \"1\" \"0\"\n",
              " [5743] \"0\" \"1\" \"0\" \"1\" \"0\" \"1\" \"1\" \"1\" \"1\" \"1\" \"1\" \"1\" \"1\" \"1\" \"1\" \"1\" \"0\" \"1\"\n",
              " [5761] \"0\" \"1\" \"1\" \"0\" \"1\" \"1\" \"1\" \"1\" \"0\" \"1\" \"0\" \"1\" \"1\" \"1\" \"0\" \"1\" \"1\" \"1\"\n",
              " [5779] \"0\" \"0\" \"1\" \"0\" \"0\" \"0\" \"1\" \"0\" \"1\" \"1\" \"1\" \"1\" \"1\" \"1\" \"1\" \"1\" \"1\" \"1\"\n",
              " [5797] \"1\" \"0\" \"1\" \"0\" \"1\" \"0\" \"1\" \"1\" \"0\" \"0\" \"1\" \"0\" \"1\" \"1\" \"1\" \"1\" \"1\" \"1\"\n",
              " [5815] \"0\" \"1\" \"1\" \"1\" \"0\" \"0\" \"1\" \"1\" \"1\" \"1\" \"1\" \"1\" \"0\" \"1\" \"0\" \"0\" \"0\" \"1\"\n",
              " [5833] \"0\" \"0\" \"1\" \"1\" \"1\" \"1\" \"0\" \"1\" \"0\" \"1\" \"0\" \"0\" \"0\" \"1\" \"0\" \"1\" \"1\" \"0\"\n",
              " [5851] \"0\" \"0\" \"0\" \"0\" \"1\" \"1\" \"1\" \"1\" \"0\" \"0\" \"1\" \"1\" \"1\" \"0\" \"1\" \"0\" \"1\" \"1\"\n",
              " [5869] \"0\" \"1\" \"1\" \"1\" \"0\" \"1\" \"1\" \"1\" \"0\" \"1\" \"0\" \"0\" \"1\" \"1\" \"1\" \"0\" \"1\" \"1\"\n",
              " [5887] \"1\" \"0\" \"0\" \"1\" \"0\" \"0\" \"0\" \"0\" \"1\" \"0\" \"0\" \"0\" \"1\" \"1\" \"1\" \"1\" \"1\" \"1\"\n",
              " [5905] \"1\" \"1\" \"1\" \"0\" \"1\" \"1\" \"0\" \"0\" \"0\" \"0\" \"1\" \"0\" \"1\" \"1\" \"1\" \"1\" \"0\" \"0\"\n",
              " [5923] \"1\" \"1\" \"0\" \"1\" \"1\" \"0\" \"0\" \"1\" \"1\" \"1\" \"0\" \"1\" \"1\" \"0\" \"1\" \"0\" \"0\" \"1\"\n",
              " [5941] \"1\" \"1\" \"0\" \"1\" \"0\" \"0\" \"1\" \"1\" \"1\" \"0\" \"1\" \"0\" \"0\" \"0\" \"0\" \"1\" \"1\" \"1\"\n",
              " [5959] \"1\" \"1\" \"0\" \"1\" \"0\" \"0\" \"0\" \"1\" \"1\" \"0\" \"1\" \"0\" \"0\" \"1\" \"1\" \"1\" \"1\" \"1\"\n",
              " [5977] \"1\" \"1\" \"0\" \"0\" \"1\" \"1\" \"0\" \"0\" \"0\" \"1\" \"0\" \"1\" \"1\" \"1\" \"0\" \"1\" \"0\" \"1\"\n",
              " [5995] \"1\" \"0\" \"0\" \"1\" \"1\" \"0\" \"1\" \"1\" \"1\" \"1\" \"1\" \"1\" \"1\" \"1\" \"1\" \"0\" \"1\" \"1\"\n",
              " [6013] \"0\" \"1\" \"0\" \"0\" \"1\" \"1\" \"0\" \"1\" \"1\" \"0\" \"1\" \"1\" \"1\" \"1\" \"1\" \"1\" \"0\" \"1\"\n",
              " [6031] \"1\" \"0\" \"0\" \"1\" \"0\" \"0\" \"1\" \"1\" \"1\" \"0\" \"1\" \"0\" \"1\" \"0\" \"0\" \"1\" \"1\" \"0\"\n",
              " [6049] \"0\" \"1\" \"1\" \"1\" \"1\" \"0\" \"1\" \"1\" \"1\" \"1\" \"1\" \"1\" \"1\" \"1\" \"1\" \"0\" \"1\" \"1\"\n",
              " [6067] \"1\" \"1\" \"0\" \"0\" \"1\" \"1\" \"1\" \"1\" \"0\" \"1\" \"0\" \"0\" \"1\" \"0\" \"1\" \"0\" \"1\" \"0\"\n",
              " [6085] \"1\" \"1\" \"1\" \"0\" \"0\" \"1\" \"1\" \"1\" \"1\" \"0\" \"1\" \"1\" \"0\" \"1\" \"1\" \"1\" \"1\" \"1\"\n",
              " [6103] \"0\" \"1\" \"0\" \"1\" \"0\" \"0\" \"0\" \"1\" \"0\" \"1\" \"1\" \"0\" \"1\" \"1\" \"1\" \"1\" \"0\" \"1\"\n",
              " [6121] \"1\" \"1\" \"0\" \"0\" \"1\" \"0\" \"1\" \"1\" \"0\" \"1\" \"1\" \"1\" \"1\" \"1\" \"1\" \"1\" \"1\" \"1\"\n",
              " [6139] \"0\" \"1\" \"0\" \"1\" \"1\" \"1\" \"1\" \"1\" \"1\" \"1\" \"0\" \"1\" \"1\" \"1\" \"0\" \"0\" \"0\" \"0\"\n",
              " [6157] \"0\" \"1\" \"0\" \"0\" \"0\" \"1\" \"0\" \"0\" \"1\" \"1\" \"0\" \"1\" \"0\" \"0\" \"1\" \"1\" \"1\" \"1\"\n",
              " [6175] \"0\" \"0\" \"1\" \"1\" \"1\" \"1\" \"1\" \"1\" \"0\" \"0\" \"1\" \"0\" \"1\" \"0\" \"1\" \"1\" \"0\" \"1\"\n",
              " [6193] \"1\" \"0\" \"0\" \"1\" \"1\" \"1\" \"1\" \"1\" \"1\" \"0\" \"1\" \"0\" \"1\" \"1\" \"1\" \"1\" \"0\" \"1\"\n",
              " [6211] \"0\" \"0\" \"1\" \"1\" \"1\" \"0\" \"1\" \"1\" \"0\" \"1\" \"1\" \"0\" \"1\" \"0\" \"1\" \"1\" \"0\" \"1\"\n",
              " [6229] \"1\" \"0\" \"1\" \"1\" \"1\" \"1\" \"1\" \"1\" \"1\" \"1\" \"0\" \"0\" \"1\" \"1\" \"0\" \"0\" \"0\" \"1\"\n",
              " [6247] \"0\" \"0\" \"1\" \"0\" \"1\" \"0\" \"0\" \"0\" \"0\" \"1\" \"1\" \"0\" \"0\" \"0\" \"1\" \"0\" \"0\" \"1\"\n",
              " [6265] \"1\" \"1\" \"1\" \"0\" \"0\" \"1\" \"1\" \"0\" \"1\" \"0\" \"1\" \"1\" \"0\" \"1\" \"1\" \"1\" \"1\" \"1\"\n",
              " [6283] \"1\" \"0\" \"0\" \"0\" \"1\" \"0\" \"0\" \"1\" \"0\" \"1\" \"0\" \"0\" \"0\" \"1\" \"0\" \"0\" \"1\" \"1\"\n",
              " [6301] \"0\" \"1\" \"1\" \"1\" \"1\" \"0\" \"1\" \"1\" \"0\" \"1\" \"1\" \"1\" \"0\" \"1\" \"1\" \"0\" \"0\" \"1\"\n",
              " [6319] \"1\" \"1\" \"1\" \"0\" \"1\" \"0\" \"1\" \"1\" \"1\" \"0\" \"0\" \"0\" \"1\" \"1\" \"1\" \"1\" \"1\" \"1\"\n",
              " [6337] \"1\" \"1\" \"0\" \"1\" \"1\" \"0\" \"1\" \"1\" \"1\" \"1\" \"0\" \"0\" \"0\" \"1\" \"1\" \"0\" \"1\" \"1\"\n",
              " [6355] \"1\" \"1\" \"0\" \"1\" \"0\" \"1\" \"0\" \"1\" \"1\" \"1\" \"0\" \"1\" \"0\" \"0\" \"0\" \"1\" \"0\" \"1\"\n",
              " [6373] \"0\" \"1\" \"0\" \"1\" \"0\" \"1\" \"1\" \"1\" \"0\" \"1\" \"1\" \"1\" \"1\" \"1\" \"0\" \"1\" \"0\" \"0\"\n",
              " [6391] \"1\" \"1\" \"0\" \"0\" \"0\" \"0\" \"0\" \"1\" \"0\" \"0\" \"0\" \"1\" \"0\" \"0\" \"0\" \"1\" \"1\" \"1\"\n",
              " [6409] \"0\" \"0\" \"0\" \"1\" \"0\" \"1\" \"1\" \"1\" \"0\" \"1\" \"1\" \"1\" \"0\" \"1\" \"0\" \"1\" \"1\" \"1\"\n",
              " [6427] \"1\" \"0\" \"0\" \"1\" \"0\" \"0\" \"1\" \"1\" \"1\" \"0\" \"0\" \"0\" \"1\" \"0\" \"0\" \"0\" \"1\" \"0\"\n",
              " [6445] \"1\" \"0\" \"0\" \"1\" \"0\" \"1\" \"0\" \"1\" \"0\" \"0\" \"1\" \"1\" \"0\" \"1\" \"1\" \"0\" \"1\" \"0\"\n",
              " [6463] \"0\" \"1\" \"0\" \"1\" \"1\" \"1\" \"1\" \"1\" \"0\" \"1\" \"1\" \"1\" \"0\" \"0\" \"0\" \"1\" \"1\" \"1\"\n",
              " [6481] \"0\" \"0\" \"1\" \"1\" \"1\" \"1\" \"1\" \"1\" \"1\" \"0\" \"1\" \"1\" \"1\" \"0\" \"1\" \"1\" \"0\" \"1\"\n",
              " [6499] \"1\" \"1\" \"1\" \"0\" \"1\" \"0\" \"0\" \"0\" \"1\" \"1\" \"1\" \"1\" \"1\" \"0\" \"0\" \"1\" \"1\" \"1\"\n",
              " [6517] \"1\" \"0\" \"1\" \"1\" \"1\" \"0\" \"0\" \"1\" \"1\" \"0\" \"1\" \"0\" \"1\" \"0\" \"1\" \"0\" \"1\" \"0\"\n",
              " [6535] \"0\" \"0\" \"1\" \"1\" \"1\" \"0\" \"0\" \"1\" \"0\" \"1\" \"0\" \"1\" \"1\" \"0\" \"1\" \"0\" \"1\" \"1\"\n",
              " [6553] \"1\" \"1\" \"1\" \"1\" \"1\" \"0\" \"0\" \"1\" \"0\" \"1\" \"1\" \"1\" \"0\" \"0\" \"1\" \"0\" \"1\" \"1\"\n",
              " [6571] \"1\" \"0\" \"0\" \"1\" \"1\" \"0\" \"1\" \"1\" \"0\" \"1\" \"1\" \"0\" \"1\" \"1\" \"0\" \"1\" \"1\" \"0\"\n",
              " [6589] \"0\" \"1\" \"1\" \"0\" \"0\" \"0\" \"0\" \"1\" \"0\" \"0\" \"1\" \"1\" \"1\" \"1\" \"0\" \"1\" \"0\" \"0\"\n",
              " [6607] \"1\" \"1\" \"1\" \"1\" \"1\" \"0\" \"0\" \"0\" \"1\" \"0\" \"0\" \"0\" \"1\" \"0\" \"1\" \"1\" \"1\" \"1\"\n",
              " [6625] \"1\" \"1\" \"0\" \"1\" \"1\" \"0\" \"1\" \"1\" \"1\" \"1\" \"0\" \"1\" \"1\" \"0\" \"1\" \"1\" \"0\" \"0\"\n",
              " [6643] \"0\" \"1\" \"0\" \"1\" \"0\" \"0\" \"0\" \"1\" \"0\" \"1\" \"1\" \"1\" \"1\" \"1\" \"1\" \"0\" \"1\" \"1\"\n",
              " [6661] \"1\" \"1\" \"0\" \"0\" \"1\" \"1\" \"1\" \"0\" \"1\" \"1\" \"0\" \"1\" \"0\" \"1\" \"1\" \"1\" \"0\" \"1\"\n",
              " [6679] \"0\" \"1\" \"1\" \"1\" \"1\" \"1\" \"0\" \"0\" \"1\" \"0\" \"0\" \"1\" \"1\" \"0\" \"0\" \"1\" \"0\" \"1\"\n",
              " [6697] \"0\" \"1\" \"1\" \"1\" \"1\" \"1\" \"1\" \"1\" \"1\" \"1\" \"1\" \"0\" \"1\" \"1\" \"0\" \"0\" \"1\" \"1\"\n",
              " [6715] \"1\" \"1\" \"1\" \"1\" \"0\" \"1\" \"1\" \"1\" \"1\" \"1\" \"1\" \"1\" \"0\" \"1\" \"1\" \"0\" \"1\" \"1\"\n",
              " [6733] \"0\" \"0\" \"0\" \"1\" \"0\" \"1\" \"1\" \"0\" \"1\" \"1\" \"0\" \"1\" \"1\" \"0\" \"0\" \"0\" \"1\" \"1\"\n",
              " [6751] \"1\" \"1\" \"1\" \"1\" \"1\" \"0\" \"1\" \"1\" \"1\" \"1\" \"1\" \"1\" \"1\" \"1\" \"1\" \"1\" \"1\" \"1\"\n",
              " [6769] \"0\" \"1\" \"1\" \"0\" \"0\" \"1\" \"0\" \"1\" \"0\" \"0\" \"1\" \"1\" \"0\" \"0\" \"1\" \"0\" \"0\" \"1\"\n",
              " [6787] \"0\" \"1\" \"0\" \"0\" \"0\" \"0\" \"1\" \"0\" \"1\" \"0\" \"1\" \"1\" \"1\" \"1\" \"1\" \"0\" \"0\" \"1\"\n",
              " [6805] \"1\" \"1\" \"0\" \"1\" \"1\" \"1\" \"0\" \"1\" \"0\" \"1\" \"1\" \"0\" \"0\" \"1\" \"1\" \"0\" \"0\" \"1\"\n",
              " [6823] \"0\" \"1\" \"1\" \"1\" \"1\" \"0\" \"1\" \"0\" \"1\" \"1\" \"0\" \"1\" \"1\" \"1\" \"0\" \"0\" \"0\" \"1\"\n",
              " [6841] \"0\" \"1\" \"1\" \"1\" \"1\" \"0\" \"1\" \"1\" \"1\" \"1\" \"1\" \"1\" \"1\" \"0\" \"0\" \"0\" \"0\" \"1\"\n",
              " [6859] \"1\" \"1\" \"0\" \"0\" \"1\" \"0\" \"1\" \"1\" \"0\" \"1\" \"1\" \"1\" \"0\" \"0\" \"1\" \"1\" \"0\" \"0\"\n",
              " [6877] \"1\" \"0\" \"0\" \"1\" \"1\" \"0\" \"0\" \"1\" \"1\" \"0\" \"1\" \"0\" \"0\" \"1\" \"1\" \"1\" \"0\" \"0\"\n",
              " [6895] \"1\" \"0\" \"1\" \"1\" \"1\" \"0\" \"1\" \"1\" \"0\" \"1\" \"1\" \"1\" \"1\" \"1\" \"0\" \"1\" \"1\" \"1\"\n",
              " [6913] \"1\" \"1\" \"1\" \"1\" \"0\" \"0\" \"0\" \"0\" \"1\" \"1\" \"0\" \"1\" \"1\" \"0\" \"0\" \"1\" \"1\" \"0\"\n",
              " [6931] \"0\" \"1\" \"0\" \"1\" \"1\" \"1\" \"0\" \"1\" \"0\" \"0\" \"0\" \"1\" \"1\" \"1\" \"1\" \"1\" \"1\" \"0\"\n",
              " [6949] \"1\" \"1\" \"1\" \"0\" \"1\" \"0\" \"1\" \"0\" \"1\" \"1\" \"1\" \"0\" \"1\" \"1\" \"1\" \"1\" \"1\" \"1\"\n",
              " [6967] \"1\" \"1\" \"1\" \"1\" \"0\" \"1\" \"1\" \"1\" \"1\" \"1\" \"0\" \"1\" \"0\" \"1\" \"1\" \"1\" \"0\" \"0\"\n",
              " [6985] \"1\" \"1\" \"1\" \"0\" \"1\" \"1\" \"0\" \"1\" \"1\" \"0\" \"1\" \"0\" \"1\" \"1\" \"0\" \"0\" \"1\" \"1\"\n",
              " [7003] \"0\" \"1\" \"0\" \"0\" \"1\" \"1\" \"1\" \"1\" \"0\" \"0\" \"1\" \"1\" \"1\" \"1\" \"0\" \"0\" \"1\" \"1\"\n",
              " [7021] \"1\" \"1\" \"1\" \"1\" \"0\" \"0\" \"1\" \"1\" \"1\" \"1\" \"0\" \"1\" \"1\" \"1\" \"1\" \"0\" \"1\" \"0\"\n",
              " [7039] \"0\" \"0\" \"1\" \"1\" \"1\" \"1\" \"1\" \"1\" \"1\" \"0\" \"1\" \"0\" \"0\" \"1\" \"0\" \"1\" \"0\" \"1\"\n",
              " [7057] \"0\" \"0\" \"1\" \"0\" \"1\" \"0\" \"0\" \"1\" \"1\" \"0\" \"1\" \"1\" \"1\" \"1\" \"0\" \"1\" \"1\" \"1\"\n",
              " [7075] \"1\" \"0\" \"0\" \"0\" \"1\" \"1\" \"0\" \"0\" \"0\" \"1\" \"1\" \"1\" \"0\" \"1\" \"1\" \"1\" \"1\" \"1\"\n",
              " [7093] \"0\" \"1\" \"0\" \"1\" \"1\" \"1\" \"0\" \"1\" \"1\" \"1\" \"0\" \"1\" \"1\" \"1\" \"1\" \"0\" \"0\" \"1\"\n",
              " [7111] \"0\" \"1\" \"1\" \"0\" \"1\" \"0\" \"0\" \"1\" \"0\" \"1\" \"1\" \"1\" \"1\" \"1\" \"1\" \"1\" \"0\" \"0\"\n",
              " [7129] \"0\" \"1\" \"1\" \"1\" \"0\" \"0\" \"1\" \"0\" \"1\" \"1\" \"1\" \"1\" \"1\" \"0\" \"1\" \"1\" \"1\" \"0\"\n",
              " [7147] \"0\" \"1\" \"1\" \"0\" \"1\" \"0\" \"0\" \"0\" \"1\" \"1\" \"0\" \"0\" \"1\" \"1\" \"1\" \"0\" \"1\" \"1\"\n",
              " [7165] \"0\" \"0\" \"0\" \"1\" \"0\" \"1\" \"0\" \"0\" \"0\" \"1\" \"0\" \"1\" \"1\" \"0\" \"0\" \"1\" \"1\" \"0\"\n",
              " [7183] \"0\" \"0\" \"1\" \"1\" \"0\" \"1\" \"0\" \"1\" \"0\" \"0\" \"1\" \"1\" \"1\" \"1\" \"1\" \"0\" \"1\" \"1\"\n",
              " [7201] \"1\" \"0\" \"1\" \"1\" \"0\" \"1\" \"0\" \"1\" \"1\" \"0\" \"1\" \"1\" \"0\" \"1\" \"1\" \"1\" \"0\" \"1\"\n",
              " [7219] \"1\" \"1\" \"0\" \"0\" \"1\" \"0\" \"1\" \"0\" \"0\" \"0\" \"0\" \"0\" \"1\" \"1\" \"1\" \"0\" \"1\" \"1\"\n",
              " [7237] \"1\" \"0\" \"0\" \"1\" \"1\" \"0\" \"0\" \"0\" \"0\" \"0\" \"1\" \"1\" \"1\" \"1\" \"1\" \"0\" \"0\" \"1\"\n",
              " [7255] \"1\" \"0\" \"0\" \"1\" \"1\" \"1\" \"0\" \"1\" \"0\" \"1\" \"1\" \"1\" \"1\" \"0\" \"1\" \"0\" \"0\" \"1\"\n",
              " [7273] \"1\" \"0\" \"1\" \"0\" \"0\" \"1\" \"1\" \"1\" \"1\" \"0\" \"0\" \"1\" \"0\" \"1\" \"1\" \"1\" \"1\" \"0\"\n",
              " [7291] \"1\" \"0\" \"1\" \"0\" \"1\" \"0\" \"1\" \"1\" \"0\" \"1\" \"0\" \"1\" \"0\" \"0\" \"1\" \"1\" \"1\" \"0\"\n",
              " [7309] \"0\" \"1\" \"1\" \"1\" \"1\" \"0\" \"0\" \"0\" \"0\" \"1\" \"1\" \"0\" \"1\" \"0\" \"0\" \"0\" \"1\" \"0\"\n",
              " [7327] \"1\" \"1\" \"1\" \"0\" \"1\" \"1\" \"1\" \"0\" \"1\" \"1\" \"1\" \"1\" \"1\" \"1\" \"0\" \"1\" \"1\" \"1\"\n",
              " [7345] \"1\" \"0\" \"1\" \"1\" \"1\" \"1\" \"1\" \"1\" \"0\" \"1\" \"1\" \"1\" \"1\" \"1\" \"0\" \"1\" \"0\" \"1\"\n",
              " [7363] \"1\" \"0\" \"0\" \"0\" \"0\" \"1\" \"1\" \"1\" \"1\" \"1\" \"1\" \"1\" \"1\" \"0\" \"1\" \"1\" \"1\" \"1\"\n",
              " [7381] \"1\" \"0\" \"0\" \"1\" \"0\" \"0\" \"1\" \"1\" \"0\" \"1\" \"1\" \"1\" \"1\" \"1\" \"1\" \"1\" \"0\" \"0\"\n",
              " [7399] \"1\" \"0\" \"1\" \"1\" \"1\" \"1\" \"0\" \"1\" \"0\" \"1\" \"1\" \"1\" \"0\" \"0\" \"0\" \"1\" \"0\" \"0\"\n",
              " [7417] \"1\" \"0\" \"1\" \"0\" \"1\" \"0\" \"0\" \"1\" \"1\" \"0\" \"0\" \"1\" \"1\" \"0\" \"0\" \"1\" \"1\" \"1\"\n",
              " [7435] \"1\" \"0\" \"0\" \"0\" \"1\" \"1\" \"1\" \"1\" \"0\" \"0\" \"1\" \"1\" \"1\" \"1\" \"0\" \"1\" \"1\" \"0\"\n",
              " [7453] \"1\" \"1\" \"1\" \"1\" \"1\" \"0\" \"0\" \"0\" \"1\" \"1\" \"1\" \"0\" \"1\" \"0\" \"1\" \"1\" \"1\" \"0\"\n",
              " [7471] \"0\" \"0\" \"0\" \"1\" \"0\" \"0\" \"1\" \"0\" \"1\" \"1\" \"1\" \"0\" \"0\" \"0\" \"1\" \"1\" \"0\" \"1\"\n",
              " [7489] \"0\" \"1\" \"1\" \"1\" \"1\" \"1\" \"1\" \"1\" \"1\" \"1\" \"1\" \"1\" \"0\" \"1\" \"0\" \"1\" \"1\" \"0\"\n",
              " [7507] \"1\" \"1\" \"0\" \"0\" \"1\" \"1\" \"0\" \"1\" \"0\" \"1\" \"0\" \"1\" \"1\" \"0\" \"1\" \"1\" \"1\" \"1\"\n",
              " [7525] \"0\" \"0\" \"1\" \"1\" \"0\" \"1\" \"1\" \"1\" \"1\" \"0\" \"1\" \"1\" \"1\" \"0\" \"1\" \"0\" \"1\" \"1\"\n",
              " [7543] \"0\" \"1\" \"0\" \"1\" \"1\" \"1\" \"0\" \"0\" \"1\" \"0\" \"0\" \"1\" \"1\" \"1\" \"1\" \"1\" \"1\" \"1\"\n",
              " [7561] \"0\" \"1\" \"0\" \"1\" \"1\" \"0\" \"1\" \"0\" \"0\" \"0\" \"1\" \"1\" \"1\" \"1\" \"0\" \"1\" \"0\" \"1\"\n",
              " [7579] \"1\" \"1\" \"0\" \"0\" \"0\" \"1\" \"0\" \"0\" \"0\" \"0\" \"1\" \"1\" \"1\" \"1\" \"1\" \"1\" \"1\" \"0\"\n",
              " [7597] \"0\" \"0\" \"1\" \"1\" \"1\" \"0\" \"1\" \"0\" \"1\" \"1\" \"1\" \"1\" \"0\" \"1\" \"1\" \"0\" \"1\" \"1\"\n",
              " [7615] \"0\" \"1\" \"1\" \"0\" \"1\" \"0\" \"0\" \"1\" \"1\" \"1\" \"1\" \"0\" \"1\" \"0\" \"1\" \"1\" \"0\" \"0\"\n",
              " [7633] \"0\" \"1\" \"0\" \"1\" \"1\" \"0\" \"1\" \"0\" \"1\" \"0\" \"0\" \"1\" \"1\" \"1\" \"1\" \"0\" \"1\" \"1\"\n",
              " [7651] \"1\" \"1\" \"0\" \"1\" \"1\" \"1\" \"0\" \"1\" \"0\" \"1\" \"1\" \"0\" \"0\" \"0\" \"0\" \"1\" \"1\" \"0\"\n",
              " [7669] \"1\" \"1\" \"1\" \"1\" \"1\" \"0\" \"1\" \"1\" \"1\" \"0\" \"1\" \"1\" \"0\" \"1\" \"1\" \"0\" \"1\" \"0\"\n",
              " [7687] \"0\" \"0\" \"1\" \"0\" \"1\" \"1\" \"0\" \"0\" \"1\" \"1\" \"0\" \"1\" \"1\" \"1\" \"1\" \"1\" \"1\" \"0\"\n",
              " [7705] \"0\" \"1\" \"1\" \"1\" \"1\" \"0\" \"1\" \"1\" \"1\" \"0\" \"1\" \"1\" \"1\" \"0\" \"1\" \"0\" \"0\" \"1\"\n",
              " [7723] \"0\" \"0\" \"1\" \"1\" \"1\" \"0\" \"1\" \"0\" \"0\" \"1\" \"0\" \"1\" \"0\" \"1\" \"1\" \"0\" \"0\" \"1\"\n",
              " [7741] \"0\" \"0\" \"1\" \"0\" \"0\" \"1\" \"1\" \"0\" \"1\" \"1\" \"0\" \"1\" \"0\" \"0\" \"0\" \"0\" \"1\" \"1\"\n",
              " [7759] \"0\" \"1\" \"0\" \"0\" \"0\" \"0\" \"1\" \"0\" \"1\" \"1\" \"1\" \"0\" \"1\" \"1\" \"1\" \"0\" \"0\" \"1\"\n",
              " [7777] \"1\" \"1\" \"1\" \"0\" \"1\" \"1\" \"0\" \"1\" \"0\" \"1\" \"1\" \"0\" \"1\" \"1\" \"0\" \"1\" \"1\" \"0\"\n",
              " [7795] \"0\" \"1\" \"1\" \"0\" \"1\" \"0\" \"1\" \"1\" \"0\" \"1\" \"1\" \"1\" \"1\" \"1\" \"1\" \"1\" \"0\" \"1\"\n",
              " [7813] \"1\" \"1\" \"0\" \"0\" \"1\" \"1\" \"1\" \"1\" \"0\" \"0\" \"1\" \"1\" \"1\" \"0\" \"1\" \"1\" \"0\" \"1\"\n",
              " [7831] \"1\" \"1\" \"1\" \"0\" \"1\" \"1\" \"0\" \"1\" \"1\" \"0\" \"1\" \"0\" \"1\" \"1\" \"1\" \"1\" \"1\" \"0\"\n",
              " [7849] \"1\" \"0\" \"1\" \"1\" \"0\" \"0\" \"0\" \"1\" \"0\" \"0\" \"1\" \"1\" \"1\" \"1\" \"0\" \"1\" \"1\" \"1\"\n",
              " [7867] \"1\" \"1\" \"1\" \"0\" \"1\" \"1\" \"1\" \"0\" \"1\" \"1\" \"1\" \"0\" \"1\" \"1\" \"1\" \"0\" \"0\" \"1\"\n",
              " [7885] \"1\" \"0\" \"1\" \"0\" \"1\" \"1\" \"1\" \"1\" \"0\" \"1\" \"1\" \"0\" \"1\" \"1\" \"1\" \"1\" \"1\" \"0\"\n",
              " [7903] \"1\" \"0\" \"1\" \"0\" \"1\" \"0\" \"0\" \"0\" \"0\" \"1\" \"0\" \"0\" \"1\" \"1\" \"0\" \"0\" \"1\" \"1\"\n",
              " [7921] \"1\" \"1\" \"0\" \"1\" \"0\" \"0\" \"0\" \"0\" \"0\" \"1\" \"1\" \"1\" \"1\" \"1\" \"1\" \"0\" \"1\" \"0\"\n",
              " [7939] \"0\" \"1\" \"0\" \"1\" \"1\" \"0\" \"1\" \"1\" \"1\" \"0\" \"1\" \"1\" \"1\" \"1\" \"1\" \"0\" \"0\" \"1\"\n",
              " [7957] \"0\" \"0\" \"0\" \"1\" \"0\" \"1\" \"0\" \"0\" \"1\" \"1\" \"1\" \"0\" \"1\" \"0\" \"1\" \"0\" \"0\" \"1\"\n",
              " [7975] \"1\" \"1\" \"1\" \"1\" \"1\" \"1\" \"0\" \"0\" \"1\" \"1\" \"1\" \"0\" \"1\" \"0\" \"1\" \"1\" \"0\" \"0\"\n",
              " [7993] \"1\" \"1\" \"1\" \"0\" \"1\" \"1\" \"1\" \"0\" \"1\" \"1\" \"1\" \"0\" \"1\" \"1\" \"0\" \"1\" \"0\" \"1\"\n",
              " [8011] \"1\" \"0\" \"1\" \"1\" \"1\" \"1\" \"0\" \"0\" \"1\" \"0\" \"1\" \"1\" \"1\" \"1\" \"0\" \"1\" \"1\" \"0\"\n",
              " [8029] \"1\" \"1\" \"0\" \"1\" \"1\" \"1\" \"0\" \"0\" \"1\" \"0\" \"1\" \"1\" \"1\" \"0\" \"0\" \"0\" \"0\" \"1\"\n",
              " [8047] \"1\" \"1\" \"1\" \"0\" \"1\" \"1\" \"1\" \"1\" \"1\" \"1\" \"1\" \"1\" \"0\" \"0\" \"1\" \"1\" \"0\" \"0\"\n",
              " [8065] \"1\" \"1\" \"1\" \"1\" \"1\" \"1\" \"0\" \"0\" \"1\" \"1\" \"1\" \"0\" \"1\" \"1\" \"1\" \"1\" \"0\" \"0\"\n",
              " [8083] \"0\" \"1\" \"1\" \"1\" \"1\" \"1\" \"1\" \"0\" \"1\" \"1\" \"1\" \"1\" \"0\" \"0\" \"1\" \"1\" \"0\" \"1\"\n",
              " [8101] \"1\" \"0\" \"1\" \"1\" \"1\" \"1\" \"0\" \"1\" \"1\" \"1\" \"1\" \"0\" \"1\" \"1\" \"0\" \"0\" \"0\" \"1\"\n",
              " [8119] \"1\" \"1\" \"1\" \"1\" \"0\" \"1\" \"0\" \"0\" \"0\" \"0\" \"0\" \"0\" \"1\" \"0\" \"1\" \"0\" \"0\" \"0\"\n",
              " [8137] \"0\" \"0\" \"1\" \"1\" \"0\" \"0\" \"1\" \"0\" \"1\" \"1\" \"1\" \"0\" \"0\" \"0\" \"1\" \"1\" \"1\" \"1\"\n",
              " [8155] \"1\" \"1\" \"1\" \"1\" \"0\" \"0\" \"1\" \"0\" \"0\" \"1\" \"0\" \"0\" \"1\" \"0\" \"0\" \"0\" \"1\" \"0\"\n",
              " [8173] \"0\" \"0\" \"1\" \"1\" \"1\" \"1\" \"0\" \"1\" \"1\" \"0\" \"1\" \"1\" \"1\" \"1\" \"0\" \"0\" \"1\" \"0\"\n",
              " [8191] \"0\" \"0\" \"0\" \"1\" \"0\" \"1\" \"0\" \"1\" \"1\" \"0\" \"0\" \"0\" \"1\" \"0\" \"0\" \"1\" \"1\" \"1\"\n",
              " [8209] \"1\" \"1\" \"1\" \"1\" \"1\" \"1\" \"1\" \"0\" \"1\" \"0\" \"1\" \"1\" \"1\" \"0\" \"0\" \"1\" \"1\" \"0\"\n",
              " [8227] \"1\" \"1\" \"1\" \"0\" \"1\" \"1\" \"0\" \"0\" \"1\" \"0\" \"1\" \"1\" \"1\" \"0\" \"0\" \"0\" \"0\" \"1\"\n",
              " [8245] \"0\" \"1\" \"0\" \"1\" \"1\" \"1\" \"1\" \"1\" \"0\" \"0\" \"0\" \"1\" \"1\" \"0\" \"1\" \"0\" \"0\" \"1\"\n",
              " [8263] \"1\" \"1\" \"1\" \"0\" \"1\" \"1\" \"1\" \"1\" \"1\" \"1\" \"1\" \"0\" \"1\" \"0\" \"0\" \"1\" \"1\" \"1\"\n",
              " [8281] \"0\" \"0\" \"1\" \"1\" \"0\" \"1\" \"0\" \"0\" \"0\" \"1\" \"1\" \"0\" \"0\" \"0\" \"0\" \"0\" \"1\" \"0\"\n",
              " [8299] \"0\" \"0\" \"0\" \"1\" \"1\" \"1\" \"1\" \"1\" \"0\" \"1\" \"1\" \"1\" \"0\" \"0\" \"0\" \"0\" \"0\" \"0\"\n",
              " [8317] \"1\" \"0\" \"1\" \"1\" \"1\" \"1\" \"0\" \"1\" \"0\" \"1\" \"0\" \"1\" \"0\" \"0\" \"0\" \"0\" \"1\" \"1\"\n",
              " [8335] \"1\" \"1\" \"1\" \"1\" \"0\" \"1\" \"1\" \"0\" \"1\" \"0\" \"1\" \"1\" \"0\" \"1\" \"1\" \"0\" \"1\" \"1\"\n",
              " [8353] \"0\" \"0\" \"1\" \"1\" \"1\" \"0\" \"1\" \"1\" \"1\" \"0\" \"1\" \"1\" \"1\" \"1\" \"1\" \"1\" \"1\" \"1\"\n",
              " [8371] \"1\" \"0\" \"0\" \"1\" \"0\" \"1\" \"0\" \"1\" \"0\" \"1\" \"0\" \"0\" \"0\" \"0\" \"0\" \"0\" \"1\" \"1\"\n",
              " [8389] \"0\" \"0\" \"1\" \"0\" \"1\" \"1\" \"1\" \"0\" \"1\" \"1\" \"1\" \"0\" \"0\" \"1\" \"0\" \"1\" \"1\" \"0\"\n",
              " [8407] \"1\" \"0\" \"0\" \"1\" \"0\" \"1\" \"1\" \"1\" \"1\" \"0\" \"0\" \"0\" \"0\" \"1\" \"0\" \"1\" \"1\" \"1\"\n",
              " [8425] \"0\" \"1\" \"1\" \"0\" \"1\" \"0\" \"0\" \"1\" \"1\" \"0\" \"1\" \"0\" \"0\" \"1\" \"0\" \"1\" \"0\" \"1\"\n",
              " [8443] \"0\" \"1\" \"0\" \"0\" \"1\" \"0\" \"1\" \"1\" \"0\" \"1\" \"0\" \"0\" \"1\" \"0\" \"0\" \"0\" \"1\" \"1\"\n",
              " [8461] \"0\" \"0\" \"0\" \"1\" \"1\" \"0\" \"0\" \"1\" \"1\" \"0\" \"0\" \"1\" \"1\" \"1\" \"1\" \"1\" \"1\" \"1\"\n",
              " [8479] \"1\" \"1\" \"1\" \"0\" \"0\" \"0\" \"0\" \"0\" \"0\" \"1\" \"1\" \"1\" \"1\" \"1\" \"0\" \"1\" \"1\" \"1\"\n",
              " [8497] \"0\" \"0\" \"1\" \"1\" \"1\" \"0\" \"0\" \"1\" \"0\" \"1\" \"1\" \"1\" \"1\" \"0\" \"1\" \"0\" \"0\" \"0\"\n",
              " [8515] \"0\" \"0\" \"0\" \"1\" \"0\" \"0\" \"0\" \"1\" \"1\" \"1\" \"1\" \"1\" \"1\" \"0\" \"0\" \"0\" \"0\" \"1\"\n",
              " [8533] \"0\" \"1\" \"0\" \"1\" \"1\" \"0\" \"1\" \"0\" \"1\" \"1\" \"1\" \"1\" \"1\" \"0\" \"1\" \"1\" \"1\" \"0\"\n",
              " [8551] \"1\" \"1\" \"1\" \"0\" \"1\" \"1\" \"0\" \"1\" \"1\" \"0\" \"1\" \"1\" \"1\" \"0\" \"1\" \"0\" \"1\" \"1\"\n",
              " [8569] \"1\" \"0\" \"1\" \"1\" \"1\" \"1\" \"0\" \"1\" \"0\" \"1\" \"0\" \"0\" \"0\" \"0\" \"0\" \"1\" \"1\" \"1\"\n",
              " [8587] \"0\" \"0\" \"1\" \"0\" \"1\" \"0\" \"1\" \"0\" \"1\" \"0\" \"1\" \"1\" \"1\" \"1\" \"0\" \"1\" \"0\" \"0\"\n",
              " [8605] \"1\" \"0\" \"1\" \"0\" \"0\" \"1\" \"1\" \"1\" \"0\" \"1\" \"1\" \"0\" \"0\" \"0\" \"1\" \"1\" \"1\" \"1\"\n",
              " [8623] \"0\" \"0\" \"0\" \"1\" \"0\" \"0\" \"1\" \"1\" \"0\" \"1\" \"1\" \"0\" \"1\" \"1\" \"1\" \"0\" \"1\" \"1\"\n",
              " [8641] \"0\" \"1\" \"1\" \"1\" \"0\" \"1\" \"1\" \"0\" \"0\" \"1\" \"0\" \"1\" \"1\" \"1\" \"0\" \"1\" \"1\" \"0\"\n",
              " [8659] \"0\" \"0\" \"1\" \"1\" \"1\" \"1\" \"1\" \"1\" \"1\" \"1\" \"1\" \"1\" \"1\" \"0\" \"1\" \"1\" \"1\" \"0\"\n",
              " [8677] \"0\" \"1\" \"0\" \"0\" \"0\" \"1\" \"1\" \"0\" \"1\" \"1\" \"1\" \"1\" \"1\" \"1\" \"1\" \"1\" \"1\" \"1\"\n",
              " [8695] \"1\" \"0\" \"1\" \"1\" \"1\" \"1\" \"1\" \"0\" \"1\" \"0\" \"1\" \"0\" \"1\" \"0\" \"0\" \"0\" \"1\" \"1\"\n",
              " [8713] \"1\" \"1\" \"1\" \"1\" \"1\" \"1\" \"0\" \"1\" \"0\" \"1\" \"1\" \"0\" \"1\" \"1\" \"1\" \"1\" \"1\" \"1\"\n",
              " [8731] \"1\" \"1\" \"0\" \"0\" \"1\" \"1\" \"1\" \"1\" \"1\" \"0\" \"1\" \"1\" \"1\" \"1\" \"0\" \"1\" \"1\" \"1\"\n",
              " [8749] \"1\" \"0\" \"0\" \"1\" \"0\" \"1\" \"1\" \"0\" \"0\" \"0\" \"1\" \"1\" \"1\" \"1\" \"1\" \"0\" \"1\" \"0\"\n",
              " [8767] \"1\" \"1\" \"1\" \"0\" \"0\" \"0\" \"1\" \"1\" \"1\" \"0\" \"1\" \"1\" \"1\" \"1\" \"1\" \"1\" \"0\" \"1\"\n",
              " [8785] \"0\" \"1\" \"0\" \"0\" \"0\" \"1\" \"1\" \"1\" \"1\" \"1\" \"1\" \"1\" \"1\" \"0\" \"0\" \"1\" \"0\" \"0\"\n",
              " [8803] \"0\" \"0\" \"0\" \"0\" \"1\" \"0\" \"1\" \"0\" \"1\" \"1\" \"0\" \"1\" \"1\" \"0\" \"1\" \"0\" \"1\" \"1\"\n",
              " [8821] \"0\" \"1\" \"0\" \"1\" \"1\" \"1\" \"1\" \"1\" \"0\" \"1\" \"1\" \"0\" \"0\" \"1\" \"0\" \"0\" \"1\" \"0\"\n",
              " [8839] \"0\" \"1\" \"1\" \"1\" \"1\" \"0\" \"0\" \"0\" \"0\" \"1\" \"1\" \"1\" \"1\" \"1\" \"1\" \"0\" \"1\" \"0\"\n",
              " [8857] \"1\" \"0\" \"1\" \"1\" \"1\" \"0\" \"1\" \"0\" \"1\" \"1\" \"1\" \"1\" \"1\" \"1\" \"0\" \"0\" \"1\" \"0\"\n",
              " [8875] \"1\" \"1\" \"0\" \"0\" \"1\" \"1\" \"1\" \"0\" \"1\" \"1\" \"0\" \"1\" \"1\" \"1\" \"1\" \"0\" \"1\" \"0\"\n",
              " [8893] \"1\" \"1\" \"0\" \"1\" \"1\" \"0\" \"1\" \"1\" \"1\" \"0\" \"1\" \"1\" \"1\" \"1\" \"1\" \"0\" \"1\" \"0\"\n",
              " [8911] \"1\" \"1\" \"1\" \"0\" \"1\" \"0\" \"0\" \"1\" \"1\" \"1\" \"0\" \"0\" \"0\" \"0\" \"1\" \"1\" \"1\" \"1\"\n",
              " [8929] \"1\" \"1\" \"1\" \"0\" \"0\" \"1\" \"0\" \"1\" \"1\" \"1\" \"1\" \"1\" \"1\" \"1\" \"0\" \"0\" \"1\" \"1\"\n",
              " [8947] \"1\" \"0\" \"0\" \"0\" \"0\" \"0\" \"1\" \"1\" \"1\" \"1\" \"1\" \"1\" \"1\" \"1\" \"0\" \"1\" \"1\" \"0\"\n",
              " [8965] \"0\" \"0\" \"1\" \"1\" \"1\" \"0\" \"0\" \"1\" \"1\" \"1\" \"1\" \"1\" \"1\" \"1\" \"1\" \"0\" \"1\" \"1\"\n",
              " [8983] \"1\" \"1\" \"0\" \"0\" \"1\" \"1\" \"1\" \"1\" \"1\" \"1\" \"0\" \"0\" \"1\" \"0\" \"0\" \"0\" \"1\" \"1\"\n",
              " [9001] \"1\" \"1\" \"0\" \"0\" \"1\" \"1\" \"0\" \"1\" \"1\" \"0\" \"0\" \"1\" \"0\" \"0\" \"1\" \"1\" \"1\" \"1\"\n",
              " [9019] \"1\" \"1\" \"0\" \"1\" \"1\" \"1\" \"1\" \"1\" \"1\" \"1\" \"1\" \"1\" \"1\" \"1\" \"1\" \"1\" \"0\" \"1\"\n",
              " [9037] \"1\" \"0\" \"1\" \"0\" \"0\" \"1\" \"0\" \"0\" \"1\" \"0\" \"1\" \"0\" \"0\" \"1\" \"1\" \"0\" \"1\" \"1\"\n",
              " [9055] \"0\" \"0\" \"0\" \"1\" \"0\" \"1\" \"1\" \"0\" \"1\" \"1\" \"0\" \"1\" \"1\" \"1\" \"0\" \"0\" \"1\" \"1\"\n",
              " [9073] \"1\" \"0\" \"1\" \"1\" \"0\" \"0\" \"0\" \"1\" \"0\" \"0\" \"0\" \"1\" \"1\" \"1\" \"1\" \"1\" \"0\" \"1\"\n",
              " [9091] \"0\" \"1\" \"0\" \"1\" \"0\" \"1\" \"1\" \"0\" \"0\" \"1\" \"0\" \"1\" \"1\" \"0\" \"0\" \"1\" \"0\" \"1\"\n",
              " [9109] \"1\" \"0\" \"0\" \"0\" \"0\" \"1\" \"1\" \"1\" \"0\" \"0\" \"0\" \"1\" \"1\" \"1\" \"0\" \"1\" \"1\" \"0\"\n",
              " [9127] \"1\" \"0\" \"0\" \"1\" \"1\" \"1\" \"1\" \"0\" \"1\" \"0\" \"1\" \"1\" \"1\" \"0\" \"1\" \"0\" \"1\" \"1\"\n",
              " [9145] \"1\" \"0\" \"1\" \"0\" \"0\" \"0\" \"1\" \"0\" \"1\" \"0\" \"1\" \"0\" \"1\" \"0\" \"1\" \"0\" \"1\" \"1\"\n",
              " [9163] \"0\" \"0\" \"1\" \"1\" \"1\" \"0\" \"0\" \"1\" \"0\" \"0\" \"0\" \"1\" \"0\" \"0\" \"0\" \"1\" \"0\" \"1\"\n",
              " [9181] \"1\" \"0\" \"1\" \"0\" \"1\" \"0\" \"1\" \"1\" \"1\" \"0\" \"1\" \"1\" \"1\" \"0\" \"1\" \"0\" \"0\" \"1\"\n",
              " [9199] \"1\" \"1\" \"1\" \"1\" \"0\" \"0\" \"1\" \"1\" \"0\" \"0\" \"0\" \"0\" \"1\" \"1\" \"0\" \"1\" \"0\" \"1\"\n",
              " [9217] \"1\" \"1\" \"1\" \"0\" \"0\" \"1\" \"0\" \"0\" \"1\" \"1\" \"0\" \"0\" \"1\" \"1\" \"0\" \"1\" \"1\" \"1\"\n",
              " [9235] \"0\" \"1\" \"0\" \"1\" \"1\" \"0\" \"0\" \"1\" \"1\" \"0\" \"0\" \"1\" \"1\" \"1\" \"1\" \"1\" \"0\" \"1\"\n",
              " [9253] \"1\" \"1\" \"1\" \"0\" \"1\" \"0\" \"1\" \"1\" \"1\" \"1\" \"0\" \"0\" \"0\" \"1\" \"1\" \"1\" \"1\" \"1\"\n",
              " [9271] \"1\" \"0\" \"0\" \"1\" \"1\" \"0\" \"1\" \"0\" \"1\" \"1\" \"1\" \"1\" \"1\" \"1\" \"1\" \"1\" \"0\" \"0\"\n",
              " [9289] \"1\" \"0\" \"1\" \"0\" \"1\" \"0\" \"1\" \"0\" \"1\" \"1\" \"0\" \"1\" \"0\" \"0\" \"1\" \"1\" \"0\" \"0\"\n",
              " [9307] \"1\" \"0\" \"0\" \"1\" \"1\" \"1\" \"1\" \"1\" \"0\" \"1\" \"1\" \"1\" \"0\" \"1\" \"1\" \"1\" \"0\" \"1\"\n",
              " [9325] \"1\" \"1\" \"0\" \"0\" \"0\" \"0\" \"0\" \"1\" \"0\" \"1\" \"1\" \"0\" \"1\" \"0\" \"1\" \"1\" \"0\" \"0\"\n",
              " [9343] \"1\" \"0\" \"1\" \"1\" \"1\" \"1\" \"1\" \"0\" \"1\" \"0\" \"1\" \"0\" \"1\" \"1\" \"0\" \"1\" \"0\" \"1\"\n",
              " [9361] \"1\" \"1\" \"0\" \"1\" \"1\" \"1\" \"0\" \"0\" \"0\" \"0\" \"1\" \"0\" \"1\" \"1\" \"1\" \"1\" \"1\" \"0\"\n",
              " [9379] \"1\" \"1\" \"0\" \"0\" \"1\" \"0\" \"0\" \"0\" \"1\" \"1\" \"1\" \"1\" \"1\" \"1\" \"1\" \"1\" \"0\" \"0\"\n",
              " [9397] \"1\" \"1\" \"0\" \"1\" \"1\" \"0\" \"1\" \"0\" \"1\" \"0\" \"0\" \"1\" \"1\" \"0\" \"0\" \"0\" \"0\" \"1\"\n",
              " [9415] \"1\" \"0\" \"1\" \"1\" \"1\" \"1\" \"1\" \"1\" \"1\" \"0\" \"1\" \"1\" \"1\" \"1\" \"1\" \"1\" \"1\" \"0\"\n",
              " [9433] \"1\" \"0\" \"1\" \"1\" \"0\" \"1\" \"0\" \"1\" \"1\" \"0\" \"1\" \"1\" \"1\" \"1\" \"0\" \"1\" \"1\" \"1\"\n",
              " [9451] \"0\" \"1\" \"0\" \"1\" \"1\" \"0\" \"0\" \"0\" \"1\" \"0\" \"0\" \"0\" \"0\" \"1\" \"1\" \"1\" \"1\" \"0\"\n",
              " [9469] \"1\" \"1\" \"0\" \"0\" \"1\" \"0\" \"1\" \"1\" \"1\" \"0\" \"0\" \"1\" \"1\" \"1\" \"1\" \"1\" \"1\" \"1\"\n",
              " [9487] \"1\" \"1\" \"1\" \"1\" \"0\" \"1\" \"1\" \"1\" \"1\" \"1\" \"0\" \"0\" \"0\" \"0\" \"1\" \"1\" \"1\" \"1\"\n",
              " [9505] \"0\" \"1\" \"1\" \"0\" \"1\" \"1\" \"1\" \"0\" \"0\" \"0\" \"0\" \"1\" \"1\" \"0\" \"0\" \"0\" \"1\" \"1\"\n",
              " [9523] \"0\" \"1\" \"1\" \"0\" \"1\" \"0\" \"0\" \"1\" \"0\" \"0\" \"1\" \"1\" \"1\" \"0\" \"1\" \"0\" \"1\" \"1\"\n",
              " [9541] \"0\" \"1\" \"1\" \"1\" \"1\" \"0\" \"1\" \"1\" \"1\" \"1\" \"1\" \"0\" \"0\" \"1\" \"0\" \"0\" \"0\" \"0\"\n",
              " [9559] \"1\" \"1\" \"1\" \"0\" \"0\" \"1\" \"1\" \"0\" \"0\" \"1\" \"1\" \"1\" \"0\" \"0\" \"0\" \"1\" \"0\" \"1\"\n",
              " [9577] \"1\" \"0\" \"0\" \"1\" \"0\" \"1\" \"1\" \"0\" \"0\" \"0\" \"1\" \"0\" \"1\" \"1\" \"1\" \"0\" \"0\" \"0\"\n",
              " [9595] \"1\" \"1\" \"1\" \"1\" \"1\" \"0\" \"0\" \"1\" \"1\" \"0\" \"0\" \"0\" \"1\" \"0\" \"1\" \"0\" \"1\" \"0\"\n",
              " [9613] \"0\" \"1\" \"0\" \"1\" \"1\" \"1\" \"1\" \"1\" \"1\" \"0\" \"0\" \"1\" \"1\" \"1\" \"1\" \"1\" \"0\" \"1\"\n",
              " [9631] \"0\" \"1\" \"1\" \"0\" \"0\" \"0\" \"1\" \"1\" \"1\" \"1\" \"1\" \"0\" \"1\" \"1\" \"0\" \"1\" \"0\" \"1\"\n",
              " [9649] \"1\" \"1\" \"1\" \"1\" \"1\" \"0\" \"1\" \"0\" \"1\" \"0\" \"1\" \"0\" \"1\" \"1\" \"0\" \"1\" \"0\" \"0\"\n",
              " [9667] \"1\" \"0\" \"1\" \"1\" \"0\" \"0\" \"0\" \"1\" \"1\" \"0\" \"1\" \"0\" \"1\" \"1\" \"0\" \"1\" \"0\" \"1\"\n",
              " [9685] \"1\" \"0\" \"1\" \"1\" \"0\" \"1\" \"1\" \"0\" \"1\" \"0\" \"0\" \"1\" \"0\" \"0\" \"1\" \"0\" \"1\" \"1\"\n",
              " [9703] \"0\" \"1\" \"0\" \"1\" \"0\" \"0\" \"0\" \"1\" \"0\" \"0\" \"0\" \"1\" \"1\" \"1\" \"1\" \"1\" \"1\" \"1\"\n",
              " [9721] \"1\" \"1\" \"0\" \"1\" \"0\" \"0\" \"0\" \"0\" \"1\" \"0\" \"1\" \"1\" \"1\" \"0\" \"0\" \"0\" \"1\" \"0\"\n",
              " [9739] \"0\" \"1\" \"0\" \"1\" \"1\" \"0\" \"1\" \"0\" \"1\" \"0\" \"0\" \"0\" \"0\" \"1\" \"0\" \"1\" \"1\" \"1\"\n",
              " [9757] \"1\" \"0\" \"1\" \"1\" \"1\" \"1\" \"0\" \"1\" \"1\" \"0\" \"1\" \"0\" \"1\" \"1\" \"0\" \"1\" \"0\" \"0\"\n",
              " [9775] \"0\" \"0\" \"1\" \"1\" \"1\" \"0\" \"1\" \"1\" \"1\" \"0\" \"0\" \"1\" \"1\" \"0\" \"1\" \"0\" \"1\" \"1\"\n",
              " [9793] \"0\" \"1\" \"1\" \"1\" \"1\" \"1\" \"1\" \"1\" \"0\" \"1\" \"1\" \"0\" \"0\" \"1\" \"0\" \"0\" \"1\" \"1\"\n",
              " [9811] \"0\" \"1\" \"1\" \"0\" \"1\" \"0\" \"1\" \"1\" \"1\" \"0\" \"1\" \"0\" \"1\" \"1\" \"1\" \"0\" \"1\" \"1\"\n",
              " [9829] \"1\" \"1\" \"0\" \"0\" \"1\" \"1\" \"0\" \"0\" \"1\" \"1\" \"0\" \"1\" \"0\" \"0\" \"1\" \"1\" \"0\" \"0\"\n",
              " [9847] \"0\" \"1\" \"0\" \"0\" \"0\" \"0\" \"1\" \"0\" \"1\" \"1\" \"0\" \"1\" \"0\" \"1\" \"0\" \"1\" \"0\" \"1\"\n",
              " [9865] \"0\" \"1\" \"1\" \"1\" \"1\" \"0\" \"0\" \"1\" \"0\" \"1\" \"1\" \"0\" \"1\" \"1\" \"1\" \"1\" \"1\" \"1\"\n",
              " [9883] \"1\" \"1\" \"1\" \"1\" \"1\" \"1\" \"0\" \"1\" \"1\" \"1\" \"0\" \"1\" \"1\" \"1\" \"1\" \"1\" \"0\" \"0\"\n",
              " [9901] \"1\" \"1\" \"0\" \"1\" \"1\" \"1\" \"1\" \"1\" \"1\" \"1\" \"1\" \"0\" \"1\" \"1\" \"1\" \"0\" \"1\" \"0\"\n",
              " [9919] \"1\" \"0\" \"0\" \"1\" \"0\" \"1\" \"1\" \"1\" \"1\" \"0\" \"0\" \"0\" \"0\" \"0\" \"1\" \"0\" \"0\" \"0\"\n",
              " [9937] \"1\" \"1\" \"0\" \"1\" \"0\" \"1\" \"1\" \"0\" \"1\" \"1\" \"1\" \"0\" \"1\" \"0\" \"0\" \"0\" \"1\" \"0\"\n",
              " [9955] \"1\" \"1\" \"0\" \"0\" \"1\" \"1\" \"0\" \"1\" \"1\" \"0\" \"0\" \"1\" \"1\" \"0\" \"0\" \"1\" \"0\" \"0\"\n",
              " [9973] \"1\" \"1\" \"1\" \"0\" \"1\" \"1\" \"1\" \"0\" \"0\" \"0\" \"1\" \"0\" \"1\" \"0\" \"1\" \"1\" \"1\" \"1\"\n",
              " [9991] \"0\" \"1\" \"1\" \"0\" \"1\" \"1\" \"0\" \"0\" \"1\" \"1\" \"1\" \"0\" \"1\" \"0\" \"1\" \"1\" \"0\" \"1\"\n",
              "[10009] \"1\" \"1\" \"1\" \"0\" \"1\" \"0\" \"0\" \"0\" \"0\" \"1\" \"0\" \"1\" \"0\" \"0\" \"0\" \"0\" \"0\" \"1\"\n",
              "[10027] \"0\" \"1\" \"1\" \"0\" \"1\" \"0\" \"0\" \"1\" \"1\" \"1\" \"1\" \"0\" \"1\" \"0\" \"0\" \"0\" \"1\" \"1\"\n",
              "[10045] \"1\" \"0\" \"1\" \"1\" \"0\" \"0\" \"1\" \"0\" \"0\" \"1\" \"0\" \"1\" \"0\" \"1\" \"0\" \"1\" \"1\" \"1\"\n",
              "[10063] \"1\" \"0\" \"0\" \"1\" \"0\" \"1\" \"0\" \"1\" \"1\" \"1\" \"0\" \"1\" \"0\" \"1\" \"0\" \"1\" \"1\" \"1\"\n",
              "[10081] \"1\" \"1\" \"1\" \"1\" \"1\" \"0\" \"1\" \"0\" \"1\" \"1\" \"0\" \"1\" \"0\" \"1\" \"0\" \"1\" \"1\" \"0\"\n",
              "[10099] \"1\" \"1\" \"0\" \"0\" \"1\" \"0\" \"1\" \"1\" \"1\" \"1\" \"1\" \"1\" \"0\" \"1\" \"0\" \"1\" \"1\" \"1\"\n",
              "[10117] \"1\" \"1\" \"1\" \"1\" \"0\" \"1\" \"1\" \"1\" \"0\" \"1\" \"0\" \"1\" \"0\" \"1\" \"0\" \"0\" \"0\" \"1\"\n",
              "[10135] \"0\" \"0\" \"1\" \"1\" \"0\" \"1\" \"0\" \"0\" \"1\" \"1\" \"1\" \"1\" \"1\" \"1\" \"0\" \"1\" \"1\" \"1\"\n",
              "[10153] \"1\" \"1\" \"0\" \"1\" \"0\" \"0\" \"1\" \"1\" \"1\" \"0\" \"1\" \"1\" \"0\" \"1\" \"1\" \"0\" \"0\" \"0\"\n",
              "[10171] \"1\" \"1\" \"1\" \"1\" \"0\" \"1\" \"0\" \"1\" \"1\" \"1\" \"0\" \"0\" \"1\" \"0\" \"0\" \"1\" \"0\" \"0\"\n",
              "[10189] \"1\" \"1\" \"1\" \"0\" \"1\" \"1\" \"0\" \"0\" \"1\" \"1\" \"1\" \"1\" \"1\" \"0\" \"1\" \"1\" \"0\" \"1\"\n",
              "[10207] \"0\" \"1\" \"1\" \"0\" \"1\" \"1\" \"1\" \"0\" \"0\" \"0\" \"0\" \"1\" \"1\" \"1\" \"1\" \"1\" \"0\" \"1\"\n",
              "[10225] \"0\" \"1\" \"1\" \"1\" \"1\" \"1\" \"1\" \"1\" \"1\" \"0\" \"0\" \"0\" \"1\" \"1\" \"0\" \"0\" \"0\" \"1\"\n",
              "[10243] \"1\" \"1\" \"0\" \"0\" \"1\" \"1\" \"1\" \"0\" \"1\" \"0\" \"0\" \"0\" \"0\" \"1\" \"1\" \"0\" \"1\" \"1\"\n",
              "[10261] \"0\" \"1\" \"1\" \"0\" \"1\" \"0\" \"1\" \"1\" \"1\" \"1\" \"0\" \"1\" \"1\" \"1\" \"1\" \"1\" \"1\" \"0\"\n",
              "[10279] \"1\" \"0\" \"1\" \"0\" \"1\" \"1\" \"1\" \"1\" \"1\" \"1\" \"1\" \"0\" \"1\" \"1\" \"0\" \"0\" \"1\" \"0\"\n",
              "[10297] \"1\" \"1\" \"1\" \"0\" \"0\" \"1\" \"0\" \"1\" \"0\" \"1\" \"0\" \"1\" \"0\" \"1\" \"0\" \"0\" \"0\" \"1\"\n",
              "[10315] \"1\" \"0\" \"0\" \"1\" \"1\" \"1\" \"0\" \"0\" \"0\" \"0\" \"1\" \"1\" \"0\" \"1\" \"1\" \"1\" \"1\" \"1\"\n",
              "[10333] \"1\" \"0\" \"1\" \"1\" \"0\" \"1\" \"0\" \"1\" \"1\" \"0\" \"1\" \"1\" \"1\" \"0\" \"0\" \"1\" \"0\" \"1\"\n",
              "[10351] \"1\" \"1\" \"1\" \"1\" \"0\" \"1\" \"1\" \"1\" \"1\" \"1\" \"1\" \"0\" \"1\" \"0\" \"0\" \"1\" \"1\" \"1\"\n",
              "[10369] \"0\" \"1\" \"1\" \"1\" \"0\" \"0\" \"1\" \"1\" \"1\" \"1\" \"0\" \"1\" \"0\" \"1\" \"1\" \"1\" \"1\" \"1\"\n",
              "[10387] \"0\" \"1\" \"1\" \"1\" \"1\" \"1\" \"1\" \"0\" \"0\" \"0\" \"1\" \"1\" \"1\" \"0\" \"0\" \"0\" \"0\" \"0\"\n",
              "[10405] \"0\" \"1\" \"1\" \"0\" \"1\" \"1\" \"0\" \"1\" \"0\" \"1\" \"1\" \"1\" \"1\" \"1\" \"1\" \"0\" \"1\" \"1\"\n",
              "[10423] \"1\" \"1\" \"1\" \"1\" \"1\" \"0\" \"1\" \"1\" \"0\" \"1\" \"0\" \"0\" \"1\" \"1\" \"0\" \"0\" \"1\" \"0\"\n",
              "[10441] \"0\" \"0\" \"0\" \"0\" \"1\" \"1\" \"1\" \"0\" \"0\" \"0\" \"1\" \"0\" \"0\" \"1\" \"0\" \"1\" \"1\" \"1\"\n",
              "[10459] \"1\" \"1\" \"1\" \"1\" \"0\" \"1\" \"1\" \"1\" \"1\" \"1\" \"0\" \"1\" \"1\" \"0\" \"0\" \"1\" \"1\" \"0\"\n",
              "[10477] \"1\" \"1\" \"1\" \"1\" \"1\" \"0\" \"1\" \"1\" \"0\" \"0\" \"0\" \"1\" \"0\" \"1\" \"1\" \"0\" \"0\" \"1\"\n",
              "[10495] \"1\" \"1\" \"1\" \"1\" \"1\" \"1\" \"0\" \"0\" \"0\" \"1\" \"0\" \"0\" \"1\" \"1\" \"1\" \"0\" \"1\" \"1\"\n",
              "[10513] \"1\" \"0\" \"1\" \"1\" \"0\" \"0\" \"0\" \"1\" \"1\" \"1\" \"0\" \"1\" \"0\" \"0\" \"0\" \"0\" \"1\" \"1\"\n",
              "[10531] \"1\" \"0\" \"0\" \"1\" \"1\" \"1\" \"0\" \"0\" \"0\" \"0\" \"1\" \"0\" \"1\" \"1\" \"1\" \"1\" \"1\" \"1\"\n",
              "[10549] \"1\" \"1\" \"1\" \"0\" \"1\" \"1\" \"1\" \"0\" \"0\" \"1\" \"0\" \"0\" \"1\" \"0\" \"1\" \"0\" \"1\" \"1\"\n",
              "[10567] \"1\" \"0\" \"1\" \"1\" \"0\" \"1\" \"0\" \"1\" \"0\" \"0\" \"1\" \"0\" \"1\" \"1\" \"1\" \"1\" \"1\" \"1\"\n",
              "[10585] \"1\" \"0\" \"0\" \"1\" \"0\" \"1\" \"0\" \"1\" \"0\" \"0\" \"1\" \"0\" \"1\" \"0\" \"0\" \"0\" \"1\" \"1\"\n",
              "[10603] \"1\" \"0\" \"1\" \"1\" \"1\" \"0\" \"1\" \"1\" \"1\" \"1\" \"0\" \"1\" \"1\" \"1\" \"1\" \"1\" \"1\" \"1\"\n",
              "[10621] \"1\" \"1\" \"0\" \"0\" \"1\" \"1\" \"1\" \"1\" \"1\" \"1\" \"1\" \"0\" \"1\" \"1\" \"1\" \"1\" \"0\" \"1\"\n",
              "[10639] \"0\" \"1\" \"1\" \"1\" \"0\" \"1\" \"1\" \"0\" \"1\" \"1\" \"1\" \"0\" \"1\" \"0\" \"1\" \"1\" \"0\" \"0\"\n",
              "[10657] \"1\" \"1\" \"1\" \"1\" \"1\" \"1\" \"0\" \"1\" \"1\" \"1\" \"0\" \"1\" \"1\" \"0\" \"1\" \"0\" \"1\" \"1\"\n",
              "[10675] \"1\" \"1\" \"1\" \"0\" \"1\" \"0\" \"0\" \"1\" \"0\" \"1\" \"0\" \"0\" \"0\" \"1\" \"1\" \"1\" \"0\" \"1\"\n",
              "[10693] \"1\" \"0\" \"0\" \"1\" \"0\" \"0\" \"1\" \"1\" \"1\" \"0\" \"0\" \"1\" \"0\" \"1\" \"0\" \"1\" \"0\" \"1\"\n",
              "[10711] \"1\" \"0\" \"0\" \"0\" \"1\" \"0\" \"1\" \"0\" \"1\" \"1\" \"0\" \"0\" \"1\" \"0\" \"0\" \"1\" \"1\" \"1\"\n",
              "[10729] \"1\" \"1\" \"1\" \"1\" \"1\" \"1\" \"1\" \"1\" \"1\" \"1\" \"1\" \"0\" \"1\" \"1\" \"1\" \"0\" \"1\" \"1\"\n",
              "[10747] \"0\" \"0\" \"1\" \"1\" \"1\" \"0\" \"1\" \"1\" \"1\" \"0\" \"0\" \"1\" \"1\" \"1\" \"1\" \"0\" \"1\" \"0\"\n",
              "[10765] \"0\" \"1\" \"1\" \"1\" \"1\" \"1\" \"1\" \"1\" \"1\" \"0\" \"0\" \"1\" \"1\" \"0\" \"0\" \"0\" \"1\" \"0\"\n",
              "[10783] \"0\" \"0\" \"0\" \"0\" \"1\" \"0\" \"0\" \"1\" \"1\" \"0\" \"1\" \"1\" \"1\" \"1\" \"0\" \"1\" \"1\" \"1\"\n",
              "[10801] \"0\" \"1\" \"1\" \"0\" \"0\" \"0\" \"1\" \"1\" \"1\" \"1\" \"0\" \"1\" \"1\" \"1\" \"1\" \"1\" \"1\" \"1\"\n",
              "[10819] \"1\" \"0\" \"1\" \"0\" \"0\" \"0\" \"1\" \"1\" \"0\" \"1\" \"1\" \"1\" \"1\" \"1\" \"0\" \"0\" \"1\" \"1\"\n",
              "[10837] \"0\" \"0\" \"0\" \"0\" \"0\" \"1\" \"1\" \"1\" \"0\" \"1\" \"0\" \"1\" \"1\" \"1\" \"0\" \"1\" \"0\" \"0\"\n",
              "[10855] \"1\" \"1\" \"0\" \"1\" \"1\" \"0\" \"1\" \"0\" \"1\" \"1\" \"1\" \"0\" \"1\" \"1\" \"1\" \"0\" \"1\" \"1\"\n",
              "[10873] \"0\" \"1\" \"0\" \"0\" \"1\" \"0\" \"1\" \"1\" \"0\" \"1\" \"1\" \"1\" \"0\" \"0\" \"1\" \"1\" \"0\" \"1\"\n",
              "[10891] \"0\" \"1\" \"1\" \"0\" \"0\" \"0\" \"1\" \"0\" \"0\" \"1\" \"1\" \"1\" \"1\" \"0\" \"1\" \"1\" \"1\" \"1\"\n",
              "[10909] \"1\" \"1\" \"1\" \"1\" \"1\" \"1\" \"0\" \"1\" \"0\" \"1\" \"0\" \"1\" \"1\" \"1\" \"1\" \"0\" \"0\" \"0\"\n",
              "[10927] \"0\" \"1\" \"0\" \"1\" \"1\" \"1\" \"0\" \"0\" \"1\" \"1\" \"1\" \"1\" \"0\" \"0\" \"1\" \"1\" \"1\" \"1\"\n",
              "[10945] \"0\" \"1\" \"0\" \"1\" \"1\" \"1\" \"1\" \"1\" \"1\" \"1\" \"0\" \"1\" \"0\" \"1\" \"1\" \"0\" \"1\" \"0\"\n",
              "[10963] \"0\" \"1\" \"1\" \"0\" \"1\" \"1\" \"0\" \"1\" \"0\" \"1\" \"0\" \"1\" \"0\" \"0\" \"1\" \"1\" \"1\" \"1\"\n",
              "[10981] \"1\" \"1\" \"0\" \"1\" \"0\" \"0\" \"1\" \"0\" \"1\" \"1\" \"0\" \"0\" \"0\" \"0\" \"1\" \"0\" \"1\" \"1\"\n",
              "[10999] \"1\" \"1\" \"0\" \"0\" \"0\" \"0\" \"0\" \"0\" \"1\" \"1\" \"0\" \"0\" \"1\" \"1\" \"1\" \"1\" \"1\" \"1\"\n",
              "[11017] \"1\" \"1\" \"1\" \"0\" \"1\" \"1\" \"0\" \"1\" \"1\" \"1\" \"1\" \"1\" \"1\" \"1\" \"0\" \"1\" \"1\" \"1\"\n",
              "[11035] \"0\" \"1\" \"0\" \"0\" \"0\" \"1\" \"1\" \"1\" \"1\" \"1\" \"1\" \"1\" \"0\" \"1\" \"1\" \"1\" \"1\" \"1\"\n",
              "[11053] \"1\" \"0\" \"0\" \"0\" \"1\" \"1\" \"0\" \"1\" \"0\" \"0\" \"0\" \"0\" \"1\" \"1\" \"1\" \"1\" \"0\" \"1\"\n",
              "[11071] \"1\" \"1\" \"1\" \"0\" \"1\" \"1\" \"1\" \"1\" \"1\" \"1\" \"1\" \"1\" \"1\" \"1\" \"0\" \"1\" \"0\" \"1\"\n",
              "[11089] \"1\" \"1\" \"1\" \"1\" \"1\" \"1\" \"1\" \"1\" \"0\" \"0\" \"1\" \"1\" \"1\" \"1\" \"1\" \"1\" \"0\" \"0\"\n",
              "[11107] \"1\" \"1\" \"0\" \"0\" \"1\" \"1\" \"0\" \"1\" \"1\" \"0\" \"1\" \"0\" \"0\" \"0\" \"0\" \"1\" \"1\" \"0\"\n",
              "[11125] \"1\" \"1\" \"0\" \"1\" \"1\" \"1\" \"1\" \"0\" \"0\" \"1\" \"1\" \"1\" \"1\" \"0\" \"1\" \"1\" \"0\" \"0\"\n",
              "[11143] \"0\" \"0\" \"1\" \"0\" \"1\" \"1\" \"0\" \"1\" \"0\" \"1\" \"1\" \"1\" \"0\" \"1\" \"0\" \"1\" \"0\" \"1\"\n",
              "[11161] \"1\" \"0\" \"1\" \"0\" \"0\" \"0\" \"0\" \"0\" \"1\" \"1\" \"1\" \"1\" \"0\" \"1\" \"1\" \"0\" \"1\" \"1\"\n",
              "[11179] \"1\" \"0\" \"0\" \"1\" \"1\" \"1\" \"1\" \"1\" \"1\" \"1\" \"1\" \"1\" \"0\" \"1\" \"1\" \"1\" \"0\" \"1\"\n",
              "[11197] \"1\" \"1\" \"1\" \"0\" \"1\" \"1\" \"0\" \"1\" \"1\" \"1\" \"1\" \"1\" \"1\" \"1\" \"0\" \"1\" \"0\" \"0\"\n",
              "[11215] \"0\" \"0\" \"1\" \"0\" \"1\" \"1\" \"1\" \"1\" \"1\" \"1\" \"0\" \"0\" \"0\" \"1\" \"0\" \"0\" \"1\" \"0\"\n",
              "[11233] \"1\" \"1\" \"0\" \"1\" \"0\" \"0\" \"1\" \"0\" \"1\" \"0\" \"1\" \"0\" \"1\" \"1\" \"1\" \"1\" \"1\" \"1\"\n",
              "[11251] \"1\" \"1\" \"0\" \"0\" \"1\" \"1\" \"0\" \"1\" \"1\" \"1\" \"1\" \"1\" \"1\" \"0\" \"1\" \"1\" \"1\" \"0\"\n",
              "[11269] \"1\" \"1\" \"0\" \"1\" \"1\" \"1\" \"0\" \"1\" \"0\" \"0\" \"1\" \"1\" \"0\" \"0\" \"1\" \"1\" \"1\" \"1\"\n",
              "[11287] \"1\" \"0\" \"0\" \"1\" \"0\" \"0\" \"1\" \"0\" \"1\" \"1\" \"1\" \"1\" \"0\" \"1\" \"0\" \"1\" \"1\" \"1\"\n",
              "[11305] \"0\" \"0\" \"1\" \"1\" \"1\" \"1\" \"0\" \"0\" \"1\" \"0\" \"1\" \"1\" \"0\" \"1\" \"1\" \"0\" \"1\" \"1\"\n",
              "[11323] \"0\" \"0\" \"1\" \"1\" \"0\" \"1\" \"0\" \"1\" \"1\" \"0\" \"0\" \"0\" \"1\" \"1\" \"0\" \"1\" \"1\" \"0\"\n",
              "[11341] \"1\" \"0\" \"0\" \"1\" \"0\" \"1\" \"1\" \"0\" \"0\" \"0\" \"0\" \"1\" \"1\" \"1\" \"1\" \"0\" \"0\" \"0\"\n",
              "[11359] \"0\" \"1\" \"1\" \"1\" \"1\" \"1\" \"0\" \"0\" \"0\" \"0\" \"0\" \"0\" \"1\" \"1\" \"1\" \"1\" \"0\" \"1\"\n",
              "[11377] \"1\" \"1\" \"0\" \"1\" \"0\" \"1\" \"1\" \"0\" \"0\" \"0\" \"0\" \"1\" \"0\" \"1\" \"1\" \"1\" \"1\" \"0\"\n",
              "[11395] \"1\" \"1\" \"0\" \"1\" \"1\" \"1\" \"0\" \"1\" \"1\" \"0\" \"1\" \"0\" \"1\" \"0\" \"1\" \"1\" \"1\" \"0\"\n",
              "[11413] \"1\" \"0\" \"0\" \"0\" \"0\" \"0\" \"1\" \"1\" \"0\" \"0\" \"1\" \"0\" \"1\" \"0\" \"1\" \"1\" \"1\" \"1\"\n",
              "[11431] \"1\" \"1\" \"1\" \"0\" \"1\" \"1\" \"0\" \"0\" \"0\" \"0\" \"0\" \"0\" \"1\" \"0\" \"1\" \"1\" \"1\" \"1\"\n",
              "[11449] \"0\" \"1\" \"1\" \"0\" \"1\" \"1\" \"1\" \"0\" \"1\" \"0\" \"0\" \"1\" \"0\" \"1\" \"0\" \"0\" \"0\" \"1\"\n",
              "[11467] \"1\" \"1\" \"1\" \"1\" \"1\" \"0\" \"1\" \"0\" \"1\" \"1\" \"1\" \"0\" \"1\" \"1\" \"0\" \"1\" \"1\" \"1\"\n",
              "[11485] \"1\" \"1\" \"1\" \"1\" \"0\" \"1\" \"0\" \"1\" \"1\" \"1\" \"1\" \"1\" \"0\" \"0\" \"1\" \"0\" \"0\" \"1\"\n",
              "[11503] \"1\" \"1\" \"1\" \"1\" \"1\" \"1\" \"1\" \"0\" \"0\" \"1\" \"0\" \"1\" \"1\" \"1\" \"0\" \"0\" \"1\" \"1\"\n",
              "[11521] \"0\" \"1\" \"0\" \"0\" \"1\" \"1\" \"0\" \"0\" \"0\" \"0\" \"1\" \"0\" \"1\" \"1\" \"1\" \"0\" \"1\" \"1\"\n",
              "[11539] \"1\" \"1\" \"1\" \"1\" \"1\" \"1\" \"1\" \"1\" \"1\" \"0\" \"1\" \"0\" \"0\" \"0\" \"1\" \"1\" \"1\" \"0\"\n",
              "[11557] \"0\" \"1\" \"0\" \"0\" \"0\" \"1\" \"1\" \"0\" \"0\" \"1\" \"1\" \"0\" \"1\" \"1\" \"0\" \"0\" \"1\" \"0\"\n",
              "[11575] \"1\" \"1\" \"1\" \"1\" \"1\" \"0\" \"1\" \"0\" \"1\" \"0\" \"1\" \"0\" \"1\" \"1\" \"1\" \"1\" \"0\" \"0\"\n",
              "[11593] \"0\" \"1\" \"0\" \"0\" \"1\" \"1\" \"1\" \"0\" \"1\" \"0\" \"0\" \"0\" \"1\" \"0\" \"1\" \"1\" \"1\" \"1\"\n",
              "[11611] \"1\" \"0\" \"1\" \"1\" \"1\" \"1\" \"1\" \"1\" \"1\" \"1\" \"1\" \"1\" \"0\" \"1\" \"1\" \"1\" \"0\" \"1\"\n",
              "[11629] \"1\" \"0\" \"0\" \"0\" \"1\" \"0\" \"1\" \"1\" \"1\" \"1\" \"1\" \"1\" \"1\" \"1\" \"0\" \"1\" \"0\" \"0\"\n",
              "[11647] \"0\" \"1\" \"1\" \"0\" \"0\" \"0\" \"1\" \"0\" \"1\" \"0\" \"1\" \"1\" \"0\" \"1\" \"1\" \"0\" \"1\" \"0\"\n",
              "[11665] \"1\" \"1\" \"0\" \"0\" \"1\" \"0\" \"1\" \"0\" \"0\" \"1\" \"1\" \"1\" \"0\" \"1\" \"1\" \"1\" \"1\" \"1\"\n",
              "[11683] \"1\" \"1\" \"0\" \"1\" \"0\" \"1\" \"0\" \"1\" \"1\" \"1\" \"0\" \"1\" \"1\" \"0\" \"1\" \"0\" \"0\" \"0\"\n",
              "[11701] \"1\" \"0\" \"1\" \"1\" \"1\" \"1\" \"1\" \"1\" \"0\" \"1\" \"1\" \"1\" \"1\" \"1\" \"0\" \"0\" \"1\" \"1\"\n",
              "[11719] \"1\" \"1\" \"1\" \"0\" \"1\" \"1\" \"0\" \"1\" \"1\" \"0\" \"1\" \"0\" \"0\" \"0\" \"0\" \"1\" \"1\" \"0\"\n",
              "[11737] \"1\" \"1\" \"0\" \"1\" \"1\" \"1\" \"0\" \"1\" \"1\" \"0\" \"1\" \"1\" \"0\" \"0\" \"1\" \"1\" \"1\" \"1\"\n",
              "[11755] \"1\" \"0\" \"1\" \"0\" \"1\" \"1\" \"1\" \"1\" \"0\" \"0\" \"1\" \"0\" \"1\" \"1\" \"0\" \"0\" \"0\" \"0\"\n",
              "[11773] \"1\" \"1\" \"1\" \"1\" \"1\" \"1\" \"0\" \"1\" \"1\" \"1\" \"1\" \"0\" \"1\" \"1\" \"0\" \"0\" \"1\" \"1\"\n",
              "[11791] \"1\" \"0\" \"0\" \"0\" \"1\" \"0\" \"1\" \"1\" \"1\" \"1\" \"1\" \"0\" \"1\" \"1\" \"0\" \"1\" \"0\" \"1\"\n",
              "[11809] \"1\" \"1\" \"0\" \"0\" \"0\" \"1\" \"1\" \"0\" \"1\" \"1\" \"1\" \"1\" \"1\" \"1\" \"0\" \"1\" \"1\" \"0\"\n",
              "[11827] \"1\" \"1\" \"1\" \"1\" \"0\" \"0\" \"0\" \"0\" \"1\" \"1\" \"1\" \"0\" \"0\" \"1\" \"1\" \"1\" \"1\" \"0\"\n",
              "[11845] \"0\" \"1\" \"1\" \"0\" \"1\" \"0\" \"1\" \"0\" \"1\" \"1\" \"1\" \"0\" \"1\" \"1\" \"1\" \"0\" \"1\" \"1\"\n",
              "[11863] \"0\" \"0\" \"0\" \"1\" \"1\" \"0\" \"1\" \"1\" \"1\" \"1\" \"0\" \"1\" \"1\" \"1\" \"1\" \"1\" \"1\" \"1\"\n",
              "[11881] \"0\" \"1\" \"1\" \"1\" \"0\" \"0\" \"1\" \"1\" \"1\" \"0\" \"0\" \"1\" \"0\" \"0\" \"0\" \"1\" \"1\" \"1\"\n",
              "[11899] \"0\" \"1\" \"1\" \"1\" \"1\" \"0\" \"1\" \"1\" \"0\" \"1\" \"0\" \"1\" \"1\" \"1\" \"1\" \"1\" \"1\" \"1\"\n",
              "[11917] \"1\" \"1\" \"1\" \"1\" \"1\" \"1\" \"0\" \"1\" \"0\" \"0\" \"1\" \"1\" \"1\" \"1\" \"1\" \"1\" \"0\" \"1\"\n",
              "[11935] \"1\" \"0\" \"0\" \"0\" \"0\" \"0\" \"0\" \"1\" \"1\" \"1\" \"1\" \"0\" \"1\" \"0\" \"0\" \"1\" \"1\" \"1\"\n",
              "[11953] \"1\" \"1\" \"0\" \"1\" \"1\" \"1\" \"0\" \"1\" \"1\" \"0\" \"1\" \"0\" \"1\" \"1\" \"0\" \"1\" \"1\" \"1\"\n",
              "[11971] \"1\" \"1\" \"1\" \"0\" \"0\" \"1\" \"1\" \"1\" \"1\" \"1\" \"0\" \"1\" \"1\" \"0\" \"1\" \"1\" \"1\" \"0\"\n",
              "[11989] \"1\" \"1\" \"1\" \"0\" \"0\" \"1\" \"0\" \"0\" \"0\" \"0\" \"0\" \"1\" \"1\" \"0\" \"0\" \"1\" \"1\" \"1\"\n",
              "[12007] \"1\" \"1\" \"0\" \"1\" \"0\" \"1\" \"1\" \"1\" \"1\" \"1\" \"1\" \"1\" \"1\" \"0\" \"0\" \"1\" \"1\" \"1\"\n",
              "[12025] \"1\" \"1\" \"1\" \"1\" \"0\" \"1\" \"1\" \"1\" \"1\" \"1\" \"0\" \"1\" \"1\" \"0\" \"1\" \"1\" \"1\" \"0\"\n",
              "[12043] \"0\" \"1\" \"1\" \"0\" \"1\" \"1\" \"0\" \"1\" \"1\" \"0\" \"0\" \"1\" \"1\" \"1\" \"0\" \"1\" \"0\" \"1\"\n",
              "[12061] \"1\" \"1\" \"1\" \"0\" \"1\" \"1\" \"1\" \"1\" \"0\" \"1\" \"1\" \"1\" \"1\" \"1\" \"1\" \"1\" \"1\" \"1\"\n",
              "[12079] \"0\" \"0\" \"0\" \"1\" \"1\" \"1\" \"0\" \"0\" \"0\" \"1\" \"0\" \"1\" \"1\" \"0\" \"1\" \"0\" \"1\" \"0\"\n",
              "[12097] \"1\" \"0\" \"1\" \"1\" \"1\" \"1\" \"0\" \"0\" \"0\" \"1\" \"0\" \"1\" \"1\" \"1\" \"1\" \"0\" \"1\" \"1\"\n",
              "[12115] \"1\" \"0\" \"1\" \"0\" \"0\" \"1\" \"1\" \"1\" \"0\" \"0\" \"0\" \"1\" \"0\" \"0\" \"1\" \"0\" \"1\" \"1\"\n",
              "[12133] \"0\" \"1\" \"1\" \"0\" \"0\" \"0\" \"0\" \"1\" \"1\" \"1\" \"1\" \"1\" \"1\" \"1\" \"1\" \"0\" \"1\" \"1\"\n",
              "[12151] \"0\" \"0\" \"1\" \"1\" \"0\" \"0\" \"0\" \"1\" \"1\" \"1\" \"0\" \"0\" \"1\" \"1\" \"1\" \"0\" \"1\" \"0\"\n",
              "[12169] \"1\" \"0\" \"0\" \"0\" \"0\" \"1\" \"1\" \"0\" \"0\" \"1\" \"0\" \"1\" \"0\" \"1\" \"1\" \"0\" \"0\" \"1\"\n",
              "[12187] \"1\" \"1\" \"1\" \"1\" \"1\" \"1\" \"1\" \"1\" \"1\" \"0\" \"0\" \"0\" \"0\" \"0\" \"1\" \"1\" \"1\" \"1\"\n",
              "[12205] \"1\" \"1\" \"1\" \"1\" \"1\" \"1\" \"1\" \"0\" \"1\" \"0\" \"0\" \"1\" \"1\" \"0\" \"0\" \"1\" \"1\" \"0\"\n",
              "[12223] \"1\" \"0\" \"1\" \"1\" \"1\" \"0\" \"1\" \"0\" \"1\" \"1\" \"1\" \"0\" \"0\" \"1\" \"0\" \"1\" \"0\" \"1\"\n",
              "[12241] \"0\" \"1\" \"0\" \"1\" \"1\" \"0\" \"1\" \"1\" \"1\" \"0\" \"1\" \"1\" \"1\" \"0\" \"1\" \"1\" \"1\" \"1\"\n",
              "[12259] \"1\" \"1\" \"0\" \"1\" \"1\" \"1\" \"0\" \"0\" \"1\" \"1\" \"1\" \"1\" \"1\" \"0\" \"1\" \"0\" \"0\" \"1\"\n",
              "[12277] \"0\" \"0\" \"1\" \"1\" \"0\" \"0\" \"1\" \"0\" \"1\" \"1\" \"1\" \"0\" \"1\" \"1\" \"1\" \"1\" \"0\" \"1\"\n",
              "[12295] \"0\" \"0\" \"0\" \"1\" \"1\" \"1\" \"1\" \"1\" \"1\" \"0\" \"1\" \"1\" \"0\" \"1\" \"1\" \"0\" \"0\" \"1\"\n",
              "[12313] \"0\" \"0\" \"1\" \"1\" \"1\" \"1\" \"0\" \"1\" \"1\" \"1\" \"1\" \"1\" \"1\" \"1\" \"1\" \"1\" \"1\" \"0\"\n",
              "[12331] \"1\" \"0\" \"0\" \"0\" \"1\" \"1\" \"0\" \"1\" \"1\" \"0\" \"1\" \"1\" \"0\" \"0\" \"1\" \"1\" \"0\" \"1\"\n",
              "[12349] \"1\" \"1\" \"0\" \"0\" \"0\" \"0\" \"1\" \"1\" \"0\" \"1\" \"0\" \"1\" \"0\" \"0\" \"0\" \"1\" \"1\" \"1\"\n",
              "[12367] \"0\" \"0\" \"0\" \"0\" \"0\" \"1\" \"1\" \"0\" \"1\" \"0\" \"1\" \"0\" \"0\" \"0\" \"0\" \"1\" \"0\" \"1\"\n",
              "[12385] \"0\" \"1\" \"0\" \"0\" \"0\" \"1\" \"0\" \"1\" \"0\" \"1\" \"1\" \"1\" \"0\" \"1\" \"1\" \"1\" \"0\" \"0\"\n",
              "[12403] \"1\" \"0\" \"0\" \"0\" \"1\" \"1\" \"1\" \"0\" \"0\" \"1\" \"1\" \"0\" \"1\" \"1\" \"0\" \"0\" \"0\" \"0\"\n",
              "[12421] \"0\" \"1\" \"0\" \"0\" \"0\" \"1\" \"1\" \"1\" \"1\" \"1\" \"0\" \"1\" \"1\" \"1\" \"0\" \"1\" \"0\" \"0\"\n",
              "[12439] \"1\" \"1\" \"1\" \"0\" \"1\" \"1\" \"1\" \"1\" \"1\" \"0\" \"1\" \"1\" \"1\" \"0\" \"1\" \"1\" \"1\" \"1\"\n",
              "[12457] \"0\" \"0\" \"0\" \"0\" \"1\" \"0\" \"1\" \"1\" \"0\" \"1\" \"1\" \"1\" \"1\" \"0\" \"1\" \"1\" \"1\" \"1\"\n",
              "[12475] \"1\" \"1\" \"1\" \"1\" \"1\" \"1\" \"0\" \"0\" \"0\" \"0\" \"1\" \"0\" \"1\" \"1\" \"1\" \"0\" \"0\" \"0\"\n",
              "[12493] \"0\" \"1\" \"1\" \"1\" \"0\" \"1\" \"1\" \"0\" \"1\" \"0\" \"1\" \"1\" \"1\" \"1\" \"1\" \"0\" \"1\" \"1\"\n",
              "[12511] \"0\" \"1\" \"1\" \"1\" \"1\" \"1\" \"1\" \"0\" \"1\" \"0\" \"1\" \"1\" \"1\" \"1\" \"1\" \"1\" \"1\" \"0\"\n",
              "[12529] \"0\" \"0\" \"0\" \"1\" \"1\" \"1\" \"0\" \"1\" \"0\" \"1\" \"0\" \"1\" \"1\" \"0\" \"1\" \"1\" \"1\" \"1\"\n",
              "[12547] \"1\" \"1\" \"1\" \"0\" \"0\" \"0\" \"1\" \"1\" \"1\" \"1\" \"1\" \"1\" \"1\" \"0\" \"1\" \"1\" \"0\" \"1\"\n",
              "[12565] \"1\" \"0\" \"1\" \"1\" \"1\" \"0\" \"0\" \"0\" \"1\" \"1\" \"1\" \"1\" \"1\" \"0\" \"1\" \"0\" \"1\" \"0\"\n",
              "[12583] \"0\" \"1\" \"1\" \"0\" \"1\" \"0\" \"0\" \"0\" \"1\" \"1\" \"1\" \"1\" \"1\" \"1\" \"1\" \"1\" \"0\" \"1\"\n",
              "[12601] \"0\" \"1\" \"1\" \"0\" \"1\" \"1\" \"1\" \"0\" \"1\" \"0\" \"1\" \"0\" \"1\" \"0\" \"0\" \"0\" \"1\" \"1\"\n",
              "[12619] \"0\" \"0\" \"1\" \"1\" \"1\" \"0\" \"1\" \"1\" \"0\" \"1\" \"0\" \"0\" \"1\" \"1\" \"1\" \"1\" \"1\" \"1\"\n",
              "[12637] \"1\" \"1\" \"0\" \"0\" \"1\" \"0\" \"1\" \"1\" \"1\" \"0\" \"1\" \"1\" \"0\" \"1\" \"1\" \"1\" \"0\" \"0\"\n",
              "[12655] \"1\" \"1\" \"0\" \"1\" \"0\" \"1\" \"0\" \"0\" \"1\" \"0\" \"0\" \"0\" \"1\" \"0\" \"1\" \"0\" \"1\" \"0\"\n",
              "[12673] \"0\" \"0\" \"1\" \"1\" \"0\" \"1\" \"0\" \"0\" \"1\" \"1\" \"0\" \"0\" \"0\" \"1\" \"1\" \"0\" \"1\" \"1\"\n",
              "[12691] \"1\" \"1\" \"0\" \"1\" \"1\" \"0\" \"1\" \"1\" \"0\" \"1\" \"0\" \"1\" \"0\" \"1\" \"1\" \"0\" \"0\" \"0\"\n",
              "[12709] \"0\" \"1\" \"0\" \"1\" \"1\" \"1\" \"1\" \"0\" \"1\" \"1\" \"1\" \"1\" \"1\" \"1\" \"0\" \"1\" \"1\" \"1\"\n",
              "[12727] \"0\" \"0\" \"0\" \"0\" \"1\" \"0\" \"1\" \"0\" \"0\" \"0\" \"1\" \"1\" \"0\" \"1\" \"0\" \"1\" \"0\" \"1\"\n",
              "[12745] \"1\" \"1\" \"1\" \"0\" \"1\" \"1\" \"0\" \"1\" \"1\" \"0\" \"1\" \"0\" \"1\" \"0\" \"1\" \"0\" \"0\" \"1\"\n",
              "[12763] \"1\" \"0\" \"1\" \"1\" \"0\" \"0\" \"1\" \"1\" \"1\" \"1\" \"0\" \"1\" \"0\" \"1\" \"0\" \"1\" \"0\" \"1\"\n",
              "[12781] \"1\" \"1\" \"1\" \"0\" \"0\" \"1\" \"0\" \"0\" \"0\" \"0\" \"1\" \"1\" \"1\" \"1\" \"0\" \"0\" \"1\" \"1\"\n",
              "[12799] \"0\" \"1\" \"1\" \"0\" \"0\" \"1\" \"1\" \"1\" \"1\" \"1\" \"1\" \"1\" \"1\" \"0\" \"0\" \"0\" \"1\" \"0\"\n",
              "[12817] \"1\" \"1\" \"1\" \"1\" \"1\" \"1\" \"0\" \"0\" \"0\" \"1\" \"0\" \"1\" \"0\" \"1\" \"0\" \"0\" \"1\" \"0\"\n",
              "[12835] \"0\" \"0\" \"0\" \"1\" \"0\" \"1\" \"0\" \"1\" \"0\" \"1\" \"0\" \"1\" \"1\" \"1\" \"0\" \"1\" \"1\" \"0\"\n",
              "[12853] \"1\" \"1\" \"1\" \"1\" \"1\" \"1\" \"0\" \"1\" \"1\" \"1\" \"1\" \"0\" \"0\" \"1\" \"1\" \"1\" \"1\" \"0\"\n",
              "[12871] \"1\" \"1\" \"1\" \"0\" \"1\" \"1\" \"1\" \"1\" \"1\" \"0\" \"1\" \"0\" \"1\" \"1\" \"1\" \"1\" \"0\" \"1\"\n",
              "[12889] \"1\" \"1\" \"0\" \"1\" \"0\" \"0\" \"0\" \"1\" \"0\" \"0\" \"1\" \"1\" \"1\" \"0\" \"0\" \"1\" \"1\" \"1\"\n",
              "[12907] \"1\" \"0\" \"1\" \"0\" \"1\" \"0\" \"1\" \"0\" \"1\" \"0\" \"0\" \"1\" \"1\" \"1\" \"1\" \"0\" \"0\" \"1\"\n",
              "[12925] \"0\" \"0\" \"0\" \"1\" \"1\" \"0\" \"1\" \"1\" \"1\" \"1\" \"0\" \"1\" \"0\" \"1\" \"1\" \"1\" \"0\" \"0\"\n",
              "[12943] \"0\" \"1\" \"0\" \"1\" \"0\" \"0\" \"1\" \"1\" \"0\" \"0\" \"1\" \"0\" \"0\" \"1\" \"0\" \"1\" \"0\" \"0\"\n",
              "[12961] \"0\" \"1\" \"1\" \"0\" \"1\" \"0\" \"0\" \"1\" \"0\" \"0\" \"1\" \"0\" \"0\" \"0\" \"1\" \"1\" \"1\" \"1\"\n",
              "[12979] \"1\" \"1\" \"1\" \"0\" \"1\" \"0\" \"1\" \"1\" \"1\" \"0\" \"1\" \"0\" \"1\" \"1\" \"0\" \"1\" \"1\" \"0\"\n",
              "[12997] \"1\" \"0\" \"1\" \"1\" \"1\" \"0\" \"0\" \"0\" \"1\" \"1\" \"1\" \"0\" \"0\" \"1\" \"1\" \"0\" \"1\" \"0\"\n",
              "[13015] \"0\" \"1\" \"0\" \"1\" \"0\" \"1\" \"0\" \"0\" \"1\" \"1\" \"1\" \"0\" \"1\" \"1\" \"1\" \"0\" \"0\" \"0\"\n",
              "[13033] \"0\" \"1\" \"1\" \"1\" \"1\" \"1\" \"1\" \"1\" \"1\" \"0\" \"1\" \"0\" \"1\" \"0\" \"1\" \"0\" \"0\" \"0\"\n",
              "[13051] \"0\" \"0\" \"0\" \"0\" \"0\" \"1\" \"0\" \"0\" \"1\" \"1\" \"1\" \"1\" \"0\" \"1\" \"1\" \"1\" \"1\" \"1\"\n",
              "[13069] \"1\" \"1\" \"1\" \"1\" \"0\" \"0\" \"1\" \"0\" \"1\" \"1\" \"1\" \"1\" \"0\" \"1\" \"0\" \"1\" \"0\" \"1\"\n",
              "[13087] \"1\" \"1\" \"0\" \"1\" \"1\" \"0\" \"1\" \"1\" \"0\" \"1\" \"1\" \"0\" \"1\" \"1\" \"1\" \"0\" \"1\" \"1\"\n",
              "[13105] \"1\" \"1\" \"0\" \"0\" \"0\" \"1\" \"0\" \"1\" \"1\" \"1\" \"1\" \"1\" \"1\" \"0\" \"0\" \"1\" \"1\" \"1\"\n",
              "[13123] \"0\" \"1\" \"0\" \"1\" \"1\" \"0\" \"1\" \"0\" \"1\" \"0\" \"1\" \"0\" \"0\" \"0\" \"1\" \"1\" \"1\" \"0\"\n",
              "[13141] \"1\" \"1\" \"1\" \"0\" \"1\" \"0\" \"1\" \"1\" \"1\" \"1\" \"1\" \"1\" \"1\" \"0\" \"1\" \"0\" \"1\" \"0\"\n",
              "[13159] \"0\" \"0\" \"0\" \"1\" \"1\" \"1\" \"1\" \"1\" \"1\" \"0\" \"0\" \"1\" \"1\" \"1\" \"0\" \"1\" \"1\" \"1\"\n",
              "[13177] \"1\" \"0\" \"1\" \"1\" \"1\" \"0\" \"1\" \"1\" \"0\" \"1\" \"1\" \"1\" \"0\" \"1\" \"1\" \"0\" \"1\" \"1\"\n",
              "[13195] \"1\" \"1\" \"0\" \"0\" \"1\" \"1\" \"1\" \"0\" \"1\" \"1\" \"1\" \"0\" \"1\" \"1\" \"1\" \"1\" \"1\" \"1\"\n",
              "[13213] \"1\" \"0\" \"1\" \"0\" \"0\" \"0\" \"1\" \"0\" \"1\" \"1\" \"1\" \"0\" \"1\" \"1\" \"1\" \"0\" \"1\" \"0\"\n",
              "[13231] \"0\" \"0\" \"1\" \"1\" \"1\" \"1\" \"1\" \"0\" \"1\" \"0\" \"0\" \"1\" \"0\" \"1\" \"1\" \"1\" \"0\" \"1\"\n",
              "[13249] \"0\" \"1\" \"1\" \"1\" \"1\" \"0\" \"1\" \"0\" \"0\" \"1\" \"0\" \"1\" \"1\" \"0\" \"1\" \"1\" \"1\" \"1\"\n",
              "[13267] \"1\" \"1\" \"0\" \"1\" \"1\" \"0\" \"1\" \"1\" \"1\" \"0\" \"0\" \"1\" \"1\" \"1\" \"0\" \"0\" \"1\" \"1\"\n",
              "[13285] \"0\" \"0\" \"0\" \"1\" \"0\" \"1\" \"1\" \"1\" \"0\" \"1\" \"0\" \"1\" \"0\" \"1\" \"1\" \"1\" \"1\" \"1\"\n",
              "[13303] \"1\" \"1\" \"1\" \"0\" \"0\" \"0\" \"1\" \"0\" \"1\" \"1\" \"1\" \"1\" \"1\" \"0\" \"1\" \"1\" \"0\" \"0\"\n",
              "[13321] \"1\" \"1\" \"0\" \"0\" \"0\" \"1\" \"1\" \"0\" \"1\" \"1\" \"1\" \"1\" \"0\" \"0\" \"1\" \"1\" \"1\" \"0\"\n",
              "[13339] \"1\" \"0\" \"1\" \"1\" \"1\" \"1\" \"0\" \"1\" \"1\" \"1\" \"1\" \"1\" \"0\" \"1\" \"0\" \"1\" \"0\" \"0\"\n",
              "[13357] \"1\" \"1\" \"1\" \"1\" \"1\" \"1\" \"1\" \"0\" \"1\" \"0\" \"1\" \"1\" \"0\" \"0\" \"1\" \"1\" \"0\" \"0\"\n",
              "[13375] \"1\" \"0\" \"1\" \"1\" \"1\" \"0\" \"1\" \"0\" \"0\" \"1\" \"1\" \"1\" \"1\" \"1\" \"1\" \"1\" \"1\" \"1\"\n",
              "[13393] \"1\" \"0\" \"1\" \"0\" \"1\" \"1\" \"1\" \"1\" \"1\" \"1\" \"1\" \"0\" \"0\" \"1\" \"1\" \"1\" \"1\" \"0\"\n",
              "[13411] \"1\" \"1\" \"1\" \"1\" \"1\" \"1\" \"1\" \"0\" \"1\" \"1\" \"0\" \"1\" \"1\" \"0\" \"0\" \"1\" \"1\" \"1\"\n",
              "[13429] \"0\" \"0\" \"0\" \"1\" \"1\" \"1\" \"1\" \"0\" \"1\" \"0\" \"0\" \"1\" \"0\" \"0\" \"0\" \"1\" \"1\" \"1\"\n",
              "[13447] \"0\" \"0\" \"1\" \"1\" \"0\" \"1\" \"0\" \"0\" \"1\" \"1\" \"0\" \"1\" \"1\" \"0\" \"1\" \"0\" \"1\" \"1\"\n",
              "[13465] \"1\" \"0\" \"1\" \"1\" \"0\" \"1\" \"1\" \"0\" \"0\" \"1\" \"0\" \"0\" \"0\" \"0\" \"1\" \"0\" \"1\" \"0\"\n",
              "[13483] \"1\" \"1\" \"1\" \"1\" \"1\" \"0\" \"0\" \"1\" \"0\" \"0\" \"0\" \"1\" \"0\" \"1\" \"0\" \"1\" \"1\" \"1\"\n",
              "[13501] \"1\" \"1\" \"1\" \"0\" \"1\" \"1\" \"1\" \"0\" \"1\" \"1\" \"1\" \"1\" \"0\" \"0\" \"1\" \"0\" \"1\" \"1\"\n",
              "[13519] \"1\" \"0\" \"0\" \"1\" \"0\" \"1\" \"0\" \"0\" \"1\" \"1\" \"1\" \"1\" \"0\" \"1\" \"1\" \"1\" \"1\" \"1\"\n",
              "[13537] \"0\" \"1\" \"0\" \"1\" \"0\" \"0\" \"0\" \"1\" \"1\" \"0\" \"0\" \"1\" \"1\" \"1\" \"0\" \"1\" \"0\" \"0\"\n",
              "[13555] \"1\" \"1\" \"1\" \"1\" \"1\" \"0\" \"0\" \"1\" \"1\" \"1\" \"0\" \"1\" \"1\" \"0\" \"1\" \"0\" \"0\" \"1\"\n",
              "[13573] \"1\" \"0\" \"1\" \"0\" \"0\" \"1\" \"0\" \"1\" \"1\" \"0\" \"1\" \"0\" \"0\" \"1\" \"0\" \"1\" \"0\" \"0\"\n",
              "[13591] \"1\" \"0\" \"0\" \"1\" \"1\" \"0\" \"1\" \"1\" \"1\" \"1\" \"1\" \"0\" \"0\" \"0\" \"1\" \"1\" \"0\" \"0\"\n",
              "[13609] \"0\" \"1\" \"1\" \"1\" \"0\" \"0\" \"0\" \"0\" \"1\" \"0\" \"0\" \"0\" \"1\" \"1\" \"1\" \"1\" \"0\" \"1\"\n",
              "[13627] \"0\" \"1\" \"0\" \"1\" \"1\" \"1\" \"1\" \"1\" \"1\" \"0\" \"1\" \"1\" \"1\" \"1\" \"1\" \"1\" \"0\" \"0\"\n",
              "[13645] \"1\" \"1\" \"1\" \"1\" \"1\" \"0\" \"1\" \"1\" \"0\" \"1\" \"1\" \"1\" \"0\" \"0\" \"0\" \"0\" \"1\" \"0\"\n",
              "[13663] \"0\" \"0\" \"0\" \"1\" \"0\" \"0\" \"0\" \"1\" \"1\" \"1\" \"0\" \"0\" \"1\" \"1\" \"0\" \"1\" \"0\" \"1\"\n",
              "[13681] \"1\" \"1\" \"1\" \"1\" \"1\" \"0\" \"1\" \"1\" \"1\" \"0\" \"0\" \"1\" \"1\" \"0\" \"0\" \"1\" \"1\" \"1\"\n",
              "[13699] \"1\" \"1\" \"0\" \"1\" \"0\" \"1\" \"1\" \"0\" \"0\" \"1\" \"1\" \"1\" \"1\" \"1\" \"0\" \"1\" \"1\" \"0\"\n",
              "[13717] \"0\" \"1\" \"0\" \"0\" \"1\" \"1\" \"1\" \"1\" \"0\" \"0\" \"0\" \"1\" \"1\" \"1\" \"1\" \"1\" \"1\" \"1\"\n",
              "[13735] \"0\" \"1\" \"1\" \"0\" \"0\" \"0\" \"0\" \"0\" \"0\" \"1\" \"0\" \"0\" \"0\" \"1\" \"1\" \"1\" \"1\" \"1\"\n",
              "[13753] \"1\" \"1\" \"0\" \"0\" \"0\" \"0\" \"0\" \"0\" \"0\" \"0\" \"1\" \"1\" \"0\" \"1\" \"1\" \"1\" \"1\" \"1\"\n",
              "[13771] \"1\" \"0\" \"1\" \"1\" \"0\" \"1\" \"0\" \"1\" \"0\" \"1\" \"0\" \"0\" \"1\" \"1\" \"1\" \"1\" \"1\" \"1\"\n",
              "[13789] \"1\" \"1\" \"1\" \"0\" \"0\" \"0\" \"1\" \"1\" \"1\" \"1\" \"1\" \"0\" \"1\" \"1\" \"1\" \"1\" \"1\" \"0\"\n",
              "[13807] \"1\" \"0\" \"0\" \"1\" \"1\" \"1\" \"0\" \"1\" \"1\" \"0\" \"0\" \"1\" \"0\" \"1\" \"1\" \"0\" \"0\" \"0\"\n",
              "[13825] \"1\" \"1\" \"0\" \"1\" \"1\" \"0\" \"1\" \"1\" \"1\" \"1\" \"1\" \"1\" \"1\" \"1\" \"0\" \"1\" \"1\" \"1\"\n",
              "[13843] \"0\" \"0\" \"1\" \"1\" \"1\" \"0\" \"1\" \"0\" \"1\" \"1\" \"0\" \"0\" \"1\" \"1\" \"1\" \"1\" \"1\" \"0\"\n",
              "[13861] \"0\" \"1\" \"1\" \"1\" \"1\" \"1\" \"1\" \"1\" \"1\" \"1\" \"1\" \"1\" \"0\" \"1\" \"1\" \"1\" \"1\" \"1\"\n",
              "[13879] \"0\" \"1\" \"1\" \"1\" \"1\" \"1\" \"1\" \"1\" \"1\" \"1\" \"1\" \"1\" \"1\" \"1\" \"1\" \"0\" \"1\" \"1\"\n",
              "[13897] \"1\" \"0\" \"1\" \"1\" \"0\" \"1\" \"1\" \"1\" \"1\" \"1\" \"0\" \"1\" \"1\" \"1\" \"1\" \"1\" \"1\" \"0\"\n",
              "[13915] \"1\" \"0\" \"1\" \"0\" \"0\" \"0\" \"0\" \"1\" \"1\" \"0\" \"1\" \"1\" \"0\" \"1\" \"0\" \"1\" \"1\" \"0\"\n",
              "[13933] \"0\" \"0\" \"1\" \"1\" \"0\" \"0\" \"0\" \"1\" \"0\" \"1\" \"1\" \"1\" \"1\" \"1\" \"1\" \"1\" \"0\" \"1\"\n",
              "[13951] \"0\" \"0\" \"1\" \"1\" \"1\" \"1\" \"0\" \"1\" \"0\" \"1\" \"1\" \"1\" \"0\" \"1\" \"0\" \"1\" \"1\" \"1\"\n",
              "[13969] \"0\" \"0\" \"0\" \"1\" \"1\" \"1\" \"1\" \"1\" \"1\" \"1\" \"1\" \"0\" \"0\" \"0\" \"1\" \"1\" \"0\" \"1\"\n",
              "[13987] \"0\" \"0\" \"0\" \"0\" \"1\" \"0\" \"1\" \"1\" \"0\" \"0\" \"1\" \"1\" \"1\" \"1\" \"1\" \"1\" \"0\" \"1\"\n",
              "[14005] \"1\" \"0\" \"0\" \"0\" \"1\" \"1\" \"1\" \"0\" \"1\" \"0\" \"0\" \"1\" \"1\" \"1\" \"0\" \"1\" \"0\" \"0\"\n",
              "[14023] \"1\" \"0\" \"0\" \"0\" \"0\" \"1\" \"0\" \"0\" \"1\" \"1\" \"0\" \"0\" \"1\" \"1\" \"1\" \"0\" \"1\" \"0\"\n",
              "[14041] \"1\" \"1\" \"1\" \"0\" \"1\" \"1\" \"0\" \"0\" \"1\" \"0\" \"0\" \"1\" \"1\" \"0\" \"1\" \"0\" \"0\" \"1\"\n",
              "[14059] \"0\" \"0\" \"1\" \"1\" \"0\" \"1\" \"1\" \"0\" \"0\" \"0\" \"1\" \"0\" \"1\" \"1\" \"1\" \"0\" \"1\" \"0\"\n",
              "[14077] \"1\" \"1\" \"1\" \"0\" \"1\" \"1\" \"1\" \"0\" \"0\" \"1\" \"0\" \"0\" \"0\" \"1\" \"1\" \"0\" \"0\" \"1\"\n",
              "[14095] \"0\" \"0\" \"1\" \"1\" \"0\" \"0\" \"0\" \"0\" \"1\" \"0\" \"1\" \"1\" \"0\" \"1\" \"0\" \"0\" \"1\" \"1\"\n",
              "[14113] \"0\" \"0\" \"1\" \"1\" \"0\" \"1\" \"1\" \"0\" \"0\" \"0\" \"0\" \"1\" \"0\" \"1\" \"1\" \"0\" \"1\" \"1\"\n",
              "[14131] \"0\" \"1\" \"0\" \"1\" \"1\" \"0\" \"1\" \"0\" \"1\" \"1\" \"0\" \"1\" \"1\" \"1\" \"1\" \"1\" \"1\" \"1\"\n",
              "[14149] \"1\" \"1\" \"1\" \"1\" \"1\" \"0\" \"1\" \"1\" \"0\" \"0\" \"0\" \"1\" \"1\" \"1\" \"1\" \"0\" \"0\" \"1\"\n",
              "[14167] \"1\" \"1\" \"1\" \"1\" \"1\" \"1\" \"1\" \"1\" \"0\" \"1\" \"1\" \"0\" \"0\" \"1\" \"0\" \"0\" \"1\" \"0\"\n",
              "[14185] \"1\" \"0\" \"1\" \"1\" \"1\" \"0\" \"1\" \"1\" \"1\" \"0\" \"0\" \"1\" \"0\" \"1\" \"1\" \"1\" \"0\" \"1\"\n",
              "[14203] \"1\" \"0\" \"1\" \"1\" \"1\" \"1\" \"0\" \"1\" \"1\" \"0\" \"0\" \"0\" \"1\" \"0\" \"0\" \"1\" \"1\" \"0\"\n",
              "[14221] \"1\" \"1\" \"1\" \"1\" \"0\" \"1\" \"1\" \"0\" \"1\" \"1\" \"0\" \"0\" \"1\" \"1\" \"1\" \"1\" \"1\" \"1\"\n",
              "[14239] \"1\" \"1\" \"1\" \"1\" \"0\" \"0\" \"1\" \"0\" \"1\" \"0\" \"1\" \"1\" \"1\" \"1\" \"0\" \"1\" \"0\" \"0\"\n",
              "[14257] \"0\" \"0\" \"0\" \"1\" \"0\" \"0\" \"1\" \"1\" \"1\" \"1\" \"1\" \"1\" \"0\" \"1\" \"0\" \"0\" \"1\" \"1\"\n",
              "[14275] \"0\" \"1\" \"1\" \"1\" \"0\" \"1\" \"0\" \"1\" \"1\" \"1\" \"0\" \"1\" \"1\" \"1\" \"1\" \"1\" \"0\" \"0\"\n",
              "[14293] \"0\" \"0\" \"1\" \"1\" \"1\" \"1\" \"0\" \"1\" \"1\" \"1\" \"0\" \"1\" \"0\" \"0\" \"1\" \"1\" \"1\" \"1\"\n",
              "[14311] \"0\" \"1\" \"1\" \"0\" \"1\" \"1\" \"0\" \"1\" \"0\" \"0\" \"1\" \"0\" \"1\" \"0\" \"0\" \"1\" \"1\" \"1\"\n",
              "[14329] \"1\" \"1\" \"1\" \"1\" \"1\" \"0\" \"0\" \"1\" \"1\" \"1\" \"0\" \"1\" \"0\" \"0\" \"1\" \"1\" \"0\" \"1\"\n",
              "[14347] \"1\" \"0\" \"1\" \"0\" \"1\" \"0\" \"1\" \"1\" \"0\" \"1\" \"1\" \"0\" \"1\" \"1\" \"0\" \"1\" \"1\" \"0\"\n",
              "[14365] \"0\" \"0\" \"1\" \"1\" \"1\" \"0\" \"0\" \"1\" \"0\" \"0\" \"0\" \"0\" \"1\" \"0\" \"0\" \"0\" \"0\" \"1\"\n",
              "[14383] \"0\" \"1\" \"1\" \"1\" \"0\" \"1\" \"0\" \"1\" \"1\" \"1\" \"0\" \"0\" \"0\" \"0\" \"1\" \"1\" \"0\" \"0\"\n",
              "[14401] \"1\" \"1\" \"1\" \"1\" \"0\" \"1\" \"1\" \"0\" \"0\" \"0\" \"1\" \"0\" \"1\" \"1\" \"0\" \"1\" \"0\" \"0\"\n",
              "[14419] \"0\" \"1\" \"1\" \"1\" \"0\" \"0\" \"1\" \"1\" \"1\" \"1\" \"0\" \"1\" \"1\" \"1\" \"0\" \"1\" \"1\" \"1\"\n",
              "[14437] \"0\" \"1\" \"0\" \"1\" \"0\" \"0\" \"1\" \"1\" \"0\" \"1\" \"1\" \"1\" \"0\" \"1\" \"0\" \"0\" \"1\" \"0\"\n",
              "[14455] \"1\" \"0\" \"0\" \"0\" \"0\" \"0\" \"0\" \"0\" \"1\" \"0\" \"1\" \"1\" \"0\" \"1\" \"0\" \"1\" \"1\" \"1\"\n",
              "[14473] \"0\" \"0\" \"1\" \"0\" \"1\" \"1\" \"1\" \"0\" \"1\" \"1\" \"0\" \"0\" \"1\" \"0\" \"1\" \"1\" \"0\" \"0\"\n",
              "[14491] \"1\" \"1\" \"0\" \"1\" \"1\" \"1\" \"0\" \"0\" \"1\" \"0\" \"1\" \"0\" \"0\" \"1\" \"0\" \"0\" \"1\" \"0\"\n",
              "[14509] \"1\" \"0\" \"0\" \"1\" \"1\" \"1\" \"0\" \"1\" \"1\" \"1\" \"0\" \"0\" \"0\" \"0\" \"0\" \"1\" \"0\" \"0\"\n",
              "[14527] \"1\" \"1\" \"0\" \"1\" \"0\" \"1\" \"1\" \"1\" \"0\" \"0\" \"1\" \"1\" \"1\" \"1\" \"0\" \"1\" \"1\" \"1\"\n",
              "[14545] \"0\" \"1\" \"1\" \"0\" \"0\" \"1\" \"1\" \"0\" \"0\" \"1\" \"1\" \"1\" \"0\" \"0\" \"0\" \"1\" \"1\" \"0\"\n",
              "[14563] \"1\" \"1\" \"1\" \"1\" \"1\" \"0\" \"1\" \"1\" \"1\" \"1\" \"0\" \"1\" \"0\" \"1\" \"0\" \"1\" \"0\" \"1\"\n",
              "[14581] \"0\" \"1\" \"1\" \"0\" \"1\" \"0\" \"1\" \"1\" \"1\" \"1\" \"0\" \"1\" \"0\" \"0\" \"1\" \"0\" \"1\" \"1\"\n",
              "[14599] \"1\" \"1\" \"1\" \"0\" \"1\" \"1\" \"0\" \"1\" \"1\" \"0\" \"0\" \"1\" \"0\" \"1\" \"1\" \"0\" \"0\" \"0\"\n",
              "[14617] \"0\" \"1\" \"1\" \"1\" \"1\" \"0\" \"1\" \"1\" \"0\" \"1\" \"1\" \"1\" \"1\" \"1\" \"0\" \"0\" \"0\" \"1\"\n",
              "[14635] \"1\" \"0\" \"0\" \"0\" \"1\" \"0\" \"0\" \"1\" \"1\" \"1\" \"1\" \"1\" \"0\" \"0\" \"1\" \"0\" \"1\" \"1\"\n",
              "[14653] \"1\" \"0\" \"0\" \"1\" \"1\" \"1\" \"1\" \"0\" \"1\" \"1\" \"1\" \"0\" \"0\" \"1\" \"0\" \"1\" \"1\" \"0\"\n",
              "[14671] \"0\" \"1\" \"1\" \"0\" \"1\" \"1\" \"1\" \"1\" \"0\" \"1\" \"1\" \"1\" \"1\" \"1\" \"1\" \"0\" \"1\" \"1\"\n",
              "[14689] \"0\" \"0\" \"0\" \"1\" \"0\" \"1\" \"1\" \"1\" \"1\" \"0\" \"1\" \"1\" \"0\" \"1\" \"1\" \"1\" \"1\" \"0\"\n",
              "[14707] \"0\" \"1\" \"0\" \"1\" \"1\" \"0\" \"0\" \"1\" \"1\" \"0\" \"1\" \"1\" \"0\" \"1\" \"0\" \"1\" \"1\" \"0\"\n",
              "[14725] \"1\" \"1\" \"0\" \"1\" \"1\" \"0\" \"0\" \"1\" \"1\" \"1\" \"1\" \"0\" \"1\" \"1\" \"0\" \"1\" \"0\" \"1\"\n",
              "[14743] \"0\" \"0\" \"1\" \"1\" \"0\" \"1\" \"1\" \"0\" \"1\" \"0\" \"0\" \"1\" \"0\" \"0\" \"0\" \"1\" \"0\" \"0\"\n",
              "[14761] \"1\" \"1\" \"1\" \"1\" \"1\" \"1\" \"0\" \"1\" \"1\" \"0\" \"1\" \"0\" \"0\" \"1\" \"1\" \"1\" \"1\" \"1\"\n",
              "[14779] \"0\" \"1\" \"1\" \"1\" \"1\" \"0\" \"0\" \"0\" \"1\" \"1\" \"0\" \"0\" \"0\" \"1\" \"0\" \"1\" \"1\" \"1\"\n",
              "[14797] \"1\" \"1\" \"0\" \"1\" \"1\" \"0\" \"1\" \"0\" \"1\" \"0\" \"1\" \"1\" \"0\" \"0\" \"0\" \"1\" \"1\" \"0\"\n",
              "[14815] \"1\" \"1\" \"0\" \"0\" \"1\" \"1\" \"1\" \"1\" \"1\" \"0\" \"1\" \"0\" \"1\" \"1\" \"1\" \"1\" \"1\" \"1\"\n",
              "[14833] \"1\" \"0\" \"1\" \"1\" \"1\" \"0\" \"1\" \"1\" \"0\" \"0\" \"1\" \"0\" \"1\" \"0\" \"1\" \"0\" \"1\" \"0\"\n",
              "[14851] \"0\" \"0\" \"0\" \"1\" \"1\" \"1\" \"1\" \"1\" \"1\" \"0\" \"0\" \"1\" \"1\" \"1\" \"1\" \"0\" \"1\" \"1\"\n",
              "[14869] \"0\" \"0\" \"1\" \"1\" \"1\" \"1\" \"1\" \"1\" \"1\" \"1\" \"1\" \"1\" \"0\" \"1\" \"1\" \"1\" \"1\" \"1\"\n",
              "[14887] \"0\" \"1\" \"0\" \"1\" \"1\" \"0\" \"0\" \"1\" \"1\" \"0\" \"0\" \"1\" \"1\" \"1\" \"1\" \"1\" \"1\" \"1\"\n",
              "[14905] \"0\" \"1\" \"1\" \"0\" \"0\" \"1\" \"1\" \"1\" \"1\" \"1\" \"0\" \"1\" \"1\" \"1\" \"1\" \"1\" \"1\" \"1\"\n",
              "[14923] \"1\" \"0\" \"0\" \"1\" \"0\" \"1\" \"1\" \"1\" \"1\" \"0\" \"1\" \"0\" \"1\" \"0\" \"0\" \"1\" \"1\" \"0\"\n",
              "[14941] \"1\" \"1\" \"1\" \"1\" \"1\" \"0\" \"1\" \"0\" \"1\" \"1\" \"1\" \"0\" \"1\" \"1\" \"0\" \"0\" \"1\" \"0\"\n",
              "[14959] \"1\" \"0\" \"1\" \"1\" \"1\" \"1\" \"0\" \"1\" \"0\" \"0\" \"1\" \"1\" \"0\" \"1\" \"0\" \"1\" \"0\" \"0\"\n",
              "[14977] \"1\" \"1\" \"0\" \"1\" \"1\" \"1\" \"1\" \"1\" \"0\" \"1\" \"1\" \"0\" \"0\" \"0\" \"1\" \"1\" \"1\" \"0\"\n",
              "[14995] \"0\" \"1\" \"1\" \"1\" \"1\" \"1\" \"1\" \"1\" \"1\" \"1\" \"1\" \"0\" \"1\" \"0\" \"1\" \"0\" \"0\" \"0\"\n",
              "[15013] \"1\" \"0\" \"0\" \"1\" \"1\" \"1\" \"1\" \"0\" \"1\" \"0\" \"1\" \"1\" \"0\" \"0\" \"1\" \"1\" \"1\" \"0\"\n",
              "[15031] \"0\" \"1\" \"1\" \"0\" \"1\" \"1\" \"0\" \"1\" \"0\" \"1\" \"1\" \"0\" \"0\" \"1\" \"0\" \"0\" \"0\" \"0\"\n",
              "[15049] \"0\" \"0\" \"1\" \"1\" \"1\" \"1\" \"0\" \"1\" \"1\" \"0\" \"1\" \"0\" \"1\" \"1\" \"0\" \"1\" \"0\" \"0\"\n",
              "[15067] \"1\" \"0\" \"1\" \"0\" \"1\" \"0\" \"1\" \"0\" \"1\" \"1\" \"0\" \"1\" \"0\" \"0\" \"1\" \"0\" \"1\" \"0\"\n",
              "[15085] \"0\" \"1\" \"0\" \"1\" \"1\" \"1\" \"1\" \"0\" \"0\" \"0\" \"1\" \"1\" \"0\" \"0\" \"1\" \"1\" \"1\" \"1\"\n",
              "[15103] \"0\" \"1\" \"1\" \"1\" \"1\" \"0\" \"1\" \"1\" \"1\" \"1\" \"1\" \"0\" \"1\" \"1\" \"0\" \"1\" \"1\" \"1\"\n",
              "[15121] \"1\" \"1\" \"1\" \"0\" \"0\" \"1\" \"0\" \"1\" \"0\" \"0\" \"1\" \"1\" \"0\" \"1\" \"0\" \"1\" \"1\" \"1\"\n",
              "[15139] \"1\" \"0\" \"1\" \"0\" \"1\" \"1\" \"0\" \"1\" \"1\" \"0\" \"0\" \"0\" \"1\" \"1\" \"1\" \"0\" \"0\" \"1\"\n",
              "[15157] \"0\" \"0\" \"0\" \"1\" \"1\" \"1\" \"0\" \"0\" \"1\" \"1\" \"1\" \"1\" \"0\" \"1\" \"0\" \"0\" \"1\" \"1\"\n",
              "[15175] \"0\" \"0\" \"1\" \"1\" \"0\" \"1\" \"0\" \"0\" \"0\" \"0\" \"1\" \"0\" \"0\" \"1\" \"1\" \"0\" \"1\" \"1\"\n",
              "[15193] \"1\" \"1\" \"0\" \"0\" \"1\" \"1\" \"1\" \"1\" \"0\" \"1\" \"1\" \"0\" \"0\" \"0\" \"0\" \"0\" \"0\" \"0\"\n",
              "[15211] \"0\" \"0\" \"0\" \"1\" \"0\" \"0\" \"0\" \"0\" \"1\" \"0\" \"1\" \"1\" \"1\" \"1\" \"0\" \"1\" \"1\" \"0\"\n",
              "[15229] \"1\" \"1\" \"1\" \"0\" \"1\" \"1\" \"0\" \"1\" \"0\" \"0\" \"1\" \"1\" \"1\" \"1\" \"1\" \"1\" \"1\" \"1\"\n",
              "[15247] \"1\" \"1\" \"1\" \"0\" \"1\" \"1\" \"1\" \"1\" \"0\" \"0\" \"0\" \"0\" \"1\" \"1\" \"0\" \"0\" \"1\" \"1\"\n",
              "[15265] \"0\" \"1\" \"0\" \"0\" \"1\" \"0\" \"1\" \"1\" \"0\" \"1\" \"0\" \"1\" \"0\" \"0\" \"1\" \"1\" \"1\" \"0\"\n",
              "[15283] \"1\" \"1\" \"0\" \"0\" \"0\" \"0\" \"1\" \"1\" \"1\" \"1\" \"0\" \"1\" \"1\" \"0\" \"1\" \"0\" \"1\" \"1\"\n",
              "[15301] \"1\" \"0\" \"0\" \"0\" \"0\" \"1\" \"0\" \"1\" \"0\" \"0\" \"1\" \"1\" \"0\" \"1\" \"0\" \"1\" \"0\" \"0\"\n",
              "[15319] \"1\" \"0\" \"1\" \"0\" \"1\" \"0\" \"0\" \"1\" \"1\" \"0\" \"1\" \"0\" \"1\" \"0\" \"0\" \"0\" \"1\" \"1\"\n",
              "[15337] \"0\" \"0\" \"0\" \"0\" \"0\" \"1\" \"0\" \"1\" \"0\" \"1\" \"0\" \"1\" \"0\" \"1\" \"0\" \"0\" \"1\" \"1\"\n",
              "[15355] \"0\" \"0\" \"0\" \"0\" \"0\" \"1\" \"0\" \"1\" \"0\" \"1\" \"1\" \"1\" \"1\" \"0\" \"0\" \"1\" \"1\" \"1\"\n",
              "[15373] \"1\" \"0\" \"0\" \"1\" \"1\" \"1\" \"0\" \"0\" \"1\" \"1\" \"1\" \"0\" \"1\" \"1\" \"1\" \"1\" \"0\" \"1\"\n",
              "[15391] \"1\" \"0\" \"0\" \"0\" \"1\" \"1\" \"1\" \"1\" \"0\" \"0\" \"1\" \"1\" \"0\" \"0\" \"1\" \"1\" \"0\" \"1\"\n",
              "[15409] \"1\" \"1\" \"1\" \"1\" \"0\" \"0\" \"0\" \"1\" \"0\" \"1\" \"1\" \"0\" \"1\" \"1\" \"0\" \"0\" \"0\" \"1\"\n",
              "[15427] \"0\" \"0\" \"0\" \"1\" \"0\" \"1\" \"1\" \"1\" \"1\" \"1\" \"1\" \"1\" \"0\" \"1\" \"1\" \"1\" \"1\" \"1\"\n",
              "[15445] \"1\" \"0\" \"1\" \"1\" \"1\" \"0\" \"1\" \"0\" \"1\" \"1\" \"0\" \"1\" \"0\" \"0\" \"1\" \"0\" \"1\" \"0\"\n",
              "[15463] \"1\" \"0\" \"0\" \"1\" \"1\" \"0\" \"1\" \"1\" \"1\" \"1\" \"0\" \"0\" \"0\" \"1\" \"0\" \"1\" \"1\" \"0\"\n",
              "[15481] \"0\" \"1\" \"1\" \"1\" \"1\" \"1\" \"0\" \"1\" \"1\" \"1\" \"1\" \"0\" \"1\" \"1\" \"1\" \"1\" \"0\" \"1\"\n",
              "[15499] \"0\" \"0\" \"0\" \"0\" \"0\" \"1\" \"0\" \"1\" \"1\" \"1\" \"0\" \"1\" \"0\" \"0\" \"0\" \"1\" \"1\" \"1\"\n",
              "[15517] \"1\" \"1\" \"1\" \"0\" \"0\" \"1\" \"0\" \"1\" \"1\" \"0\" \"1\" \"0\" \"1\" \"1\" \"0\" \"0\" \"1\" \"0\"\n",
              "[15535] \"1\" \"1\" \"0\" \"0\" \"1\" \"0\" \"0\" \"1\" \"0\" \"1\" \"0\" \"0\" \"1\" \"0\" \"1\" \"1\" \"1\" \"1\"\n",
              "[15553] \"1\" \"1\" \"0\" \"1\" \"1\" \"1\" \"1\" \"1\" \"1\" \"1\" \"0\" \"0\" \"0\" \"1\" \"1\" \"0\" \"1\" \"1\"\n",
              "[15571] \"0\" \"1\" \"1\" \"1\" \"1\" \"1\" \"1\" \"1\" \"1\" \"1\" \"1\" \"1\" \"0\" \"0\" \"1\" \"1\" \"1\" \"0\"\n",
              "[15589] \"1\" \"0\" \"1\" \"1\" \"1\" \"1\" \"0\" \"1\" \"1\" \"1\" \"1\" \"1\" \"1\" \"1\" \"0\" \"1\" \"1\" \"0\"\n",
              "[15607] \"1\" \"0\" \"0\" \"1\" \"1\" \"0\" \"1\" \"0\" \"0\" \"0\" \"1\" \"1\" \"1\" \"1\" \"1\" \"1\" \"1\" \"1\"\n",
              "[15625] \"1\" \"1\" \"0\" \"1\" \"0\" \"1\" \"1\" \"1\" \"1\" \"1\" \"1\" \"0\" \"1\" \"1\" \"1\" \"0\" \"1\" \"1\"\n",
              "[15643] \"1\" \"0\" \"1\" \"1\" \"0\" \"1\" \"1\" \"0\" \"1\" \"1\" \"1\" \"0\" \"1\" \"1\" \"1\" \"0\" \"1\" \"0\"\n",
              "[15661] \"1\" \"1\" \"0\" \"0\" \"1\" \"0\" \"1\" \"0\" \"1\" \"1\" \"1\" \"1\" \"1\" \"0\" \"1\" \"1\" \"0\" \"1\"\n",
              "[15679] \"0\" \"1\" \"0\" \"1\" \"0\" \"1\" \"0\" \"0\" \"1\" \"1\" \"1\" \"1\" \"0\" \"1\" \"1\" \"1\" \"0\" \"0\"\n",
              "[15697] \"0\" \"0\" \"1\" \"1\" \"1\" \"1\" \"0\" \"0\" \"0\" \"0\" \"1\" \"1\" \"1\" \"1\" \"0\" \"1\" \"0\" \"0\"\n",
              "[15715] \"1\" \"1\" \"1\" \"0\" \"1\" \"1\" \"1\" \"1\" \"1\" \"1\" \"0\" \"0\" \"1\" \"1\" \"0\" \"1\" \"0\" \"1\"\n",
              "[15733] \"0\" \"0\" \"1\" \"1\" \"1\" \"1\" \"1\" \"1\" \"1\" \"1\" \"0\" \"0\" \"1\" \"1\" \"1\" \"0\" \"1\" \"1\"\n",
              "[15751] \"1\" \"0\" \"1\" \"1\" \"1\" \"1\" \"0\" \"1\" \"0\" \"1\" \"1\" \"1\" \"1\" \"1\" \"0\" \"1\" \"1\" \"1\"\n",
              "[15769] \"1\" \"1\" \"1\" \"0\" \"0\" \"0\" \"1\" \"1\" \"0\" \"1\" \"1\" \"1\" \"1\" \"0\" \"0\" \"0\" \"0\" \"1\"\n",
              "[15787] \"1\" \"1\" \"1\" \"1\" \"0\" \"1\" \"1\" \"0\" \"1\" \"1\" \"0\" \"0\" \"0\" \"0\" \"0\" \"1\" \"1\" \"0\"\n",
              "[15805] \"0\" \"1\" \"1\" \"0\" \"1\" \"1\" \"1\" \"0\" \"1\" \"1\" \"1\" \"1\" \"1\" \"1\" \"1\" \"0\" \"1\" \"1\"\n",
              "[15823] \"0\" \"0\" \"1\" \"1\" \"0\" \"0\" \"1\" \"1\" \"1\" \"0\" \"1\" \"0\" \"1\" \"0\" \"1\" \"1\" \"0\" \"1\"\n",
              "[15841] \"1\" \"0\" \"0\" \"1\" \"1\" \"0\" \"1\" \"1\" \"0\" \"1\" \"0\" \"0\" \"1\" \"1\" \"0\" \"0\" \"1\" \"1\"\n",
              "[15859] \"1\" \"0\" \"1\" \"0\" \"0\" \"0\" \"1\" \"0\" \"0\" \"1\" \"0\" \"1\" \"1\" \"1\" \"1\" \"1\" \"1\" \"1\"\n",
              "[15877] \"0\" \"1\" \"1\" \"1\" \"1\" \"0\" \"0\" \"0\" \"1\" \"1\" \"0\" \"0\" \"0\" \"1\" \"1\" \"1\" \"1\" \"1\"\n",
              "[15895] \"1\" \"1\" \"0\" \"0\" \"0\" \"0\" \"0\" \"0\" \"1\" \"0\" \"1\" \"1\" \"1\" \"1\" \"0\" \"1\" \"1\" \"0\"\n",
              "[15913] \"1\" \"0\" \"1\" \"1\" \"0\" \"1\" \"1\" \"0\" \"1\" \"1\" \"1\" \"1\" \"0\" \"1\" \"0\" \"1\" \"1\" \"0\"\n",
              "[15931] \"0\" \"1\" \"1\" \"0\" \"0\" \"0\" \"0\" \"0\" \"1\" \"1\" \"0\" \"1\" \"0\" \"1\" \"1\" \"1\" \"0\" \"1\"\n",
              "[15949] \"0\" \"1\" \"1\" \"1\" \"0\" \"1\" \"1\" \"1\" \"1\" \"0\" \"0\" \"1\" \"0\" \"1\" \"0\" \"1\" \"1\" \"1\"\n",
              "[15967] \"0\" \"1\" \"1\" \"0\" \"1\" \"1\" \"0\" \"1\" \"1\" \"0\" \"1\" \"1\" \"0\" \"1\" \"0\" \"1\" \"0\" \"1\"\n",
              "[15985] \"1\" \"1\" \"1\" \"0\" \"0\" \"0\" \"0\" \"1\" \"0\" \"1\" \"1\" \"0\" \"1\" \"0\" \"1\" \"0\" \"1\" \"0\"\n",
              "[16003] \"1\" \"1\" \"1\" \"0\" \"0\" \"0\" \"0\" \"1\" \"1\" \"1\" \"0\" \"0\" \"1\" \"1\" \"0\" \"1\" \"1\" \"1\"\n",
              "[16021] \"1\" \"0\" \"1\" \"0\" \"0\" \"1\" \"1\" \"1\" \"1\" \"0\" \"0\" \"1\" \"1\" \"1\" \"1\" \"0\" \"0\" \"1\"\n",
              "[16039] \"0\" \"1\" \"0\" \"0\" \"0\" \"0\" \"1\" \"0\" \"0\" \"0\" \"1\" \"1\" \"1\" \"0\" \"1\" \"1\" \"0\" \"1\"\n",
              "[16057] \"0\" \"0\" \"1\" \"0\" \"0\" \"0\" \"1\" \"1\" \"0\" \"0\" \"1\" \"1\" \"0\" \"1\" \"0\" \"1\" \"1\" \"1\"\n",
              "[16075] \"1\" \"1\" \"1\" \"0\" \"1\" \"1\" \"0\" \"1\" \"0\" \"1\" \"0\" \"0\" \"1\" \"1\" \"1\" \"0\" \"1\" \"1\"\n",
              "[16093] \"1\" \"1\" \"1\" \"0\" \"0\" \"1\" \"1\" \"1\" \"0\" \"1\" \"1\" \"1\" \"1\" \"0\" \"1\" \"1\" \"0\" \"1\"\n",
              "[16111] \"0\" \"0\" \"1\" \"1\" \"1\" \"1\" \"1\" \"1\" \"1\" \"1\" \"1\" \"0\" \"1\" \"0\" \"1\" \"0\" \"1\" \"1\"\n",
              "[16129] \"1\" \"0\" \"0\" \"0\" \"1\" \"0\" \"0\" \"0\" \"1\" \"1\" \"0\" \"1\" \"1\" \"1\" \"1\" \"0\" \"0\" \"1\"\n",
              "[16147] \"0\" \"1\" \"0\" \"1\" \"0\" \"1\" \"0\" \"0\" \"0\" \"0\" \"1\" \"1\" \"1\" \"1\" \"0\" \"1\" \"1\" \"0\"\n",
              "[16165] \"1\" \"1\" \"1\" \"1\" \"0\" \"1\" \"1\" \"0\" \"0\" \"0\" \"1\" \"1\" \"1\" \"1\" \"1\" \"0\" \"1\" \"1\"\n",
              "[16183] \"1\" \"1\" \"0\" \"0\" \"0\" \"0\" \"1\" \"0\" \"0\" \"0\" \"0\" \"0\" \"0\" \"0\" \"1\" \"0\" \"1\" \"0\"\n",
              "[16201] \"0\" \"1\" \"0\" \"1\" \"1\" \"1\" \"1\" \"1\" \"1\" \"1\" \"1\" \"0\" \"0\" \"0\" \"0\" \"0\" \"0\" \"1\"\n",
              "[16219] \"0\" \"0\" \"1\" \"0\" \"0\" \"0\" \"0\" \"1\" \"0\" \"1\" \"1\" \"0\" \"0\" \"1\" \"0\" \"0\" \"1\" \"0\"\n",
              "[16237] \"0\" \"1\" \"1\" \"1\" \"0\" \"1\" \"0\" \"1\" \"1\" \"1\" \"1\" \"1\" \"1\" \"1\" \"0\" \"1\" \"1\" \"1\"\n",
              "[16255] \"1\" \"0\" \"1\" \"0\" \"0\" \"1\" \"1\" \"1\" \"0\" \"1\" \"1\" \"0\" \"0\" \"0\" \"1\" \"1\" \"0\" \"0\"\n",
              "[16273] \"1\" \"1\" \"1\" \"1\" \"1\" \"1\" \"0\" \"0\" \"0\" \"1\" \"1\" \"1\" \"1\" \"1\" \"1\" \"1\" \"1\" \"1\"\n",
              "[16291] \"0\" \"1\" \"1\" \"0\" \"1\" \"1\" \"0\" \"1\" \"0\" \"0\" \"1\" \"1\" \"0\" \"1\" \"1\" \"0\" \"1\" \"1\"\n",
              "[16309] \"0\" \"1\" \"1\" \"0\" \"0\" \"0\" \"1\" \"0\" \"0\" \"0\" \"0\" \"0\" \"1\" \"1\" \"1\" \"0\" \"1\" \"1\"\n",
              "[16327] \"1\" \"1\" \"1\" \"0\" \"1\" \"1\" \"0\" \"1\" \"1\" \"1\" \"1\" \"1\" \"0\" \"0\" \"1\" \"0\" \"1\" \"1\"\n",
              "[16345] \"0\" \"0\" \"0\" \"1\" \"0\" \"1\" \"1\" \"0\" \"1\" \"0\" \"0\" \"0\" \"0\" \"0\" \"1\" \"1\" \"0\" \"0\"\n",
              "[16363] \"0\" \"1\" \"0\" \"1\" \"1\" \"1\" \"1\" \"1\" \"1\" \"1\" \"1\" \"0\" \"1\" \"1\" \"1\" \"1\" \"1\" \"0\"\n",
              "[16381] \"0\" \"0\" \"0\" \"1\" \"0\" \"1\" \"1\" \"0\" \"1\" \"1\" \"1\" \"0\" \"0\" \"1\" \"0\" \"0\" \"0\" \"1\"\n",
              "[16399] \"0\" \"0\" \"1\" \"0\" \"0\" \"1\" \"0\" \"1\" \"1\" \"1\" \"0\" \"1\" \"0\" \"1\" \"1\" \"1\" \"1\" \"0\"\n",
              "[16417] \"1\" \"1\" \"1\" \"1\" \"1\" \"1\" \"1\" \"1\" \"0\" \"1\" \"1\" \"0\" \"1\" \"0\" \"1\" \"0\" \"0\" \"1\"\n",
              "[16435] \"1\" \"0\" \"0\" \"1\" \"0\" \"1\" \"1\" \"0\" \"0\" \"0\" \"0\" \"1\" \"1\" \"0\" \"1\" \"1\" \"1\" \"1\"\n",
              "[16453] \"1\" \"1\" \"1\" \"0\" \"1\" \"1\" \"0\" \"1\" \"1\" \"1\" \"1\" \"0\" \"0\" \"1\" \"1\" \"0\" \"0\" \"0\"\n",
              "[16471] \"1\" \"0\" \"0\" \"1\" \"1\" \"0\" \"1\" \"1\" \"1\" \"1\" \"0\" \"0\" \"1\" \"1\" \"1\" \"1\" \"1\" \"1\"\n",
              "[16489] \"0\" \"1\" \"1\" \"0\" \"1\" \"0\" \"0\" \"0\" \"1\" \"0\" \"1\" \"1\" \"1\" \"0\" \"1\" \"0\" \"0\" \"1\"\n",
              "[16507] \"0\" \"1\" \"1\" \"1\" \"1\" \"1\" \"1\" \"1\" \"0\" \"0\" \"1\" \"0\" \"1\" \"0\" \"1\" \"1\" \"0\" \"1\"\n",
              "[16525] \"1\" \"1\" \"0\" \"1\" \"0\" \"0\" \"1\" \"1\" \"0\" \"0\" \"0\" \"1\" \"0\" \"1\" \"0\" \"1\" \"0\" \"1\"\n",
              "[16543] \"1\" \"1\" \"0\" \"0\" \"1\" \"0\" \"0\" \"0\" \"0\" \"1\" \"0\" \"1\" \"1\" \"0\" \"1\" \"1\" \"1\" \"1\"\n",
              "[16561] \"0\" \"0\" \"1\" \"0\" \"0\" \"0\" \"0\" \"1\" \"0\" \"1\" \"0\" \"1\" \"1\" \"0\" \"0\" \"0\" \"1\" \"1\"\n",
              "[16579] \"0\" \"0\" \"1\" \"0\" \"0\" \"0\" \"0\" \"1\" \"0\" \"1\" \"1\" \"0\" \"1\" \"1\" \"0\" \"1\" \"1\" \"0\"\n",
              "[16597] \"1\" \"1\" \"0\" \"0\" \"0\" \"1\" \"1\" \"1\" \"1\" \"1\" \"0\" \"1\" \"1\" \"1\" \"1\" \"1\" \"0\" \"1\"\n",
              "[16615] \"1\" \"1\" \"1\" \"1\" \"0\" \"0\" \"0\" \"1\" \"1\" \"1\" \"1\" \"0\" \"1\" \"1\" \"0\" \"1\" \"0\" \"1\"\n",
              "[16633] \"0\" \"1\" \"1\" \"0\" \"0\" \"1\" \"0\" \"0\" \"1\" \"0\" \"0\" \"1\" \"1\" \"1\" \"0\" \"0\" \"0\" \"1\"\n",
              "[16651] \"0\" \"1\" \"1\" \"0\" \"0\" \"1\" \"1\" \"1\" \"0\" \"0\" \"0\" \"0\" \"1\" \"1\" \"0\" \"1\" \"1\" \"1\"\n",
              "[16669] \"1\" \"1\" \"1\" \"1\" \"1\" \"1\" \"0\" \"1\" \"1\" \"0\" \"0\" \"0\" \"0\" \"1\" \"1\" \"1\" \"1\" \"1\"\n",
              "[16687] \"0\" \"0\" \"1\" \"1\" \"1\" \"1\" \"1\" \"1\" \"1\" \"0\" \"1\" \"1\" \"0\" \"1\" \"1\" \"1\" \"1\" \"1\"\n",
              "[16705] \"0\" \"1\" \"1\" \"1\" \"1\" \"1\" \"0\" \"0\" \"0\" \"1\" \"0\" \"1\" \"1\" \"0\" \"0\" \"1\" \"1\" \"1\"\n",
              "[16723] \"0\" \"0\" \"0\" \"0\" \"1\" \"1\" \"1\" \"1\" \"1\" \"1\" \"1\" \"0\" \"1\" \"0\" \"0\" \"1\" \"0\" \"1\"\n",
              "[16741] \"1\" \"1\" \"0\" \"0\" \"1\" \"1\" \"0\" \"1\" \"1\" \"0\" \"1\" \"0\" \"1\" \"0\" \"0\" \"1\" \"0\" \"1\"\n",
              "[16759] \"1\" \"1\" \"0\" \"1\" \"1\" \"1\" \"0\" \"1\" \"1\" \"0\" \"0\" \"0\" \"0\" \"0\" \"0\" \"1\" \"1\" \"0\"\n",
              "[16777] \"0\" \"0\" \"1\" \"0\" \"0\" \"1\" \"1\" \"0\" \"1\" \"1\" \"0\" \"0\" \"1\" \"1\" \"1\" \"0\" \"0\" \"1\"\n",
              "[16795] \"0\" \"0\" \"1\" \"1\" \"1\" \"0\" \"1\" \"1\" \"1\" \"1\" \"0\" \"1\" \"1\" \"0\" \"0\" \"1\" \"1\" \"1\"\n",
              "[16813] \"1\" \"0\" \"1\" \"0\" \"1\" \"0\" \"1\" \"1\" \"1\" \"0\" \"0\" \"1\" \"0\" \"1\" \"1\" \"0\" \"0\" \"1\"\n",
              "[16831] \"1\" \"0\" \"1\" \"1\" \"0\" \"1\" \"1\" \"0\" \"1\" \"1\" \"0\" \"1\" \"1\" \"1\" \"0\" \"1\" \"1\" \"0\"\n",
              "[16849] \"0\" \"1\" \"1\" \"0\" \"0\" \"0\" \"0\" \"0\" \"0\" \"0\" \"0\" \"0\" \"0\" \"1\" \"1\" \"1\" \"0\" \"1\"\n",
              "[16867] \"1\" \"1\" \"1\" \"1\" \"1\" \"0\" \"0\" \"0\" \"1\" \"1\" \"1\" \"1\" \"1\" \"1\" \"0\" \"1\" \"0\" \"0\"\n",
              "[16885] \"0\" \"0\" \"0\" \"1\" \"1\" \"1\" \"0\" \"0\" \"0\" \"1\" \"1\" \"1\" \"0\" \"1\" \"0\" \"0\" \"1\" \"1\"\n",
              "[16903] \"1\" \"1\" \"0\" \"1\" \"1\" \"0\" \"1\" \"1\" \"1\" \"0\" \"0\" \"1\" \"1\" \"1\" \"0\" \"0\" \"1\" \"1\"\n",
              "[16921] \"1\" \"1\" \"1\" \"1\" \"1\" \"1\" \"1\" \"0\" \"0\" \"1\" \"1\" \"1\" \"0\" \"1\" \"1\" \"0\" \"1\" \"0\"\n",
              "[16939] \"1\" \"0\" \"0\" \"0\" \"1\" \"0\" \"1\" \"1\" \"1\" \"1\" \"0\" \"0\" \"1\" \"1\" \"0\" \"1\" \"1\" \"0\"\n",
              "[16957] \"1\" \"0\" \"1\" \"1\" \"1\" \"1\" \"1\" \"1\" \"1\" \"1\" \"1\" \"1\" \"1\" \"0\" \"1\" \"1\" \"0\" \"1\"\n",
              "[16975] \"1\" \"0\" \"0\" \"1\" \"1\" \"1\" \"1\" \"0\" \"1\" \"0\" \"1\" \"1\" \"0\" \"1\" \"0\" \"1\" \"0\" \"1\"\n",
              "[16993] \"1\" \"0\" \"0\" \"1\" \"0\" \"0\" \"0\" \"0\" \"1\" \"1\" \"1\" \"1\" \"1\" \"0\" \"1\" \"0\" \"0\" \"0\"\n",
              "[17011] \"0\" \"0\" \"0\" \"1\" \"1\" \"0\" \"0\" \"1\" \"1\" \"0\" \"0\" \"1\" \"1\" \"0\" \"1\" \"0\" \"1\" \"0\"\n",
              "[17029] \"1\" \"0\" \"0\" \"1\" \"1\" \"1\" \"0\" \"0\" \"1\" \"0\" \"0\" \"0\" \"1\" \"0\" \"1\" \"1\" \"1\" \"1\"\n",
              "[17047] \"1\" \"1\" \"1\" \"1\" \"1\" \"1\" \"1\" \"1\" \"0\" \"1\" \"1\" \"0\" \"0\" \"1\" \"1\" \"0\" \"0\" \"1\"\n",
              "[17065] \"0\" \"0\" \"1\" \"1\" \"1\" \"0\" \"0\" \"1\" \"0\" \"1\" \"0\" \"0\" \"1\" \"1\" \"0\" \"1\" \"0\" \"0\"\n",
              "[17083] \"0\" \"0\" \"1\" \"1\" \"1\" \"0\" \"1\" \"0\" \"1\" \"0\" \"1\" \"1\" \"0\" \"1\" \"0\" \"1\" \"0\" \"0\"\n",
              "[17101] \"0\" \"1\" \"1\" \"1\" \"0\" \"0\" \"0\" \"1\" \"0\" \"0\" \"1\" \"1\" \"1\" \"0\" \"0\" \"1\" \"1\" \"1\"\n",
              "[17119] \"0\" \"1\" \"1\" \"1\" \"1\" \"1\" \"1\" \"0\" \"1\" \"1\" \"1\" \"1\" \"1\" \"0\" \"0\" \"0\" \"0\" \"1\"\n",
              "[17137] \"1\" \"1\" \"0\" \"0\" \"1\" \"0\" \"1\" \"1\" \"1\" \"0\" \"0\" \"1\" \"1\" \"1\" \"1\" \"1\" \"0\" \"1\"\n",
              "[17155] \"1\" \"1\" \"1\" \"1\" \"1\" \"0\" \"1\" \"0\" \"0\" \"1\" \"0\" \"1\" \"1\" \"1\" \"1\" \"0\" \"0\" \"0\"\n",
              "[17173] \"1\" \"1\" \"1\" \"0\" \"1\" \"0\" \"0\" \"1\" \"1\" \"1\" \"0\" \"1\" \"0\" \"1\" \"1\" \"1\" \"0\" \"0\"\n",
              "[17191] \"0\" \"1\" \"0\" \"1\" \"0\" \"0\" \"1\" \"1\" \"1\" \"1\" \"1\" \"1\" \"0\" \"1\" \"0\" \"0\" \"1\" \"1\"\n",
              "[17209] \"1\" \"1\" \"1\" \"0\" \"1\" \"1\" \"1\" \"0\" \"1\" \"1\" \"0\" \"0\" \"1\" \"0\" \"1\" \"0\" \"1\" \"1\"\n",
              "[17227] \"1\" \"1\" \"1\" \"1\" \"1\" \"1\" \"1\" \"1\" \"1\" \"0\" \"1\" \"1\" \"1\" \"0\" \"1\" \"1\" \"1\" \"1\"\n",
              "[17245] \"1\" \"1\" \"0\" \"0\" \"1\" \"0\" \"0\" \"0\" \"0\" \"0\" \"1\" \"0\" \"0\" \"0\" \"0\" \"1\" \"1\" \"0\"\n",
              "[17263] \"1\" \"1\" \"1\" \"1\" \"0\" \"1\" \"1\" \"1\" \"0\" \"1\" \"1\" \"0\" \"0\" \"0\" \"1\" \"1\" \"0\" \"1\"\n",
              "[17281] \"1\" \"1\" \"0\" \"1\" \"0\" \"1\" \"1\" \"1\" \"1\" \"1\" \"0\" \"1\" \"0\" \"1\" \"1\" \"0\" \"0\" \"0\"\n",
              "[17299] \"0\" \"0\" \"1\" \"0\" \"1\" \"0\" \"1\" \"0\" \"0\" \"1\" \"1\" \"0\" \"0\" \"0\" \"0\" \"1\" \"0\" \"1\"\n",
              "[17317] \"1\" \"0\" \"1\" \"0\" \"0\" \"0\" \"1\" \"1\" \"1\" \"1\" \"1\" \"1\" \"0\" \"1\" \"1\" \"1\" \"1\" \"1\"\n",
              "[17335] \"1\" \"1\" \"1\" \"1\" \"1\" \"0\" \"1\" \"0\" \"1\" \"1\" \"1\" \"1\" \"1\" \"0\" \"0\" \"0\" \"0\" \"1\"\n",
              "[17353] \"0\" \"1\" \"0\" \"0\" \"0\" \"1\" \"1\" \"0\" \"1\" \"0\" \"1\" \"1\" \"1\" \"1\" \"1\" \"1\" \"1\" \"1\"\n",
              "[17371] \"0\" \"1\" \"0\" \"1\" \"1\" \"1\" \"0\" \"1\" \"0\" \"1\" \"1\" \"0\" \"0\" \"0\" \"1\" \"0\" \"0\" \"0\"\n",
              "[17389] \"0\" \"0\" \"1\" \"0\" \"0\" \"1\" \"1\" \"1\" \"1\" \"1\" \"1\" \"0\" \"1\" \"1\" \"1\" \"1\" \"1\" \"0\"\n",
              "[17407] \"1\" \"1\" \"0\" \"1\" \"0\" \"1\" \"1\" \"0\" \"0\" \"1\" \"1\" \"1\" \"1\" \"0\" \"1\" \"1\" \"1\" \"0\"\n",
              "[17425] \"1\" \"0\" \"1\" \"1\" \"1\" \"1\" \"1\" \"1\" \"1\" \"1\" \"1\" \"0\" \"1\" \"1\" \"1\" \"1\" \"1\" \"1\"\n",
              "[17443] \"0\" \"0\" \"1\" \"1\" \"1\" \"0\" \"0\" \"0\" \"0\" \"1\" \"0\" \"1\" \"1\" \"1\" \"1\" \"1\" \"1\" \"0\"\n",
              "[17461] \"0\" \"1\" \"1\" \"1\" \"1\" \"1\" \"1\" \"0\" \"0\" \"0\" \"0\" \"1\" \"1\" \"1\" \"0\" \"1\" \"1\" \"1\"\n",
              "[17479] \"0\" \"0\" \"1\" \"0\" \"1\" \"1\" \"1\" \"1\" \"0\" \"1\" \"1\" \"1\" \"1\" \"0\" \"1\" \"1\" \"1\" \"0\"\n",
              "[17497] \"1\" \"1\" \"1\" \"0\" \"1\" \"1\" \"1\" \"0\" \"0\" \"1\" \"0\" \"0\" \"1\" \"1\" \"1\" \"1\" \"0\" \"1\"\n",
              "[17515] \"0\" \"1\" \"1\" \"1\" \"1\" \"0\" \"0\" \"1\" \"0\" \"0\" \"0\" \"0\" \"1\" \"0\" \"1\" \"1\" \"1\" \"0\"\n",
              "[17533] \"1\" \"1\" \"1\" \"1\" \"0\" \"0\" \"0\" \"1\" \"1\" \"1\" \"0\" \"1\" \"1\" \"0\" \"1\" \"1\" \"1\" \"1\"\n",
              "[17551] \"1\" \"1\" \"1\" \"0\" \"1\" \"1\" \"0\" \"1\" \"1\" \"0\" \"0\" \"0\" \"1\" \"0\" \"1\" \"1\" \"1\" \"1\"\n",
              "[17569] \"1\" \"1\" \"1\" \"1\" \"0\" \"1\" \"0\" \"0\" \"1\" \"1\" \"1\" \"1\" \"1\" \"1\" \"0\" \"0\" \"1\" \"1\"\n",
              "[17587] \"1\" \"1\" \"0\" \"0\" \"1\" \"1\" \"1\" \"1\" \"1\" \"0\" \"1\" \"1\" \"0\" \"1\" \"0\" \"1\" \"0\" \"1\"\n",
              "[17605] \"1\" \"0\" \"0\" \"1\" \"1\" \"0\" \"0\" \"0\" \"1\" \"1\" \"1\" \"1\" \"1\" \"1\" \"0\" \"1\" \"1\" \"0\"\n",
              "[17623] \"1\" \"1\" \"0\" \"1\" \"1\" \"0\" \"1\" \"0\" \"1\" \"1\" \"0\" \"1\" \"0\" \"0\" \"0\" \"0\" \"1\" \"1\"\n",
              "[17641] \"1\" \"0\" \"1\" \"1\" \"1\" \"0\" \"1\" \"0\" \"1\" \"0\" \"1\" \"1\" \"1\" \"1\" \"1\" \"0\" \"1\" \"0\"\n",
              "[17659] \"1\" \"1\" \"1\" \"1\" \"1\" \"0\" \"1\" \"1\" \"1\" \"0\" \"1\" \"0\" \"1\" \"1\" \"1\" \"0\" \"0\" \"1\"\n",
              "[17677] \"0\" \"1\" \"1\" \"1\" \"0\" \"0\" \"1\" \"1\" \"1\" \"1\" \"0\" \"0\" \"1\" \"1\" \"0\" \"1\" \"1\" \"0\"\n",
              "[17695] \"1\" \"0\" \"0\" \"1\" \"1\" \"1\" \"1\" \"1\" \"1\" \"0\" \"0\" \"1\" \"1\" \"1\" \"1\" \"1\" \"0\" \"0\"\n",
              "[17713] \"1\" \"0\" \"1\" \"1\" \"0\" \"1\" \"1\" \"0\" \"0\" \"1\" \"0\" \"0\" \"0\" \"1\" \"1\" \"0\" \"1\" \"1\"\n",
              "[17731] \"1\" \"0\" \"1\" \"1\" \"1\" \"0\" \"1\" \"1\" \"1\" \"1\" \"1\" \"1\" \"0\" \"1\" \"1\" \"1\" \"0\" \"1\"\n",
              "[17749] \"0\" \"0\" \"1\" \"0\" \"0\" \"0\" \"1\" \"1\" \"1\" \"1\" \"1\" \"0\" \"1\" \"1\" \"0\" \"0\" \"1\" \"0\"\n",
              "[17767] \"0\" \"0\" \"0\" \"1\" \"1\" \"1\" \"1\" \"0\" \"0\" \"0\" \"0\" \"0\" \"1\" \"1\" \"1\" \"1\" \"1\" \"0\"\n",
              "[17785] \"1\" \"1\" \"1\" \"1\" \"0\" \"1\" \"1\" \"0\" \"1\" \"1\" \"1\" \"0\" \"1\" \"1\" \"0\" \"1\" \"0\" \"1\"\n",
              "[17803] \"0\" \"0\" \"1\" \"1\" \"0\" \"0\" \"0\" \"1\" \"1\" \"0\" \"1\" \"1\" \"1\" \"1\" \"1\" \"1\" \"1\" \"1\"\n",
              "[17821] \"0\" \"1\" \"1\" \"1\" \"1\" \"1\" \"0\" \"0\" \"1\" \"0\" \"0\" \"1\" \"0\" \"1\" \"1\" \"0\" \"1\" \"0\"\n",
              "[17839] \"0\" \"0\" \"1\" \"1\" \"1\" \"1\" \"0\" \"1\" \"1\" \"0\" \"0\" \"0\" \"1\" \"1\" \"1\" \"0\" \"1\" \"1\"\n",
              "[17857] \"1\" \"0\" \"0\" \"0\" \"0\" \"0\" \"1\" \"0\" \"1\" \"1\" \"0\" \"1\" \"1\" \"1\" \"0\" \"1\" \"1\" \"0\"\n",
              "[17875] \"0\" \"1\" \"1\" \"1\" \"0\" \"1\" \"0\" \"0\" \"1\" \"0\" \"1\" \"1\" \"0\" \"0\" \"0\" \"1\" \"1\" \"0\"\n",
              "[17893] \"1\" \"1\" \"1\" \"1\" \"1\" \"1\" \"1\" \"0\" \"1\" \"1\" \"0\" \"1\" \"0\" \"1\" \"1\" \"0\" \"0\" \"1\"\n",
              "[17911] \"0\" \"1\" \"1\" \"1\" \"1\" \"0\" \"0\" \"0\" \"1\" \"0\" \"1\" \"1\" \"0\" \"1\" \"1\" \"1\" \"1\" \"1\"\n",
              "[17929] \"1\" \"0\" \"1\" \"1\" \"0\" \"1\" \"1\" \"0\" \"1\" \"1\" \"1\" \"0\" \"1\" \"1\" \"1\" \"1\" \"0\" \"1\"\n",
              "[17947] \"0\" \"1\" \"0\" \"0\" \"1\" \"0\" \"1\" \"1\" \"0\" \"1\" \"0\" \"1\" \"0\" \"0\" \"0\" \"0\" \"1\" \"0\"\n",
              "[17965] \"0\" \"1\" \"1\" \"1\" \"1\" \"1\" \"1\" \"1\" \"1\" \"1\" \"1\" \"1\" \"0\" \"0\" \"0\" \"0\" \"1\" \"1\"\n",
              "[17983] \"1\" \"1\" \"1\" \"1\" \"1\" \"1\" \"1\" \"1\" \"0\" \"1\" \"1\" \"0\" \"1\" \"0\" \"0\" \"1\" \"0\" \"1\"\n",
              "[18001] \"1\" \"0\" \"0\" \"0\" \"1\" \"1\" \"1\" \"1\" \"0\" \"1\" \"1\" \"0\" \"1\" \"1\" \"1\" \"1\" \"1\" \"0\"\n",
              "[18019] \"0\" \"0\" \"1\" \"1\" \"0\" \"1\" \"1\" \"0\" \"1\" \"0\" \"1\" \"0\" \"1\" \"1\" \"1\" \"0\" \"1\" \"0\"\n",
              "[18037] \"0\" \"0\" \"1\" \"1\" \"1\" \"1\" \"1\" \"1\" \"1\" \"1\" \"0\" \"1\" \"0\" \"1\" \"1\" \"0\" \"1\" \"1\"\n",
              "[18055] \"1\" \"0\" \"0\" \"0\" \"0\" \"0\" \"1\" \"0\" \"1\" \"0\" \"1\" \"0\" \"1\" \"0\" \"1\" \"1\" \"0\" \"0\"\n",
              "[18073] \"0\" \"0\" \"1\" \"0\" \"1\" \"0\" \"0\" \"0\" \"1\" \"0\" \"0\" \"0\" \"1\" \"1\" \"0\" \"1\" \"1\" \"0\"\n",
              "[18091] \"0\" \"1\" \"0\" \"1\" \"0\" \"0\" \"0\" \"1\" \"1\" \"1\" \"1\" \"1\" \"0\" \"1\" \"1\" \"0\" \"1\" \"1\"\n",
              "[18109] \"1\" \"1\" \"0\" \"1\" \"1\" \"0\" \"1\" \"0\" \"1\" \"1\" \"1\" \"1\" \"0\" \"1\" \"1\" \"1\" \"0\" \"1\"\n",
              "[18127] \"1\" \"1\" \"0\" \"1\" \"1\" \"1\" \"1\" \"0\" \"1\" \"0\" \"1\" \"0\" \"0\" \"1\" \"1\" \"1\" \"1\" \"1\"\n",
              "[18145] \"1\" \"0\" \"1\" \"1\" \"1\" \"1\" \"0\" \"0\" \"1\" \"1\" \"1\" \"1\" \"0\" \"1\" \"0\" \"1\" \"1\" \"0\"\n",
              "[18163] \"1\" \"0\" \"1\" \"0\" \"1\" \"1\" \"1\" \"1\" \"1\" \"0\" \"0\" \"1\" \"1\" \"1\" \"1\" \"1\" \"1\" \"1\"\n",
              "[18181] \"1\" \"1\" \"0\" \"1\" \"0\" \"1\" \"1\" \"1\" \"1\" \"1\" \"1\" \"1\" \"1\" \"1\" \"1\" \"1\" \"1\" \"1\"\n",
              "[18199] \"1\" \"1\" \"0\" \"0\" \"1\" \"1\" \"1\" \"0\" \"1\" \"1\" \"0\" \"1\" \"1\" \"0\" \"0\" \"0\" \"1\" \"1\"\n",
              "[18217] \"1\" \"1\" \"1\" \"1\" \"1\" \"1\" \"1\" \"1\" \"1\" \"0\" \"1\" \"0\" \"1\" \"1\" \"1\" \"0\" \"1\" \"1\"\n",
              "[18235] \"1\" \"1\" \"1\" \"0\" \"1\" \"1\" \"0\" \"1\" \"0\" \"1\" \"0\" \"1\" \"0\" \"1\" \"1\" \"1\" \"0\" \"1\"\n",
              "[18253] \"1\" \"0\" \"0\" \"1\" \"0\" \"0\" \"1\" \"0\" \"1\" \"0\" \"1\" \"0\" \"1\" \"1\" \"1\" \"1\" \"0\" \"0\"\n",
              "[18271] \"0\" \"1\" \"1\" \"0\" \"1\" \"1\" \"1\" \"1\" \"1\" \"1\" \"0\" \"1\" \"1\" \"1\" \"1\" \"1\" \"1\" \"0\"\n",
              "[18289] \"1\" \"1\" \"0\" \"1\" \"1\" \"0\" \"0\" \"0\" \"1\" \"1\" \"0\" \"0\" \"1\" \"0\" \"1\" \"1\" \"1\" \"0\"\n",
              "[18307] \"1\" \"1\" \"1\" \"1\" \"0\" \"1\" \"1\" \"1\" \"1\" \"0\" \"0\" \"0\" \"1\" \"1\" \"1\" \"1\" \"1\" \"1\"\n",
              "[18325] \"0\" \"1\" \"1\" \"1\" \"1\" \"1\" \"1\" \"1\" \"1\" \"1\" \"1\" \"0\" \"1\" \"1\" \"0\" \"0\" \"1\" \"1\"\n",
              "[18343] \"1\" \"0\" \"1\" \"0\" \"1\" \"0\" \"0\" \"0\" \"1\" \"0\" \"1\" \"1\" \"0\" \"0\" \"0\" \"1\" \"1\" \"0\"\n",
              "[18361] \"0\" \"0\" \"0\" \"0\" \"1\" \"0\" \"1\" \"1\" \"1\" \"1\" \"1\" \"1\" \"0\" \"1\" \"1\" \"0\" \"1\" \"1\"\n",
              "[18379] \"1\" \"1\" \"1\" \"0\" \"0\" \"1\" \"1\" \"1\" \"0\" \"1\" \"0\" \"0\" \"1\" \"0\" \"0\" \"1\" \"1\" \"1\"\n",
              "[18397] \"1\" \"1\" \"1\" \"1\" \"0\" \"1\" \"1\" \"1\" \"0\" \"1\" \"1\" \"0\" \"1\" \"1\" \"1\" \"0\" \"1\" \"0\"\n",
              "[18415] \"1\" \"0\" \"0\" \"0\" \"1\" \"0\" \"0\" \"0\" \"0\" \"1\" \"0\" \"0\" \"1\" \"1\" \"0\" \"0\" \"0\" \"1\"\n",
              "[18433] \"0\" \"1\" \"1\" \"1\" \"1\" \"1\" \"0\" \"0\" \"1\" \"1\" \"1\" \"1\" \"1\" \"0\" \"1\" \"0\" \"0\" \"1\"\n",
              "[18451] \"1\" \"1\" \"1\" \"1\" \"1\" \"1\" \"0\" \"1\" \"0\" \"1\" \"0\" \"0\" \"1\" \"1\" \"1\" \"1\" \"1\" \"0\"\n",
              "[18469] \"1\" \"0\" \"0\" \"1\" \"1\" \"1\" \"0\" \"0\" \"1\" \"0\" \"1\" \"1\" \"0\" \"1\" \"1\" \"0\" \"1\" \"1\"\n",
              "[18487] \"0\" \"1\" \"1\" \"1\" \"0\" \"1\" \"1\" \"1\" \"1\" \"1\" \"1\" \"1\" \"0\" \"1\" \"1\" \"0\" \"1\" \"1\"\n",
              "[18505] \"0\" \"0\" \"1\" \"1\" \"1\" \"1\" \"0\" \"1\" \"0\" \"0\" \"0\" \"0\" \"0\" \"0\" \"0\" \"1\" \"1\" \"1\"\n",
              "[18523] \"1\" \"0\" \"1\" \"0\" \"0\" \"1\" \"1\" \"1\" \"1\" \"1\" \"1\" \"1\" \"1\" \"0\" \"1\" \"0\" \"1\" \"0\"\n",
              "[18541] \"1\" \"1\" \"1\" \"0\" \"1\" \"1\" \"0\" \"1\" \"0\" \"0\" \"0\" \"1\" \"0\" \"1\" \"1\" \"0\" \"0\" \"1\"\n",
              "[18559] \"1\" \"1\" \"1\" \"1\" \"1\" \"0\" \"0\" \"1\" \"1\" \"0\" \"1\" \"1\" \"0\" \"1\" \"1\" \"1\" \"0\" \"1\"\n",
              "[18577] \"0\" \"0\" \"1\" \"0\" \"0\" \"0\" \"1\" \"0\" \"0\" \"0\" \"1\" \"0\" \"1\" \"0\" \"1\" \"1\" \"0\" \"0\"\n",
              "[18595] \"0\" \"1\" \"1\" \"1\" \"1\" \"1\" \"0\" \"0\" \"1\" \"1\" \"1\" \"0\" \"0\" \"0\" \"0\" \"0\" \"0\" \"1\"\n",
              "[18613] \"0\" \"1\" \"0\" \"1\" \"0\" \"0\" \"0\" \"0\" \"0\" \"0\" \"0\" \"0\" \"1\" \"0\" \"1\" \"1\" \"1\" \"1\"\n",
              "[18631] \"0\" \"0\" \"1\" \"1\" \"0\" \"1\" \"0\" \"1\" \"1\" \"1\" \"0\" \"1\" \"1\" \"1\" \"0\" \"0\" \"1\" \"1\"\n",
              "[18649] \"1\" \"0\" \"0\" \"1\" \"0\" \"1\" \"1\" \"0\" \"0\" \"1\" \"0\" \"0\" \"1\" \"1\" \"1\" \"1\" \"1\" \"1\"\n",
              "[18667] \"1\" \"0\" \"1\" \"1\" \"0\" \"1\" \"0\" \"1\" \"1\" \"1\" \"0\" \"0\" \"1\" \"0\" \"1\" \"1\" \"1\" \"0\"\n",
              "[18685] \"1\" \"0\" \"1\" \"1\" \"1\" \"0\" \"1\" \"1\" \"0\" \"1\" \"0\" \"1\" \"1\" \"1\" \"0\" \"1\" \"0\" \"0\"\n",
              "[18703] \"1\" \"0\" \"1\" \"0\" \"1\" \"1\" \"0\" \"1\" \"1\" \"1\" \"0\" \"0\" \"0\" \"1\" \"1\" \"0\" \"1\" \"1\"\n",
              "[18721] \"1\" \"0\" \"1\" \"0\" \"0\" \"1\" \"0\" \"0\" \"1\" \"1\" \"0\" \"0\" \"1\" \"1\" \"0\" \"1\" \"1\" \"0\"\n",
              "[18739] \"1\" \"1\" \"1\" \"0\" \"1\" \"1\" \"0\" \"0\" \"1\" \"0\" \"0\" \"0\" \"0\" \"1\" \"0\" \"0\" \"0\" \"1\"\n",
              "[18757] \"1\" \"0\" \"1\" \"0\" \"1\" \"1\" \"0\" \"1\" \"1\" \"0\" \"0\" \"0\" \"0\" \"1\" \"0\" \"1\" \"1\" \"1\"\n",
              "[18775] \"0\" \"0\" \"1\" \"1\" \"1\" \"0\" \"0\" \"1\" \"0\" \"1\" \"0\" \"1\" \"0\" \"1\" \"1\" \"1\" \"0\" \"0\"\n",
              "[18793] \"1\" \"1\" \"1\" \"0\" \"1\" \"1\" \"0\" \"0\" \"1\" \"0\" \"0\" \"0\" \"0\" \"1\" \"1\" \"0\" \"1\" \"1\"\n",
              "[18811] \"1\" \"0\" \"1\" \"1\" \"1\" \"1\" \"1\" \"1\" \"1\" \"0\" \"0\" \"1\" \"0\" \"1\" \"0\" \"1\" \"1\" \"1\"\n",
              "[18829] \"1\" \"0\" \"0\" \"1\" \"0\" \"0\" \"0\" \"1\" \"0\" \"0\" \"1\" \"1\" \"1\" \"1\" \"0\" \"0\" \"0\" \"1\"\n",
              "[18847] \"0\" \"0\" \"1\" \"0\" \"1\" \"0\" \"1\" \"1\" \"0\" \"1\" \"1\" \"0\" \"1\" \"1\" \"0\" \"1\" \"1\" \"1\"\n",
              "[18865] \"1\" \"0\" \"1\" \"1\" \"1\" \"0\" \"0\" \"1\" \"1\" \"0\" \"1\" \"1\" \"1\" \"0\" \"1\" \"1\" \"1\" \"1\"\n",
              "[18883] \"1\" \"1\" \"0\" \"1\" \"1\" \"1\" \"1\" \"0\" \"1\" \"0\" \"1\" \"1\" \"0\" \"1\" \"1\" \"0\" \"1\" \"1\"\n",
              "[18901] \"1\" \"0\" \"1\" \"0\" \"0\" \"1\" \"1\" \"1\" \"1\" \"1\" \"1\" \"1\" \"1\" \"1\" \"1\" \"0\" \"1\" \"1\"\n",
              "[18919] \"1\" \"1\" \"1\" \"0\" \"0\" \"0\" \"0\" \"0\" \"0\" \"1\" \"1\" \"0\" \"1\" \"1\" \"1\" \"1\" \"0\" \"1\"\n",
              "[18937] \"0\" \"0\" \"1\" \"1\" \"0\" \"1\" \"0\" \"0\" \"1\" \"0\" \"0\" \"1\" \"1\" \"1\" \"0\" \"1\" \"1\" \"1\"\n",
              "[18955] \"1\" \"1\" \"0\" \"1\" \"1\" \"1\" \"0\" \"1\" \"1\" \"1\" \"0\" \"1\" \"1\" \"0\" \"1\" \"1\" \"0\" \"0\"\n",
              "[18973] \"0\" \"1\" \"0\" \"1\" \"0\" \"1\" \"0\" \"1\" \"0\" \"0\" \"1\" \"0\" \"1\" \"1\" \"0\" \"1\" \"0\" \"1\"\n",
              "[18991] \"1\" \"1\" \"1\" \"0\" \"1\" \"1\" \"1\" \"0\" \"0\" \"0\" \"1\" \"1\" \"1\" \"0\" \"0\" \"0\" \"1\" \"0\"\n",
              "[19009] \"1\" \"0\" \"0\" \"1\" \"1\" \"1\" \"1\" \"1\" \"0\" \"1\" \"1\" \"0\" \"1\" \"0\" \"1\" \"0\" \"0\" \"1\"\n",
              "[19027] \"0\" \"1\" \"1\" \"1\" \"0\" \"1\" \"1\" \"0\" \"1\" \"0\" \"1\" \"0\" \"1\" \"1\" \"1\" \"1\" \"0\" \"0\"\n",
              "[19045] \"0\" \"0\" \"1\" \"1\" \"0\" \"1\" \"0\" \"0\" \"1\" \"0\" \"0\" \"0\" \"1\" \"1\" \"1\" \"1\" \"1\" \"0\"\n",
              "[19063] \"1\" \"1\" \"0\" \"1\" \"1\" \"0\" \"1\" \"1\" \"1\" \"0\" \"1\" \"1\" \"1\" \"1\" \"1\" \"0\" \"1\" \"0\"\n",
              "[19081] \"1\" \"0\" \"1\" \"1\" \"1\" \"1\" \"0\" \"0\" \"1\" \"0\" \"0\" \"0\" \"1\" \"0\" \"0\" \"1\" \"0\" \"0\"\n",
              "[19099] \"1\" \"0\" \"0\" \"1\" \"0\" \"1\" \"0\" \"1\" \"0\" \"1\" \"1\" \"0\" \"1\" \"0\" \"1\" \"1\" \"1\" \"1\"\n",
              "[19117] \"1\" \"1\" \"1\" \"1\" \"1\" \"1\" \"1\" \"0\" \"0\" \"0\" \"1\" \"0\" \"1\" \"1\" \"1\" \"1\" \"1\" \"1\"\n",
              "[19135] \"0\" \"0\" \"1\" \"0\" \"1\" \"1\" \"1\" \"1\" \"1\" \"1\" \"1\" \"0\" \"1\" \"1\" \"0\" \"0\" \"1\" \"1\"\n",
              "[19153] \"1\" \"0\" \"1\" \"1\" \"1\" \"1\" \"0\" \"1\" \"1\" \"0\" \"1\" \"0\" \"0\" \"1\" \"1\" \"0\" \"1\" \"1\"\n",
              "[19171] \"1\" \"0\" \"1\" \"0\" \"0\" \"0\" \"0\" \"1\" \"1\" \"1\" \"0\" \"0\" \"1\" \"0\" \"0\" \"1\" \"0\" \"1\"\n",
              "[19189] \"0\" \"1\" \"0\" \"0\" \"0\" \"1\" \"1\" \"0\" \"1\" \"0\" \"1\" \"1\" \"0\" \"0\" \"1\" \"1\" \"1\" \"0\"\n",
              "[19207] \"0\" \"0\" \"1\" \"0\" \"1\" \"0\" \"1\" \"0\" \"1\" \"0\" \"1\" \"0\" \"0\" \"1\" \"1\" \"0\" \"0\" \"0\"\n",
              "[19225] \"0\" \"0\" \"1\" \"1\" \"1\" \"0\" \"1\" \"1\" \"0\" \"0\" \"0\" \"0\" \"0\" \"0\" \"0\" \"0\" \"1\" \"0\"\n",
              "[19243] \"0\" \"0\" \"1\" \"1\" \"0\" \"1\" \"0\" \"1\" \"1\" \"1\" \"1\" \"0\" \"1\" \"0\" \"0\" \"1\" \"0\" \"0\"\n",
              "[19261] \"1\" \"0\" \"0\" \"1\" \"1\" \"1\" \"1\" \"0\" \"0\" \"1\" \"1\" \"0\" \"1\" \"0\" \"1\" \"1\" \"0\" \"1\"\n",
              "[19279] \"0\" \"1\" \"1\" \"1\" \"1\" \"1\" \"1\" \"0\" \"0\" \"0\" \"0\" \"1\" \"0\" \"1\" \"1\" \"0\" \"1\" \"0\"\n",
              "[19297] \"1\" \"1\" \"1\" \"0\" \"1\" \"1\" \"1\" \"0\" \"1\" \"0\" \"1\" \"0\" \"1\" \"1\" \"1\" \"0\" \"0\" \"0\"\n",
              "[19315] \"1\" \"0\" \"0\" \"0\" \"0\" \"0\" \"0\" \"0\" \"0\" \"1\" \"1\" \"1\" \"1\" \"0\" \"1\" \"1\" \"1\" \"0\"\n",
              "[19333] \"1\" \"1\" \"1\" \"1\" \"0\" \"1\" \"0\" \"1\" \"0\" \"1\" \"1\" \"1\" \"0\" \"1\" \"1\" \"1\" \"1\" \"1\"\n",
              "[19351] \"1\" \"0\" \"1\" \"0\" \"1\" \"1\" \"1\" \"0\" \"1\" \"0\" \"1\" \"1\" \"0\" \"1\" \"1\" \"1\" \"1\" \"1\"\n",
              "[19369] \"1\" \"0\" \"1\" \"0\" \"0\" \"1\" \"0\" \"1\" \"0\" \"0\" \"1\" \"1\" \"0\" \"1\" \"1\" \"0\" \"0\" \"1\"\n",
              "[19387] \"1\" \"1\" \"0\" \"1\" \"1\" \"0\" \"1\" \"0\" \"1\" \"1\" \"0\" \"1\" \"0\" \"1\" \"0\" \"1\" \"0\" \"0\"\n",
              "[19405] \"1\" \"0\" \"0\" \"0\" \"0\" \"0\" \"1\" \"0\" \"1\" \"0\" \"1\" \"0\" \"1\" \"1\" \"1\" \"0\" \"1\" \"0\"\n",
              "[19423] \"1\" \"0\" \"0\" \"1\" \"1\" \"0\" \"0\" \"1\" \"0\" \"0\" \"0\" \"1\" \"1\" \"1\" \"1\" \"1\" \"1\" \"0\"\n",
              "[19441] \"0\" \"1\" \"1\" \"1\" \"1\" \"1\" \"1\" \"0\" \"1\" \"0\" \"1\" \"1\" \"1\" \"1\" \"0\" \"0\" \"1\" \"0\"\n",
              "[19459] \"1\" \"1\" \"1\" \"0\" \"0\" \"1\" \"1\" \"0\" \"1\" \"1\" \"0\" \"1\" \"1\" \"1\" \"1\" \"1\" \"1\" \"1\"\n",
              "[19477] \"1\" \"1\" \"1\" \"1\" \"1\" \"0\" \"0\" \"1\" \"0\" \"0\" \"1\" \"1\" \"1\" \"1\" \"1\" \"0\" \"1\" \"0\"\n",
              "[19495] \"1\" \"1\" \"0\" \"1\" \"1\" \"1\" \"1\" \"1\" \"1\" \"0\" \"1\" \"0\" \"1\" \"1\" \"1\" \"0\" \"1\" \"1\"\n",
              "[19513] \"0\" \"1\" \"0\" \"0\" \"1\" \"0\" \"1\" \"1\" \"1\" \"0\" \"1\" \"1\" \"0\" \"1\" \"0\" \"0\" \"0\" \"1\"\n",
              "[19531] \"1\" \"1\" \"0\" \"0\" \"0\" \"0\" \"1\" \"0\" \"0\" \"0\" \"0\" \"1\" \"1\" \"1\" \"1\" \"0\" \"0\" \"0\"\n",
              "[19549] \"1\" \"1\" \"1\" \"1\" \"1\" \"0\" \"0\" \"1\" \"1\" \"0\" \"0\" \"0\" \"0\" \"0\" \"1\" \"1\" \"1\" \"1\"\n",
              "[19567] \"1\" \"1\" \"1\" \"1\" \"0\" \"1\" \"0\" \"0\" \"1\" \"0\" \"1\" \"1\" \"0\" \"0\" \"0\" \"1\" \"0\" \"0\"\n",
              "[19585] \"1\" \"1\" \"0\" \"1\" \"1\" \"1\" \"1\" \"0\" \"1\" \"1\" \"1\" \"1\" \"1\" \"0\" \"1\" \"1\" \"0\" \"0\"\n",
              "[19603] \"1\" \"1\" \"1\" \"1\" \"0\" \"1\" \"0\" \"0\" \"0\" \"1\" \"0\" \"1\" \"0\" \"1\" \"1\" \"1\" \"0\" \"0\"\n",
              "[19621] \"1\" \"1\" \"1\" \"1\" \"0\" \"0\" \"1\" \"1\" \"1\" \"0\" \"0\" \"1\" \"1\" \"0\" \"1\" \"1\" \"1\" \"0\"\n",
              "[19639] \"0\" \"1\" \"1\" \"0\" \"0\" \"1\" \"1\" \"1\" \"0\" \"1\" \"0\" \"0\" \"0\" \"0\" \"0\" \"1\" \"1\" \"0\"\n",
              "[19657] \"0\" \"0\" \"1\" \"1\" \"1\" \"0\" \"0\" \"1\" \"1\" \"1\" \"0\" \"0\" \"1\" \"0\" \"1\" \"0\" \"0\" \"1\"\n",
              "[19675] \"0\" \"1\" \"1\" \"1\" \"1\" \"1\" \"1\" \"1\" \"0\" \"1\" \"0\" \"1\" \"0\" \"0\" \"1\" \"1\" \"1\" \"1\"\n",
              "[19693] \"0\" \"1\" \"0\" \"1\" \"1\" \"1\" \"1\" \"1\" \"1\" \"0\" \"1\" \"0\" \"0\" \"1\" \"0\" \"1\" \"1\" \"1\"\n",
              "[19711] \"1\" \"0\" \"1\" \"1\" \"0\" \"0\" \"1\" \"1\" \"1\" \"1\" \"0\" \"1\" \"1\" \"0\" \"0\" \"1\" \"1\" \"0\"\n",
              "[19729] \"0\" \"1\" \"1\" \"0\" \"0\" \"0\" \"0\" \"0\" \"0\" \"1\" \"1\" \"0\" \"0\" \"1\" \"0\" \"1\" \"0\" \"1\"\n",
              "[19747] \"1\" \"1\" \"0\" \"1\" \"0\" \"1\" \"1\" \"0\" \"1\" \"1\" \"1\" \"1\" \"0\" \"0\" \"1\" \"1\" \"0\" \"1\"\n",
              "[19765] \"1\" \"1\" \"1\" \"0\" \"1\" \"1\" \"1\" \"1\" \"1\" \"1\" \"0\" \"0\" \"0\" \"1\" \"0\" \"0\" \"1\" \"0\"\n",
              "[19783] \"1\" \"1\" \"1\" \"0\" \"1\" \"0\" \"0\" \"1\" \"1\" \"1\" \"1\" \"1\" \"1\" \"1\" \"1\" \"0\" \"0\" \"0\"\n",
              "[19801] \"0\" \"1\" \"0\" \"0\" \"1\" \"1\" \"1\" \"1\" \"0\" \"1\" \"1\" \"1\" \"1\" \"1\" \"1\" \"1\" \"0\" \"1\"\n",
              "[19819] \"0\" \"1\" \"0\" \"0\" \"1\" \"0\" \"1\" \"0\" \"0\" \"0\" \"0\" \"1\" \"1\" \"1\" \"1\" \"1\" \"0\" \"0\"\n",
              "[19837] \"1\" \"1\" \"1\" \"0\" \"0\" \"1\" \"1\" \"0\" \"1\" \"0\" \"0\" \"1\" \"0\" \"0\" \"1\" \"0\" \"1\" \"0\"\n",
              "[19855] \"0\" \"1\" \"0\" \"0\" \"1\" \"1\" \"0\" \"1\" \"1\" \"1\" \"0\" \"1\" \"1\" \"1\" \"1\" \"0\" \"1\" \"0\"\n",
              "[19873] \"1\" \"1\" \"1\" \"1\" \"1\" \"0\" \"1\" \"0\" \"0\" \"0\" \"1\" \"1\" \"0\" \"1\" \"0\" \"1\" \"0\" \"0\"\n",
              "[19891] \"1\" \"1\" \"1\" \"1\" \"0\" \"1\" \"1\" \"1\" \"1\" \"1\" \"1\" \"1\" \"0\" \"0\" \"0\" \"1\" \"0\" \"0\"\n",
              "[19909] \"0\" \"1\" \"1\" \"0\" \"0\" \"1\" \"0\" \"1\" \"0\" \"1\" \"0\" \"1\" \"1\" \"1\" \"1\" \"1\" \"1\" \"1\"\n",
              "[19927] \"0\" \"1\" \"0\" \"0\" \"0\" \"1\" \"1\" \"0\" \"1\" \"0\" \"1\" \"1\" \"1\" \"1\" \"1\" \"1\" \"1\" \"1\"\n",
              "[19945] \"0\" \"1\" \"0\" \"1\" \"0\" \"1\" \"1\" \"0\" \"1\" \"1\" \"0\" \"0\" \"0\" \"1\" \"0\" \"1\" \"0\" \"1\"\n",
              "[19963] \"1\" \"0\" \"1\" \"0\" \"0\" \"1\" \"1\" \"0\" \"1\" \"1\" \"0\" \"0\" \"0\" \"1\" \"0\" \"1\" \"0\" \"1\"\n",
              "[19981] \"1\" \"0\" \"1\" \"1\" \"1\" \"0\" \"0\" \"1\" \"1\" \"0\" \"0\" \"0\" \"1\" \"0\" \"0\" \"1\" \"1\" \"0\"\n",
              "[19999] \"1\" \"1\" \"1\" \"1\" \"0\" \"0\" \"1\" \"1\" \"0\" \"0\" \"1\" \"1\" \"0\" \"1\" \"0\" \"1\" \"1\" \"0\"\n",
              "[20017] \"0\" \"1\" \"0\" \"1\" \"1\" \"0\" \"1\" \"1\" \"1\" \"1\" \"1\" \"1\" \"1\" \"0\" \"1\" \"0\" \"1\" \"1\"\n",
              "[20035] \"0\" \"1\" \"0\" \"0\" \"1\" \"1\" \"0\" \"0\" \"1\" \"1\" \"1\" \"1\" \"1\" \"1\" \"0\" \"0\" \"1\" \"1\"\n",
              "[20053] \"0\" \"1\" \"0\" \"1\" \"0\" \"1\" \"0\" \"0\" \"0\" \"1\" \"1\" \"0\" \"0\" \"1\" \"1\" \"1\" \"0\" \"0\"\n",
              "[20071] \"1\" \"0\" \"1\" \"1\" \"1\" \"1\" \"1\" \"1\" \"0\" \"1\" \"1\" \"1\" \"0\" \"1\" \"0\" \"1\" \"0\" \"0\"\n",
              "[20089] \"1\" \"1\" \"1\" \"0\" \"0\" \"1\" \"0\" \"1\" \"1\" \"1\" \"1\" \"0\" \"1\" \"1\" \"0\" \"0\" \"0\" \"1\"\n",
              "[20107] \"1\" \"1\" \"1\" \"0\" \"0\" \"1\" \"0\" \"0\" \"1\" \"1\" \"1\" \"0\" \"1\" \"1\" \"0\" \"0\" \"0\" \"0\"\n",
              "[20125] \"1\" \"0\" \"1\" \"0\" \"1\" \"1\" \"1\" \"1\" \"1\" \"0\" \"1\" \"1\" \"1\" \"1\" \"0\" \"0\" \"0\" \"0\"\n",
              "[20143] \"0\" \"0\" \"1\" \"1\" \"1\" \"1\" \"1\" \"0\" \"1\" \"1\" \"1\" \"1\" \"0\" \"0\" \"0\" \"0\" \"1\" \"1\"\n",
              "[20161] \"1\" \"0\" \"1\" \"1\" \"1\" \"1\" \"0\" \"1\" \"1\" \"1\" \"1\" \"0\" \"1\" \"1\" \"0\" \"0\" \"1\" \"1\"\n",
              "[20179] \"0\" \"1\" \"1\" \"1\" \"0\" \"1\" \"1\" \"0\" \"0\" \"0\" \"0\" \"0\" \"1\" \"1\" \"1\" \"1\" \"1\" \"1\"\n",
              "[20197] \"1\" \"0\" \"0\" \"1\" \"1\" \"1\" \"0\" \"0\" \"0\" \"1\" \"1\" \"0\" \"1\" \"1\" \"1\" \"1\" \"1\" \"1\"\n",
              "[20215] \"0\" \"0\" \"1\" \"0\" \"0\" \"1\" \"1\" \"1\" \"1\" \"0\" \"1\" \"0\" \"1\" \"1\" \"0\" \"1\" \"0\" \"1\"\n",
              "[20233] \"1\" \"0\" \"1\" \"0\" \"0\" \"0\" \"0\" \"1\" \"1\" \"1\" \"1\" \"0\" \"0\" \"1\" \"1\" \"1\" \"1\" \"1\"\n",
              "[20251] \"1\" \"1\" \"1\" \"1\" \"0\" \"1\" \"1\" \"1\" \"1\" \"1\" \"1\" \"0\" \"0\" \"1\" \"1\" \"0\" \"0\" \"0\"\n",
              "[20269] \"1\" \"0\" \"0\" \"1\" \"0\" \"1\" \"0\" \"1\" \"1\" \"1\" \"1\" \"0\" \"0\" \"1\" \"1\" \"1\" \"0\" \"1\"\n",
              "[20287] \"1\" \"1\" \"1\" \"0\" \"1\" \"0\" \"1\" \"1\" \"0\" \"0\" \"0\" \"1\" \"1\" \"0\" \"1\" \"0\" \"0\" \"0\"\n",
              "[20305] \"1\" \"1\" \"0\" \"1\" \"1\" \"1\" \"1\" \"1\" \"0\" \"0\" \"0\" \"1\" \"1\" \"1\" \"1\" \"1\" \"1\" \"1\"\n",
              "[20323] \"0\" \"0\" \"1\" \"0\" \"0\" \"1\" \"1\" \"1\" \"0\" \"1\" \"1\" \"1\" \"0\" \"1\" \"0\" \"0\" \"0\" \"1\"\n",
              "[20341] \"1\" \"0\" \"1\" \"1\" \"1\" \"0\" \"1\" \"1\" \"0\" \"1\" \"1\" \"0\" \"1\" \"1\" \"0\" \"1\" \"0\" \"1\"\n",
              "[20359] \"1\" \"0\" \"1\" \"0\" \"1\" \"1\" \"1\" \"1\" \"1\" \"1\" \"1\" \"1\" \"1\" \"1\" \"1\" \"1\" \"0\" \"1\"\n",
              "[20377] \"1\" \"1\" \"1\" \"1\" \"0\" \"1\" \"1\" \"1\" \"0\" \"0\" \"1\" \"1\" \"1\" \"0\" \"1\" \"1\" \"0\" \"1\"\n",
              "[20395] \"1\" \"0\" \"1\" \"1\" \"0\" \"0\" \"0\" \"0\" \"0\" \"1\" \"0\" \"1\" \"0\" \"1\" \"1\" \"1\" \"0\" \"1\"\n",
              "[20413] \"1\" \"0\" \"1\" \"1\" \"1\" \"1\" \"1\" \"1\" \"1\" \"0\" \"1\" \"1\" \"0\" \"1\" \"0\" \"1\" \"0\" \"1\"\n",
              "[20431] \"0\" \"1\" \"1\" \"1\" \"1\" \"1\" \"1\" \"0\" \"0\" \"0\" \"1\" \"1\" \"1\" \"0\" \"1\" \"0\" \"0\" \"1\"\n",
              "[20449] \"0\" \"1\" \"1\" \"0\" \"1\" \"0\" \"1\" \"0\" \"1\" \"1\" \"1\" \"1\" \"1\" \"0\" \"1\" \"0\" \"1\" \"1\"\n",
              "[20467] \"0\" \"1\" \"1\" \"1\" \"1\" \"1\" \"0\" \"1\" \"1\" \"0\" \"0\" \"0\" \"0\" \"1\" \"1\" \"1\" \"1\" \"0\"\n",
              "[20485] \"1\" \"1\" \"1\" \"1\" \"1\" \"1\" \"1\" \"1\" \"0\" \"1\" \"1\" \"0\" \"1\" \"1\" \"0\" \"1\" \"0\" \"0\"\n",
              "[20503] \"0\" \"1\" \"1\" \"1\" \"1\" \"1\" \"0\" \"1\" \"1\" \"1\" \"1\" \"1\" \"1\" \"0\" \"0\" \"1\" \"1\" \"1\"\n",
              "[20521] \"1\" \"1\" \"1\" \"1\" \"1\" \"0\" \"0\" \"1\" \"0\" \"1\" \"0\" \"1\" \"1\" \"0\" \"1\" \"1\" \"1\" \"1\"\n",
              "[20539] \"1\" \"0\" \"0\" \"1\" \"0\" \"1\" \"0\" \"1\" \"1\" \"0\" \"1\" \"1\" \"0\" \"0\" \"1\" \"0\" \"0\" \"1\"\n",
              "[20557] \"1\" \"1\" \"1\" \"1\" \"1\" \"1\" \"1\" \"1\" \"0\" \"1\" \"1\" \"0\" \"1\" \"1\" \"0\" \"0\" \"1\" \"0\"\n",
              "[20575] \"1\" \"1\" \"1\" \"1\" \"1\" \"1\" \"1\" \"1\" \"1\" \"1\" \"1\" \"1\" \"0\" \"1\" \"0\" \"1\" \"0\" \"1\"\n",
              "[20593] \"1\" \"1\" \"0\" \"1\" \"1\" \"0\" \"1\" \"1\" \"1\" \"1\" \"1\" \"1\" \"0\" \"1\" \"1\" \"1\" \"1\" \"1\"\n",
              "[20611] \"1\" \"0\" \"0\" \"0\" \"0\" \"1\" \"0\" \"0\" \"0\" \"1\" \"1\" \"1\" \"1\" \"0\" \"1\" \"1\" \"0\" \"1\"\n",
              "[20629] \"0\" \"0\" \"1\" \"0\" \"0\" \"0\" \"1\" \"1\" \"1\" \"0\" \"1\" \"1\" \"1\" \"1\" \"1\" \"1\" \"0\" \"1\"\n",
              "[20647] \"0\" \"0\" \"1\" \"1\" \"1\" \"1\" \"1\" \"0\" \"0\" \"0\" \"0\" \"1\" \"0\" \"1\" \"0\" \"1\" \"1\" \"0\"\n",
              "[20665] \"1\" \"1\" \"1\" \"1\" \"1\" \"0\" \"1\" \"0\" \"1\" \"1\" \"1\" \"1\" \"0\" \"0\" \"0\" \"1\" \"0\" \"1\"\n",
              "[20683] \"0\" \"1\" \"1\" \"1\" \"0\" \"1\" \"1\" \"1\" \"1\" \"1\" \"1\" \"1\" \"1\" \"1\" \"0\" \"0\" \"0\" \"1\"\n",
              "[20701] \"1\" \"1\" \"0\" \"1\" \"1\" \"1\" \"0\" \"0\" \"0\" \"0\" \"0\" \"1\" \"1\" \"1\" \"1\" \"1\" \"0\" \"0\"\n",
              "[20719] \"1\" \"0\" \"1\" \"0\" \"1\" \"1\" \"1\" \"1\" \"0\" \"0\" \"1\" \"1\" \"0\" \"0\" \"1\" \"1\" \"1\" \"1\"\n",
              "[20737] \"1\" \"0\" \"0\" \"1\" \"0\" \"1\" \"1\" \"0\" \"1\" \"0\" \"0\" \"0\" \"1\" \"0\" \"1\" \"1\" \"1\" \"1\"\n",
              "[20755] \"1\" \"0\" \"1\" \"0\" \"1\" \"1\" \"1\" \"0\" \"0\" \"1\" \"0\" \"1\" \"1\" \"1\" \"0\" \"1\" \"1\" \"0\"\n",
              "[20773] \"0\" \"1\" \"0\" \"1\" \"1\" \"1\" \"1\" \"0\" \"1\" \"0\" \"1\" \"0\" \"0\" \"1\" \"1\" \"0\" \"0\" \"0\"\n",
              "[20791] \"0\" \"0\" \"0\" \"1\" \"1\" \"1\" \"0\" \"0\" \"1\" \"1\" \"1\" \"1\" \"0\" \"1\" \"1\" \"0\" \"1\" \"1\"\n",
              "[20809] \"0\" \"0\" \"0\" \"0\" \"0\" \"1\" \"0\" \"1\" \"1\" \"1\" \"1\" \"0\" \"1\" \"0\" \"0\" \"1\" \"0\" \"0\"\n",
              "[20827] \"0\" \"0\" \"1\" \"1\" \"0\" \"1\" \"0\" \"0\" \"1\" \"1\" \"0\" \"1\" \"0\" \"0\" \"1\" \"1\" \"1\" \"0\"\n",
              "[20845] \"1\" \"1\" \"0\" \"0\" \"1\" \"0\" \"1\" \"0\" \"1\" \"1\" \"1\" \"1\" \"0\" \"1\" \"1\" \"1\" \"1\" \"0\"\n",
              "[20863] \"1\" \"1\" \"1\" \"1\" \"0\" \"1\" \"1\" \"1\" \"0\" \"0\" \"0\" \"1\" \"1\" \"0\" \"1\" \"1\" \"1\" \"1\"\n",
              "[20881] \"1\" \"0\" \"1\" \"0\" \"1\" \"0\" \"1\" \"0\" \"1\" \"1\" \"1\" \"0\" \"1\" \"1\" \"0\" \"0\" \"1\" \"1\"\n",
              "[20899] \"0\" \"1\" \"1\" \"0\" \"1\" \"1\" \"1\" \"0\" \"1\" \"1\" \"1\" \"0\" \"1\" \"1\" \"1\" \"1\" \"1\" \"1\"\n",
              "[20917] \"0\" \"1\" \"1\" \"0\" \"0\" \"0\" \"1\" \"1\" \"0\" \"0\" \"0\" \"0\" \"1\" \"1\" \"0\" \"1\" \"1\" \"1\"\n",
              "[20935] \"0\" \"1\" \"0\" \"1\" \"0\" \"0\" \"1\" \"0\" \"0\" \"1\" \"1\" \"0\" \"1\" \"1\" \"1\" \"1\" \"1\" \"1\"\n",
              "[20953] \"0\" \"1\" \"0\" \"0\" \"1\" \"1\" \"1\" \"0\" \"1\" \"1\" \"0\" \"1\" \"1\" \"0\" \"1\" \"0\" \"0\" \"0\"\n",
              "[20971] \"0\" \"0\" \"0\" \"0\" \"0\" \"1\" \"0\" \"0\" \"0\" \"0\" \"1\" \"1\" \"1\" \"1\" \"1\" \"0\" \"1\" \"1\"\n",
              "[20989] \"1\" \"0\" \"1\" \"1\" \"1\" \"0\" \"1\" \"0\" \"1\" \"0\" \"1\" \"0\" \"1\" \"0\" \"1\" \"1\" \"1\" \"1\"\n",
              "[21007] \"0\" \"1\" \"0\" \"1\" \"1\" \"0\" \"0\" \"1\" \"1\" \"1\" \"1\" \"1\" \"0\" \"1\" \"0\" \"0\" \"1\" \"1\"\n",
              "[21025] \"0\" \"0\" \"1\" \"1\" \"0\" \"1\" \"1\" \"0\" \"0\" \"0\" \"1\" \"1\" \"0\" \"1\" \"1\" \"0\" \"1\" \"0\"\n",
              "[21043] \"0\" \"0\" \"1\" \"1\" \"0\" \"1\" \"1\" \"1\" \"1\" \"1\" \"0\" \"1\" \"1\" \"1\" \"1\" \"0\" \"1\" \"1\"\n",
              "[21061] \"1\" \"1\" \"0\" \"1\" \"0\" \"1\" \"1\" \"1\" \"1\" \"0\" \"0\" \"0\" \"0\" \"1\" \"0\" \"0\" \"0\" \"1\"\n",
              "[21079] \"1\" \"1\" \"1\" \"1\" \"0\" \"1\" \"1\" \"1\" \"1\" \"1\" \"0\" \"1\" \"1\" \"0\" \"0\" \"1\" \"0\" \"1\"\n",
              "[21097] \"0\" \"1\" \"0\" \"0\" \"0\" \"1\" \"1\" \"0\" \"1\" \"0\" \"0\" \"1\" \"0\" \"1\" \"1\" \"0\" \"0\" \"1\"\n",
              "[21115] \"1\" \"0\" \"1\" \"0\" \"0\" \"1\" \"0\" \"1\" \"0\" \"1\" \"1\" \"0\" \"0\" \"1\" \"1\" \"0\" \"0\" \"0\"\n",
              "[21133] \"1\" \"1\" \"1\" \"1\" \"1\" \"1\" \"1\" \"0\" \"1\" \"0\" \"1\" \"0\" \"0\" \"1\" \"1\" \"1\" \"1\" \"0\"\n",
              "[21151] \"1\" \"1\" \"1\" \"1\" \"0\" \"0\" \"1\" \"0\" \"0\" \"1\" \"1\" \"1\" \"1\" \"1\" \"1\" \"1\" \"0\" \"1\"\n",
              "[21169] \"1\" \"0\" \"0\" \"1\" \"1\" \"1\" \"1\" \"0\" \"0\" \"1\" \"0\" \"0\" \"1\" \"1\" \"0\" \"1\" \"0\" \"1\"\n",
              "[21187] \"1\" \"1\" \"1\" \"1\" \"0\" \"0\" \"1\" \"1\" \"0\" \"0\" \"0\" \"1\" \"1\" \"1\" \"0\" \"1\" \"0\" \"1\"\n",
              "[21205] \"1\" \"1\" \"1\" \"1\" \"0\" \"1\" \"1\" \"0\" \"0\" \"1\" \"1\" \"1\" \"1\" \"0\" \"1\" \"1\" \"0\" \"1\"\n",
              "[21223] \"0\" \"1\" \"1\" \"0\" \"1\" \"0\" \"0\" \"1\" \"0\" \"1\" \"1\" \"0\" \"0\" \"1\" \"1\" \"1\" \"0\" \"1\"\n",
              "[21241] \"1\" \"1\" \"0\" \"1\" \"1\" \"1\" \"1\" \"1\" \"1\" \"1\" \"1\" \"0\" \"1\" \"1\" \"1\" \"1\" \"0\" \"1\"\n",
              "[21259] \"0\" \"0\" \"0\" \"1\" \"0\" \"1\" \"1\" \"0\" \"0\" \"1\" \"1\" \"0\" \"1\" \"1\" \"0\" \"0\" \"1\" \"0\"\n",
              "[21277] \"1\" \"0\" \"0\" \"1\" \"1\" \"1\" \"1\" \"1\" \"0\" \"1\" \"0\" \"0\" \"1\" \"1\" \"1\" \"1\" \"1\" \"1\"\n",
              "[21295] \"0\" \"0\" \"0\" \"1\" \"1\" \"0\" \"1\" \"1\" \"1\" \"0\" \"0\" \"0\" \"0\" \"1\" \"0\" \"1\" \"0\" \"1\"\n",
              "[21313] \"1\" \"1\" \"1\" \"1\" \"1\" \"1\" \"0\" \"0\" \"1\" \"1\" \"1\" \"0\" \"0\" \"0\" \"0\" \"1\" \"1\" \"0\"\n",
              "[21331] \"0\" \"1\" \"0\" \"1\" \"0\" \"1\" \"0\" \"1\" \"1\" \"0\" \"1\" \"1\" \"1\" \"1\" \"1\" \"1\" \"1\" \"1\"\n",
              "[21349] \"0\" \"1\" \"0\" \"1\" \"1\" \"0\" \"1\" \"0\" \"1\" \"1\" \"1\" \"0\" \"1\" \"0\" \"1\" \"1\" \"0\" \"0\"\n",
              "[21367] \"0\" \"1\" \"1\" \"0\" \"1\" \"0\" \"0\" \"1\" \"1\" \"1\" \"1\" \"0\" \"0\" \"0\" \"1\" \"1\" \"0\" \"0\"\n",
              "[21385] \"0\" \"1\" \"0\" \"1\" \"0\" \"0\" \"1\" \"0\" \"1\" \"1\" \"0\" \"1\" \"1\" \"1\" \"1\" \"1\" \"0\" \"1\"\n",
              "[21403] \"1\" \"1\" \"1\" \"1\" \"1\" \"0\" \"1\" \"1\" \"1\" \"1\" \"1\" \"1\" \"1\" \"1\" \"1\" \"0\" \"1\" \"1\"\n",
              "[21421] \"0\" \"1\" \"1\" \"0\" \"1\" \"1\" \"0\" \"1\" \"0\" \"0\" \"1\" \"1\" \"0\" \"1\" \"1\" \"1\" \"1\" \"0\"\n",
              "[21439] \"1\" \"1\" \"1\" \"1\" \"0\" \"1\" \"1\" \"1\" \"1\" \"1\" \"1\" \"1\" \"0\" \"1\" \"1\" \"1\" \"1\" \"1\"\n",
              "[21457] \"1\" \"1\" \"1\" \"0\" \"0\" \"0\" \"0\" \"1\" \"1\" \"1\" \"1\" \"1\" \"1\" \"1\" \"0\" \"0\" \"1\" \"1\"\n",
              "[21475] \"0\" \"0\" \"0\" \"0\" \"1\" \"1\" \"0\" \"1\" \"0\" \"0\" \"0\" \"0\" \"0\" \"1\" \"0\" \"1\" \"0\" \"0\"\n",
              "[21493] \"0\" \"1\" \"1\" \"1\" \"0\" \"1\" \"0\" \"1\" \"1\" \"1\" \"0\" \"0\" \"0\" \"1\" \"1\" \"0\" \"0\" \"0\"\n",
              "[21511] \"1\" \"1\" \"1\" \"0\" \"1\" \"1\" \"1\" \"1\" \"1\" \"1\" \"1\" \"0\" \"1\" \"1\" \"1\" \"0\" \"1\" \"1\"\n",
              "[21529] \"0\" \"1\" \"1\" \"1\" \"1\" \"0\" \"0\" \"0\" \"0\" \"1\" \"1\" \"0\" \"1\" \"0\" \"0\" \"1\" \"1\" \"0\"\n",
              "[21547] \"0\" \"1\" \"1\" \"0\" \"1\" \"1\" \"0\" \"1\" \"0\" \"1\" \"1\" \"1\" \"0\" \"1\" \"0\" \"1\" \"1\" \"1\"\n",
              "[21565] \"1\" \"1\" \"1\" \"1\" \"0\" \"1\" \"1\" \"0\" \"1\" \"1\" \"1\" \"1\" \"1\" \"1\" \"1\" \"0\" \"0\" \"0\"\n",
              "[21583] \"1\" \"0\" \"1\" \"0\" \"0\" \"0\" \"1\" \"1\" \"1\" \"0\" \"1\" \"0\" \"0\" \"1\" \"0\" \"1\" \"1\" \"1\"\n",
              "[21601] \"1\" \"0\" \"1\" \"1\" \"0\" \"1\" \"1\" \"0\" \"0\" \"0\" \"1\" \"0\" \"0\" \"1\" \"1\" \"0\" \"1\" \"0\"\n",
              "[21619] \"1\" \"1\" \"1\" \"1\" \"1\" \"1\" \"1\" \"0\" \"1\" \"0\" \"1\" \"1\" \"1\" \"1\" \"1\" \"1\" \"1\" \"0\"\n",
              "[21637] \"0\" \"1\" \"1\" \"1\" \"0\" \"1\" \"1\" \"1\" \"1\" \"1\" \"1\" \"1\" \"1\" \"1\" \"0\" \"0\" \"1\" \"1\"\n",
              "[21655] \"1\" \"0\" \"1\" \"1\" \"1\" \"1\" \"0\" \"0\" \"0\" \"1\" \"1\" \"0\" \"0\" \"1\" \"1\" \"1\" \"0\" \"1\"\n",
              "[21673] \"1\" \"0\" \"0\" \"1\" \"1\" \"0\" \"0\" \"0\" \"1\" \"1\" \"0\" \"1\" \"1\" \"0\" \"0\" \"1\" \"0\" \"0\"\n",
              "[21691] \"0\" \"1\" \"0\" \"1\" \"0\" \"1\" \"1\" \"0\" \"0\" \"0\" \"1\" \"1\" \"0\" \"1\" \"1\" \"0\" \"1\" \"1\"\n",
              "[21709] \"0\" \"0\" \"1\" \"0\" \"0\" \"1\" \"0\" \"1\" \"0\" \"1\" \"0\" \"1\" \"0\" \"1\" \"1\" \"1\" \"1\" \"1\"\n",
              "[21727] \"1\" \"0\" \"0\" \"1\" \"0\" \"0\" \"1\" \"1\" \"1\" \"1\" \"0\" \"0\" \"0\" \"1\" \"1\" \"0\" \"1\" \"1\"\n",
              "[21745] \"1\" \"1\" \"0\" \"0\" \"1\" \"1\" \"0\" \"1\" \"1\" \"0\" \"1\" \"0\" \"1\" \"1\" \"1\" \"0\" \"1\" \"1\"\n",
              "[21763] \"1\" \"1\" \"1\" \"0\" \"1\" \"0\" \"0\" \"0\" \"0\" \"0\" \"1\" \"0\" \"0\" \"1\" \"1\" \"0\" \"1\" \"1\"\n",
              "[21781] \"0\" \"0\" \"1\" \"1\" \"0\" \"1\" \"0\" \"0\" \"0\" \"1\" \"1\" \"1\" \"1\" \"0\" \"0\" \"0\" \"1\" \"1\"\n",
              "[21799] \"1\" \"1\" \"1\" \"1\" \"0\" \"0\" \"1\" \"1\" \"1\" \"0\" \"0\" \"1\" \"0\" \"1\" \"0\" \"0\" \"1\" \"0\"\n",
              "[21817] \"0\" \"1\" \"1\" \"1\" \"0\" \"1\" \"1\" \"1\" \"1\" \"0\" \"1\" \"1\" \"1\" \"0\" \"1\" \"1\" \"0\" \"1\"\n",
              "[21835] \"1\" \"1\" \"1\" \"0\" \"0\" \"1\" \"1\" \"1\" \"1\" \"1\" \"0\" \"1\" \"0\" \"0\" \"0\" \"0\" \"1\" \"0\"\n",
              "[21853] \"1\" \"1\" \"1\" \"1\" \"1\" \"0\" \"1\" \"1\" \"1\" \"1\" \"1\" \"0\" \"0\" \"1\" \"1\" \"1\" \"1\" \"0\"\n",
              "[21871] \"1\" \"1\" \"0\" \"0\" \"1\" \"1\" \"1\" \"1\" \"1\" \"1\" \"0\" \"0\" \"1\" \"1\" \"1\" \"1\" \"1\" \"1\"\n",
              "[21889] \"0\" \"1\" \"0\" \"1\" \"0\" \"0\" \"1\" \"0\" \"0\" \"1\" \"1\" \"0\" \"1\" \"0\" \"1\" \"1\" \"1\" \"0\"\n",
              "[21907] \"1\" \"1\" \"1\" \"0\" \"1\" \"1\" \"1\" \"1\" \"0\" \"1\" \"1\" \"1\" \"0\" \"0\" \"1\" \"1\" \"1\" \"1\"\n",
              "[21925] \"0\" \"1\" \"0\" \"1\" \"1\" \"1\" \"0\" \"1\" \"0\" \"1\" \"1\" \"1\" \"0\" \"0\" \"1\" \"0\" \"1\" \"1\"\n",
              "[21943] \"1\" \"0\" \"1\" \"0\" \"1\" \"1\" \"0\" \"1\" \"1\" \"1\" \"0\" \"0\" \"1\" \"0\" \"1\" \"0\" \"0\" \"1\"\n",
              "[21961] \"1\" \"0\" \"0\" \"1\" \"1\" \"0\" \"1\" \"1\" \"1\" \"1\" \"0\" \"0\" \"0\" \"1\" \"0\" \"1\" \"1\" \"1\"\n",
              "[21979] \"1\" \"1\" \"1\" \"1\" \"0\" \"1\" \"1\" \"1\" \"1\" \"1\" \"1\" \"1\" \"0\" \"1\" \"1\" \"1\" \"0\" \"0\"\n",
              "[21997] \"0\" \"1\" \"0\" \"0\" \"1\" \"1\" \"1\" \"1\" \"1\" \"1\" \"0\" \"1\" \"1\" \"1\" \"1\" \"1\" \"0\" \"1\"\n",
              "[22015] \"0\" \"0\" \"1\" \"1\" \"0\" \"0\" \"0\" \"0\" \"0\" \"1\" \"0\" \"1\" \"1\" \"0\" \"1\" \"0\" \"1\" \"0\"\n",
              "[22033] \"0\" \"1\" \"0\" \"1\" \"0\" \"0\" \"0\" \"0\" \"0\" \"1\" \"1\" \"0\" \"1\" \"0\" \"1\" \"0\" \"0\" \"1\"\n",
              "[22051] \"1\" \"0\" \"1\" \"0\" \"0\" \"1\" \"1\" \"1\" \"0\" \"1\" \"1\" \"1\" \"1\" \"1\" \"1\" \"0\" \"1\" \"0\"\n",
              "[22069] \"1\" \"0\" \"1\" \"1\" \"1\" \"1\" \"0\" \"0\" \"0\" \"1\" \"1\" \"1\" \"1\" \"0\" \"1\" \"1\" \"1\" \"1\"\n",
              "[22087] \"1\" \"1\" \"1\" \"0\" \"1\" \"0\" \"0\" \"1\" \"0\" \"0\" \"1\" \"0\" \"1\" \"0\" \"0\" \"1\" \"1\" \"1\"\n",
              "[22105] \"0\" \"0\" \"1\" \"0\" \"0\" \"1\" \"1\" \"1\" \"0\" \"1\" \"1\" \"1\" \"0\" \"1\" \"0\" \"0\" \"1\" \"1\"\n",
              "[22123] \"0\" \"1\" \"1\" \"1\" \"0\" \"1\" \"1\" \"1\" \"1\" \"1\" \"1\" \"1\" \"0\" \"1\" \"0\" \"1\" \"0\" \"1\"\n",
              "[22141] \"1\" \"0\" \"1\" \"0\" \"1\" \"1\" \"1\" \"1\" \"0\" \"1\" \"1\" \"0\" \"1\" \"1\" \"0\" \"1\" \"1\" \"1\"\n",
              "[22159] \"1\" \"0\" \"1\" \"1\" \"1\" \"0\" \"1\" \"0\" \"1\" \"0\" \"0\" \"1\" \"1\" \"0\" \"0\" \"0\" \"1\" \"1\"\n",
              "[22177] \"0\" \"1\" \"0\" \"0\" \"1\" \"1\" \"1\" \"1\" \"0\" \"0\" \"1\" \"1\" \"1\" \"1\" \"1\" \"0\" \"0\" \"1\"\n",
              "[22195] \"1\" \"1\" \"1\" \"1\" \"1\" \"0\" \"1\" \"1\" \"0\" \"0\" \"1\" \"1\" \"1\" \"1\" \"1\" \"0\" \"1\" \"0\"\n",
              "[22213] \"1\" \"0\" \"1\" \"0\" \"1\" \"1\" \"1\" \"1\" \"0\" \"0\" \"1\" \"1\" \"0\" \"0\" \"1\" \"1\" \"1\" \"0\"\n",
              "[22231] \"1\" \"1\" \"0\" \"0\" \"1\" \"0\" \"1\" \"1\" \"1\" \"0\" \"1\" \"0\" \"1\" \"0\" \"0\" \"1\" \"1\" \"1\"\n",
              "[22249] \"1\" \"0\" \"0\" \"1\" \"1\" \"0\" \"1\" \"0\" \"0\" \"1\" \"0\" \"0\" \"0\" \"1\" \"0\" \"0\" \"0\" \"1\"\n",
              "[22267] \"1\" \"0\" \"1\" \"1\" \"0\" \"1\" \"1\" \"0\" \"1\" \"1\" \"1\" \"1\" \"1\" \"1\" \"1\" \"0\" \"1\" \"0\"\n",
              "[22285] \"1\" \"1\" \"1\" \"0\" \"1\" \"0\" \"1\" \"0\" \"0\" \"1\" \"0\" \"1\" \"0\" \"0\" \"0\" \"0\" \"0\" \"1\"\n",
              "[22303] \"0\" \"0\" \"0\" \"1\" \"1\" \"0\" \"0\" \"1\" \"0\" \"0\" \"0\" \"1\" \"0\" \"1\" \"1\" \"1\" \"1\" \"1\"\n",
              "[22321] \"0\" \"1\" \"1\" \"1\" \"1\" \"1\" \"1\" \"0\" \"1\" \"1\" \"0\" \"1\" \"1\" \"1\" \"1\" \"1\" \"1\" \"1\"\n",
              "[22339] \"1\" \"0\" \"0\" \"1\" \"0\" \"0\" \"0\" \"1\" \"1\" \"0\" \"0\" \"0\" \"0\" \"1\" \"0\" \"1\" \"1\" \"0\"\n",
              "[22357] \"0\" \"1\" \"0\" \"1\" \"0\" \"1\" \"1\" \"1\" \"1\" \"0\" \"1\" \"0\" \"0\" \"1\" \"0\" \"0\" \"0\" \"1\"\n",
              "[22375] \"1\" \"1\" \"1\" \"1\" \"1\" \"0\" \"0\" \"0\" \"1\" \"0\" \"1\" \"1\" \"1\" \"0\" \"1\" \"1\" \"1\" \"1\"\n",
              "[22393] \"1\" \"1\" \"1\" \"0\" \"0\" \"1\" \"1\" \"1\" \"0\" \"0\" \"1\" \"1\" \"1\" \"0\" \"1\" \"1\" \"1\" \"0\"\n",
              "[22411] \"1\" \"0\" \"1\" \"1\" \"1\" \"0\" \"1\" \"1\" \"0\" \"1\" \"1\" \"1\" \"1\" \"0\" \"1\" \"1\" \"0\" \"1\"\n",
              "[22429] \"1\" \"1\" \"1\" \"1\" \"1\" \"1\" \"1\" \"0\" \"1\" \"1\" \"1\" \"1\" \"0\" \"1\" \"0\" \"1\" \"1\" \"1\"\n",
              "[22447] \"1\" \"1\" \"0\" \"1\" \"0\" \"1\" \"1\" \"0\" \"1\" \"1\" \"1\" \"0\" \"1\" \"1\" \"1\" \"0\" \"0\" \"0\"\n",
              "[22465] \"0\" \"0\" \"1\" \"1\" \"1\" \"0\" \"1\" \"1\" \"0\" \"1\" \"1\" \"1\" \"1\" \"0\" \"1\" \"0\" \"0\" \"0\"\n",
              "[22483] \"1\" \"0\" \"1\" \"1\" \"1\" \"1\" \"1\" \"1\" \"0\" \"1\" \"1\" \"0\" \"1\" \"0\" \"0\" \"1\" \"1\" \"1\"\n",
              "[22501] \"1\" \"0\" \"0\" \"1\" \"1\" \"1\" \"1\" \"1\" \"0\" \"0\" \"0\" \"1\" \"1\" \"1\" \"1\" \"1\" \"1\" \"0\"\n",
              "[22519] \"1\" \"1\" \"1\" \"1\" \"1\" \"0\" \"1\" \"1\" \"1\" \"1\" \"1\" \"0\" \"0\" \"1\" \"1\" \"1\" \"0\" \"0\"\n",
              "[22537] \"1\" \"1\" \"1\" \"1\" \"1\" \"1\" \"1\" \"1\" \"1\" \"0\" \"1\" \"1\" \"1\" \"0\" \"0\" \"0\" \"0\" \"1\"\n",
              "[22555] \"0\" \"1\" \"1\" \"1\" \"1\" \"1\" \"0\" \"0\" \"1\" \"0\" \"1\" \"0\" \"1\" \"1\" \"1\" \"1\" \"1\" \"1\"\n",
              "[22573] \"0\" \"1\" \"0\" \"1\" \"0\" \"1\" \"1\" \"1\" \"1\" \"1\" \"0\" \"0\" \"0\" \"1\" \"1\" \"1\" \"1\" \"1\"\n",
              "[22591] \"1\" \"1\" \"1\" \"1\" \"1\" \"1\" \"1\" \"0\" \"1\" \"1\" \"1\" \"1\" \"1\" \"0\" \"0\" \"1\" \"1\" \"0\"\n",
              "[22609] \"1\" \"0\" \"1\" \"0\" \"1\" \"0\" \"1\" \"0\" \"0\" \"0\" \"1\" \"0\" \"1\" \"1\" \"1\" \"1\" \"1\" \"0\"\n",
              "[22627] \"0\" \"0\" \"0\" \"1\" \"1\" \"1\" \"1\" \"0\" \"1\" \"0\" \"0\" \"1\" \"1\" \"1\" \"1\" \"0\" \"0\" \"1\"\n",
              "[22645] \"1\" \"1\" \"0\" \"1\" \"1\" \"1\" \"1\" \"1\" \"1\" \"1\" \"1\" \"1\" \"0\" \"1\" \"0\" \"0\" \"0\" \"1\"\n",
              "[22663] \"1\" \"1\" \"0\" \"1\" \"0\" \"1\" \"1\" \"1\" \"0\" \"1\" \"1\" \"0\" \"0\" \"1\" \"1\" \"1\" \"0\" \"1\"\n",
              "[22681] \"1\" \"0\" \"1\" \"0\" \"1\" \"1\" \"0\" \"0\" \"1\" \"1\" \"0\" \"1\" \"0\" \"0\" \"1\" \"0\" \"1\" \"1\"\n",
              "[22699] \"0\" \"1\" \"1\" \"1\" \"1\" \"1\" \"1\" \"1\" \"0\" \"0\" \"1\" \"0\" \"0\" \"1\" \"0\" \"1\" \"1\" \"1\"\n",
              "[22717] \"1\" \"0\" \"1\" \"0\" \"1\" \"0\" \"0\" \"1\" \"1\" \"0\" \"1\" \"0\" \"0\" \"0\" \"0\" \"0\" \"1\" \"0\"\n",
              "[22735] \"0\" \"1\" \"0\" \"1\" \"1\" \"1\" \"0\" \"0\" \"0\" \"1\" \"1\" \"1\" \"0\" \"1\" \"1\" \"1\" \"0\" \"1\"\n",
              "[22753] \"0\" \"0\" \"1\" \"0\" \"1\" \"1\" \"1\" \"1\" \"1\" \"1\" \"1\" \"0\" \"0\" \"1\" \"1\" \"1\" \"1\" \"1\"\n",
              "[22771] \"1\" \"1\" \"1\" \"1\" \"1\" \"1\" \"0\" \"0\" \"1\" \"0\" \"1\" \"0\" \"1\" \"0\" \"1\" \"0\" \"0\" \"1\"\n",
              "[22789] \"0\" \"0\" \"1\" \"1\" \"1\" \"1\" \"0\" \"1\" \"1\" \"0\" \"0\" \"0\" \"1\" \"0\" \"1\" \"1\" \"1\" \"0\"\n",
              "[22807] \"1\" \"1\" \"1\" \"1\" \"0\" \"0\" \"1\" \"0\" \"0\" \"1\" \"1\" \"1\" \"1\" \"0\" \"1\" \"1\" \"0\" \"1\"\n",
              "[22825] \"0\" \"0\" \"0\" \"1\" \"1\" \"1\" \"0\" \"1\" \"0\" \"1\" \"0\" \"1\" \"0\" \"0\" \"0\" \"1\" \"1\" \"0\"\n",
              "[22843] \"0\" \"1\" \"1\" \"1\" \"1\" \"1\" \"0\" \"1\" \"1\" \"1\" \"0\" \"1\" \"1\" \"0\" \"1\" \"0\" \"0\" \"1\"\n",
              "[22861] \"0\" \"1\" \"1\" \"1\" \"0\" \"1\" \"1\" \"1\" \"1\" \"0\" \"1\" \"0\" \"1\" \"0\" \"1\" \"0\" \"1\" \"0\"\n",
              "[22879] \"1\" \"0\" \"1\" \"0\" \"1\" \"0\" \"0\" \"0\" \"0\" \"1\" \"0\" \"0\" \"1\" \"0\" \"0\" \"1\" \"1\" \"1\"\n",
              "[22897] \"0\" \"0\" \"1\" \"1\" \"1\" \"1\" \"0\" \"1\" \"0\" \"1\" \"1\" \"0\" \"1\" \"1\" \"1\" \"0\" \"0\" \"1\"\n",
              "[22915] \"1\" \"0\" \"1\" \"0\" \"0\" \"1\" \"0\" \"0\" \"1\" \"0\" \"1\" \"1\" \"1\" \"1\" \"0\" \"1\" \"0\" \"1\"\n",
              "[22933] \"0\" \"1\" \"0\" \"1\" \"1\" \"1\" \"0\" \"1\" \"0\" \"1\" \"1\" \"1\" \"1\" \"1\" \"1\" \"1\" \"1\" \"1\"\n",
              "[22951] \"0\" \"1\" \"1\" \"1\" \"0\" \"1\" \"1\" \"0\" \"0\" \"1\" \"0\" \"1\" \"1\" \"0\" \"1\" \"1\" \"1\" \"0\"\n",
              "[22969] \"1\" \"1\" \"1\" \"1\" \"1\" \"0\" \"0\" \"1\" \"1\" \"1\" \"0\" \"1\" \"0\" \"0\" \"0\" \"0\" \"1\" \"1\"\n",
              "[22987] \"0\" \"1\" \"0\" \"0\" \"1\" \"1\" \"0\" \"1\" \"1\" \"1\" \"0\" \"0\" \"0\" \"0\" \"0\" \"0\" \"1\" \"0\"\n",
              "[23005] \"1\" \"1\" \"1\" \"1\" \"1\" \"1\" \"1\" \"0\" \"1\" \"1\" \"0\" \"1\" \"1\" \"1\" \"1\" \"1\" \"1\" \"1\"\n",
              "[23023] \"1\" \"0\" \"0\" \"0\" \"0\" \"0\" \"1\" \"1\" \"0\" \"0\" \"1\" \"0\" \"0\" \"1\" \"1\" \"0\" \"0\" \"0\"\n",
              "[23041] \"1\" \"1\" \"0\" \"0\" \"1\" \"1\" \"1\" \"1\" \"0\" \"0\" \"0\" \"1\" \"1\" \"1\" \"1\" \"1\" \"0\" \"1\"\n",
              "[23059] \"1\" \"0\" \"1\" \"1\" \"0\" \"0\" \"0\" \"0\" \"0\" \"0\" \"0\" \"1\" \"1\" \"0\" \"0\" \"1\" \"1\" \"1\"\n",
              "[23077] \"0\" \"1\" \"1\" \"1\" \"1\" \"0\" \"1\" \"1\" \"1\" \"0\" \"1\" \"1\" \"0\" \"1\" \"1\" \"0\" \"1\" \"1\"\n",
              "[23095] \"0\" \"0\" \"0\" \"1\" \"1\" \"1\" \"1\" \"1\" \"0\" \"1\" \"0\" \"0\" \"1\" \"1\" \"1\" \"0\" \"1\" \"0\"\n",
              "[23113] \"0\" \"1\" \"0\" \"0\" \"0\" \"0\" \"0\" \"1\" \"0\" \"0\" \"1\" \"1\" \"1\" \"1\" \"1\" \"1\" \"0\" \"0\"\n",
              "[23131] \"1\" \"1\" \"1\" \"1\" \"1\" \"0\" \"0\" \"1\" \"0\" \"0\" \"1\" \"1\" \"1\" \"0\" \"1\" \"1\" \"0\" \"0\"\n",
              "[23149] \"0\" \"1\" \"0\" \"1\" \"0\" \"1\" \"1\" \"0\" \"1\" \"1\" \"0\" \"1\" \"1\" \"1\" \"0\" \"0\" \"1\" \"1\"\n",
              "[23167] \"0\" \"1\" \"0\" \"0\" \"0\" \"1\" \"1\" \"0\" \"1\" \"0\" \"0\" \"1\" \"1\" \"0\" \"1\" \"1\" \"1\" \"1\"\n",
              "[23185] \"1\" \"0\" \"0\" \"0\" \"0\" \"1\" \"1\" \"0\" \"0\" \"0\" \"1\" \"1\" \"1\" \"1\" \"1\" \"0\" \"1\" \"0\"\n",
              "[23203] \"0\" \"0\" \"0\" \"1\" \"0\" \"1\" \"0\" \"1\" \"1\" \"1\" \"1\" \"0\" \"1\" \"1\" \"0\" \"1\" \"0\" \"0\"\n",
              "[23221] \"1\" \"0\" \"1\" \"1\" \"1\" \"1\" \"1\" \"1\" \"1\" \"1\" \"0\" \"1\" \"0\" \"1\" \"1\" \"0\" \"1\" \"1\"\n",
              "[23239] \"1\" \"0\" \"1\" \"0\" \"0\" \"0\" \"1\" \"0\" \"1\" \"0\" \"1\" \"1\" \"1\" \"0\" \"1\" \"1\" \"1\" \"1\"\n",
              "[23257] \"1\" \"1\" \"1\" \"1\" \"1\" \"1\" \"1\" \"1\" \"0\" \"1\" \"1\" \"0\" \"1\" \"1\" \"1\" \"1\" \"0\" \"0\"\n",
              "[23275] \"1\" \"0\" \"1\" \"0\" \"1\" \"1\" \"1\" \"0\" \"1\" \"0\" \"0\" \"1\" \"1\" \"1\" \"1\" \"0\" \"1\" \"1\"\n",
              "[23293] \"0\" \"1\" \"0\" \"1\" \"1\" \"0\" \"1\" \"0\" \"0\" \"1\" \"1\" \"1\" \"0\" \"1\" \"1\" \"1\" \"1\" \"0\"\n",
              "[23311] \"1\" \"1\" \"1\" \"1\" \"0\" \"0\" \"0\" \"1\" \"1\" \"1\" \"1\" \"0\" \"0\" \"1\" \"1\" \"1\" \"0\" \"1\"\n",
              "[23329] \"0\" \"0\" \"0\" \"1\" \"0\" \"0\" \"1\" \"0\" \"0\" \"0\" \"0\" \"1\" \"0\" \"1\" \"0\" \"1\" \"1\" \"0\"\n",
              "[23347] \"1\" \"0\" \"0\" \"0\" \"0\" \"0\" \"0\" \"0\" \"1\" \"0\" \"1\" \"0\" \"1\" \"1\" \"0\" \"1\" \"0\" \"1\"\n",
              "[23365] \"0\" \"0\" \"1\" \"1\" \"1\" \"0\" \"1\" \"0\" \"0\" \"0\" \"0\" \"1\" \"0\" \"1\" \"1\" \"0\" \"1\" \"1\"\n",
              "[23383] \"1\" \"1\" \"1\" \"0\" \"0\" \"0\" \"1\" \"1\" \"0\" \"1\" \"1\" \"0\" \"0\" \"0\" \"1\" \"1\" \"1\" \"0\"\n",
              "[23401] \"1\" \"0\" \"1\" \"1\" \"1\" \"0\" \"1\" \"0\" \"0\" \"1\" \"1\" \"1\" \"1\" \"0\" \"0\" \"0\" \"1\" \"1\"\n",
              "[23419] \"1\" \"1\" \"1\" \"1\" \"1\" \"1\" \"1\" \"1\" \"1\" \"0\" \"0\" \"1\" \"1\" \"0\" \"1\" \"0\" \"0\" \"0\"\n",
              "[23437] \"1\" \"0\" \"0\" \"1\" \"0\" \"1\" \"1\" \"1\" \"0\" \"0\" \"1\" \"0\" \"0\" \"0\" \"1\" \"1\" \"1\" \"0\"\n",
              "[23455] \"0\" \"0\" \"0\" \"0\" \"0\" \"1\" \"1\" \"0\" \"0\" \"1\" \"1\" \"0\" \"0\" \"1\" \"0\" \"1\" \"0\" \"0\"\n",
              "[23473] \"0\" \"0\" \"1\" \"1\" \"0\" \"0\" \"0\" \"1\" \"1\" \"0\" \"1\" \"1\" \"1\" \"1\" \"1\" \"1\" \"1\" \"1\"\n",
              "[23491] \"0\" \"1\" \"0\" \"0\" \"0\" \"1\" \"1\" \"1\" \"1\" \"1\" \"1\" \"1\" \"0\" \"1\" \"1\" \"1\" \"0\" \"0\"\n",
              "[23509] \"0\" \"1\" \"0\" \"1\" \"0\" \"0\" \"0\" \"0\" \"1\" \"1\" \"1\" \"1\" \"0\" \"1\" \"0\" \"0\" \"0\" \"0\"\n",
              "[23527] \"0\" \"1\" \"1\" \"1\" \"0\" \"0\" \"0\" \"1\" \"0\" \"1\" \"0\" \"1\" \"1\" \"0\" \"1\" \"0\" \"1\" \"1\"\n",
              "[23545] \"0\" \"1\" \"1\" \"0\" \"1\" \"0\" \"1\" \"0\" \"1\" \"1\" \"1\" \"0\" \"0\" \"1\" \"1\" \"0\" \"1\" \"0\"\n",
              "[23563] \"1\" \"1\" \"0\" \"0\" \"0\" \"1\" \"1\" \"1\" \"1\" \"1\" \"0\" \"1\" \"0\" \"1\" \"0\" \"1\" \"1\" \"0\"\n",
              "[23581] \"1\" \"0\" \"1\" \"1\" \"0\" \"1\" \"1\" \"0\" \"0\" \"1\" \"1\" \"0\" \"1\" \"0\" \"0\" \"1\" \"1\" \"1\"\n",
              "[23599] \"1\" \"0\" \"1\" \"0\" \"1\" \"0\" \"1\" \"0\" \"0\" \"1\" \"0\" \"0\" \"1\" \"1\" \"1\" \"1\" \"0\" \"1\"\n",
              "[23617] \"1\" \"0\" \"1\" \"1\" \"1\" \"1\" \"0\" \"1\" \"0\" \"1\" \"0\" \"0\" \"1\" \"1\" \"1\" \"0\" \"0\" \"0\"\n",
              "[23635] \"1\" \"0\" \"1\" \"0\" \"1\" \"1\" \"1\" \"1\" \"1\" \"1\" \"1\" \"0\" \"1\" \"1\" \"1\" \"1\" \"1\" \"1\"\n",
              "[23653] \"0\" \"1\" \"1\" \"1\" \"0\" \"0\" \"1\" \"1\" \"0\" \"1\" \"1\" \"1\" \"1\" \"1\" \"1\" \"0\" \"1\" \"0\"\n",
              "[23671] \"0\" \"1\" \"1\" \"1\" \"0\" \"0\" \"1\" \"0\" \"1\" \"0\" \"0\" \"1\" \"0\" \"1\" \"0\" \"1\" \"1\" \"1\"\n",
              "[23689] \"1\" \"1\" \"0\" \"1\" \"0\" \"0\" \"1\" \"1\" \"1\" \"0\" \"0\" \"0\" \"1\" \"1\" \"1\" \"1\" \"0\" \"1\"\n",
              "[23707] \"1\" \"0\" \"1\" \"1\" \"0\" \"1\" \"1\" \"1\" \"1\" \"0\" \"1\" \"0\" \"1\" \"1\" \"0\" \"0\" \"1\" \"0\"\n",
              "[23725] \"1\" \"1\" \"1\" \"0\" \"0\" \"1\" \"1\" \"1\" \"1\" \"1\" \"1\" \"1\" \"1\" \"0\" \"1\" \"1\" \"1\" \"1\"\n",
              "[23743] \"1\" \"0\" \"0\" \"1\" \"0\" \"0\" \"1\" \"1\" \"1\" \"0\" \"1\" \"1\" \"1\" \"1\" \"1\" \"0\" \"0\" \"0\"\n",
              "[23761] \"1\" \"1\" \"0\" \"0\" \"1\" \"0\" \"0\" \"0\" \"1\" \"1\" \"1\" \"0\" \"1\" \"0\" \"1\" \"0\" \"0\" \"1\"\n",
              "[23779] \"1\" \"1\" \"0\" \"1\" \"1\" \"1\" \"1\" \"0\" \"0\" \"0\" \"1\" \"1\" \"1\" \"1\" \"1\" \"1\" \"0\" \"1\"\n",
              "[23797] \"1\" \"0\" \"0\" \"1\" \"0\" \"0\" \"0\" \"0\" \"1\" \"1\" \"1\" \"0\" \"1\" \"0\" \"1\" \"0\" \"0\" \"1\"\n",
              "[23815] \"1\" \"1\" \"1\" \"0\" \"1\" \"1\" \"0\" \"1\" \"0\" \"0\" \"1\" \"1\" \"0\" \"1\" \"0\" \"1\" \"1\" \"1\"\n",
              "[23833] \"0\" \"1\" \"0\" \"1\" \"1\" \"1\" \"1\" \"0\" \"0\" \"1\" \"1\" \"1\" \"1\" \"1\" \"1\" \"0\" \"0\" \"1\"\n",
              "[23851] \"1\" \"0\" \"1\" \"1\" \"1\" \"0\" \"0\" \"1\" \"1\" \"0\" \"1\" \"1\" \"0\" \"1\" \"1\" \"0\" \"1\" \"1\"\n",
              "[23869] \"1\" \"1\" \"0\" \"0\" \"1\" \"1\" \"1\" \"1\" \"1\" \"1\" \"1\" \"1\" \"1\" \"0\" \"0\" \"1\" \"1\" \"1\"\n",
              "[23887] \"1\" \"0\" \"0\" \"1\" \"1\" \"1\" \"1\" \"1\" \"1\" \"1\" \"1\" \"1\" \"1\" \"1\" \"1\" \"1\" \"1\" \"1\"\n",
              "[23905] \"1\" \"0\" \"0\" \"1\" \"0\" \"0\" \"0\" \"1\" \"1\" \"1\" \"0\" \"0\" \"1\" \"1\" \"1\" \"1\" \"0\" \"1\"\n",
              "[23923] \"1\" \"0\" \"0\" \"1\" \"1\" \"0\" \"1\" \"0\" \"1\" \"1\" \"1\" \"0\" \"1\" \"1\" \"0\" \"1\" \"1\" \"1\"\n",
              "[23941] \"0\" \"0\" \"1\" \"0\" \"0\" \"0\" \"0\" \"0\" \"0\" \"1\" \"1\" \"1\" \"1\" \"0\" \"1\" \"1\" \"1\" \"0\"\n",
              "[23959] \"1\" \"0\" \"1\" \"1\" \"1\" \"0\" \"1\" \"1\" \"0\" \"1\" \"1\" \"0\" \"1\" \"1\" \"1\" \"1\" \"1\" \"1\"\n",
              "[23977] \"1\" \"1\" \"1\" \"1\" \"0\" \"1\" \"0\" \"1\" \"0\" \"0\" \"1\" \"1\" \"1\" \"1\" \"1\" \"1\" \"1\" \"0\"\n",
              "[23995] \"1\" \"1\" \"0\" \"0\" \"1\" \"1\" \"0\" \"0\" \"1\" \"1\" \"0\" \"1\" \"0\" \"0\" \"1\" \"0\" \"1\" \"0\"\n",
              "[24013] \"0\" \"0\" \"1\" \"0\" \"0\" \"0\" \"1\" \"0\" \"0\" \"0\" \"0\" \"1\" \"1\" \"1\" \"1\" \"0\" \"1\" \"1\"\n",
              "[24031] \"1\" \"1\" \"1\" \"0\" \"1\" \"1\" \"1\" \"1\" \"1\" \"0\" \"0\" \"1\" \"1\" \"0\" \"1\" \"1\" \"1\" \"0\"\n",
              "[24049] \"1\" \"1\" \"1\" \"0\" \"1\" \"1\" \"1\" \"0\" \"0\" \"1\" \"0\" \"0\" \"1\" \"1\" \"1\" \"1\" \"1\" \"1\"\n",
              "[24067] \"0\" \"1\" \"1\" \"0\" \"1\" \"1\" \"1\" \"1\" \"1\" \"1\" \"0\" \"0\" \"1\" \"1\" \"0\" \"0\" \"1\" \"0\"\n",
              "[24085] \"1\" \"0\" \"0\" \"1\" \"1\" \"1\" \"1\" \"0\" \"1\" \"0\" \"1\" \"1\" \"0\" \"0\" \"0\" \"0\" \"1\" \"1\"\n",
              "[24103] \"0\" \"1\" \"1\" \"1\" \"1\" \"1\" \"1\" \"0\" \"0\" \"0\" \"0\" \"1\" \"1\" \"0\" \"0\" \"0\" \"0\" \"1\"\n",
              "[24121] \"1\" \"0\" \"1\" \"1\" \"1\" \"1\" \"1\" \"0\" \"1\" \"0\" \"1\" \"1\" \"1\" \"1\" \"1\" \"0\" \"1\" \"1\"\n",
              "[24139] \"0\" \"1\" \"1\" \"1\" \"1\" \"0\" \"1\" \"0\" \"0\" \"1\" \"1\" \"0\" \"1\" \"1\" \"1\" \"0\" \"1\" \"1\"\n",
              "[24157] \"1\" \"1\" \"0\" \"1\" \"1\" \"1\" \"0\" \"0\" \"1\" \"0\" \"1\" \"0\" \"1\" \"1\" \"1\" \"1\" \"0\" \"1\"\n",
              "[24175] \"1\" \"1\" \"0\" \"1\" \"1\" \"0\" \"1\" \"1\" \"0\" \"1\" \"1\" \"0\" \"1\" \"1\" \"1\" \"0\" \"1\" \"1\"\n",
              "[24193] \"0\" \"1\" \"0\" \"1\" \"1\" \"1\" \"1\" \"0\" \"1\" \"1\" \"0\" \"0\" \"0\" \"0\" \"1\" \"1\" \"0\" \"1\"\n",
              "[24211] \"1\" \"0\" \"0\" \"0\" \"0\" \"1\" \"0\" \"0\" \"1\" \"1\" \"1\" \"0\" \"1\" \"1\" \"1\" \"0\" \"0\" \"0\"\n",
              "[24229] \"1\" \"1\" \"1\" \"0\" \"1\" \"1\" \"0\" \"1\" \"1\" \"0\" \"0\" \"1\" \"1\" \"0\" \"0\" \"0\" \"0\" \"1\"\n",
              "[24247] \"0\" \"1\" \"1\" \"0\" \"1\" \"1\" \"1\" \"1\" \"1\" \"1\" \"1\" \"1\" \"1\" \"1\" \"1\" \"1\" \"0\" \"1\"\n",
              "[24265] \"1\" \"1\" \"1\" \"0\" \"0\" \"0\" \"1\" \"1\" \"1\" \"0\" \"1\" \"0\" \"0\" \"1\" \"1\" \"1\" \"1\" \"1\"\n",
              "[24283] \"1\" \"1\" \"1\" \"1\" \"1\" \"0\" \"0\" \"1\" \"0\" \"1\" \"0\" \"1\" \"1\" \"1\" \"1\" \"0\" \"0\" \"1\"\n",
              "[24301] \"1\" \"1\" \"1\" \"0\" \"1\" \"1\" \"1\" \"0\" \"0\" \"1\" \"1\" \"0\" \"0\" \"1\" \"0\" \"1\" \"1\" \"1\"\n",
              "[24319] \"1\" \"1\" \"1\" \"1\" \"1\" \"0\" \"1\" \"0\" \"0\" \"1\" \"0\" \"1\" \"1\" \"1\" \"1\" \"1\" \"1\" \"1\"\n",
              "[24337] \"1\" \"1\" \"1\" \"1\" \"0\" \"0\" \"1\" \"1\" \"1\" \"1\" \"1\" \"0\" \"1\" \"1\" \"0\" \"0\" \"0\" \"0\"\n",
              "[24355] \"1\" \"1\" \"1\" \"0\" \"0\" \"0\" \"1\" \"0\" \"1\" \"0\" \"1\" \"1\" \"1\" \"1\" \"0\" \"0\" \"1\" \"1\"\n",
              "[24373] \"0\" \"0\" \"0\" \"0\" \"0\" \"0\" \"1\" \"1\" \"1\" \"1\" \"1\" \"1\" \"1\" \"1\" \"1\" \"1\" \"0\" \"1\"\n",
              "[24391] \"1\" \"0\" \"0\" \"0\" \"1\" \"1\" \"0\" \"1\" \"0\" \"0\" \"1\" \"1\" \"1\" \"0\" \"0\" \"0\" \"0\" \"1\"\n",
              "[24409] \"0\" \"1\" \"0\" \"1\" \"0\" \"0\" \"0\" \"0\" \"1\" \"0\" \"0\" \"1\" \"0\" \"1\" \"0\" \"1\" \"1\" \"1\"\n",
              "[24427] \"1\" \"1\" \"0\" \"1\" \"0\" \"0\" \"1\" \"0\" \"0\" \"1\" \"1\" \"0\" \"1\" \"0\" \"1\" \"0\" \"1\" \"1\"\n",
              "[24445] \"1\" \"1\" \"0\" \"1\" \"0\" \"0\" \"1\" \"1\" \"1\" \"1\" \"1\" \"0\" \"1\" \"1\" \"1\" \"0\" \"0\" \"1\"\n",
              "[24463] \"0\" \"0\" \"0\" \"1\" \"1\" \"0\" \"0\" \"1\" \"1\" \"1\" \"1\" \"0\" \"1\" \"1\" \"1\" \"1\" \"0\" \"0\"\n",
              "[24481] \"1\" \"1\" \"1\" \"1\" \"1\" \"1\" \"0\" \"0\" \"0\" \"1\" \"1\" \"1\" \"0\" \"1\" \"0\" \"0\" \"1\" \"1\"\n",
              "[24499] \"1\" \"1\" \"0\" \"0\" \"0\" \"1\" \"1\" \"1\" \"0\" \"0\" \"1\" \"1\" \"1\" \"1\" \"1\" \"1\" \"1\" \"0\"\n",
              "[24517] \"1\" \"0\" \"0\" \"1\" \"0\" \"1\" \"1\" \"1\" \"0\" \"0\" \"1\" \"1\" \"1\" \"1\" \"1\" \"0\" \"0\" \"1\"\n",
              "[24535] \"1\" \"0\" \"1\" \"1\" \"0\" \"0\" \"0\" \"1\" \"1\" \"0\" \"0\" \"1\" \"1\" \"1\" \"1\" \"1\" \"0\" \"1\"\n",
              "[24553] \"0\" \"0\" \"1\" \"1\" \"1\" \"1\" \"1\" \"0\" \"0\" \"1\" \"0\" \"0\" \"0\" \"1\" \"0\" \"1\" \"1\" \"1\"\n",
              "[24571] \"0\" \"1\" \"1\" \"0\" \"1\" \"0\" \"1\" \"1\" \"1\" \"1\" \"0\" \"0\" \"1\" \"0\" \"0\" \"0\" \"0\" \"0\"\n",
              "[24589] \"1\" \"0\" \"1\" \"0\" \"0\" \"0\" \"0\" \"0\" \"1\" \"1\" \"0\" \"1\" \"1\" \"1\" \"1\" \"1\" \"0\" \"0\"\n",
              "[24607] \"1\" \"1\" \"0\" \"1\" \"1\" \"0\" \"0\" \"1\" \"1\" \"1\" \"1\" \"1\" \"1\" \"1\" \"1\" \"1\" \"0\" \"0\"\n",
              "[24625] \"1\" \"1\" \"1\" \"0\" \"1\" \"1\" \"1\" \"1\" \"1\" \"1\" \"1\" \"1\" \"1\" \"0\" \"1\" \"0\" \"0\" \"1\"\n",
              "[24643] \"0\" \"1\" \"0\" \"0\" \"1\" \"0\" \"1\" \"0\" \"1\" \"1\" \"1\" \"0\" \"1\" \"0\" \"1\" \"0\" \"0\" \"1\"\n",
              "[24661] \"0\" \"0\" \"1\" \"0\" \"0\" \"1\" \"1\" \"0\" \"1\" \"1\" \"1\" \"0\" \"1\" \"1\" \"0\" \"0\" \"1\" \"0\"\n",
              "[24679] \"1\" \"1\" \"1\" \"1\" \"1\" \"1\" \"0\" \"1\" \"0\" \"1\" \"0\" \"1\" \"1\" \"1\" \"0\" \"0\" \"0\" \"1\"\n",
              "[24697] \"1\" \"0\" \"1\" \"1\" \"0\" \"1\" \"0\" \"1\" \"1\" \"1\" \"1\" \"1\" \"1\" \"1\" \"0\" \"1\" \"1\" \"1\"\n",
              "[24715] \"0\" \"0\" \"0\" \"1\" \"1\" \"1\" \"0\" \"0\" \"1\" \"1\" \"0\" \"0\" \"0\" \"1\" \"0\" \"1\" \"0\" \"0\"\n",
              "[24733] \"1\" \"1\" \"1\" \"1\" \"0\" \"1\" \"1\" \"0\" \"1\" \"1\" \"1\" \"1\" \"1\" \"0\" \"1\" \"0\" \"0\" \"1\"\n",
              "[24751] \"0\" \"0\" \"0\" \"0\" \"0\" \"0\" \"1\" \"1\" \"0\" \"1\" \"1\" \"0\" \"1\" \"0\" \"1\" \"1\" \"1\" \"1\"\n",
              "[24769] \"1\" \"0\" \"1\" \"0\" \"0\" \"0\" \"0\" \"0\" \"1\" \"1\" \"1\" \"1\" \"1\" \"0\" \"0\" \"0\" \"0\" \"1\"\n",
              "[24787] \"1\" \"1\" \"0\" \"1\" \"1\" \"1\" \"1\" \"0\" \"0\" \"1\" \"0\" \"1\" \"0\" \"1\" \"1\" \"1\" \"0\" \"0\"\n",
              "[24805] \"0\" \"0\" \"1\" \"1\" \"1\" \"0\" \"1\" \"1\" \"0\" \"1\" \"1\" \"1\" \"0\" \"1\" \"1\" \"0\" \"0\" \"0\"\n",
              "[24823] \"0\" \"1\" \"0\" \"0\" \"1\" \"0\" \"1\" \"0\" \"1\" \"0\" \"0\" \"0\" \"1\" \"1\" \"1\" \"0\" \"1\" \"1\"\n",
              "[24841] \"1\" \"0\" \"0\" \"1\" \"1\" \"0\" \"1\" \"1\" \"1\" \"0\" \"1\" \"0\" \"0\" \"0\" \"0\" \"0\" \"0\" \"0\"\n",
              "[24859] \"1\" \"1\" \"0\" \"0\" \"1\" \"1\" \"0\" \"0\" \"1\" \"1\" \"1\" \"0\" \"0\" \"0\" \"0\" \"0\" \"1\" \"1\"\n",
              "[24877] \"0\" \"1\" \"0\" \"1\" \"1\" \"1\" \"1\" \"1\" \"1\" \"0\" \"1\" \"1\" \"1\" \"0\" \"0\" \"1\" \"1\" \"0\"\n",
              "[24895] \"1\" \"1\" \"0\" \"1\" \"1\" \"0\" \"1\" \"0\" \"1\" \"0\" \"0\" \"1\" \"1\" \"1\" \"1\" \"0\" \"1\" \"0\"\n",
              "[24913] \"0\" \"0\" \"1\" \"1\" \"1\" \"0\" \"0\" \"1\" \"0\" \"1\" \"1\" \"1\" \"0\" \"1\" \"1\" \"1\" \"0\" \"1\"\n",
              "[24931] \"1\" \"1\" \"0\" \"1\" \"0\" \"0\" \"1\" \"1\" \"1\" \"1\" \"1\" \"1\" \"0\" \"1\" \"0\" \"1\" \"0\" \"1\"\n",
              "[24949] \"0\" \"0\" \"0\" \"0\" \"0\" \"0\" \"0\" \"0\" \"1\" \"1\" \"1\" \"1\" \"0\" \"1\" \"0\" \"0\" \"1\" \"0\"\n",
              "[24967] \"0\" \"0\" \"1\" \"0\" \"1\" \"1\" \"1\" \"1\" \"0\" \"1\" \"1\" \"1\" \"0\" \"1\" \"1\" \"1\" \"0\" \"1\"\n",
              "[24985] \"1\" \"1\" \"0\" \"1\" \"1\" \"1\" \"1\" \"1\" \"1\" \"1\" \"1\" \"1\" \"0\" \"1\" \"0\" \"1\" \"1\" \"0\"\n",
              "[25003] \"1\" \"1\" \"0\" \"0\" \"1\" \"1\" \"1\" \"0\" \"0\" \"1\" \"1\" \"1\" \"1\" \"1\" \"1\" \"1\" \"1\" \"1\"\n",
              "[25021] \"1\" \"0\" \"0\" \"1\" \"0\" \"1\" \"1\" \"1\" \"1\" \"1\" \"1\" \"0\" \"0\" \"1\" \"1\" \"1\" \"0\" \"1\"\n",
              "[25039] \"1\" \"1\" \"0\" \"1\" \"0\" \"1\" \"0\" \"0\" \"0\" \"1\" \"1\" \"1\" \"0\" \"0\" \"1\" \"1\" \"1\" \"1\"\n",
              "[25057] \"0\" \"0\" \"0\" \"1\" \"1\" \"1\" \"1\" \"1\" \"1\" \"1\" \"1\" \"0\" \"1\" \"1\" \"0\" \"0\" \"1\" \"1\"\n",
              "[25075] \"1\" \"0\" \"0\" \"0\" \"1\" \"1\" \"1\" \"1\" \"1\" \"0\" \"1\" \"1\" \"1\" \"1\" \"1\" \"1\" \"0\" \"1\"\n",
              "[25093] \"0\" \"1\" \"0\" \"0\" \"0\" \"1\" \"1\" \"0\" \"0\" \"1\" \"1\" \"0\" \"1\" \"1\" \"1\" \"1\" \"1\" \"1\"\n",
              "[25111] \"1\" \"0\" \"1\" \"0\" \"1\" \"0\" \"0\" \"0\" \"1\" \"1\" \"1\" \"0\" \"1\" \"0\" \"1\" \"0\" \"1\" \"0\"\n",
              "[25129] \"0\" \"1\" \"1\" \"1\" \"1\" \"0\" \"0\" \"1\" \"1\" \"1\" \"0\" \"1\" \"0\" \"1\" \"1\" \"1\" \"1\" \"1\"\n",
              "[25147] \"1\" \"1\" \"1\" \"0\" \"0\" \"1\" \"1\" \"0\" \"1\" \"1\" \"1\" \"0\" \"1\" \"0\" \"1\" \"1\" \"0\" \"1\"\n",
              "[25165] \"0\" \"0\" \"1\" \"0\" \"1\" \"0\" \"0\" \"1\" \"1\" \"1\" \"1\" \"1\" \"1\" \"0\" \"0\" \"0\" \"1\" \"0\"\n",
              "[25183] \"0\" \"0\" \"0\" \"0\" \"1\" \"1\" \"1\" \"1\" \"1\" \"1\" \"0\" \"0\" \"0\" \"1\" \"1\" \"1\" \"0\" \"0\"\n",
              "[25201] \"1\" \"1\" \"0\" \"0\" \"1\" \"0\" \"1\" \"0\" \"0\" \"1\" \"0\" \"1\" \"1\" \"0\" \"0\" \"1\" \"0\" \"1\"\n",
              "[25219] \"0\" \"1\" \"1\" \"1\" \"1\" \"0\" \"1\" \"1\" \"1\" \"0\" \"0\" \"1\" \"0\" \"0\" \"0\" \"1\" \"0\" \"1\"\n",
              "[25237] \"1\" \"0\" \"1\" \"0\" \"0\" \"0\" \"1\" \"1\" \"0\" \"1\" \"1\" \"0\" \"0\" \"1\" \"1\" \"0\" \"0\" \"1\"\n",
              "[25255] \"1\" \"1\" \"0\" \"1\" \"0\" \"1\" \"1\" \"1\" \"1\" \"0\" \"1\" \"0\" \"1\" \"1\" \"0\" \"1\" \"0\" \"1\"\n",
              "[25273] \"1\" \"1\" \"1\" \"1\" \"0\" \"1\" \"1\" \"1\" \"1\" \"0\" \"1\" \"1\" \"1\" \"1\" \"1\" \"0\" \"1\" \"0\"\n",
              "[25291] \"1\" \"1\" \"0\" \"1\" \"0\" \"1\" \"1\" \"0\" \"1\" \"1\" \"0\" \"1\" \"1\" \"0\" \"1\" \"0\" \"1\" \"0\"\n",
              "[25309] \"0\" \"1\" \"1\" \"0\" \"1\" \"1\" \"1\" \"1\" \"1\" \"0\" \"1\" \"0\" \"1\" \"1\" \"0\" \"1\" \"1\" \"0\"\n",
              "[25327] \"0\" \"1\" \"0\" \"1\" \"0\" \"1\" \"1\" \"0\" \"0\" \"1\" \"1\" \"1\" \"1\" \"0\" \"0\" \"1\" \"1\" \"1\"\n",
              "[25345] \"0\" \"1\" \"0\" \"0\" \"1\" \"1\" \"0\" \"1\" \"0\" \"0\" \"0\" \"1\" \"1\" \"0\" \"1\" \"1\" \"1\" \"1\"\n",
              "[25363] \"0\" \"0\" \"1\" \"0\" \"1\" \"0\" \"1\" \"1\" \"1\" \"1\" \"1\" \"0\" \"0\" \"0\" \"0\" \"1\" \"1\" \"1\"\n",
              "[25381] \"0\" \"1\" \"0\" \"0\" \"0\" \"1\" \"1\" \"1\" \"0\" \"0\" \"0\" \"0\" \"1\" \"1\" \"0\" \"1\" \"1\" \"1\"\n",
              "[25399] \"0\" \"1\" \"1\" \"1\" \"0\" \"1\" \"1\" \"1\" \"0\" \"1\" \"1\" \"0\" \"1\" \"1\" \"1\" \"1\" \"1\" \"1\"\n",
              "[25417] \"0\" \"0\" \"1\" \"1\" \"0\" \"0\" \"1\" \"1\" \"1\" \"1\" \"0\" \"1\" \"0\" \"1\" \"0\" \"1\" \"1\" \"0\"\n",
              "[25435] \"1\" \"1\" \"1\" \"1\" \"1\" \"1\" \"1\" \"1\" \"1\" \"1\" \"1\" \"1\" \"0\" \"0\" \"0\" \"1\" \"0\" \"0\"\n",
              "[25453] \"1\" \"0\" \"1\" \"1\" \"1\" \"1\" \"1\" \"1\" \"1\" \"1\" \"1\" \"0\" \"0\" \"1\" \"0\" \"1\" \"0\" \"1\"\n",
              "[25471] \"1\" \"1\" \"1\" \"0\" \"0\" \"0\" \"1\" \"1\" \"1\" \"0\" \"1\" \"1\" \"1\" \"1\" \"0\" \"0\" \"0\" \"1\"\n",
              "[25489] \"1\" \"0\" \"0\" \"1\" \"1\" \"1\" \"0\" \"1\" \"1\" \"0\" \"1\" \"1\" \"1\" \"1\" \"0\" \"1\" \"0\" \"1\"\n",
              "[25507] \"0\" \"1\" \"1\" \"1\" \"1\" \"1\" \"0\" \"0\" \"1\" \"0\" \"1\" \"0\" \"0\" \"0\" \"1\" \"0\" \"1\" \"0\"\n",
              "[25525] \"0\" \"1\" \"1\" \"1\" \"1\" \"0\" \"1\" \"1\" \"1\" \"1\" \"1\" \"0\" \"1\" \"1\" \"1\" \"0\" \"1\" \"0\"\n",
              "[25543] \"0\" \"0\" \"1\" \"1\" \"0\" \"1\" \"1\" \"1\" \"1\" \"1\" \"0\" \"1\" \"1\" \"1\" \"0\" \"1\" \"1\" \"1\"\n",
              "[25561] \"1\" \"0\" \"1\" \"1\" \"0\" \"1\" \"1\" \"0\" \"1\" \"1\" \"1\" \"0\" \"0\" \"0\" \"0\" \"1\" \"0\" \"1\"\n",
              "[25579] \"1\" \"0\" \"0\" \"1\" \"0\" \"0\" \"1\" \"1\" \"1\" \"0\" \"0\" \"1\" \"0\" \"0\" \"0\" \"0\" \"0\" \"1\"\n",
              "[25597] \"1\" \"1\" \"0\" \"0\" \"1\" \"0\" \"0\" \"1\" \"1\" \"1\" \"1\" \"0\" \"1\" \"0\" \"1\" \"1\" \"1\" \"0\"\n",
              "[25615] \"1\" \"0\" \"1\" \"1\" \"1\" \"0\" \"1\" \"1\" \"1\" \"1\" \"1\" \"1\" \"0\" \"1\" \"0\" \"0\" \"1\" \"0\"\n",
              "[25633] \"1\" \"1\" \"0\" \"1\" \"1\" \"1\" \"0\" \"1\" \"1\" \"1\" \"1\" \"1\" \"0\" \"0\" \"1\" \"0\" \"1\" \"0\"\n",
              "[25651] \"0\" \"1\" \"0\" \"0\" \"1\" \"0\" \"0\" \"1\" \"0\" \"0\" \"1\" \"0\" \"1\" \"1\" \"1\" \"1\" \"1\" \"1\"\n",
              "[25669] \"1\" \"0\" \"1\" \"0\" \"0\" \"1\" \"1\" \"0\" \"1\" \"1\" \"1\" \"0\" \"1\" \"0\" \"1\" \"1\" \"0\" \"0\"\n",
              "[25687] \"0\" \"0\" \"1\" \"1\" \"1\" \"1\" \"0\" \"1\" \"1\" \"0\" \"1\" \"1\" \"1\" \"1\" \"0\" \"1\" \"0\" \"0\"\n",
              "[25705] \"0\" \"1\" \"1\" \"1\" \"1\" \"1\" \"0\" \"1\" \"0\" \"1\" \"0\" \"1\" \"1\" \"1\" \"0\" \"0\" \"1\" \"1\"\n",
              "[25723] \"1\" \"0\" \"1\" \"1\" \"0\" \"0\" \"1\" \"1\" \"1\" \"1\" \"1\" \"1\" \"0\" \"0\" \"1\" \"1\" \"0\" \"1\"\n",
              "[25741] \"0\" \"1\" \"1\" \"1\" \"0\" \"1\" \"1\" \"0\" \"0\" \"1\" \"1\" \"0\" \"1\" \"0\" \"0\" \"0\" \"0\" \"0\"\n",
              "[25759] \"1\" \"0\" \"1\" \"0\" \"1\" \"0\" \"1\" \"1\" \"1\" \"0\" \"0\" \"0\" \"1\" \"0\" \"1\" \"0\" \"1\" \"0\"\n",
              "[25777] \"0\" \"1\" \"1\" \"1\" \"0\" \"0\" \"1\" \"0\" \"0\" \"1\" \"1\" \"0\" \"0\" \"1\" \"1\" \"0\" \"1\" \"0\"\n",
              "[25795] \"1\" \"1\" \"1\" \"1\" \"0\" \"1\" \"1\" \"1\" \"1\" \"1\" \"1\" \"0\" \"1\" \"0\" \"1\" \"1\" \"1\" \"1\"\n",
              "[25813] \"1\" \"1\" \"0\" \"1\" \"0\" \"1\" \"0\" \"1\" \"1\" \"0\" \"1\" \"1\" \"1\" \"1\" \"0\" \"1\" \"1\" \"1\"\n",
              "[25831] \"1\" \"1\" \"0\" \"1\" \"0\" \"0\" \"1\" \"1\" \"1\" \"1\" \"1\" \"1\" \"0\" \"1\" \"1\" \"1\" \"0\" \"1\"\n",
              "[25849] \"1\" \"1\" \"1\" \"1\" \"1\" \"0\" \"1\" \"1\" \"0\" \"1\" \"1\" \"1\" \"0\" \"1\" \"1\" \"0\" \"1\" \"1\"\n",
              "[25867] \"1\" \"1\" \"0\" \"0\" \"1\" \"0\" \"0\" \"0\" \"1\" \"0\" \"1\" \"1\" \"1\" \"0\" \"1\" \"1\" \"1\" \"1\"\n",
              "[25885] \"0\" \"0\" \"1\" \"1\" \"1\" \"1\" \"1\" \"0\" \"1\" \"1\" \"1\" \"1\" \"1\" \"1\" \"1\" \"0\" \"1\" \"0\"\n",
              "[25903] \"0\" \"0\" \"1\" \"0\" \"1\" \"0\" \"1\" \"0\" \"1\" \"1\" \"0\" \"1\" \"1\" \"1\" \"1\" \"1\" \"1\" \"1\"\n",
              "[25921] \"0\" \"1\" \"0\" \"1\" \"1\" \"1\" \"1\" \"0\" \"1\" \"0\" \"1\" \"0\" \"0\" \"1\" \"0\" \"0\" \"0\" \"0\"\n",
              "[25939] \"0\" \"1\" \"1\" \"0\" \"1\" \"0\" \"0\" \"0\" \"0\" \"1\" \"1\" \"0\" \"0\" \"0\" \"1\" \"1\" \"1\" \"0\"\n",
              "[25957] \"0\" \"1\" \"1\" \"0\" \"0\" \"1\" \"0\" \"1\" \"1\" \"1\" \"1\" \"1\" \"0\" \"1\" \"1\" \"0\" \"1\" \"1\"\n",
              "[25975] \"1\" \"1\" \"1\" \"0\" \"0\" \"1\" \"1\" \"0\" \"1\" \"0\" \"1\" \"1\" \"1\" \"0\" \"1\" \"1\" \"0\" \"1\"\n",
              "[25993] \"1\" \"1\" \"1\" \"1\" \"1\" \"1\" \"0\" \"1\" \"0\" \"1\" \"1\" \"1\" \"1\" \"1\" \"1\" \"1\" \"1\" \"0\"\n",
              "[26011] \"1\" \"1\" \"0\" \"0\" \"1\" \"0\" \"0\" \"0\" \"0\" \"0\" \"0\" \"1\" \"1\" \"1\" \"1\" \"0\" \"1\" \"0\"\n",
              "[26029] \"0\" \"1\" \"1\" \"0\" \"1\" \"1\" \"1\" \"0\" \"1\" \"1\" \"1\" \"0\" \"0\" \"0\" \"1\" \"1\" \"1\" \"1\"\n",
              "[26047] \"0\" \"1\" \"0\" \"0\" \"1\" \"0\" \"0\" \"1\" \"1\" \"1\" \"0\" \"1\" \"0\" \"1\" \"1\" \"0\" \"0\" \"1\"\n",
              "[26065] \"1\" \"1\" \"0\" \"1\" \"1\" \"1\" \"0\" \"1\" \"1\" \"1\" \"1\" \"0\" \"1\" \"0\" \"0\" \"1\" \"1\" \"0\"\n",
              "[26083] \"1\" \"1\" \"0\" \"1\" \"0\" \"1\" \"0\" \"1\" \"0\" \"0\" \"1\" \"1\" \"0\" \"1\" \"0\" \"0\" \"1\" \"0\"\n",
              "[26101] \"1\" \"1\" \"0\" \"1\" \"1\" \"1\" \"1\" \"1\" \"0\" \"0\" \"1\" \"0\" \"0\" \"1\" \"1\" \"1\" \"0\" \"1\"\n",
              "[26119] \"0\" \"0\" \"0\" \"1\" \"1\" \"1\" \"1\" \"1\" \"1\" \"0\" \"1\" \"1\" \"1\" \"1\" \"0\" \"0\" \"1\" \"1\"\n",
              "[26137] \"0\" \"0\" \"0\" \"0\" \"0\" \"1\" \"0\" \"1\" \"1\" \"0\" \"0\" \"1\" \"1\" \"1\" \"1\" \"1\" \"1\" \"0\"\n",
              "[26155] \"1\" \"0\" \"1\" \"0\" \"0\" \"1\" \"0\" \"1\" \"0\" \"1\" \"0\" \"0\" \"1\" \"0\" \"1\" \"0\" \"1\" \"0\"\n",
              "[26173] \"1\" \"1\" \"0\" \"1\" \"0\" \"1\" \"1\" \"0\" \"1\" \"1\" \"1\" \"0\" \"0\" \"1\" \"1\" \"1\" \"1\" \"0\"\n",
              "[26191] \"1\" \"0\" \"1\" \"1\" \"1\" \"1\" \"1\" \"1\" \"1\" \"1\" \"1\" \"0\" \"1\" \"1\" \"0\" \"0\" \"1\" \"1\"\n",
              "[26209] \"1\" \"1\" \"0\" \"1\" \"0\" \"0\" \"1\" \"0\" \"0\" \"1\" \"1\" \"1\" \"1\" \"0\" \"0\" \"1\" \"0\" \"0\"\n",
              "[26227] \"0\" \"1\" \"0\" \"1\" \"0\" \"0\" \"1\" \"1\" \"1\" \"1\" \"1\" \"0\" \"1\" \"0\" \"1\" \"1\" \"1\" \"1\"\n",
              "[26245] \"0\" \"0\" \"1\" \"1\" \"0\" \"1\" \"1\" \"0\" \"0\" \"1\" \"1\" \"0\" \"1\" \"1\" \"1\" \"0\" \"1\" \"1\"\n",
              "[26263] \"0\" \"1\" \"1\" \"0\" \"1\" \"0\" \"0\" \"1\" \"0\" \"1\" \"0\" \"1\" \"1\" \"1\" \"1\" \"1\" \"1\" \"1\"\n",
              "[26281] \"1\" \"1\" \"0\" \"1\" \"1\" \"0\" \"0\" \"1\" \"0\" \"1\" \"0\" \"0\" \"1\" \"0\" \"0\" \"1\" \"0\" \"1\"\n",
              "[26299] \"0\" \"0\" \"1\" \"1\" \"1\" \"1\" \"0\" \"1\" \"1\" \"0\" \"1\" \"1\" \"1\" \"0\" \"0\" \"0\" \"1\" \"1\"\n",
              "[26317] \"0\" \"1\" \"1\" \"1\" \"1\" \"1\" \"0\" \"1\" \"0\" \"0\" \"1\" \"1\" \"1\" \"0\" \"0\" \"0\" \"1\" \"0\"\n",
              "[26335] \"0\" \"1\" \"1\" \"1\" \"0\" \"1\" \"0\" \"1\" \"1\" \"1\" \"0\" \"0\" \"1\" \"1\" \"1\" \"0\" \"1\" \"1\"\n",
              "[26353] \"1\" \"1\" \"1\" \"1\" \"1\" \"1\" \"1\" \"0\" \"1\" \"1\" \"1\" \"1\" \"0\" \"1\" \"1\" \"0\" \"1\" \"1\"\n",
              "[26371] \"1\" \"0\" \"1\" \"0\" \"0\" \"0\" \"0\" \"0\" \"1\" \"1\" \"1\" \"1\" \"1\" \"1\" \"1\" \"1\" \"0\" \"1\"\n",
              "[26389] \"1\" \"0\" \"0\" \"0\" \"1\" \"1\" \"1\" \"1\" \"1\" \"0\" \"1\" \"0\" \"1\" \"1\" \"0\" \"1\" \"1\" \"1\"\n",
              "[26407] \"0\" \"1\" \"0\" \"1\" \"0\" \"1\" \"0\" \"0\" \"1\" \"1\" \"0\" \"0\" \"1\" \"1\" \"0\" \"0\" \"0\" \"1\"\n",
              "[26425] \"0\" \"0\" \"1\" \"1\" \"1\" \"1\" \"0\" \"1\" \"1\" \"0\" \"0\" \"1\" \"0\" \"1\" \"0\" \"0\" \"1\" \"1\"\n",
              "[26443] \"1\" \"0\" \"0\" \"1\" \"0\" \"0\" \"0\" \"0\" \"0\" \"1\" \"1\" \"0\" \"0\" \"1\" \"1\" \"1\" \"1\" \"1\"\n",
              "[26461] \"0\" \"1\" \"1\" \"1\" \"1\" \"1\" \"1\" \"1\" \"1\" \"0\" \"1\" \"0\" \"0\" \"1\" \"0\" \"0\" \"1\" \"1\"\n",
              "[26479] \"1\" \"1\" \"0\" \"1\" \"0\" \"1\" \"0\" \"1\" \"0\" \"1\" \"1\" \"0\" \"1\" \"1\" \"0\" \"1\" \"1\" \"1\"\n",
              "[26497] \"0\" \"1\" \"1\" \"1\" \"0\" \"1\" \"1\" \"0\" \"1\" \"0\" \"0\" \"0\" \"1\" \"1\" \"1\" \"0\" \"0\" \"1\"\n",
              "[26515] \"1\" \"1\" \"1\" \"0\" \"1\" \"1\" \"1\" \"0\" \"0\" \"1\" \"1\" \"0\" \"1\" \"1\" \"1\" \"0\" \"1\" \"1\"\n",
              "[26533] \"1\" \"1\" \"1\" \"1\" \"0\" \"0\" \"0\" \"1\" \"0\" \"0\" \"1\" \"1\" \"1\" \"1\" \"0\" \"1\" \"1\" \"1\"\n",
              "[26551] \"1\" \"1\" \"0\" \"0\" \"1\" \"0\" \"1\" \"1\" \"1\" \"1\" \"1\" \"1\" \"1\" \"0\" \"1\" \"1\" \"0\" \"1\"\n",
              "[26569] \"0\" \"0\" \"1\" \"1\" \"1\" \"0\" \"1\" \"1\" \"1\" \"0\" \"0\" \"1\" \"0\" \"1\" \"0\" \"0\" \"1\" \"1\"\n",
              "[26587] \"1\" \"0\" \"0\" \"1\" \"0\" \"1\" \"1\" \"0\" \"1\" \"1\" \"1\" \"0\" \"0\" \"0\" \"1\" \"1\" \"1\" \"1\"\n",
              "[26605] \"0\" \"1\" \"1\" \"1\" \"1\" \"0\" \"1\" \"0\" \"0\" \"1\" \"1\" \"0\" \"1\" \"0\" \"1\" \"1\" \"1\" \"0\"\n",
              "[26623] \"0\" \"1\" \"1\" \"0\" \"1\" \"1\" \"0\" \"0\" \"0\" \"1\" \"0\" \"1\" \"1\" \"1\" \"1\" \"1\" \"1\" \"1\"\n",
              "[26641] \"0\" \"1\" \"1\" \"1\" \"1\" \"1\" \"1\" \"0\" \"1\" \"0\" \"1\" \"0\" \"1\" \"0\" \"1\" \"1\" \"0\" \"1\"\n",
              "[26659] \"0\" \"0\" \"0\" \"0\" \"0\" \"1\" \"1\" \"1\" \"0\" \"1\" \"1\" \"0\" \"0\" \"1\" \"1\" \"1\" \"1\" \"0\"\n",
              "[26677] \"1\" \"1\" \"1\" \"1\" \"1\" \"0\" \"0\" \"1\" \"0\" \"1\" \"0\" \"1\" \"0\" \"1\" \"1\" \"1\" \"0\" \"1\"\n",
              "[26695] \"1\" \"1\" \"1\" \"1\" \"0\" \"0\" \"0\" \"1\" \"1\" \"0\" \"1\" \"1\" \"0\" \"1\" \"1\" \"1\" \"1\" \"1\"\n",
              "[26713] \"1\" \"1\" \"0\" \"1\" \"1\" \"1\" \"0\" \"0\" \"0\" \"1\" \"1\" \"1\" \"1\" \"1\" \"1\" \"1\" \"0\" \"1\"\n",
              "[26731] \"1\" \"0\" \"1\" \"0\" \"1\" \"0\" \"0\" \"1\" \"0\" \"1\" \"0\" \"1\" \"1\" \"0\" \"0\" \"1\" \"0\" \"0\"\n",
              "[26749] \"1\" \"0\" \"0\" \"1\" \"1\" \"1\" \"1\" \"0\" \"1\" \"1\" \"1\" \"1\" \"1\" \"0\" \"0\" \"1\" \"0\" \"1\"\n",
              "[26767] \"1\" \"1\" \"0\" \"1\" \"1\" \"0\" \"0\" \"0\" \"0\" \"1\" \"0\" \"0\" \"0\" \"0\" \"1\" \"1\" \"1\" \"0\"\n",
              "[26785] \"0\" \"1\" \"0\" \"1\" \"1\" \"1\" \"1\" \"0\" \"1\" \"0\" \"1\" \"1\" \"1\" \"0\" \"0\" \"1\" \"1\" \"1\"\n",
              "[26803] \"1\" \"1\" \"0\" \"0\" \"1\" \"0\" \"1\" \"0\" \"1\" \"1\" \"0\" \"0\" \"1\" \"0\" \"1\" \"0\" \"1\" \"0\"\n",
              "[26821] \"0\" \"1\" \"1\" \"1\" \"0\" \"0\" \"1\" \"1\" \"0\" \"0\" \"1\" \"1\" \"1\" \"1\" \"1\" \"0\" \"1\" \"0\"\n",
              "[26839] \"1\" \"1\" \"1\" \"1\" \"1\" \"1\" \"0\" \"1\" \"1\" \"1\" \"1\" \"1\" \"1\" \"0\" \"0\" \"1\" \"1\" \"0\"\n",
              "[26857] \"0\" \"1\" \"1\" \"0\" \"1\" \"0\" \"1\" \"0\" \"0\" \"1\" \"0\" \"0\" \"1\" \"0\" \"1\" \"1\" \"1\" \"1\"\n",
              "[26875] \"0\" \"0\" \"1\" \"0\" \"0\" \"1\" \"1\" \"0\" \"1\" \"1\" \"1\" \"1\" \"1\" \"1\" \"0\" \"1\" \"1\" \"1\"\n",
              "[26893] \"0\" \"1\" \"1\" \"0\" \"1\" \"1\" \"0\" \"1\" \"1\" \"0\" \"1\" \"1\" \"0\" \"1\" \"1\" \"0\" \"0\" \"1\"\n",
              "[26911] \"0\" \"0\" \"1\" \"1\" \"1\" \"0\" \"0\" \"0\" \"1\" \"0\" \"0\" \"0\" \"1\" \"1\" \"0\" \"1\" \"1\" \"0\"\n",
              "[26929] \"1\" \"1\" \"1\" \"1\" \"0\" \"0\" \"0\" \"1\" \"1\" \"1\" \"1\" \"1\" \"0\" \"1\" \"1\" \"1\" \"1\" \"0\"\n",
              "[26947] \"1\" \"1\" \"1\" \"1\" \"1\" \"1\" \"1\" \"1\" \"0\" \"0\" \"0\" \"1\" \"1\" \"0\" \"1\" \"1\" \"0\" \"1\"\n",
              "[26965] \"1\" \"0\" \"0\" \"1\" \"1\" \"0\" \"0\" \"1\" \"1\" \"1\" \"1\" \"1\" \"0\" \"1\" \"1\" \"1\" \"1\" \"1\"\n",
              "[26983] \"1\" \"1\" \"1\" \"1\" \"0\" \"1\" \"1\" \"1\" \"0\" \"0\" \"0\" \"1\" \"1\" \"1\" \"1\" \"0\" \"0\" \"0\"\n",
              "[27001] \"0\" \"1\" \"1\" \"1\" \"0\" \"1\" \"1\" \"1\" \"1\" \"0\" \"1\" \"0\" \"0\" \"0\" \"1\" \"1\" \"1\" \"1\"\n",
              "[27019] \"0\" \"1\" \"0\" \"1\" \"1\" \"1\" \"1\" \"1\" \"0\" \"1\" \"1\" \"1\" \"0\" \"0\" \"1\" \"0\" \"0\" \"1\"\n",
              "[27037] \"0\" \"1\" \"0\" \"1\" \"1\" \"1\" \"0\" \"1\" \"1\" \"0\" \"0\" \"1\" \"1\" \"1\" \"0\" \"0\" \"1\" \"0\"\n",
              "[27055] \"0\" \"0\" \"0\" \"1\" \"1\" \"1\" \"0\" \"1\" \"0\" \"1\" \"0\" \"1\" \"0\" \"1\" \"1\" \"0\" \"1\" \"1\"\n",
              "[27073] \"0\" \"1\" \"1\" \"1\" \"1\" \"1\" \"1\" \"1\" \"1\" \"0\" \"1\" \"0\" \"1\" \"0\" \"0\" \"0\" \"0\" \"0\"\n",
              "[27091] \"0\" \"1\" \"1\" \"0\" \"0\" \"0\" \"1\" \"0\" \"0\" \"1\" \"1\" \"1\" \"1\" \"1\" \"0\" \"1\" \"1\" \"0\"\n",
              "[27109] \"0\" \"1\" \"1\" \"0\" \"1\" \"1\" \"1\" \"0\" \"1\" \"1\" \"1\" \"1\" \"1\" \"1\" \"1\" \"0\" \"1\" \"0\"\n",
              "[27127] \"1\" \"0\" \"1\" \"1\" \"0\" \"0\" \"1\" \"0\" \"1\" \"1\" \"0\" \"1\" \"1\" \"0\" \"1\" \"1\" \"1\" \"1\"\n",
              "[27145] \"1\" \"0\" \"0\" \"0\" \"0\" \"1\" \"1\" \"1\" \"0\" \"1\" \"1\" \"0\" \"1\" \"1\" \"0\" \"1\" \"1\" \"1\"\n",
              "[27163] \"0\" \"0\" \"1\" \"1\" \"1\" \"0\" \"1\" \"1\" \"0\" \"1\" \"0\" \"0\" \"1\" \"1\" \"1\" \"0\" \"1\" \"0\"\n",
              "[27181] \"1\" \"1\" \"1\" \"1\" \"0\" \"0\" \"0\" \"0\" \"1\" \"1\" \"1\" \"0\" \"1\" \"1\" \"0\" \"1\" \"0\" \"0\"\n",
              "[27199] \"0\" \"0\" \"1\" \"0\" \"1\" \"1\" \"0\" \"0\" \"0\" \"1\" \"0\" \"0\" \"1\" \"1\" \"1\" \"1\" \"1\" \"0\"\n",
              "[27217] \"1\" \"1\" \"1\" \"0\" \"1\" \"1\" \"1\" \"0\" \"1\" \"0\" \"1\" \"1\" \"1\" \"1\" \"1\" \"0\" \"1\" \"0\"\n",
              "[27235] \"0\" \"1\" \"1\" \"1\" \"1\" \"0\" \"0\" \"0\" \"1\" \"0\" \"1\" \"1\" \"1\" \"1\" \"1\" \"0\" \"0\" \"0\"\n",
              "[27253] \"1\" \"0\" \"1\" \"0\" \"0\" \"1\" \"1\" \"0\" \"0\" \"1\" \"1\" \"0\" \"0\" \"0\" \"1\" \"1\" \"0\" \"0\"\n",
              "[27271] \"0\" \"0\" \"0\" \"1\" \"1\" \"0\" \"1\" \"1\" \"0\" \"1\" \"0\" \"1\" \"1\" \"1\" \"0\" \"1\" \"1\" \"0\"\n",
              "[27289] \"0\" \"1\" \"1\" \"0\" \"1\" \"1\" \"1\" \"1\" \"0\" \"1\" \"1\" \"1\" \"1\" \"0\" \"0\" \"0\" \"1\" \"1\"\n",
              "[27307] \"1\" \"0\" \"1\" \"0\" \"1\" \"1\" \"1\" \"1\" \"1\" \"0\" \"1\" \"1\" \"0\" \"0\" \"0\" \"0\" \"1\" \"1\"\n",
              "[27325] \"1\" \"0\" \"0\" \"0\" \"1\" \"1\" \"1\" \"0\" \"1\" \"1\" \"1\" \"1\" \"1\" \"0\" \"1\" \"1\" \"1\" \"1\"\n",
              "[27343] \"0\" \"0\" \"1\" \"1\" \"1\" \"1\" \"0\" \"1\" \"0\" \"1\" \"1\" \"1\" \"1\" \"0\" \"1\" \"1\" \"1\" \"1\"\n",
              "[27361] \"1\" \"0\" \"1\" \"1\" \"1\" \"1\" \"0\" \"0\" \"1\" \"1\" \"1\" \"1\" \"0\" \"1\" \"1\" \"0\" \"1\" \"1\"\n",
              "[27379] \"1\" \"1\" \"1\" \"1\" \"0\" \"0\" \"1\" \"1\" \"1\" \"0\" \"0\" \"1\" \"1\" \"0\" \"1\" \"1\" \"0\" \"1\"\n",
              "[27397] \"0\" \"1\" \"1\" \"1\" \"0\" \"0\" \"1\" \"0\" \"0\" \"0\" \"1\" \"1\" \"0\" \"1\" \"0\" \"1\" \"0\" \"1\"\n",
              "[27415] \"0\" \"0\" \"0\" \"0\" \"1\" \"0\" \"1\" \"1\" \"0\" \"0\" \"0\" \"1\" \"0\" \"1\" \"1\" \"0\" \"0\" \"0\"\n",
              "[27433] \"1\" \"0\" \"1\" \"1\" \"0\" \"1\" \"0\" \"1\" \"1\" \"1\" \"1\" \"0\" \"1\" \"1\" \"0\" \"1\" \"0\" \"1\"\n",
              "[27451] \"0\" \"0\" \"1\" \"1\" \"1\" \"0\" \"1\" \"1\" \"1\" \"0\" \"1\" \"1\" \"0\" \"0\" \"1\" \"1\" \"0\" \"1\"\n",
              "[27469] \"1\" \"0\" \"0\" \"1\" \"1\" \"0\" \"1\" \"1\" \"1\" \"1\" \"1\" \"1\" \"1\" \"0\" \"1\" \"0\" \"1\" \"1\"\n",
              "[27487] \"0\" \"1\" \"0\" \"1\" \"0\" \"0\" \"1\" \"1\" \"1\" \"1\" \"0\" \"0\" \"1\" \"1\" \"0\" \"0\" \"0\" \"1\"\n",
              "[27505] \"1\" \"1\" \"0\" \"1\" \"1\" \"0\" \"1\" \"0\" \"1\" \"0\" \"0\" \"1\" \"0\" \"1\" \"1\" \"1\" \"1\" \"0\"\n",
              "[27523] \"0\" \"1\" \"0\" \"1\" \"0\" \"1\" \"0\" \"0\" \"1\" \"0\" \"1\" \"0\" \"1\" \"1\" \"0\" \"1\" \"1\" \"1\"\n",
              "[27541] \"1\" \"0\" \"0\" \"1\" \"1\" \"1\" \"0\" \"1\" \"0\" \"0\" \"1\" \"1\" \"0\" \"1\" \"1\" \"0\" \"1\" \"0\"\n",
              "[27559] \"0\" \"1\" \"0\" \"1\" \"1\" \"0\" \"1\" \"0\" \"1\" \"1\" \"0\" \"1\" \"0\" \"1\" \"1\" \"0\" \"1\" \"0\"\n",
              "[27577] \"0\" \"1\" \"0\" \"0\" \"0\" \"1\" \"1\" \"1\" \"0\" \"1\" \"1\" \"1\" \"0\" \"1\" \"0\" \"0\" \"1\" \"1\"\n",
              "[27595] \"1\" \"1\" \"1\" \"0\" \"0\" \"1\" \"1\" \"1\" \"0\" \"1\" \"1\" \"1\" \"1\" \"1\" \"0\" \"1\" \"1\" \"1\"\n",
              "[27613] \"1\" \"1\" \"1\" \"1\" \"0\" \"0\" \"1\" \"1\" \"0\" \"0\" \"1\" \"0\" \"1\" \"1\" \"1\" \"1\" \"1\" \"1\"\n",
              "[27631] \"1\" \"0\" \"0\" \"1\" \"0\" \"1\" \"1\" \"1\" \"1\" \"1\" \"1\" \"1\" \"1\" \"1\" \"1\" \"1\" \"1\" \"0\"\n",
              "[27649] \"1\" \"0\" \"1\" \"0\" \"1\" \"0\" \"1\" \"0\" \"0\" \"0\" \"1\" \"1\" \"1\" \"0\" \"1\" \"1\" \"0\" \"1\"\n",
              "[27667] \"0\" \"1\" \"1\" \"0\" \"1\" \"0\" \"0\" \"0\" \"1\" \"0\" \"1\" \"0\" \"1\" \"0\" \"1\" \"0\" \"0\" \"0\"\n",
              "[27685] \"0\" \"1\" \"0\" \"1\" \"0\" \"1\" \"1\" \"0\" \"1\" \"0\" \"1\" \"0\" \"0\" \"1\" \"1\" \"0\" \"0\" \"0\"\n",
              "[27703] \"0\" \"0\" \"1\" \"0\" \"1\" \"0\" \"1\" \"1\" \"1\" \"0\" \"1\" \"0\" \"0\" \"0\" \"1\" \"0\" \"1\" \"0\"\n",
              "[27721] \"0\" \"1\" \"1\" \"1\" \"1\" \"1\" \"1\" \"1\" \"0\" \"0\" \"0\" \"1\" \"0\" \"0\" \"1\" \"1\" \"1\" \"1\"\n",
              "[27739] \"1\" \"1\" \"1\" \"1\" \"0\" \"0\" \"1\" \"1\" \"1\" \"1\" \"1\" \"0\" \"1\" \"1\" \"0\" \"1\" \"1\" \"0\"\n",
              "[27757] \"0\" \"1\" \"1\" \"0\" \"1\" \"1\" \"0\" \"1\" \"1\" \"0\" \"1\" \"1\" \"0\" \"1\" \"1\" \"1\" \"0\" \"0\"\n",
              "[27775] \"0\" \"1\" \"1\" \"0\" \"0\" \"1\" \"1\" \"1\" \"1\" \"0\" \"1\" \"1\" \"1\" \"1\" \"1\" \"1\" \"0\" \"1\"\n",
              "[27793] \"0\" \"0\" \"0\" \"1\" \"1\" \"0\" \"1\" \"0\" \"0\" \"1\" \"0\" \"1\" \"1\" \"1\" \"1\" \"0\" \"0\" \"1\"\n",
              "[27811] \"1\" \"1\" \"0\" \"1\" \"0\" \"0\" \"1\" \"0\" \"0\" \"1\" \"0\" \"1\" \"0\" \"1\" \"1\" \"1\" \"0\" \"0\"\n",
              "[27829] \"1\" \"1\" \"0\" \"1\" \"1\" \"0\" \"0\" \"0\" \"0\" \"1\" \"1\" \"1\" \"1\" \"1\" \"0\" \"1\" \"1\" \"0\"\n",
              "[27847] \"0\" \"0\" \"0\" \"0\" \"0\" \"0\" \"0\" \"0\" \"0\" \"0\" \"1\" \"1\" \"1\" \"0\" \"1\" \"1\" \"1\" \"1\"\n",
              "[27865] \"1\" \"1\" \"0\" \"1\" \"1\" \"0\" \"0\" \"1\" \"1\" \"1\" \"0\" \"1\" \"1\" \"1\" \"1\" \"0\" \"1\" \"1\"\n",
              "[27883] \"1\" \"1\" \"1\" \"1\" \"1\" \"0\" \"1\" \"0\" \"1\" \"1\" \"1\" \"0\" \"0\" \"0\" \"1\" \"1\" \"1\" \"0\"\n",
              "[27901] \"1\" \"0\" \"0\" \"0\" \"1\" \"1\" \"0\" \"1\" \"1\" \"1\" \"1\" \"0\" \"0\" \"0\" \"1\" \"1\" \"1\" \"1\"\n",
              "[27919] \"1\" \"1\" \"0\" \"1\" \"0\" \"1\" \"1\" \"1\" \"1\" \"1\" \"1\" \"1\" \"1\" \"0\" \"0\" \"1\" \"1\" \"1\"\n",
              "[27937] \"1\" \"0\" \"0\" \"1\" \"0\" \"0\" \"1\" \"0\" \"1\" \"1\" \"1\" \"1\" \"1\" \"1\" \"1\" \"1\" \"0\" \"1\"\n",
              "[27955] \"1\" \"1\" \"1\" \"0\" \"0\" \"1\" \"1\" \"1\" \"1\" \"1\" \"0\" \"1\" \"0\" \"1\" \"1\" \"0\" \"1\" \"0\"\n",
              "[27973] \"1\" \"1\" \"1\" \"0\" \"1\" \"0\" \"1\" \"1\" \"1\" \"0\" \"0\" \"1\" \"0\" \"0\" \"1\" \"1\" \"1\" \"0\"\n",
              "[27991] \"0\" \"1\" \"0\" \"0\" \"1\" \"0\" \"0\" \"0\" \"0\" \"0\" \"0\" \"1\" \"1\" \"0\" \"0\" \"1\" \"1\" \"0\"\n",
              "[28009] \"1\" \"0\" \"0\" \"1\" \"1\" \"0\" \"0\" \"1\" \"0\" \"0\" \"0\" \"0\" \"1\" \"0\" \"1\" \"0\" \"0\" \"0\"\n",
              "[28027] \"0\" \"1\" \"1\" \"0\" \"0\" \"0\" \"0\" \"1\" \"0\" \"0\" \"1\" \"0\" \"1\" \"1\" \"1\" \"1\" \"1\" \"0\"\n",
              "[28045] \"0\" \"0\" \"1\" \"1\" \"1\" \"0\" \"0\" \"1\" \"0\" \"0\" \"0\" \"1\" \"0\" \"0\" \"1\" \"1\" \"1\" \"1\"\n",
              "[28063] \"1\" \"1\" \"1\" \"0\" \"1\" \"0\" \"0\" \"1\" \"0\" \"0\" \"1\" \"0\" \"0\" \"0\" \"1\" \"1\" \"1\" \"0\"\n",
              "[28081] \"0\" \"1\" \"1\" \"1\" \"0\" \"0\" \"0\" \"1\" \"1\" \"0\" \"0\" \"1\" \"0\" \"0\" \"0\" \"1\" \"0\" \"0\"\n",
              "[28099] \"1\" \"1\" \"1\" \"1\" \"0\" \"1\" \"0\" \"1\" \"0\" \"1\" \"0\" \"0\" \"1\" \"1\" \"1\" \"0\" \"0\" \"1\"\n",
              "[28117] \"1\" \"0\" \"1\" \"1\" \"1\" \"0\" \"0\" \"1\" \"0\" \"1\" \"1\" \"0\" \"1\" \"1\" \"0\" \"0\" \"1\" \"0\"\n",
              "[28135] \"1\" \"1\" \"1\" \"1\" \"1\" \"1\" \"1\" \"1\" \"0\" \"1\" \"0\" \"1\" \"1\" \"1\" \"0\" \"1\" \"1\" \"1\"\n",
              "[28153] \"0\" \"0\" \"1\" \"1\" \"0\" \"1\" \"0\" \"1\" \"1\" \"1\" \"1\" \"0\" \"0\" \"1\" \"1\" \"0\" \"1\" \"1\"\n",
              "[28171] \"1\" \"1\" \"0\" \"0\" \"1\" \"0\" \"0\" \"1\" \"1\" \"1\" \"0\" \"1\" \"0\" \"1\" \"1\" \"1\" \"1\" \"1\"\n",
              "[28189] \"1\" \"1\" \"0\" \"1\" \"0\" \"1\" \"1\" \"0\" \"1\" \"1\" \"0\" \"1\" \"0\" \"1\" \"1\" \"1\" \"1\" \"1\"\n",
              "[28207] \"0\" \"1\" \"1\" \"1\" \"0\" \"0\" \"1\" \"1\" \"1\" \"0\" \"1\" \"0\" \"0\" \"0\" \"0\" \"0\" \"0\" \"1\"\n",
              "[28225] \"1\" \"1\" \"1\" \"0\" \"1\" \"1\" \"0\" \"1\" \"1\" \"0\" \"1\" \"0\" \"0\" \"0\" \"0\" \"1\" \"1\" \"0\"\n",
              "[28243] \"0\" \"1\" \"0\" \"1\" \"1\" \"1\" \"0\" \"0\" \"1\" \"0\" \"0\" \"0\" \"0\" \"1\" \"1\" \"0\" \"1\" \"1\"\n",
              "[28261] \"1\" \"1\" \"0\" \"0\" \"1\" \"0\" \"1\" \"1\" \"0\" \"0\" \"1\" \"0\" \"1\" \"0\" \"0\" \"0\" \"0\" \"0\"\n",
              "[28279] \"0\" \"1\" \"0\" \"0\" \"0\" \"1\" \"0\" \"1\" \"1\" \"0\" \"1\" \"0\" \"0\" \"0\" \"1\" \"1\" \"1\" \"0\"\n",
              "[28297] \"1\" \"1\" \"1\" \"0\" \"1\" \"1\" \"0\" \"0\" \"1\" \"1\" \"1\" \"0\" \"1\" \"0\" \"1\" \"0\" \"1\" \"1\"\n",
              "[28315] \"1\" \"1\" \"0\" \"1\" \"1\" \"0\" \"1\" \"1\" \"1\" \"0\" \"0\" \"1\" \"1\" \"1\" \"0\" \"1\" \"1\" \"1\"\n",
              "[28333] \"1\" \"1\" \"1\" \"1\" \"0\" \"1\" \"1\" \"1\" \"1\" \"1\" \"1\" \"1\" \"1\" \"1\" \"1\" \"0\" \"1\" \"1\"\n",
              "[28351] \"0\" \"1\" \"1\" \"1\" \"1\" \"0\" \"1\" \"0\" \"1\" \"1\" \"1\" \"0\" \"1\" \"1\" \"1\" \"1\" \"1\" \"1\"\n",
              "[28369] \"1\" \"1\" \"0\" \"1\" \"0\" \"0\" \"1\" \"0\" \"1\" \"0\" \"0\" \"1\" \"0\" \"1\" \"0\" \"1\" \"0\" \"1\"\n",
              "[28387] \"0\" \"1\" \"1\" \"1\" \"1\" \"1\" \"0\" \"1\" \"0\" \"0\" \"0\" \"1\" \"0\" \"1\" \"1\" \"1\" \"1\" \"0\"\n",
              "[28405] \"0\" \"1\" \"0\" \"1\" \"1\" \"0\" \"0\" \"1\" \"1\" \"0\" \"0\" \"1\" \"1\" \"1\" \"0\" \"1\" \"1\" \"0\"\n",
              "[28423] \"1\" \"1\" \"0\" \"1\" \"0\" \"0\" \"1\" \"0\" \"1\" \"1\" \"1\" \"1\" \"0\" \"0\" \"1\" \"0\" \"1\" \"1\"\n",
              "[28441] \"0\" \"1\" \"1\" \"0\" \"0\" \"1\" \"1\" \"1\" \"1\" \"1\" \"1\" \"1\" \"1\" \"1\" \"1\" \"1\" \"0\" \"0\"\n",
              "[28459] \"0\" \"0\" \"0\" \"0\" \"1\" \"1\" \"1\" \"0\" \"1\" \"0\" \"1\" \"1\" \"1\" \"0\" \"1\" \"0\" \"0\" \"1\"\n",
              "[28477] \"0\" \"1\" \"0\" \"0\" \"1\" \"1\" \"0\" \"1\" \"0\" \"0\" \"1\" \"1\" \"1\" \"1\" \"1\" \"1\" \"0\" \"0\"\n",
              "[28495] \"1\" \"1\" \"1\" \"0\" \"1\" \"0\" \"1\" \"0\" \"0\" \"0\" \"1\" \"1\" \"1\" \"0\" \"1\" \"0\" \"1\" \"1\"\n",
              "[28513] \"0\" \"0\" \"0\" \"0\" \"1\" \"0\" \"1\" \"1\" \"1\" \"1\" \"1\" \"1\" \"1\" \"1\" \"0\" \"0\" \"0\" \"0\"\n",
              "[28531] \"1\" \"0\" \"1\" \"1\" \"0\" \"0\" \"1\" \"1\" \"1\" \"1\" \"0\" \"1\" \"1\" \"1\" \"1\" \"1\" \"1\" \"0\"\n",
              "[28549] \"1\" \"1\" \"1\" \"1\" \"1\" \"1\" \"0\" \"1\" \"1\" \"1\" \"0\" \"1\" \"1\" \"1\" \"1\" \"1\" \"1\" \"0\"\n",
              "[28567] \"1\" \"1\" \"0\" \"1\" \"1\" \"1\" \"0\" \"1\" \"1\" \"1\" \"0\" \"1\" \"1\" \"0\" \"0\" \"0\" \"1\" \"1\"\n",
              "[28585] \"1\" \"1\" \"0\" \"1\" \"1\" \"0\" \"0\" \"1\" \"0\" \"1\" \"1\" \"1\" \"1\" \"0\" \"1\" \"0\" \"0\" \"1\"\n",
              "[28603] \"0\" \"1\" \"1\" \"1\" \"1\" \"1\" \"0\" \"1\" \"1\" \"1\" \"1\" \"1\" \"0\" \"1\" \"1\" \"0\" \"0\" \"1\"\n",
              "[28621] \"1\" \"0\" \"1\" \"0\" \"0\" \"0\" \"1\" \"1\" \"1\" \"1\" \"0\" \"1\" \"0\" \"0\" \"0\" \"0\" \"1\" \"0\"\n",
              "[28639] \"1\" \"0\" \"1\" \"0\" \"1\" \"1\" \"0\" \"1\" \"1\" \"1\" \"1\" \"1\" \"1\" \"1\" \"1\" \"0\" \"0\" \"1\"\n",
              "[28657] \"1\" \"0\" \"1\" \"1\" \"0\" \"1\" \"1\" \"0\" \"0\" \"0\" \"1\" \"0\" \"0\" \"1\" \"0\" \"1\" \"1\" \"1\"\n",
              "[28675] \"1\" \"1\" \"1\" \"1\" \"1\" \"0\" \"1\" \"1\" \"1\" \"1\" \"0\" \"1\" \"1\" \"1\" \"0\" \"1\" \"1\" \"0\"\n",
              "[28693] \"1\" \"0\" \"1\" \"1\" \"0\" \"1\" \"1\" \"1\" \"1\" \"1\" \"1\" \"1\" \"0\" \"0\" \"1\" \"0\" \"0\" \"0\"\n",
              "[28711] \"0\" \"1\" \"0\" \"0\" \"1\" \"1\" \"1\" \"1\" \"1\" \"0\" \"1\" \"1\" \"0\" \"1\" \"1\" \"0\" \"0\" \"1\"\n",
              "[28729] \"1\" \"1\" \"0\" \"0\" \"1\" \"0\" \"0\" \"1\" \"0\" \"0\" \"1\" \"1\" \"1\" \"1\" \"1\" \"1\" \"1\" \"0\"\n",
              "[28747] \"1\" \"1\" \"1\" \"0\" \"0\" \"1\" \"1\" \"0\" \"0\" \"1\" \"0\" \"1\" \"0\" \"1\" \"0\" \"0\" \"1\" \"1\"\n",
              "[28765] \"1\" \"1\" \"1\" \"1\" \"1\" \"1\" \"0\" \"1\" \"0\" \"0\" \"1\" \"0\" \"1\" \"0\" \"1\" \"0\" \"0\" \"0\"\n",
              "[28783] \"0\" \"1\" \"0\" \"1\" \"1\" \"0\" \"1\" \"0\" \"1\" \"0\" \"0\" \"0\" \"0\" \"0\" \"1\" \"1\" \"1\" \"1\"\n",
              "[28801] \"0\" \"1\" \"0\" \"1\" \"0\" \"0\" \"1\" \"1\" \"0\" \"0\" \"0\" \"0\" \"1\" \"0\" \"1\" \"0\" \"0\" \"1\"\n",
              "[28819] \"1\" \"1\" \"1\" \"1\" \"1\" \"1\" \"1\" \"1\" \"0\" \"1\" \"0\" \"1\" \"1\" \"1\" \"1\" \"1\" \"1\" \"1\"\n",
              "[28837] \"0\" \"1\" \"1\" \"0\" \"0\" \"1\" \"0\" \"0\" \"1\" \"0\" \"1\" \"1\" \"0\" \"1\" \"1\" \"1\" \"0\" \"0\"\n",
              "[28855] \"1\" \"0\" \"0\" \"0\" \"1\" \"0\" \"0\" \"0\" \"0\" \"1\" \"0\" \"1\" \"1\" \"0\" \"1\" \"0\" \"1\" \"0\"\n",
              "[28873] \"0\" \"0\" \"0\" \"0\" \"1\" \"1\" \"0\" \"1\" \"1\" \"1\" \"0\" \"1\" \"0\" \"1\" \"1\" \"1\" \"0\" \"1\"\n",
              "[28891] \"1\" \"1\" \"0\" \"1\" \"0\" \"1\" \"1\" \"0\" \"1\" \"1\" \"1\" \"0\" \"1\" \"1\" \"0\" \"1\" \"0\" \"1\"\n",
              "[28909] \"1\" \"1\" \"1\" \"0\" \"1\" \"1\" \"1\" \"0\" \"1\" \"0\" \"1\" \"1\" \"0\" \"0\" \"1\" \"0\" \"1\" \"0\"\n",
              "[28927] \"1\" \"1\" \"1\" \"1\" \"0\" \"0\" \"0\" \"0\" \"1\" \"1\" \"0\" \"1\" \"0\" \"1\" \"1\" \"0\" \"0\" \"0\"\n",
              "[28945] \"1\" \"0\" \"1\" \"1\" \"1\" \"0\" \"1\" \"1\" \"1\" \"1\" \"1\" \"0\" \"1\" \"0\" \"0\" \"1\" \"1\" \"1\"\n",
              "[28963] \"0\" \"1\" \"1\" \"0\" \"1\" \"0\" \"1\" \"1\" \"1\" \"0\" \"0\" \"1\" \"1\" \"1\" \"0\" \"0\" \"1\" \"1\"\n",
              "[28981] \"1\" \"1\" \"1\" \"1\" \"0\" \"1\" \"1\" \"1\" \"1\" \"1\" \"1\" \"0\" \"0\" \"0\" \"1\" \"1\" \"1\" \"1\"\n",
              "[28999] \"1\" \"1\" \"0\" \"0\" \"1\" \"1\" \"1\" \"1\" \"1\" \"0\" \"1\" \"1\" \"0\" \"1\" \"1\" \"0\" \"0\" \"0\"\n",
              "[29017] \"1\" \"1\" \"0\" \"0\" \"0\" \"0\" \"1\" \"0\" \"0\" \"1\" \"0\" \"0\" \"1\" \"1\" \"1\" \"0\" \"1\" \"0\"\n",
              "[29035] \"0\" \"1\" \"0\" \"1\" \"1\" \"1\" \"1\" \"1\" \"0\" \"0\" \"1\" \"0\" \"1\" \"1\" \"1\" \"1\" \"0\" \"0\"\n",
              "[29053] \"0\" \"1\" \"1\" \"0\" \"1\" \"1\" \"1\" \"1\" \"1\" \"1\" \"1\" \"1\" \"0\" \"1\" \"0\" \"0\" \"0\" \"1\"\n",
              "[29071] \"1\" \"1\" \"0\" \"1\" \"0\" \"0\" \"0\" \"1\" \"1\" \"1\" \"1\" \"1\" \"0\" \"1\" \"1\" \"0\" \"0\" \"1\"\n",
              "[29089] \"1\" \"1\" \"1\" \"0\" \"1\" \"1\" \"1\" \"1\" \"1\" \"1\" \"1\" \"1\" \"1\" \"0\" \"0\" \"1\" \"0\" \"0\"\n",
              "[29107] \"0\" \"0\" \"1\" \"1\" \"1\" \"1\" \"1\" \"1\" \"0\" \"0\" \"0\" \"1\" \"0\" \"0\" \"1\" \"1\" \"1\" \"1\"\n",
              "[29125] \"1\" \"0\" \"0\" \"1\" \"0\" \"1\" \"0\" \"1\" \"1\" \"1\" \"1\" \"0\" \"1\" \"0\" \"1\" \"1\" \"0\" \"1\"\n",
              "[29143] \"0\" \"1\" \"1\" \"1\" \"0\" \"1\" \"0\" \"1\" \"0\" \"0\" \"0\" \"0\" \"1\" \"1\" \"1\" \"1\" \"1\" \"1\"\n",
              "[29161] \"1\" \"1\" \"1\" \"1\" \"1\" \"1\" \"0\" \"0\" \"1\" \"1\" \"0\" \"1\" \"0\" \"1\" \"0\" \"0\" \"1\" \"1\"\n",
              "[29179] \"1\" \"0\" \"0\" \"1\" \"1\" \"1\" \"0\" \"0\" \"0\" \"1\" \"1\" \"1\" \"1\" \"1\" \"1\" \"1\" \"1\" \"0\"\n",
              "[29197] \"0\" \"1\" \"1\" \"0\" \"0\" \"0\" \"1\" \"0\" \"0\" \"0\" \"1\" \"0\" \"1\" \"1\" \"0\" \"1\" \"0\" \"1\"\n",
              "[29215] \"0\" \"1\" \"0\" \"0\" \"0\" \"0\" \"0\" \"0\" \"0\" \"1\" \"1\" \"0\" \"0\" \"1\" \"1\" \"0\" \"1\" \"0\"\n",
              "[29233] \"1\" \"0\" \"1\" \"1\" \"1\" \"0\" \"0\" \"1\" \"1\" \"1\" \"1\" \"1\" \"0\" \"1\" \"1\" \"1\" \"1\" \"1\"\n",
              "[29251] \"1\" \"0\" \"0\" \"1\" \"1\" \"1\" \"1\" \"0\" \"0\" \"0\" \"1\" \"1\" \"1\" \"1\" \"1\" \"1\" \"1\" \"1\"\n",
              "[29269] \"1\" \"1\" \"0\" \"1\" \"0\" \"1\" \"1\" \"1\" \"0\" \"1\" \"0\" \"0\" \"1\" \"0\" \"1\" \"0\" \"0\" \"1\"\n",
              "[29287] \"1\" \"0\" \"0\" \"0\" \"0\" \"1\" \"1\" \"0\" \"0\" \"1\" \"1\" \"0\" \"1\" \"1\" \"0\" \"0\" \"0\" \"1\"\n",
              "[29305] \"0\" \"1\" \"1\" \"0\" \"0\" \"0\" \"1\" \"0\" \"1\" \"1\" \"0\" \"0\" \"1\" \"1\" \"0\" \"0\" \"1\" \"1\"\n",
              "[29323] \"1\" \"1\" \"0\" \"0\" \"0\" \"1\" \"1\" \"0\" \"0\" \"0\" \"1\" \"0\" \"0\" \"1\" \"1\" \"0\" \"1\" \"1\"\n",
              "[29341] \"1\" \"1\" \"0\" \"0\" \"0\" \"0\" \"1\" \"1\" \"1\" \"0\" \"0\" \"1\" \"1\" \"1\" \"1\" \"0\" \"1\" \"1\"\n",
              "[29359] \"1\" \"0\" \"0\" \"1\" \"1\" \"1\" \"0\" \"0\" \"0\" \"1\" \"1\" \"1\" \"1\" \"0\" \"0\" \"1\" \"0\" \"0\"\n",
              "[29377] \"0\" \"1\" \"0\" \"1\" \"0\" \"1\" \"1\" \"1\" \"1\" \"1\" \"0\" \"0\" \"0\" \"1\" \"0\" \"0\" \"1\" \"1\"\n",
              "[29395] \"1\" \"1\" \"0\" \"1\" \"1\" \"0\" \"0\" \"1\" \"0\" \"1\" \"1\" \"0\" \"0\" \"1\" \"0\" \"1\" \"0\" \"0\"\n",
              "[29413] \"1\" \"1\" \"1\" \"1\" \"1\" \"0\" \"1\" \"1\" \"1\" \"1\" \"0\" \"0\" \"1\" \"0\" \"1\" \"1\" \"1\" \"1\"\n",
              "[29431] \"1\" \"1\" \"1\" \"0\" \"1\" \"0\" \"0\" \"1\" \"0\" \"1\" \"1\" \"1\" \"1\" \"1\" \"0\" \"0\" \"1\" \"1\"\n",
              "[29449] \"0\" \"0\" \"1\" \"1\" \"1\" \"0\" \"1\" \"0\" \"1\" \"0\" \"1\" \"1\" \"1\" \"1\" \"1\" \"0\" \"1\" \"0\"\n",
              "[29467] \"1\" \"1\" \"1\" \"0\" \"1\" \"1\" \"1\" \"0\" \"0\" \"0\" \"1\" \"1\" \"1\" \"1\" \"0\" \"0\" \"0\" \"1\"\n",
              "[29485] \"1\" \"0\" \"0\" \"1\" \"0\" \"1\" \"1\" \"1\" \"0\" \"0\" \"0\" \"1\" \"0\" \"1\" \"0\" \"0\" \"0\" \"1\"\n",
              "[29503] \"0\" \"0\" \"1\" \"1\" \"0\" \"0\" \"0\" \"1\" \"1\" \"0\" \"0\" \"1\" \"0\" \"1\" \"0\" \"0\" \"1\" \"1\"\n",
              "[29521] \"1\" \"0\" \"1\" \"1\" \"1\" \"1\" \"1\" \"0\" \"0\" \"0\" \"1\" \"1\" \"0\" \"0\" \"0\" \"1\" \"1\" \"1\"\n",
              "[29539] \"0\" \"1\" \"1\" \"1\" \"1\" \"0\" \"0\" \"0\" \"0\" \"1\" \"1\" \"1\" \"1\" \"1\" \"1\" \"1\" \"1\" \"1\"\n",
              "[29557] \"1\" \"0\" \"1\" \"1\" \"1\" \"1\" \"1\" \"0\" \"1\" \"0\" \"0\" \"1\" \"0\" \"0\" \"1\" \"1\" \"0\" \"0\"\n",
              "[29575] \"1\" \"0\" \"1\" \"1\" \"1\" \"0\" \"0\" \"0\" \"0\" \"1\" \"0\" \"1\" \"1\" \"1\" \"0\" \"0\" \"0\" \"1\"\n",
              "[29593] \"1\" \"1\" \"0\" \"1\" \"0\" \"1\" \"0\" \"0\" \"1\" \"1\" \"0\" \"0\" \"0\" \"1\" \"0\" \"1\" \"1\" \"1\"\n",
              "[29611] \"0\" \"1\" \"1\" \"0\" \"0\" \"0\" \"0\" \"1\" \"1\" \"1\" \"1\" \"1\" \"1\" \"1\" \"1\" \"0\" \"1\" \"0\"\n",
              "[29629] \"1\" \"1\" \"1\" \"1\" \"0\" \"0\" \"0\" \"1\" \"1\" \"1\" \"1\" \"0\" \"1\" \"0\" \"1\" \"1\" \"1\" \"1\"\n",
              "[29647] \"1\" \"1\" \"1\" \"1\" \"1\" \"0\" \"0\" \"0\" \"1\" \"1\" \"1\" \"1\" \"1\" \"1\" \"0\" \"1\" \"1\" \"1\"\n",
              "[29665] \"1\" \"1\" \"0\" \"1\" \"1\" \"0\" \"1\" \"0\" \"1\" \"0\" \"1\" \"0\" \"1\" \"1\" \"0\" \"0\" \"1\" \"1\"\n",
              "[29683] \"1\" \"1\" \"0\" \"1\" \"0\" \"1\" \"1\" \"0\" \"1\" \"1\" \"0\" \"1\" \"1\" \"1\" \"1\" \"0\" \"1\" \"1\"\n",
              "[29701] \"1\" \"1\" \"1\" \"1\" \"0\" \"0\" \"0\" \"1\" \"1\" \"1\" \"1\" \"1\" \"1\" \"0\" \"0\" \"0\" \"1\" \"1\"\n",
              "[29719] \"1\" \"1\" \"0\" \"0\" \"1\" \"0\" \"1\" \"0\" \"0\" \"1\" \"1\" \"1\" \"0\" \"0\" \"1\" \"1\" \"0\" \"1\"\n",
              "[29737] \"0\" \"1\" \"0\" \"0\" \"1\" \"1\" \"1\" \"0\" \"1\" \"0\" \"0\" \"1\" \"1\" \"0\" \"1\" \"1\" \"1\" \"1\"\n",
              "[29755] \"1\" \"1\" \"0\" \"0\" \"1\" \"1\" \"1\" \"1\" \"0\" \"1\" \"0\" \"1\" \"1\" \"1\" \"0\" \"1\" \"1\" \"1\"\n",
              "[29773] \"1\" \"1\" \"1\" \"1\" \"1\" \"1\" \"1\" \"1\" \"1\" \"0\" \"0\" \"1\" \"1\" \"0\" \"1\" \"1\" \"1\" \"0\"\n",
              "[29791] \"0\" \"1\" \"1\" \"1\" \"1\" \"0\" \"1\" \"1\" \"1\" \"1\" \"1\" \"1\" \"1\" \"0\" \"1\" \"1\" \"1\" \"0\"\n",
              "[29809] \"1\" \"1\" \"0\" \"1\" \"0\" \"1\" \"1\" \"1\" \"0\" \"1\" \"1\" \"1\" \"1\" \"1\" \"1\" \"1\" \"0\" \"1\"\n",
              "[29827] \"1\" \"1\" \"1\" \"1\" \"1\" \"1\" \"1\" \"0\" \"1\" \"1\" \"0\" \"0\" \"1\" \"1\" \"1\" \"1\" \"1\" \"1\"\n",
              "[29845] \"0\" \"1\" \"1\" \"1\" \"1\" \"1\" \"1\" \"1\" \"1\" \"0\" \"1\" \"1\" \"1\" \"1\" \"0\" \"1\" \"1\" \"1\"\n",
              "[29863] \"0\" \"0\" \"1\" \"1\" \"0\" \"1\" \"0\" \"0\" \"1\" \"0\" \"1\" \"1\" \"1\" \"0\" \"0\" \"1\" \"1\" \"1\"\n",
              "[29881] \"1\" \"1\" \"1\" \"1\" \"1\" \"0\" \"1\" \"0\" \"0\" \"1\" \"1\" \"1\" \"0\" \"0\" \"1\" \"0\" \"0\" \"0\"\n",
              "[29899] \"1\" \"1\" \"1\" \"1\" \"1\" \"0\" \"1\" \"0\" \"0\" \"1\" \"1\" \"1\" \"1\" \"1\" \"1\" \"0\" \"0\" \"1\"\n",
              "[29917] \"1\" \"0\" \"1\" \"1\" \"1\" \"1\" \"1\" \"1\" \"1\" \"1\" \"1\" \"1\" \"1\" \"1\" \"1\" \"0\" \"1\" \"1\"\n",
              "[29935] \"1\" \"0\" \"1\" \"0\" \"1\" \"1\" \"0\" \"1\" \"1\" \"0\" \"1\" \"1\" \"1\" \"1\" \"0\" \"1\" \"0\" \"0\"\n",
              "[29953] \"1\" \"0\" \"1\" \"1\" \"1\" \"1\" \"1\" \"1\" \"0\" \"0\" \"1\" \"1\" \"0\" \"1\" \"0\" \"0\" \"0\" \"0\"\n",
              "[29971] \"0\" \"1\" \"1\" \"0\" \"1\" \"1\" \"1\" \"1\" \"0\" \"1\" \"0\" \"1\" \"0\" \"1\" \"0\" \"0\" \"1\" \"1\"\n",
              "[29989] \"0\" \"1\" \"1\" \"1\" \"0\" \"1\" \"1\" \"0\" \"1\" \"1\" \"0\" \"0\" \"0\" \"0\" \"0\" \"0\" \"0\" \"1\"\n",
              "[30007] \"1\" \"1\" \"1\" \"0\" \"1\" \"1\" \"1\" \"1\" \"1\" \"1\" \"1\" \"1\" \"0\" \"0\" \"1\" \"1\" \"1\" \"0\"\n",
              "[30025] \"1\" \"0\" \"0\" \"1\" \"0\" \"1\" \"0\" \"1\" \"0\" \"1\" \"1\" \"0\" \"1\" \"1\" \"0\" \"0\" \"0\" \"0\"\n",
              "[30043] \"1\" \"0\" \"1\" \"1\" \"1\" \"0\" \"1\" \"1\" \"0\" \"0\" \"0\" \"1\" \"0\" \"1\" \"0\" \"1\" \"1\" \"0\"\n",
              "[30061] \"0\" \"0\" \"1\" \"1\" \"0\" \"1\" \"1\" \"0\" \"0\" \"1\" \"0\" \"1\" \"1\" \"0\" \"0\" \"1\" \"0\" \"1\"\n",
              "[30079] \"0\" \"1\" \"0\" \"1\" \"0\" \"1\" \"1\" \"0\" \"0\" \"1\" \"0\" \"0\" \"1\" \"1\" \"0\" \"1\" \"1\" \"1\"\n",
              "[30097] \"1\" \"1\" \"0\" \"1\" \"1\" \"1\" \"1\" \"1\" \"1\" \"0\" \"1\" \"0\" \"0\" \"1\" \"1\" \"1\" \"1\" \"0\"\n",
              "[30115] \"1\" \"1\" \"1\" \"1\" \"1\" \"1\" \"1\" \"0\" \"0\" \"1\" \"1\" \"1\" \"0\" \"0\" \"1\" \"1\" \"1\" \"1\"\n",
              "[30133] \"0\" \"1\" \"0\" \"0\" \"0\" \"0\" \"1\" \"1\" \"0\" \"0\" \"1\" \"1\" \"0\" \"1\" \"0\" \"0\" \"1\" \"1\"\n",
              "[30151] \"0\" \"1\" \"1\" \"1\" \"1\" \"1\" \"1\" \"1\" \"0\" \"1\" \"0\" \"0\" \"0\" \"1\" \"1\" \"1\" \"0\" \"1\"\n",
              "[30169] \"0\" \"1\" \"1\" \"1\" \"1\" \"1\" \"0\" \"0\" \"1\" \"0\" \"1\" \"0\" \"1\" \"1\" \"1\" \"1\" \"0\" \"1\"\n",
              "[30187] \"1\" \"0\" \"1\" \"0\" \"0\" \"1\" \"1\" \"0\" \"1\" \"0\" \"0\" \"0\" \"0\" \"0\" \"1\" \"1\" \"0\" \"1\"\n",
              "[30205] \"1\" \"1\" \"0\" \"1\" \"0\" \"0\" \"1\" \"1\" \"0\" \"1\" \"1\" \"1\" \"1\" \"1\" \"1\" \"1\" \"1\" \"1\"\n",
              "[30223] \"1\" \"0\" \"0\" \"0\" \"0\" \"1\" \"0\" \"0\" \"0\" \"1\" \"1\" \"1\" \"1\" \"1\" \"0\" \"0\" \"0\" \"1\"\n",
              "[30241] \"0\" \"0\" \"1\" \"1\" \"1\" \"0\" \"1\" \"1\" \"1\" \"1\" \"0\" \"0\" \"1\" \"1\" \"1\" \"1\" \"0\" \"0\"\n",
              "[30259] \"1\" \"1\" \"0\" \"0\" \"0\" \"1\" \"1\" \"0\" \"1\" \"0\" \"0\" \"1\" \"1\" \"1\" \"1\" \"1\" \"0\" \"0\"\n",
              "[30277] \"0\" \"1\" \"0\" \"0\" \"1\" \"0\" \"1\" \"1\" \"1\" \"1\" \"1\" \"1\" \"0\" \"0\" \"1\" \"0\" \"1\" \"1\"\n",
              "[30295] \"1\" \"1\" \"0\" \"1\" \"1\" \"1\" \"0\" \"1\" \"1\" \"1\" \"1\" \"1\" \"1\" \"0\" \"0\" \"1\" \"1\" \"1\"\n",
              "[30313] \"1\" \"1\" \"1\" \"1\" \"0\" \"0\" \"1\" \"0\" \"1\" \"0\" \"1\" \"0\" \"0\" \"1\" \"1\" \"0\" \"0\" \"1\"\n",
              "[30331] \"1\" \"0\" \"0\" \"0\" \"0\" \"0\" \"0\" \"1\" \"1\" \"1\" \"1\" \"1\" \"1\" \"1\" \"1\" \"0\" \"1\" \"1\"\n",
              "[30349] \"1\" \"1\" \"0\" \"1\" \"1\" \"1\" \"1\" \"0\" \"0\" \"1\" \"1\" \"0\" \"0\" \"1\" \"0\" \"1\" \"1\" \"1\"\n",
              "[30367] \"1\" \"0\" \"1\" \"0\" \"1\" \"0\" \"1\" \"1\" \"1\" \"1\" \"0\" \"1\" \"0\" \"0\" \"0\" \"1\" \"1\" \"1\"\n",
              "[30385] \"0\" \"1\" \"1\" \"0\" \"0\" \"1\" \"1\" \"1\" \"0\" \"1\" \"1\" \"1\" \"1\" \"1\" \"1\" \"1\" \"1\" \"1\"\n",
              "[30403] \"0\" \"1\" \"1\" \"1\" \"1\" \"1\" \"0\" \"1\" \"1\" \"1\" \"1\" \"1\" \"1\" \"0\" \"0\" \"0\" \"1\" \"0\"\n",
              "[30421] \"1\" \"1\" \"0\" \"0\" \"1\" \"1\" \"1\" \"1\" \"1\" \"1\" \"1\" \"1\" \"1\" \"1\" \"0\" \"0\" \"0\" \"0\"\n",
              "[30439] \"1\" \"0\" \"1\" \"1\" \"0\" \"0\" \"0\" \"0\" \"0\" \"0\" \"1\" \"1\" \"1\" \"1\" \"1\" \"0\" \"0\" \"1\"\n",
              "[30457] \"0\" \"0\" \"1\" \"1\" \"0\" \"0\" \"1\" \"1\" \"0\" \"0\" \"1\" \"1\" \"0\" \"1\" \"1\" \"0\" \"1\" \"1\"\n",
              "[30475] \"0\" \"1\" \"1\" \"1\" \"0\" \"0\" \"1\" \"1\" \"1\" \"0\" \"1\" \"1\" \"1\" \"1\" \"1\" \"0\" \"0\" \"0\"\n",
              "[30493] \"0\" \"0\" \"0\" \"1\" \"1\" \"1\" \"0\" \"0\" \"0\" \"0\" \"1\" \"0\" \"1\" \"0\" \"1\" \"0\" \"1\" \"1\"\n",
              "[30511] \"0\" \"0\" \"1\" \"0\" \"0\" \"1\" \"1\" \"0\" \"1\" \"1\" \"0\" \"1\" \"1\" \"0\" \"0\" \"1\" \"1\" \"1\"\n",
              "[30529] \"1\" \"1\" \"1\" \"0\" \"1\" \"1\" \"0\" \"1\" \"1\" \"1\" \"1\" \"1\" \"0\" \"1\" \"1\" \"0\" \"0\" \"1\"\n",
              "[30547] \"1\" \"0\" \"0\" \"1\" \"1\" \"1\" \"1\" \"0\" \"0\" \"1\" \"1\" \"0\" \"1\" \"1\" \"1\" \"1\" \"1\" \"1\"\n",
              "[30565] \"1\" \"1\" \"1\" \"1\" \"0\" \"1\" \"0\" \"1\" \"0\" \"1\" \"0\" \"0\" \"0\" \"1\" \"1\" \"0\" \"1\" \"0\"\n",
              "[30583] \"1\" \"0\" \"0\" \"1\" \"1\" \"1\" \"1\" \"1\" \"0\" \"1\" \"1\" \"1\" \"1\" \"1\" \"1\" \"0\" \"0\" \"0\"\n",
              "[30601] \"1\" \"0\" \"0\" \"1\" \"1\" \"1\" \"1\" \"1\" \"1\" \"1\" \"1\" \"0\" \"0\" \"0\" \"0\" \"1\" \"1\" \"1\"\n",
              "[30619] \"0\" \"1\" \"0\" \"1\" \"0\" \"1\" \"0\" \"0\" \"1\" \"1\" \"1\" \"0\" \"1\" \"1\" \"1\" \"0\" \"0\" \"0\"\n",
              "[30637] \"0\" \"1\" \"1\" \"1\" \"0\" \"0\" \"1\" \"1\" \"0\" \"1\" \"1\" \"0\" \"1\" \"1\" \"0\" \"1\" \"0\" \"1\"\n",
              "[30655] \"1\" \"1\" \"0\" \"0\" \"1\" \"0\" \"0\" \"1\" \"1\" \"1\" \"1\" \"1\" \"0\" \"1\" \"1\" \"1\" \"1\" \"1\"\n",
              "[30673] \"1\" \"0\" \"1\" \"0\" \"0\" \"0\" \"0\" \"0\" \"0\" \"1\" \"1\" \"1\" \"1\" \"0\" \"0\" \"1\" \"1\" \"1\"\n",
              "[30691] \"1\" \"0\" \"0\" \"1\" \"1\" \"1\" \"0\" \"0\" \"0\" \"1\" \"1\" \"1\" \"1\" \"1\" \"0\" \"0\" \"0\" \"1\"\n",
              "[30709] \"0\" \"0\" \"1\" \"0\" \"0\" \"1\" \"0\" \"1\" \"0\" \"0\" \"0\" \"1\" \"0\" \"0\" \"1\" \"0\" \"1\" \"1\"\n",
              "[30727] \"1\" \"0\" \"1\" \"1\" \"1\" \"1\" \"0\" \"1\" \"1\" \"1\" \"1\" \"1\" \"1\" \"1\" \"1\" \"1\" \"0\" \"0\"\n",
              "[30745] \"1\" \"0\" \"1\" \"0\" \"1\" \"1\" \"0\" \"1\" \"1\" \"1\" \"0\" \"0\" \"0\" \"0\" \"1\" \"1\" \"0\" \"1\"\n",
              "[30763] \"1\" \"0\" \"1\" \"1\" \"1\" \"1\" \"1\" \"1\" \"0\" \"0\" \"0\" \"1\" \"0\" \"1\" \"0\" \"0\" \"1\" \"1\"\n",
              "[30781] \"0\" \"0\" \"1\" \"1\" \"1\" \"0\" \"0\" \"1\" \"1\" \"0\" \"0\" \"0\" \"1\" \"0\" \"0\" \"1\" \"0\" \"0\"\n",
              "[30799] \"1\" \"1\" \"0\" \"1\" \"1\" \"1\" \"1\" \"1\" \"0\" \"1\" \"1\" \"1\" \"0\" \"1\" \"0\" \"0\" \"0\" \"1\"\n",
              "[30817] \"0\" \"0\" \"1\" \"0\" \"1\" \"1\" \"0\" \"0\" \"0\" \"0\" \"0\" \"1\" \"0\" \"0\" \"1\" \"1\" \"1\" \"1\"\n",
              "[30835] \"0\" \"1\" \"0\" \"0\" \"0\" \"1\" \"1\" \"1\" \"1\" \"1\" \"1\" \"1\" \"1\" \"1\" \"0\" \"1\" \"0\" \"1\"\n",
              "[30853] \"1\" \"1\" \"1\" \"1\" \"1\" \"1\" \"1\" \"1\" \"1\" \"0\" \"1\" \"0\" \"1\" \"1\" \"0\" \"1\" \"0\" \"1\"\n",
              "[30871] \"1\" \"0\" \"0\" \"1\" \"1\" \"1\" \"0\" \"0\" \"0\" \"0\" \"1\" \"0\" \"1\" \"1\" \"1\" \"1\" \"1\" \"1\"\n",
              "[30889] \"1\" \"0\" \"1\" \"0\" \"0\" \"0\" \"0\" \"0\" \"0\" \"0\" \"0\" \"0\" \"0\" \"1\" \"0\" \"1\" \"0\" \"0\"\n",
              "[30907] \"1\" \"0\" \"0\" \"1\" \"1\" \"0\" \"1\" \"1\" \"0\" \"0\" \"0\" \"1\" \"1\" \"1\" \"1\" \"1\" \"1\" \"1\"\n",
              "[30925] \"0\" \"0\" \"1\" \"0\" \"1\" \"1\" \"0\" \"1\" \"1\" \"1\" \"0\" \"1\" \"1\" \"1\" \"1\" \"0\" \"1\" \"1\"\n",
              "[30943] \"0\" \"1\" \"0\" \"1\" \"1\" \"1\" \"1\" \"0\" \"1\" \"1\" \"1\" \"0\" \"1\" \"0\" \"0\" \"1\" \"0\" \"1\"\n",
              "[30961] \"1\" \"1\" \"0\" \"0\" \"1\" \"0\" \"1\" \"0\" \"1\" \"1\" \"1\" \"1\" \"0\" \"1\" \"0\" \"1\" \"1\" \"1\"\n",
              "[30979] \"1\" \"1\" \"1\" \"1\" \"1\" \"1\" \"1\" \"1\" \"1\" \"0\" \"1\" \"0\" \"0\" \"1\" \"0\" \"1\" \"1\" \"1\"\n",
              "[30997] \"0\" \"1\" \"1\" \"0\" \"1\" \"0\" \"0\" \"1\" \"1\" \"1\" \"1\" \"1\" \"1\" \"1\" \"0\" \"1\" \"1\" \"1\"\n",
              "[31015] \"1\" \"1\" \"1\" \"1\" \"0\" \"0\" \"1\" \"0\" \"1\" \"0\" \"1\" \"1\" \"1\" \"0\" \"1\" \"0\" \"1\" \"1\"\n",
              "[31033] \"0\" \"1\" \"0\" \"1\" \"0\" \"0\" \"0\" \"0\" \"1\" \"1\" \"1\" \"1\" \"1\" \"1\" \"1\" \"1\" \"0\" \"0\"\n",
              "[31051] \"1\" \"1\" \"0\" \"0\" \"1\" \"0\" \"0\" \"0\" \"0\" \"1\" \"1\" \"0\" \"1\" \"0\" \"0\" \"1\" \"1\" \"1\"\n",
              "[31069] \"0\" \"0\" \"1\" \"0\" \"1\" \"0\" \"0\" \"1\" \"1\" \"1\" \"0\" \"0\" \"1\" \"1\" \"1\" \"1\" \"1\" \"1\"\n",
              "[31087] \"1\" \"0\" \"0\" \"0\" \"1\" \"0\" \"1\" \"1\" \"0\" \"1\" \"1\" \"1\" \"0\" \"1\" \"1\" \"0\" \"0\" \"0\"\n",
              "[31105] \"1\" \"1\" \"1\" \"1\" \"0\" \"0\" \"1\" \"0\" \"1\" \"1\" \"1\" \"0\" \"1\" \"1\" \"1\" \"0\" \"1\" \"0\"\n",
              "[31123] \"1\" \"0\" \"0\" \"1\" \"1\" \"0\" \"1\" \"1\" \"1\" \"0\" \"0\" \"0\" \"0\" \"1\" \"1\" \"0\" \"0\" \"1\"\n",
              "[31141] \"0\" \"1\" \"1\" \"0\" \"1\" \"1\" \"0\" \"0\" \"1\" \"1\" \"0\" \"1\" \"1\" \"0\" \"0\" \"1\" \"0\" \"0\"\n",
              "[31159] \"0\" \"1\" \"1\" \"1\" \"1\" \"1\" \"1\" \"1\" \"1\" \"1\" \"1\" \"0\" \"1\" \"1\" \"0\" \"0\" \"0\" \"0\"\n",
              "[31177] \"0\" \"1\" \"1\" \"0\" \"0\" \"0\" \"1\" \"0\" \"0\" \"1\" \"1\" \"0\" \"1\" \"1\" \"0\" \"0\" \"1\" \"0\"\n",
              "[31195] \"1\" \"0\" \"0\" \"1\" \"1\" \"0\" \"1\" \"0\" \"1\" \"0\" \"1\" \"1\" \"1\" \"1\" \"1\" \"0\" \"1\" \"1\"\n",
              "[31213] \"1\" \"0\" \"0\" \"0\" \"1\" \"1\" \"1\" \"1\" \"1\" \"1\" \"1\" \"1\" \"0\" \"0\" \"1\" \"1\" \"1\" \"1\"\n",
              "[31231] \"1\" \"1\" \"1\" \"1\" \"0\" \"1\" \"1\" \"0\" \"1\" \"0\" \"1\" \"1\" \"1\" \"1\" \"1\" \"1\" \"1\" \"1\"\n",
              "[31249] \"1\" \"1\" \"1\" \"0\" \"1\" \"1\" \"1\" \"0\" \"1\" \"1\" \"0\" \"0\" \"0\" \"0\" \"0\" \"0\" \"0\" \"0\"\n",
              "[31267] \"1\" \"1\" \"0\" \"0\" \"1\" \"1\" \"1\" \"0\" \"1\" \"1\" \"1\" \"0\" \"1\" \"0\" \"1\" \"1\" \"1\" \"0\"\n",
              "[31285] \"1\" \"1\" \"1\" \"1\" \"1\" \"0\" \"1\" \"1\" \"1\" \"1\" \"0\" \"1\" \"0\" \"1\" \"1\" \"1\" \"0\" \"1\"\n",
              "[31303] \"1\" \"1\" \"1\" \"1\" \"1\" \"1\" \"1\" \"0\" \"1\" \"1\" \"1\" \"1\" \"0\" \"1\" \"1\" \"0\" \"0\" \"0\"\n",
              "[31321] \"0\" \"1\" \"1\" \"0\" \"0\" \"0\" \"1\" \"1\" \"1\" \"1\" \"0\" \"1\" \"1\" \"1\" \"0\" \"1\" \"1\" \"1\"\n",
              "[31339] \"1\" \"0\" \"1\" \"0\" \"1\" \"1\" \"0\" \"0\" \"1\" \"1\" \"1\" \"0\" \"0\" \"1\" \"1\" \"1\" \"1\" \"1\"\n",
              "[31357] \"0\" \"1\" \"1\" \"0\" \"0\" \"1\" \"0\" \"0\" \"1\" \"1\" \"0\" \"1\" \"1\" \"1\" \"1\" \"1\" \"1\" \"1\"\n",
              "[31375] \"0\" \"0\" \"1\" \"1\" \"0\" \"1\" \"1\" \"0\" \"0\" \"1\" \"0\" \"1\" \"1\" \"1\" \"1\" \"1\" \"1\" \"1\"\n",
              "[31393] \"0\" \"0\" \"1\" \"0\" \"0\" \"1\" \"1\" \"0\" \"1\" \"1\" \"1\" \"1\" \"1\" \"1\" \"1\" \"0\" \"1\" \"1\"\n",
              "[31411] \"0\" \"1\" \"0\" \"0\" \"1\" \"1\" \"0\" \"1\" \"1\" \"0\" \"1\" \"0\" \"0\" \"0\" \"1\" \"1\" \"1\" \"0\"\n",
              "[31429] \"0\" \"0\" \"1\" \"1\" \"0\" \"0\" \"1\" \"1\" \"0\" \"1\" \"0\" \"0\" \"0\" \"0\" \"1\" \"1\" \"1\" \"1\"\n",
              "[31447] \"1\" \"1\" \"1\" \"1\" \"1\" \"1\" \"1\" \"1\" \"1\" \"1\" \"1\" \"1\" \"0\" \"0\" \"0\" \"1\" \"1\" \"1\"\n",
              "[31465] \"1\" \"0\" \"0\" \"1\" \"1\" \"1\" \"0\" \"1\" \"0\" \"1\" \"1\" \"1\" \"0\" \"1\" \"0\" \"0\" \"1\" \"1\"\n",
              "[31483] \"1\" \"0\" \"0\" \"1\" \"1\" \"0\" \"1\" \"1\" \"0\" \"1\" \"1\" \"0\" \"0\" \"1\" \"1\" \"1\" \"1\" \"0\"\n",
              "[31501] \"0\" \"1\" \"1\" \"1\" \"0\" \"1\" \"0\" \"1\" \"1\" \"1\" \"1\" \"1\" \"0\" \"0\" \"1\" \"1\" \"1\" \"0\"\n",
              "[31519] \"1\" \"1\" \"1\" \"1\" \"1\" \"1\" \"1\" \"1\" \"0\" \"1\" \"1\" \"0\" \"1\" \"1\" \"1\" \"1\" \"1\" \"1\"\n",
              "[31537] \"1\" \"0\" \"1\" \"1\" \"1\" \"0\" \"1\" \"1\" \"1\" \"0\" \"1\" \"1\" \"1\" \"0\" \"0\" \"1\" \"1\" \"1\"\n",
              "[31555] \"1\" \"1\" \"0\" \"1\" \"0\" \"1\" \"1\" \"1\" \"1\" \"1\" \"0\" \"1\" \"0\" \"1\" \"0\" \"0\" \"0\" \"0\"\n",
              "[31573] \"1\" \"1\" \"0\" \"0\" \"1\" \"0\" \"1\" \"0\" \"0\" \"1\" \"0\" \"0\" \"0\" \"0\" \"1\" \"1\" \"0\" \"1\"\n",
              "[31591] \"0\" \"1\" \"1\" \"1\" \"1\" \"0\" \"1\" \"0\" \"1\" \"1\" \"0\" \"0\" \"0\" \"0\" \"1\" \"0\" \"1\" \"0\"\n",
              "[31609] \"1\" \"1\" \"1\" \"1\" \"1\" \"1\" \"1\" \"1\" \"0\" \"0\" \"1\" \"1\" \"1\" \"1\" \"1\" \"0\" \"0\" \"1\"\n",
              "[31627] \"0\" \"0\" \"1\" \"1\" \"1\" \"1\" \"1\" \"1\" \"1\" \"1\" \"1\" \"0\" \"1\" \"1\" \"0\" \"0\" \"1\" \"1\"\n",
              "[31645] \"0\" \"1\" \"1\" \"1\" \"1\" \"0\" \"0\" \"0\" \"1\" \"0\" \"1\" \"1\" \"1\" \"1\" \"0\" \"0\" \"1\" \"1\"\n",
              "[31663] \"1\" \"1\" \"1\" \"0\" \"1\" \"1\" \"0\" \"1\" \"1\" \"1\" \"0\" \"1\" \"1\" \"1\" \"0\" \"1\" \"1\" \"0\"\n",
              "[31681] \"1\" \"1\" \"1\" \"0\" \"1\" \"1\" \"0\" \"0\" \"1\" \"1\" \"1\" \"0\" \"0\" \"1\" \"1\" \"0\" \"1\" \"1\"\n",
              "[31699] \"0\" \"1\" \"0\" \"0\" \"1\" \"1\" \"1\" \"1\" \"1\" \"0\" \"0\" \"1\" \"0\" \"0\" \"1\" \"1\" \"0\" \"0\"\n",
              "[31717] \"0\" \"0\" \"0\" \"0\" \"1\" \"1\" \"0\" \"1\" \"1\" \"1\" \"1\" \"1\" \"0\" \"1\" \"1\" \"1\" \"1\" \"1\"\n",
              "[31735] \"1\" \"1\" \"0\" \"0\" \"0\" \"0\" \"1\" \"1\" \"1\" \"1\" \"0\" \"1\" \"1\" \"1\" \"1\" \"0\" \"1\" \"0\"\n",
              "[31753] \"1\" \"0\" \"0\" \"0\" \"0\" \"0\" \"0\" \"0\" \"0\" \"1\" \"0\" \"1\" \"1\" \"0\" \"0\" \"0\" \"0\" \"0\"\n",
              "[31771] \"1\" \"0\" \"0\" \"1\" \"0\" \"1\" \"0\" \"1\" \"1\" \"0\" \"1\" \"0\" \"0\" \"1\" \"0\" \"0\" \"1\" \"0\"\n",
              "[31789] \"1\" \"1\" \"1\" \"1\" \"1\" \"0\" \"1\" \"1\" \"0\" \"1\" \"0\" \"1\" \"1\" \"1\" \"1\" \"1\" \"0\" \"0\"\n",
              "[31807] \"1\" \"1\" \"1\" \"1\" \"0\" \"0\" \"1\" \"1\" \"0\" \"1\" \"1\" \"1\" \"0\" \"1\" \"1\" \"1\" \"0\" \"1\"\n",
              "[31825] \"0\" \"1\" \"1\" \"1\" \"1\" \"0\" \"1\" \"1\" \"1\" \"1\" \"1\" \"0\" \"1\" \"0\" \"1\" \"0\" \"1\" \"1\"\n",
              "[31843] \"1\" \"1\" \"0\" \"1\" \"0\" \"0\" \"1\" \"0\" \"0\" \"1\" \"1\" \"0\" \"1\" \"1\" \"0\" \"1\" \"1\" \"0\"\n",
              "[31861] \"0\" \"1\" \"0\" \"1\" \"0\" \"0\" \"0\" \"0\" \"1\" \"1\" \"1\" \"0\" \"1\" \"1\" \"0\" \"1\" \"1\" \"1\"\n",
              "[31879] \"1\" \"1\" \"1\" \"1\" \"0\" \"0\" \"1\" \"0\" \"1\" \"1\" \"0\" \"1\" \"1\" \"1\" \"0\" \"0\" \"1\" \"1\"\n",
              "[31897] \"0\" \"0\" \"1\" \"1\" \"1\" \"0\" \"1\" \"1\" \"0\" \"0\" \"1\" \"1\" \"0\" \"1\" \"0\" \"1\" \"1\" \"0\"\n",
              "[31915] \"0\" \"0\" \"0\" \"1\" \"0\" \"1\" \"0\" \"1\" \"1\" \"0\" \"1\" \"1\" \"0\" \"1\" \"1\" \"1\" \"0\" \"1\"\n",
              "[31933] \"0\" \"1\" \"1\" \"0\" \"1\" \"0\" \"1\" \"1\" \"1\" \"0\" \"0\" \"0\" \"1\" \"1\" \"1\" \"1\" \"0\" \"1\"\n",
              "[31951] \"1\" \"1\" \"1\" \"1\" \"0\" \"1\" \"0\" \"1\" \"1\" \"0\" \"1\" \"1\" \"0\" \"1\" \"0\" \"1\" \"1\" \"1\"\n",
              "[31969] \"1\" \"0\" \"1\" \"0\" \"1\" \"0\" \"1\" \"0\" \"0\" \"1\" \"1\" \"1\" \"0\" \"0\" \"1\" \"1\" \"0\" \"1\"\n",
              "[31987] \"1\" \"0\" \"1\" \"0\" \"1\" \"1\" \"1\" \"0\" \"1\" \"1\" \"1\" \"1\" \"1\" \"0\" \"1\" \"1\" \"1\" \"1\"\n",
              "[32005] \"1\" \"1\" \"1\" \"1\" \"1\" \"1\" \"1\" \"1\" \"1\" \"1\" \"0\" \"0\" \"1\" \"1\" \"0\" \"0\" \"0\" \"1\"\n",
              "[32023] \"1\" \"1\" \"1\" \"1\" \"0\" \"1\" \"1\" \"1\" \"0\" \"1\" \"1\" \"1\" \"1\" \"1\" \"0\" \"1\" \"1\" \"0\"\n",
              "[32041] \"1\" \"0\" \"0\" \"1\" \"1\" \"0\" \"1\" \"0\" \"0\" \"1\" \"1\" \"0\" \"1\" \"1\" \"0\" \"0\" \"1\" \"1\"\n",
              "[32059] \"0\" \"1\" \"1\" \"1\" \"0\" \"1\" \"1\" \"1\" \"0\" \"1\" \"0\" \"1\" \"0\" \"0\" \"0\" \"1\" \"1\" \"0\"\n",
              "[32077] \"1\" \"1\" \"0\" \"1\" \"0\" \"1\" \"1\" \"1\" \"0\" \"1\" \"1\" \"0\" \"0\" \"1\" \"1\" \"0\" \"1\" \"1\"\n",
              "[32095] \"1\" \"0\" \"0\" \"0\" \"1\" \"0\" \"0\" \"0\" \"1\" \"0\" \"1\" \"0\" \"1\" \"1\" \"0\" \"1\" \"1\" \"1\"\n",
              "[32113] \"1\" \"1\" \"1\" \"1\" \"1\" \"1\" \"0\" \"1\" \"0\" \"1\" \"1\" \"0\" \"0\" \"1\" \"0\" \"1\" \"1\" \"1\"\n",
              "[32131] \"1\" \"1\" \"0\" \"1\" \"0\" \"1\" \"0\" \"0\" \"0\" \"1\" \"0\" \"0\" \"1\" \"0\" \"1\" \"1\" \"1\" \"0\"\n",
              "[32149] \"1\" \"0\" \"1\" \"0\" \"1\" \"0\" \"1\" \"0\" \"1\" \"1\" \"0\" \"0\" \"0\" \"1\" \"1\" \"1\" \"0\" \"0\"\n",
              "[32167] \"1\" \"0\" \"0\" \"0\" \"0\" \"1\" \"1\" \"1\" \"0\" \"0\" \"1\" \"1\" \"0\" \"1\" \"0\" \"1\" \"1\" \"1\"\n",
              "[32185] \"1\" \"1\" \"0\" \"0\" \"0\" \"1\" \"0\" \"1\" \"0\" \"1\" \"0\" \"1\" \"1\" \"1\" \"1\" \"1\" \"1\" \"1\"\n",
              "[32203] \"0\" \"1\" \"0\" \"0\" \"0\" \"0\" \"1\" \"0\" \"1\" \"0\" \"1\" \"0\" \"0\" \"1\" \"1\" \"0\" \"1\" \"1\"\n",
              "[32221] \"0\" \"1\" \"1\" \"1\" \"0\" \"1\" \"1\" \"0\" \"1\" \"0\" \"1\" \"1\" \"0\" \"1\" \"1\" \"1\" \"1\" \"0\"\n",
              "[32239] \"1\" \"0\" \"1\" \"1\" \"0\" \"0\" \"1\" \"1\" \"1\" \"0\" \"0\" \"1\" \"1\" \"1\" \"1\" \"0\" \"1\" \"0\"\n",
              "[32257] \"0\" \"1\" \"1\" \"0\" \"1\" \"0\" \"1\" \"0\" \"1\" \"1\" \"1\" \"1\" \"1\" \"1\" \"1\" \"1\" \"1\" \"0\"\n",
              "[32275] \"1\" \"0\" \"0\" \"0\" \"1\" \"0\" \"1\" \"1\" \"0\" \"1\" \"0\" \"0\" \"0\" \"1\" \"0\" \"0\" \"0\" \"0\"\n",
              "[32293] \"1\" \"1\" \"1\" \"1\" \"1\" \"1\" \"1\" \"1\" \"1\" \"1\" \"1\" \"1\" \"1\" \"1\" \"1\" \"1\" \"1\" \"1\"\n",
              "[32311] \"0\" \"1\" \"1\" \"1\" \"0\" \"1\" \"0\" \"1\" \"1\" \"0\" \"1\" \"1\" \"0\" \"1\" \"1\" \"0\" \"1\" \"0\"\n",
              "[32329] \"1\" \"1\" \"1\" \"1\" \"1\" \"1\" \"1\" \"0\" \"0\" \"0\" \"1\" \"1\" \"0\" \"0\" \"1\" \"0\" \"1\" \"0\"\n",
              "[32347] \"1\" \"1\" \"1\" \"0\" \"1\" \"1\" \"1\" \"1\" \"1\" \"1\" \"0\" \"1\" \"1\" \"1\" \"1\" \"0\" \"1\" \"1\"\n",
              "[32365] \"1\" \"1\" \"0\" \"1\" \"0\" \"0\" \"0\" \"1\" \"1\" \"0\" \"0\" \"1\" \"1\" \"1\" \"0\" \"0\" \"1\" \"1\"\n",
              "[32383] \"1\" \"0\" \"1\" \"1\" \"1\" \"0\" \"0\" \"1\" \"1\" \"0\" \"0\" \"0\" \"1\" \"0\" \"1\" \"0\" \"0\" \"1\"\n",
              "[32401] \"1\" \"0\" \"1\" \"1\" \"1\" \"1\" \"0\" \"0\" \"0\" \"1\" \"0\" \"0\" \"1\" \"1\" \"1\" \"1\" \"1\" \"0\"\n",
              "[32419] \"0\" \"1\" \"0\" \"1\" \"1\" \"0\" \"1\" \"1\" \"0\" \"1\" \"1\" \"1\" \"1\" \"1\" \"1\" \"1\" \"0\" \"1\"\n",
              "[32437] \"1\" \"0\" \"1\" \"0\" \"1\" \"1\" \"0\" \"0\" \"1\" \"0\" \"0\" \"0\" \"1\" \"1\" \"1\" \"0\" \"1\" \"1\"\n",
              "[32455] \"1\" \"1\" \"1\" \"1\" \"1\" \"1\" \"0\" \"0\" \"1\" \"1\" \"1\" \"0\" \"1\" \"1\" \"0\" \"0\" \"1\" \"1\"\n",
              "[32473] \"1\" \"1\" \"1\" \"0\" \"1\" \"1\" \"0\" \"1\" \"1\" \"0\" \"1\" \"0\" \"1\" \"1\" \"1\" \"1\" \"0\" \"1\"\n",
              "[32491] \"1\" \"1\" \"1\" \"1\" \"0\" \"0\" \"0\" \"0\" \"1\" \"0\" \"1\" \"1\" \"1\" \"1\" \"1\" \"0\" \"1\" \"1\"\n",
              "[32509] \"1\" \"0\" \"1\" \"0\" \"0\" \"1\" \"1\" \"1\" \"1\" \"1\" \"1\" \"1\" \"0\" \"1\" \"1\" \"1\" \"0\" \"1\"\n",
              "[32527] \"1\" \"0\" \"1\" \"0\" \"1\" \"0\" \"1\" \"1\" \"1\" \"0\" \"0\" \"0\" \"1\" \"1\" \"0\" \"0\" \"1\" \"1\"\n",
              "[32545] \"1\" \"1\" \"1\" \"1\" \"0\" \"1\" \"1\" \"1\" \"1\" \"0\" \"1\" \"0\" \"1\" \"1\" \"0\" \"0\" \"1\""
            ],
            "text/latex": "\\begin{enumerate*}\n\\item '0'\n\\item '1'\n\\item '1'\n\\item '1'\n\\item '1'\n\\item '1'\n\\item '1'\n\\item '1'\n\\item '0'\n\\item '1'\n\\item '1'\n\\item '1'\n\\item '0'\n\\item '0'\n\\item '1'\n\\item '1'\n\\item '0'\n\\item '0'\n\\item '1'\n\\item '1'\n\\item '1'\n\\item '0'\n\\item '1'\n\\item '1'\n\\item '1'\n\\item '1'\n\\item '0'\n\\item '1'\n\\item '1'\n\\item '1'\n\\item '0'\n\\item '0'\n\\item '1'\n\\item '1'\n\\item '1'\n\\item '0'\n\\item '0'\n\\item '1'\n\\item '1'\n\\item '1'\n\\item '1'\n\\item '1'\n\\item '1'\n\\item '0'\n\\item '0'\n\\item '1'\n\\item '1'\n\\item '1'\n\\item '1'\n\\item '0'\n\\item '1'\n\\item '0'\n\\item '1'\n\\item '1'\n\\item '1'\n\\item '1'\n\\item '1'\n\\item '1'\n\\item '1'\n\\item '1'\n\\item '1'\n\\item '1'\n\\item '1'\n\\item '1'\n\\item '1'\n\\item '1'\n\\item '1'\n\\item '1'\n\\item '1'\n\\item '0'\n\\item '0'\n\\item '0'\n\\item '1'\n\\item '0'\n\\item '1'\n\\item '0'\n\\item '1'\n\\item '1'\n\\item '0'\n\\item '1'\n\\item '0'\n\\item '1'\n\\item '1'\n\\item '1'\n\\item '1'\n\\item '1'\n\\item '1'\n\\item '1'\n\\item '0'\n\\item '0'\n\\item '1'\n\\item '1'\n\\item '1'\n\\item '1'\n\\item '1'\n\\item '0'\n\\item '1'\n\\item '1'\n\\item '1'\n\\item '0'\n\\item '1'\n\\item '1'\n\\item '0'\n\\item '0'\n\\item '0'\n\\item '1'\n\\item '0'\n\\item '0'\n\\item '0'\n\\item '1'\n\\item '0'\n\\item '1'\n\\item '1'\n\\item '1'\n\\item '0'\n\\item '1'\n\\item '1'\n\\item '1'\n\\item '1'\n\\item '0'\n\\item '0'\n\\item '1'\n\\item '0'\n\\item '1'\n\\item '0'\n\\item '1'\n\\item '0'\n\\item '1'\n\\item '1'\n\\item '1'\n\\item '0'\n\\item '0'\n\\item '1'\n\\item '1'\n\\item '1'\n\\item '1'\n\\item '1'\n\\item '1'\n\\item '0'\n\\item '1'\n\\item '1'\n\\item '0'\n\\item '0'\n\\item '0'\n\\item '0'\n\\item '0'\n\\item '1'\n\\item '0'\n\\item '1'\n\\item '1'\n\\item '1'\n\\item '0'\n\\item '0'\n\\item '0'\n\\item '1'\n\\item '1'\n\\item '0'\n\\item '0'\n\\item '1'\n\\item '0'\n\\item '1'\n\\item '0'\n\\item '1'\n\\item '0'\n\\item '1'\n\\item '1'\n\\item '0'\n\\item '0'\n\\item '0'\n\\item '0'\n\\item '0'\n\\item '1'\n\\item '1'\n\\item '0'\n\\item '1'\n\\item '1'\n\\item '0'\n\\item '0'\n\\item '0'\n\\item '1'\n\\item '1'\n\\item '1'\n\\item '0'\n\\item '1'\n\\item '1'\n\\item '1'\n\\item '1'\n\\item '1'\n\\item '1'\n\\item '1'\n\\item '1'\n\\item '1'\n\\item '1'\n\\item '1'\n\\item '1'\n\\item '1'\n\\item '1'\n\\item '0'\n\\item '1'\n\\item '0'\n\\item ⋯\n\\item '0'\n\\item '1'\n\\item '1'\n\\item '1'\n\\item '1'\n\\item '0'\n\\item '1'\n\\item '0'\n\\item '0'\n\\item '0'\n\\item '1'\n\\item '1'\n\\item '0'\n\\item '0'\n\\item '1'\n\\item '1'\n\\item '1'\n\\item '0'\n\\item '0'\n\\item '1'\n\\item '1'\n\\item '1'\n\\item '0'\n\\item '1'\n\\item '1'\n\\item '1'\n\\item '0'\n\\item '0'\n\\item '1'\n\\item '1'\n\\item '0'\n\\item '0'\n\\item '0'\n\\item '1'\n\\item '0'\n\\item '1'\n\\item '0'\n\\item '0'\n\\item '1'\n\\item '1'\n\\item '0'\n\\item '1'\n\\item '1'\n\\item '1'\n\\item '1'\n\\item '0'\n\\item '0'\n\\item '0'\n\\item '1'\n\\item '0'\n\\item '0'\n\\item '1'\n\\item '1'\n\\item '1'\n\\item '1'\n\\item '1'\n\\item '0'\n\\item '0'\n\\item '1'\n\\item '0'\n\\item '1'\n\\item '1'\n\\item '0'\n\\item '1'\n\\item '1'\n\\item '0'\n\\item '1'\n\\item '1'\n\\item '1'\n\\item '1'\n\\item '1'\n\\item '1'\n\\item '1'\n\\item '0'\n\\item '1'\n\\item '1'\n\\item '0'\n\\item '1'\n\\item '0'\n\\item '1'\n\\item '1'\n\\item '0'\n\\item '0'\n\\item '1'\n\\item '0'\n\\item '0'\n\\item '0'\n\\item '1'\n\\item '1'\n\\item '1'\n\\item '0'\n\\item '1'\n\\item '1'\n\\item '1'\n\\item '1'\n\\item '1'\n\\item '1'\n\\item '1'\n\\item '1'\n\\item '0'\n\\item '0'\n\\item '1'\n\\item '1'\n\\item '1'\n\\item '0'\n\\item '1'\n\\item '1'\n\\item '0'\n\\item '0'\n\\item '1'\n\\item '1'\n\\item '1'\n\\item '1'\n\\item '1'\n\\item '0'\n\\item '1'\n\\item '1'\n\\item '0'\n\\item '1'\n\\item '1'\n\\item '0'\n\\item '1'\n\\item '0'\n\\item '1'\n\\item '1'\n\\item '1'\n\\item '1'\n\\item '0'\n\\item '1'\n\\item '1'\n\\item '1'\n\\item '1'\n\\item '1'\n\\item '0'\n\\item '0'\n\\item '0'\n\\item '0'\n\\item '1'\n\\item '0'\n\\item '1'\n\\item '1'\n\\item '1'\n\\item '1'\n\\item '1'\n\\item '0'\n\\item '1'\n\\item '1'\n\\item '1'\n\\item '0'\n\\item '1'\n\\item '0'\n\\item '0'\n\\item '1'\n\\item '1'\n\\item '1'\n\\item '1'\n\\item '1'\n\\item '1'\n\\item '1'\n\\item '0'\n\\item '1'\n\\item '1'\n\\item '1'\n\\item '0'\n\\item '1'\n\\item '1'\n\\item '0'\n\\item '1'\n\\item '0'\n\\item '1'\n\\item '0'\n\\item '1'\n\\item '1'\n\\item '1'\n\\item '0'\n\\item '0'\n\\item '0'\n\\item '1'\n\\item '1'\n\\item '0'\n\\item '0'\n\\item '1'\n\\item '1'\n\\item '1'\n\\item '1'\n\\item '1'\n\\item '1'\n\\item '0'\n\\item '1'\n\\item '1'\n\\item '1'\n\\item '1'\n\\item '0'\n\\item '1'\n\\item '0'\n\\item '1'\n\\item '1'\n\\item '0'\n\\item '0'\n\\item '1'\n\\end{enumerate*}\n",
            "text/markdown": "1. '0'\n2. '1'\n3. '1'\n4. '1'\n5. '1'\n6. '1'\n7. '1'\n8. '1'\n9. '0'\n10. '1'\n11. '1'\n12. '1'\n13. '0'\n14. '0'\n15. '1'\n16. '1'\n17. '0'\n18. '0'\n19. '1'\n20. '1'\n21. '1'\n22. '0'\n23. '1'\n24. '1'\n25. '1'\n26. '1'\n27. '0'\n28. '1'\n29. '1'\n30. '1'\n31. '0'\n32. '0'\n33. '1'\n34. '1'\n35. '1'\n36. '0'\n37. '0'\n38. '1'\n39. '1'\n40. '1'\n41. '1'\n42. '1'\n43. '1'\n44. '0'\n45. '0'\n46. '1'\n47. '1'\n48. '1'\n49. '1'\n50. '0'\n51. '1'\n52. '0'\n53. '1'\n54. '1'\n55. '1'\n56. '1'\n57. '1'\n58. '1'\n59. '1'\n60. '1'\n61. '1'\n62. '1'\n63. '1'\n64. '1'\n65. '1'\n66. '1'\n67. '1'\n68. '1'\n69. '1'\n70. '0'\n71. '0'\n72. '0'\n73. '1'\n74. '0'\n75. '1'\n76. '0'\n77. '1'\n78. '1'\n79. '0'\n80. '1'\n81. '0'\n82. '1'\n83. '1'\n84. '1'\n85. '1'\n86. '1'\n87. '1'\n88. '1'\n89. '0'\n90. '0'\n91. '1'\n92. '1'\n93. '1'\n94. '1'\n95. '1'\n96. '0'\n97. '1'\n98. '1'\n99. '1'\n100. '0'\n101. '1'\n102. '1'\n103. '0'\n104. '0'\n105. '0'\n106. '1'\n107. '0'\n108. '0'\n109. '0'\n110. '1'\n111. '0'\n112. '1'\n113. '1'\n114. '1'\n115. '0'\n116. '1'\n117. '1'\n118. '1'\n119. '1'\n120. '0'\n121. '0'\n122. '1'\n123. '0'\n124. '1'\n125. '0'\n126. '1'\n127. '0'\n128. '1'\n129. '1'\n130. '1'\n131. '0'\n132. '0'\n133. '1'\n134. '1'\n135. '1'\n136. '1'\n137. '1'\n138. '1'\n139. '0'\n140. '1'\n141. '1'\n142. '0'\n143. '0'\n144. '0'\n145. '0'\n146. '0'\n147. '1'\n148. '0'\n149. '1'\n150. '1'\n151. '1'\n152. '0'\n153. '0'\n154. '0'\n155. '1'\n156. '1'\n157. '0'\n158. '0'\n159. '1'\n160. '0'\n161. '1'\n162. '0'\n163. '1'\n164. '0'\n165. '1'\n166. '1'\n167. '0'\n168. '0'\n169. '0'\n170. '0'\n171. '0'\n172. '1'\n173. '1'\n174. '0'\n175. '1'\n176. '1'\n177. '0'\n178. '0'\n179. '0'\n180. '1'\n181. '1'\n182. '1'\n183. '0'\n184. '1'\n185. '1'\n186. '1'\n187. '1'\n188. '1'\n189. '1'\n190. '1'\n191. '1'\n192. '1'\n193. '1'\n194. '1'\n195. '1'\n196. '1'\n197. '1'\n198. '0'\n199. '1'\n200. '0'\n201. ⋯\n202. '0'\n203. '1'\n204. '1'\n205. '1'\n206. '1'\n207. '0'\n208. '1'\n209. '0'\n210. '0'\n211. '0'\n212. '1'\n213. '1'\n214. '0'\n215. '0'\n216. '1'\n217. '1'\n218. '1'\n219. '0'\n220. '0'\n221. '1'\n222. '1'\n223. '1'\n224. '0'\n225. '1'\n226. '1'\n227. '1'\n228. '0'\n229. '0'\n230. '1'\n231. '1'\n232. '0'\n233. '0'\n234. '0'\n235. '1'\n236. '0'\n237. '1'\n238. '0'\n239. '0'\n240. '1'\n241. '1'\n242. '0'\n243. '1'\n244. '1'\n245. '1'\n246. '1'\n247. '0'\n248. '0'\n249. '0'\n250. '1'\n251. '0'\n252. '0'\n253. '1'\n254. '1'\n255. '1'\n256. '1'\n257. '1'\n258. '0'\n259. '0'\n260. '1'\n261. '0'\n262. '1'\n263. '1'\n264. '0'\n265. '1'\n266. '1'\n267. '0'\n268. '1'\n269. '1'\n270. '1'\n271. '1'\n272. '1'\n273. '1'\n274. '1'\n275. '0'\n276. '1'\n277. '1'\n278. '0'\n279. '1'\n280. '0'\n281. '1'\n282. '1'\n283. '0'\n284. '0'\n285. '1'\n286. '0'\n287. '0'\n288. '0'\n289. '1'\n290. '1'\n291. '1'\n292. '0'\n293. '1'\n294. '1'\n295. '1'\n296. '1'\n297. '1'\n298. '1'\n299. '1'\n300. '1'\n301. '0'\n302. '0'\n303. '1'\n304. '1'\n305. '1'\n306. '0'\n307. '1'\n308. '1'\n309. '0'\n310. '0'\n311. '1'\n312. '1'\n313. '1'\n314. '1'\n315. '1'\n316. '0'\n317. '1'\n318. '1'\n319. '0'\n320. '1'\n321. '1'\n322. '0'\n323. '1'\n324. '0'\n325. '1'\n326. '1'\n327. '1'\n328. '1'\n329. '0'\n330. '1'\n331. '1'\n332. '1'\n333. '1'\n334. '1'\n335. '0'\n336. '0'\n337. '0'\n338. '0'\n339. '1'\n340. '0'\n341. '1'\n342. '1'\n343. '1'\n344. '1'\n345. '1'\n346. '0'\n347. '1'\n348. '1'\n349. '1'\n350. '0'\n351. '1'\n352. '0'\n353. '0'\n354. '1'\n355. '1'\n356. '1'\n357. '1'\n358. '1'\n359. '1'\n360. '1'\n361. '0'\n362. '1'\n363. '1'\n364. '1'\n365. '0'\n366. '1'\n367. '1'\n368. '0'\n369. '1'\n370. '0'\n371. '1'\n372. '0'\n373. '1'\n374. '1'\n375. '1'\n376. '0'\n377. '0'\n378. '0'\n379. '1'\n380. '1'\n381. '0'\n382. '0'\n383. '1'\n384. '1'\n385. '1'\n386. '1'\n387. '1'\n388. '1'\n389. '0'\n390. '1'\n391. '1'\n392. '1'\n393. '1'\n394. '0'\n395. '1'\n396. '0'\n397. '1'\n398. '1'\n399. '0'\n400. '0'\n401. '1'\n\n\n",
            "text/html": [
              "<style>\n",
              ".list-inline {list-style: none; margin:0; padding: 0}\n",
              ".list-inline>li {display: inline-block}\n",
              ".list-inline>li:not(:last-child)::after {content: \"\\00b7\"; padding: 0 .5ex}\n",
              "</style>\n",
              "<ol class=list-inline><li>'0'</li><li>'1'</li><li>'1'</li><li>'1'</li><li>'1'</li><li>'1'</li><li>'1'</li><li>'1'</li><li>'0'</li><li>'1'</li><li>'1'</li><li>'1'</li><li>'0'</li><li>'0'</li><li>'1'</li><li>'1'</li><li>'0'</li><li>'0'</li><li>'1'</li><li>'1'</li><li>'1'</li><li>'0'</li><li>'1'</li><li>'1'</li><li>'1'</li><li>'1'</li><li>'0'</li><li>'1'</li><li>'1'</li><li>'1'</li><li>'0'</li><li>'0'</li><li>'1'</li><li>'1'</li><li>'1'</li><li>'0'</li><li>'0'</li><li>'1'</li><li>'1'</li><li>'1'</li><li>'1'</li><li>'1'</li><li>'1'</li><li>'0'</li><li>'0'</li><li>'1'</li><li>'1'</li><li>'1'</li><li>'1'</li><li>'0'</li><li>'1'</li><li>'0'</li><li>'1'</li><li>'1'</li><li>'1'</li><li>'1'</li><li>'1'</li><li>'1'</li><li>'1'</li><li>'1'</li><li>'1'</li><li>'1'</li><li>'1'</li><li>'1'</li><li>'1'</li><li>'1'</li><li>'1'</li><li>'1'</li><li>'1'</li><li>'0'</li><li>'0'</li><li>'0'</li><li>'1'</li><li>'0'</li><li>'1'</li><li>'0'</li><li>'1'</li><li>'1'</li><li>'0'</li><li>'1'</li><li>'0'</li><li>'1'</li><li>'1'</li><li>'1'</li><li>'1'</li><li>'1'</li><li>'1'</li><li>'1'</li><li>'0'</li><li>'0'</li><li>'1'</li><li>'1'</li><li>'1'</li><li>'1'</li><li>'1'</li><li>'0'</li><li>'1'</li><li>'1'</li><li>'1'</li><li>'0'</li><li>'1'</li><li>'1'</li><li>'0'</li><li>'0'</li><li>'0'</li><li>'1'</li><li>'0'</li><li>'0'</li><li>'0'</li><li>'1'</li><li>'0'</li><li>'1'</li><li>'1'</li><li>'1'</li><li>'0'</li><li>'1'</li><li>'1'</li><li>'1'</li><li>'1'</li><li>'0'</li><li>'0'</li><li>'1'</li><li>'0'</li><li>'1'</li><li>'0'</li><li>'1'</li><li>'0'</li><li>'1'</li><li>'1'</li><li>'1'</li><li>'0'</li><li>'0'</li><li>'1'</li><li>'1'</li><li>'1'</li><li>'1'</li><li>'1'</li><li>'1'</li><li>'0'</li><li>'1'</li><li>'1'</li><li>'0'</li><li>'0'</li><li>'0'</li><li>'0'</li><li>'0'</li><li>'1'</li><li>'0'</li><li>'1'</li><li>'1'</li><li>'1'</li><li>'0'</li><li>'0'</li><li>'0'</li><li>'1'</li><li>'1'</li><li>'0'</li><li>'0'</li><li>'1'</li><li>'0'</li><li>'1'</li><li>'0'</li><li>'1'</li><li>'0'</li><li>'1'</li><li>'1'</li><li>'0'</li><li>'0'</li><li>'0'</li><li>'0'</li><li>'0'</li><li>'1'</li><li>'1'</li><li>'0'</li><li>'1'</li><li>'1'</li><li>'0'</li><li>'0'</li><li>'0'</li><li>'1'</li><li>'1'</li><li>'1'</li><li>'0'</li><li>'1'</li><li>'1'</li><li>'1'</li><li>'1'</li><li>'1'</li><li>'1'</li><li>'1'</li><li>'1'</li><li>'1'</li><li>'1'</li><li>'1'</li><li>'1'</li><li>'1'</li><li>'1'</li><li>'0'</li><li>'1'</li><li>'0'</li><li>⋯</li><li>'0'</li><li>'1'</li><li>'1'</li><li>'1'</li><li>'1'</li><li>'0'</li><li>'1'</li><li>'0'</li><li>'0'</li><li>'0'</li><li>'1'</li><li>'1'</li><li>'0'</li><li>'0'</li><li>'1'</li><li>'1'</li><li>'1'</li><li>'0'</li><li>'0'</li><li>'1'</li><li>'1'</li><li>'1'</li><li>'0'</li><li>'1'</li><li>'1'</li><li>'1'</li><li>'0'</li><li>'0'</li><li>'1'</li><li>'1'</li><li>'0'</li><li>'0'</li><li>'0'</li><li>'1'</li><li>'0'</li><li>'1'</li><li>'0'</li><li>'0'</li><li>'1'</li><li>'1'</li><li>'0'</li><li>'1'</li><li>'1'</li><li>'1'</li><li>'1'</li><li>'0'</li><li>'0'</li><li>'0'</li><li>'1'</li><li>'0'</li><li>'0'</li><li>'1'</li><li>'1'</li><li>'1'</li><li>'1'</li><li>'1'</li><li>'0'</li><li>'0'</li><li>'1'</li><li>'0'</li><li>'1'</li><li>'1'</li><li>'0'</li><li>'1'</li><li>'1'</li><li>'0'</li><li>'1'</li><li>'1'</li><li>'1'</li><li>'1'</li><li>'1'</li><li>'1'</li><li>'1'</li><li>'0'</li><li>'1'</li><li>'1'</li><li>'0'</li><li>'1'</li><li>'0'</li><li>'1'</li><li>'1'</li><li>'0'</li><li>'0'</li><li>'1'</li><li>'0'</li><li>'0'</li><li>'0'</li><li>'1'</li><li>'1'</li><li>'1'</li><li>'0'</li><li>'1'</li><li>'1'</li><li>'1'</li><li>'1'</li><li>'1'</li><li>'1'</li><li>'1'</li><li>'1'</li><li>'0'</li><li>'0'</li><li>'1'</li><li>'1'</li><li>'1'</li><li>'0'</li><li>'1'</li><li>'1'</li><li>'0'</li><li>'0'</li><li>'1'</li><li>'1'</li><li>'1'</li><li>'1'</li><li>'1'</li><li>'0'</li><li>'1'</li><li>'1'</li><li>'0'</li><li>'1'</li><li>'1'</li><li>'0'</li><li>'1'</li><li>'0'</li><li>'1'</li><li>'1'</li><li>'1'</li><li>'1'</li><li>'0'</li><li>'1'</li><li>'1'</li><li>'1'</li><li>'1'</li><li>'1'</li><li>'0'</li><li>'0'</li><li>'0'</li><li>'0'</li><li>'1'</li><li>'0'</li><li>'1'</li><li>'1'</li><li>'1'</li><li>'1'</li><li>'1'</li><li>'0'</li><li>'1'</li><li>'1'</li><li>'1'</li><li>'0'</li><li>'1'</li><li>'0'</li><li>'0'</li><li>'1'</li><li>'1'</li><li>'1'</li><li>'1'</li><li>'1'</li><li>'1'</li><li>'1'</li><li>'0'</li><li>'1'</li><li>'1'</li><li>'1'</li><li>'0'</li><li>'1'</li><li>'1'</li><li>'0'</li><li>'1'</li><li>'0'</li><li>'1'</li><li>'0'</li><li>'1'</li><li>'1'</li><li>'1'</li><li>'0'</li><li>'0'</li><li>'0'</li><li>'1'</li><li>'1'</li><li>'0'</li><li>'0'</li><li>'1'</li><li>'1'</li><li>'1'</li><li>'1'</li><li>'1'</li><li>'1'</li><li>'0'</li><li>'1'</li><li>'1'</li><li>'1'</li><li>'1'</li><li>'0'</li><li>'1'</li><li>'0'</li><li>'1'</li><li>'1'</li><li>'0'</li><li>'0'</li><li>'1'</li></ol>\n"
            ]
          },
          "metadata": {
            "tags": []
          }
        }
      ]
    },
    {
      "cell_type": "code",
      "metadata": {
        "id": "Foq72hD1kqst",
        "colab": {
          "base_uri": "https://localhost:8080/",
          "height": 34
        },
        "outputId": "f4e0567d-9f59-44e9-fd31-772576c0fccb"
      },
      "source": [
        "sum(is.na(df))"
      ],
      "execution_count": null,
      "outputs": [
        {
          "output_type": "display_data",
          "data": {
            "text/plain": [
              "[1] 0"
            ],
            "text/latex": "0",
            "text/markdown": "0",
            "text/html": [
              "0"
            ]
          },
          "metadata": {
            "tags": []
          }
        }
      ]
    },
    {
      "cell_type": "code",
      "metadata": {
        "id": "OcXq-N67eGvm"
      },
      "source": [
        "df$age = as.numeric(df$age)\n",
        "df$education = as.numeric(df$education)\n",
        "df$sex = as.numeric(df$sex)\n",
        "df$hr_per_week = as.numeric(df$hr_per_week)\n",
        "df$marital = as.numeric(df$marital)\n",
        "df$income = as.numeric(df$income)"
      ],
      "execution_count": null,
      "outputs": []
    },
    {
      "cell_type": "code",
      "metadata": {
        "id": "RDaEmGXiXpy2",
        "colab": {
          "base_uri": "https://localhost:8080/",
          "height": 476
        },
        "outputId": "e3897203-49e0-4aea-d4de-16b59da8fdb0"
      },
      "source": [
        "mod1 = glm(income ~ age + education + sex + hr_per_week + marital, data = df, family = binomial())\n",
        "summary(mod1)"
      ],
      "execution_count": null,
      "outputs": [
        {
          "output_type": "display_data",
          "data": {
            "text/plain": [
              "\n",
              "Call:\n",
              "glm(formula = income ~ age + education + sex + hr_per_week + \n",
              "    marital, family = binomial(), data = df)\n",
              "\n",
              "Deviance Residuals: \n",
              "    Min       1Q   Median       3Q      Max  \n",
              "-2.1587  -0.8238  -0.3439  -0.1366   2.9926  \n",
              "\n",
              "Coefficients:\n",
              "             Estimate Std. Error z value Pr(>|z|)    \n",
              "(Intercept) -3.034514   0.054018 -56.176  < 2e-16 ***\n",
              "age          0.354969   0.016487  21.530  < 2e-16 ***\n",
              "education   -0.019632   0.002954  -6.645 3.03e-11 ***\n",
              "sex          0.721149   0.037124  19.425  < 2e-16 ***\n",
              "hr_per_week  0.433631   0.015996  27.109  < 2e-16 ***\n",
              "marital      1.829606   0.045484  40.225  < 2e-16 ***\n",
              "---\n",
              "Signif. codes:  0 ‘***’ 0.001 ‘**’ 0.01 ‘*’ 0.05 ‘.’ 0.1 ‘ ’ 1\n",
              "\n",
              "(Dispersion parameter for binomial family taken to be 1)\n",
              "\n",
              "    Null deviance: 35948  on 32560  degrees of freedom\n",
              "Residual deviance: 29260  on 32555  degrees of freedom\n",
              "AIC: 29272\n",
              "\n",
              "Number of Fisher Scoring iterations: 5\n"
            ]
          },
          "metadata": {
            "tags": []
          }
        }
      ]
    },
    {
      "cell_type": "markdown",
      "metadata": {
        "id": "VeggRneKlGUD"
      },
      "source": [
        "Frequentist analysis shows that all parameters are signficant as their p-values are below 0.05."
      ]
    },
    {
      "cell_type": "markdown",
      "metadata": {
        "id": "KWQI2Kajznm5"
      },
      "source": [
        "# Bayesian analysis\n"
      ]
    },
    {
      "cell_type": "code",
      "metadata": {
        "id": "8LpP3t6fXyJr"
      },
      "source": [
        "lpost.sim <- function(beta,x,y) {\n",
        "  eta <- as.numeric(x %*% beta) \n",
        "  logp <- eta - log(1+exp(eta)) \n",
        "  logq <- log(1-exp(logp))\n",
        "  logl <- sum(logp[y==1]) + sum(logq[y==0]) \n",
        "  return(logl - sum(beta^2)/8)\n",
        "}\n"
      ],
      "execution_count": null,
      "outputs": []
    },
    {
      "cell_type": "code",
      "metadata": {
        "id": "yUm-Yj-qzvze",
        "colab": {
          "base_uri": "https://localhost:8080/"
        },
        "outputId": "0df4e4d2-a641-4fdc-be77-66e750ef1419"
      },
      "source": [
        "install.packages('mcmc')"
      ],
      "execution_count": null,
      "outputs": [
        {
          "output_type": "stream",
          "text": [
            "Installing package into ‘/usr/local/lib/R/site-library’\n",
            "(as ‘lib’ is unspecified)\n",
            "\n"
          ],
          "name": "stderr"
        }
      ]
    },
    {
      "cell_type": "code",
      "metadata": {
        "id": "nmm_qdFMuABZ",
        "colab": {
          "base_uri": "https://localhost:8080/",
          "height": 34
        },
        "outputId": "02345697-c8c9-42c3-ae6d-f8a0b9e0a968"
      },
      "source": [
        "set.seed(1234)\n",
        "library(mcmc)\n",
        "beta.init <- as.numeric(coefficients(mod1)); beta.init"
      ],
      "execution_count": null,
      "outputs": [
        {
          "output_type": "display_data",
          "data": {
            "text/plain": [
              "[1] -3.03451383  0.35496921 -0.01963189  0.72114881  0.43363065  1.82960591"
            ],
            "text/latex": "\\begin{enumerate*}\n\\item -3.0345138293557\n\\item 0.354969208140817\n\\item -0.0196318890926109\n\\item 0.721148810456254\n\\item 0.433630646149513\n\\item 1.82960591188059\n\\end{enumerate*}\n",
            "text/markdown": "1. -3.0345138293557\n2. 0.354969208140817\n3. -0.0196318890926109\n4. 0.721148810456254\n5. 0.433630646149513\n6. 1.82960591188059\n\n\n",
            "text/html": [
              "<style>\n",
              ".list-inline {list-style: none; margin:0; padding: 0}\n",
              ".list-inline>li {display: inline-block}\n",
              ".list-inline>li:not(:last-child)::after {content: \"\\00b7\"; padding: 0 .5ex}\n",
              "</style>\n",
              "<ol class=list-inline><li>-3.0345138293557</li><li>0.354969208140817</li><li>-0.0196318890926109</li><li>0.721148810456254</li><li>0.433630646149513</li><li>1.82960591188059</li></ol>\n"
            ]
          },
          "metadata": {
            "tags": []
          }
        }
      ]
    },
    {
      "cell_type": "code",
      "metadata": {
        "id": "VuItI0DEzubV",
        "colab": {
          "base_uri": "https://localhost:8080/",
          "height": 51
        },
        "outputId": "e82e5174-c0ce-40de-b7a7-01f90d5e4273"
      },
      "source": [
        "out.bayes <- metrop(        \n",
        "              lpost.sim,\n",
        "              beta.init,\n",
        "              10^3, \n",
        "              x=cbind(rep(1,nrow(df)),df$age, df$education, df$sex, df$hr_per_week, df$marital),\n",
        "              y=df$income)\n",
        "\n",
        "names(out.bayes)\n",
        "out.bayes$accept"
      ],
      "execution_count": null,
      "outputs": [
        {
          "output_type": "display_data",
          "data": {
            "text/plain": [
              " [1] \"accept\"       \"batch\"        \"initial\"      \"final\"        \"accept.batch\"\n",
              " [6] \"initial.seed\" \"final.seed\"   \"time\"         \"lud\"          \"nbatch\"      \n",
              "[11] \"blen\"         \"nspac\"        \"scale\"        \"debug\"       "
            ],
            "text/latex": "\\begin{enumerate*}\n\\item 'accept'\n\\item 'batch'\n\\item 'initial'\n\\item 'final'\n\\item 'accept.batch'\n\\item 'initial.seed'\n\\item 'final.seed'\n\\item 'time'\n\\item 'lud'\n\\item 'nbatch'\n\\item 'blen'\n\\item 'nspac'\n\\item 'scale'\n\\item 'debug'\n\\end{enumerate*}\n",
            "text/markdown": "1. 'accept'\n2. 'batch'\n3. 'initial'\n4. 'final'\n5. 'accept.batch'\n6. 'initial.seed'\n7. 'final.seed'\n8. 'time'\n9. 'lud'\n10. 'nbatch'\n11. 'blen'\n12. 'nspac'\n13. 'scale'\n14. 'debug'\n\n\n",
            "text/html": [
              "<style>\n",
              ".list-inline {list-style: none; margin:0; padding: 0}\n",
              ".list-inline>li {display: inline-block}\n",
              ".list-inline>li:not(:last-child)::after {content: \"\\00b7\"; padding: 0 .5ex}\n",
              "</style>\n",
              "<ol class=list-inline><li>'accept'</li><li>'batch'</li><li>'initial'</li><li>'final'</li><li>'accept.batch'</li><li>'initial.seed'</li><li>'final.seed'</li><li>'time'</li><li>'lud'</li><li>'nbatch'</li><li>'blen'</li><li>'nspac'</li><li>'scale'</li><li>'debug'</li></ol>\n"
            ]
          },
          "metadata": {
            "tags": []
          }
        },
        {
          "output_type": "display_data",
          "data": {
            "text/plain": [
              "[1] 0"
            ],
            "text/latex": "0",
            "text/markdown": "0",
            "text/html": [
              "0"
            ]
          },
          "metadata": {
            "tags": []
          }
        }
      ]
    },
    {
      "cell_type": "code",
      "metadata": {
        "id": "0aUp2o1Cz1Ss",
        "colab": {
          "base_uri": "https://localhost:8080/",
          "height": 51
        },
        "outputId": "62914ae5-4dd2-4699-f40f-54817450f0cf"
      },
      "source": [
        "out.bayes <- metrop(        \n",
        "            lpost.sim,beta.init,\n",
        "            10^3, \n",
        "            scale=1,\n",
        "            x=cbind(rep(1,nrow(df)),df$age, df$education, df$sex, df$hr_per_week, df$marital),\n",
        "            y=df$income)\n",
        "\n",
        "names(out.bayes)\n",
        "out.bayes$accept"
      ],
      "execution_count": null,
      "outputs": [
        {
          "output_type": "display_data",
          "data": {
            "text/plain": [
              " [1] \"accept\"       \"batch\"        \"initial\"      \"final\"        \"accept.batch\"\n",
              " [6] \"initial.seed\" \"final.seed\"   \"time\"         \"lud\"          \"nbatch\"      \n",
              "[11] \"blen\"         \"nspac\"        \"scale\"        \"debug\"       "
            ],
            "text/latex": "\\begin{enumerate*}\n\\item 'accept'\n\\item 'batch'\n\\item 'initial'\n\\item 'final'\n\\item 'accept.batch'\n\\item 'initial.seed'\n\\item 'final.seed'\n\\item 'time'\n\\item 'lud'\n\\item 'nbatch'\n\\item 'blen'\n\\item 'nspac'\n\\item 'scale'\n\\item 'debug'\n\\end{enumerate*}\n",
            "text/markdown": "1. 'accept'\n2. 'batch'\n3. 'initial'\n4. 'final'\n5. 'accept.batch'\n6. 'initial.seed'\n7. 'final.seed'\n8. 'time'\n9. 'lud'\n10. 'nbatch'\n11. 'blen'\n12. 'nspac'\n13. 'scale'\n14. 'debug'\n\n\n",
            "text/html": [
              "<style>\n",
              ".list-inline {list-style: none; margin:0; padding: 0}\n",
              ".list-inline>li {display: inline-block}\n",
              ".list-inline>li:not(:last-child)::after {content: \"\\00b7\"; padding: 0 .5ex}\n",
              "</style>\n",
              "<ol class=list-inline><li>'accept'</li><li>'batch'</li><li>'initial'</li><li>'final'</li><li>'accept.batch'</li><li>'initial.seed'</li><li>'final.seed'</li><li>'time'</li><li>'lud'</li><li>'nbatch'</li><li>'blen'</li><li>'nspac'</li><li>'scale'</li><li>'debug'</li></ol>\n"
            ]
          },
          "metadata": {
            "tags": []
          }
        },
        {
          "output_type": "display_data",
          "data": {
            "text/plain": [
              "[1] 0"
            ],
            "text/latex": "0",
            "text/markdown": "0",
            "text/html": [
              "0"
            ]
          },
          "metadata": {
            "tags": []
          }
        }
      ]
    },
    {
      "cell_type": "code",
      "metadata": {
        "id": "EMSmSPIm2ASS",
        "colab": {
          "base_uri": "https://localhost:8080/",
          "height": 34
        },
        "outputId": "0ab0d92d-28f1-4592-9287-d1754a5a425b"
      },
      "source": [
        "mcmc = function(scale) {\n",
        "\n",
        "  out.bayes <- metrop(        \n",
        "            lpost.sim,beta.init,\n",
        "            10^3,\n",
        "            scale=scale,\n",
        "            x=cbind(rep(1,nrow(df)),df$age, df$education, df$sex, df$hr_per_week, df$marital),\n",
        "            y=df$income)\n",
        "\n",
        "  names(out.bayes)\n",
        "  out.bayes$accept\n",
        "    \n",
        "}\n",
        "\n",
        "mcmc_continue = function(scale) {\n",
        "\n",
        "  out.bayes <- metrop(        \n",
        "           out.bayes,beta.init,\n",
        "            10^3,\n",
        "            scale=scale,\n",
        "            x=cbind(rep(1,nrow(df)),df$age, df$education, df$sex, df$hr_per_week, df$marital),\n",
        "            y=df$income)\n",
        "\n",
        "  names(out.bayes)\n",
        "  out.bayes$accept\n",
        "    \n",
        "}\n",
        "\n",
        "mcmc(5e-3)"
      ],
      "execution_count": null,
      "outputs": [
        {
          "output_type": "display_data",
          "data": {
            "text/plain": [
              "[1] 0.322"
            ],
            "text/latex": "0.322",
            "text/markdown": "0.322",
            "text/html": [
              "0.322"
            ]
          },
          "metadata": {
            "tags": []
          }
        }
      ]
    },
    {
      "cell_type": "code",
      "metadata": {
        "id": "pX9BnOoaoKY8",
        "colab": {
          "base_uri": "https://localhost:8080/",
          "height": 34
        },
        "outputId": "9d4311b8-0079-47c5-b3d9-2a066d7738e6"
      },
      "source": [
        "mcmc_continue(5e-3)"
      ],
      "execution_count": null,
      "outputs": [
        {
          "output_type": "display_data",
          "data": {
            "text/plain": [
              "[1] 0.324"
            ],
            "text/latex": "0.324",
            "text/markdown": "0.324",
            "text/html": [
              "0.324"
            ]
          },
          "metadata": {
            "tags": []
          }
        }
      ]
    },
    {
      "cell_type": "code",
      "metadata": {
        "id": "nQvjeV-ZoVlA",
        "colab": {
          "base_uri": "https://localhost:8080/",
          "height": 34
        },
        "outputId": "dd74af9e-4ec4-40bd-cb9e-65677ed77de9"
      },
      "source": [
        "mcmc_continue(7e-3)"
      ],
      "execution_count": null,
      "outputs": [
        {
          "output_type": "display_data",
          "data": {
            "text/plain": [
              "[1] 0.217"
            ],
            "text/latex": "0.217",
            "text/markdown": "0.217",
            "text/html": [
              "0.217"
            ]
          },
          "metadata": {
            "tags": []
          }
        }
      ]
    },
    {
      "cell_type": "code",
      "metadata": {
        "id": "PIIh-qNcoYi-",
        "colab": {
          "base_uri": "https://localhost:8080/",
          "height": 34
        },
        "outputId": "7ba1ab80-41b5-4eba-8206-80377d750376"
      },
      "source": [
        "mcmc_continue(6.9e-3)"
      ],
      "execution_count": null,
      "outputs": [
        {
          "output_type": "display_data",
          "data": {
            "text/plain": [
              "[1] 0.233"
            ],
            "text/latex": "0.233",
            "text/markdown": "0.233",
            "text/html": [
              "0.233"
            ]
          },
          "metadata": {
            "tags": []
          }
        }
      ]
    },
    {
      "cell_type": "code",
      "metadata": {
        "id": "nE4C5zFw1CRn",
        "colab": {
          "base_uri": "https://localhost:8080/"
        },
        "outputId": "58ac88c7-1171-4086-ff88-b3557e6777a1"
      },
      "source": [
        "for (i in 100:1000) {\n",
        "\n",
        "  scale = 1/i\n",
        "  tolerance = (0.26-0.23)^2\n",
        "  value = 0.23\n",
        "\n",
        "  mcmc_value = mcmc(scale)\n",
        "  if((value - mcmc_value)^2<=tolerance) {\n",
        "    print(scale)\n",
        "    break\n",
        "  }\n",
        "}"
      ],
      "execution_count": null,
      "outputs": [
        {
          "output_type": "stream",
          "text": [
            "Timing stopped at: 0.506 0.002 0.508\n",
            "\n"
          ],
          "name": "stderr"
        }
      ]
    },
    {
      "cell_type": "markdown",
      "metadata": {
        "id": "PGllF8IxY5fZ"
      },
      "source": [
        "# redo"
      ]
    },
    {
      "cell_type": "code",
      "metadata": {
        "id": "F7x7GT7MuIKm"
      },
      "source": [
        "value_counts = function(df, col) {\n",
        "  values = df[,col, drop=FALSE]\n",
        "  as.data.frame(table(values))\n",
        "}"
      ],
      "execution_count": null,
      "outputs": []
    },
    {
      "cell_type": "code",
      "metadata": {
        "colab": {
          "base_uri": "https://localhost:8080/",
          "height": 1000
        },
        "id": "STwbZFM2kQvF",
        "outputId": "d4ba3c39-6e5a-46b0-f6a6-e4bcb6110597"
      },
      "source": [
        "df = read.csv('adult.csv', header = F, strip.white = T)\n",
        "names(df) = c('age','type_employer','fnlwgt', 'education', 'education_num', 'marital', 'occupation', 'relationship', 'race', 'sex', 'capital_gain', 'capital_loss', 'hr_per_week', 'country', 'income')\n",
        "attach(df)\n",
        "head(df)"
      ],
      "execution_count": null,
      "outputs": [
        {
          "output_type": "stream",
          "text": [
            "The following objects are masked from df (pos = 3):\n",
            "\n",
            "    age, capital_gain, capital_loss, country, education, education_num,\n",
            "    fnlwgt, hr_per_week, income, marital, occupation, race,\n",
            "    relationship, sex, type_employer\n",
            "\n",
            "\n",
            "The following objects are masked from df (pos = 6):\n",
            "\n",
            "    age, capital_gain, capital_loss, country, education, education_num,\n",
            "    fnlwgt, hr_per_week, income, marital, occupation, race,\n",
            "    relationship, sex, type_employer\n",
            "\n",
            "\n",
            "The following objects are masked from df (pos = 7):\n",
            "\n",
            "    age, capital_gain, capital_loss, country, education, education_num,\n",
            "    fnlwgt, hr_per_week, income, marital, occupation, race,\n",
            "    relationship, sex, type_employer\n",
            "\n",
            "\n",
            "The following objects are masked from df (pos = 8):\n",
            "\n",
            "    age, capital_gain, capital_loss, country, education, education_num,\n",
            "    fnlwgt, hr_per_week, income, marital, occupation, race,\n",
            "    relationship, sex, type_employer\n",
            "\n",
            "\n",
            "The following objects are masked from df (pos = 9):\n",
            "\n",
            "    age, capital_gain, capital_loss, country, education, education_num,\n",
            "    fnlwgt, hr_per_week, income, marital, occupation, race,\n",
            "    relationship, sex, type_employer\n",
            "\n",
            "\n",
            "The following objects are masked from df (pos = 10):\n",
            "\n",
            "    age, capital_gain, capital_loss, country, education, education_num,\n",
            "    fnlwgt, hr_per_week, income, marital, occupation, race,\n",
            "    relationship, sex, type_employer\n",
            "\n",
            "\n",
            "The following objects are masked from df (pos = 11):\n",
            "\n",
            "    age, capital_gain, capital_loss, country, education, education_num,\n",
            "    fnlwgt, hr_per_week, income, marital, occupation, race,\n",
            "    relationship, sex, type_employer\n",
            "\n",
            "\n",
            "The following objects are masked from df (pos = 12):\n",
            "\n",
            "    age, capital_gain, capital_loss, country, education, education_num,\n",
            "    fnlwgt, hr_per_week, income, marital, occupation, race,\n",
            "    relationship, sex, type_employer\n",
            "\n",
            "\n",
            "The following objects are masked from df (pos = 13):\n",
            "\n",
            "    age, capital_gain, capital_loss, country, education, education_num,\n",
            "    fnlwgt, hr_per_week, income, marital, occupation, race,\n",
            "    relationship, sex, type_employer\n",
            "\n",
            "\n",
            "The following objects are masked from df (pos = 14):\n",
            "\n",
            "    age, capital_gain, capital_loss, country, education, education_num,\n",
            "    fnlwgt, hr_per_week, income, marital, occupation, race,\n",
            "    relationship, sex, type_employer\n",
            "\n",
            "\n",
            "The following objects are masked from df (pos = 15):\n",
            "\n",
            "    age, capital_gain, capital_loss, country, education, education_num,\n",
            "    fnlwgt, hr_per_week, income, marital, occupation, race,\n",
            "    relationship, sex, type_employer\n",
            "\n",
            "\n"
          ],
          "name": "stderr"
        },
        {
          "output_type": "display_data",
          "data": {
            "text/plain": [
              "  age type_employer    fnlwgt education education_num marital           \n",
              "1 39  State-gov         77516 Bachelors 13            Never-married     \n",
              "2 50  Self-emp-not-inc  83311 Bachelors 13            Married-civ-spouse\n",
              "3 38  Private          215646 HS-grad    9            Divorced          \n",
              "4 53  Private          234721 11th       7            Married-civ-spouse\n",
              "5 28  Private          338409 Bachelors 13            Married-civ-spouse\n",
              "6 37  Private          284582 Masters   14            Married-civ-spouse\n",
              "  occupation        relationship  race  sex    capital_gain capital_loss\n",
              "1 Adm-clerical      Not-in-family White Male   2174         0           \n",
              "2 Exec-managerial   Husband       White Male      0         0           \n",
              "3 Handlers-cleaners Not-in-family White Male      0         0           \n",
              "4 Handlers-cleaners Husband       Black Male      0         0           \n",
              "5 Prof-specialty    Wife          Black Female    0         0           \n",
              "6 Exec-managerial   Wife          White Female    0         0           \n",
              "  hr_per_week country       income\n",
              "1 40          United-States <=50K \n",
              "2 13          United-States <=50K \n",
              "3 40          United-States <=50K \n",
              "4 40          United-States <=50K \n",
              "5 40          Cuba          <=50K \n",
              "6 40          United-States <=50K "
            ],
            "text/latex": "A data.frame: 6 × 15\n\\begin{tabular}{r|lllllllllllllll}\n  & age & type\\_employer & fnlwgt & education & education\\_num & marital & occupation & relationship & race & sex & capital\\_gain & capital\\_loss & hr\\_per\\_week & country & income\\\\\n  & <int> & <chr> & <int> & <chr> & <int> & <chr> & <chr> & <chr> & <chr> & <chr> & <int> & <int> & <int> & <chr> & <chr>\\\\\n\\hline\n\t1 & 39 & State-gov        &  77516 & Bachelors & 13 & Never-married      & Adm-clerical      & Not-in-family & White & Male   & 2174 & 0 & 40 & United-States & <=50K\\\\\n\t2 & 50 & Self-emp-not-inc &  83311 & Bachelors & 13 & Married-civ-spouse & Exec-managerial   & Husband       & White & Male   &    0 & 0 & 13 & United-States & <=50K\\\\\n\t3 & 38 & Private          & 215646 & HS-grad   &  9 & Divorced           & Handlers-cleaners & Not-in-family & White & Male   &    0 & 0 & 40 & United-States & <=50K\\\\\n\t4 & 53 & Private          & 234721 & 11th      &  7 & Married-civ-spouse & Handlers-cleaners & Husband       & Black & Male   &    0 & 0 & 40 & United-States & <=50K\\\\\n\t5 & 28 & Private          & 338409 & Bachelors & 13 & Married-civ-spouse & Prof-specialty    & Wife          & Black & Female &    0 & 0 & 40 & Cuba          & <=50K\\\\\n\t6 & 37 & Private          & 284582 & Masters   & 14 & Married-civ-spouse & Exec-managerial   & Wife          & White & Female &    0 & 0 & 40 & United-States & <=50K\\\\\n\\end{tabular}\n",
            "text/markdown": "\nA data.frame: 6 × 15\n\n| <!--/--> | age &lt;int&gt; | type_employer &lt;chr&gt; | fnlwgt &lt;int&gt; | education &lt;chr&gt; | education_num &lt;int&gt; | marital &lt;chr&gt; | occupation &lt;chr&gt; | relationship &lt;chr&gt; | race &lt;chr&gt; | sex &lt;chr&gt; | capital_gain &lt;int&gt; | capital_loss &lt;int&gt; | hr_per_week &lt;int&gt; | country &lt;chr&gt; | income &lt;chr&gt; |\n|---|---|---|---|---|---|---|---|---|---|---|---|---|---|---|---|\n| 1 | 39 | State-gov        |  77516 | Bachelors | 13 | Never-married      | Adm-clerical      | Not-in-family | White | Male   | 2174 | 0 | 40 | United-States | &lt;=50K |\n| 2 | 50 | Self-emp-not-inc |  83311 | Bachelors | 13 | Married-civ-spouse | Exec-managerial   | Husband       | White | Male   |    0 | 0 | 13 | United-States | &lt;=50K |\n| 3 | 38 | Private          | 215646 | HS-grad   |  9 | Divorced           | Handlers-cleaners | Not-in-family | White | Male   |    0 | 0 | 40 | United-States | &lt;=50K |\n| 4 | 53 | Private          | 234721 | 11th      |  7 | Married-civ-spouse | Handlers-cleaners | Husband       | Black | Male   |    0 | 0 | 40 | United-States | &lt;=50K |\n| 5 | 28 | Private          | 338409 | Bachelors | 13 | Married-civ-spouse | Prof-specialty    | Wife          | Black | Female |    0 | 0 | 40 | Cuba          | &lt;=50K |\n| 6 | 37 | Private          | 284582 | Masters   | 14 | Married-civ-spouse | Exec-managerial   | Wife          | White | Female |    0 | 0 | 40 | United-States | &lt;=50K |\n\n",
            "text/html": [
              "<table>\n",
              "<caption>A data.frame: 6 × 15</caption>\n",
              "<thead>\n",
              "\t<tr><th></th><th scope=col>age</th><th scope=col>type_employer</th><th scope=col>fnlwgt</th><th scope=col>education</th><th scope=col>education_num</th><th scope=col>marital</th><th scope=col>occupation</th><th scope=col>relationship</th><th scope=col>race</th><th scope=col>sex</th><th scope=col>capital_gain</th><th scope=col>capital_loss</th><th scope=col>hr_per_week</th><th scope=col>country</th><th scope=col>income</th></tr>\n",
              "\t<tr><th></th><th scope=col>&lt;int&gt;</th><th scope=col>&lt;chr&gt;</th><th scope=col>&lt;int&gt;</th><th scope=col>&lt;chr&gt;</th><th scope=col>&lt;int&gt;</th><th scope=col>&lt;chr&gt;</th><th scope=col>&lt;chr&gt;</th><th scope=col>&lt;chr&gt;</th><th scope=col>&lt;chr&gt;</th><th scope=col>&lt;chr&gt;</th><th scope=col>&lt;int&gt;</th><th scope=col>&lt;int&gt;</th><th scope=col>&lt;int&gt;</th><th scope=col>&lt;chr&gt;</th><th scope=col>&lt;chr&gt;</th></tr>\n",
              "</thead>\n",
              "<tbody>\n",
              "\t<tr><th scope=row>1</th><td>39</td><td><span style=white-space:pre-wrap>State-gov       </span></td><td> 77516</td><td>Bachelors</td><td>13</td><td><span style=white-space:pre-wrap>Never-married     </span></td><td><span style=white-space:pre-wrap>Adm-clerical     </span></td><td>Not-in-family</td><td>White</td><td><span style=white-space:pre-wrap>Male  </span></td><td>2174</td><td>0</td><td>40</td><td>United-States</td><td>&lt;=50K</td></tr>\n",
              "\t<tr><th scope=row>2</th><td>50</td><td>Self-emp-not-inc</td><td> 83311</td><td>Bachelors</td><td>13</td><td>Married-civ-spouse</td><td><span style=white-space:pre-wrap>Exec-managerial  </span></td><td><span style=white-space:pre-wrap>Husband      </span></td><td>White</td><td><span style=white-space:pre-wrap>Male  </span></td><td><span style=white-space:pre-wrap>   0</span></td><td>0</td><td>13</td><td>United-States</td><td>&lt;=50K</td></tr>\n",
              "\t<tr><th scope=row>3</th><td>38</td><td><span style=white-space:pre-wrap>Private         </span></td><td>215646</td><td><span style=white-space:pre-wrap>HS-grad  </span></td><td> 9</td><td><span style=white-space:pre-wrap>Divorced          </span></td><td>Handlers-cleaners</td><td>Not-in-family</td><td>White</td><td><span style=white-space:pre-wrap>Male  </span></td><td><span style=white-space:pre-wrap>   0</span></td><td>0</td><td>40</td><td>United-States</td><td>&lt;=50K</td></tr>\n",
              "\t<tr><th scope=row>4</th><td>53</td><td><span style=white-space:pre-wrap>Private         </span></td><td>234721</td><td><span style=white-space:pre-wrap>11th     </span></td><td> 7</td><td>Married-civ-spouse</td><td>Handlers-cleaners</td><td><span style=white-space:pre-wrap>Husband      </span></td><td>Black</td><td><span style=white-space:pre-wrap>Male  </span></td><td><span style=white-space:pre-wrap>   0</span></td><td>0</td><td>40</td><td>United-States</td><td>&lt;=50K</td></tr>\n",
              "\t<tr><th scope=row>5</th><td>28</td><td><span style=white-space:pre-wrap>Private         </span></td><td>338409</td><td>Bachelors</td><td>13</td><td>Married-civ-spouse</td><td><span style=white-space:pre-wrap>Prof-specialty   </span></td><td><span style=white-space:pre-wrap>Wife         </span></td><td>Black</td><td>Female</td><td><span style=white-space:pre-wrap>   0</span></td><td>0</td><td>40</td><td><span style=white-space:pre-wrap>Cuba         </span></td><td>&lt;=50K</td></tr>\n",
              "\t<tr><th scope=row>6</th><td>37</td><td><span style=white-space:pre-wrap>Private         </span></td><td>284582</td><td><span style=white-space:pre-wrap>Masters  </span></td><td>14</td><td>Married-civ-spouse</td><td><span style=white-space:pre-wrap>Exec-managerial  </span></td><td><span style=white-space:pre-wrap>Wife         </span></td><td>White</td><td>Female</td><td><span style=white-space:pre-wrap>   0</span></td><td>0</td><td>40</td><td>United-States</td><td>&lt;=50K</td></tr>\n",
              "</tbody>\n",
              "</table>\n"
            ]
          },
          "metadata": {
            "tags": []
          }
        }
      ]
    },
    {
      "cell_type": "markdown",
      "metadata": {
        "id": "GURlq1Z_1YVL"
      },
      "source": [
        "## Transform the variable “education” into a numeric variable."
      ]
    },
    {
      "cell_type": "code",
      "metadata": {
        "id": "GP8lR0-61ZPE"
      },
      "source": [
        "education_labeller = function (x) {\n",
        "\n",
        "  x[x=='Assoc-acdm'] = 1\n",
        "  x[x=='Assoc-voc'] = 2\n",
        "  x[x=='Bachelors'] = 3\n",
        "  x[x=='1st-4th'] = 4\n",
        "  x[x=='Doctorate'] = 5\n",
        "  x[x=='5th-6th'] = 6\n",
        "  x[x=='HS-grad'] = 7\n",
        "  x[x=='7th-8th'] = 8\n",
        "  x[x=='9th'] = 9\n",
        "  x[x=='10th'] = 10\n",
        "  x[x=='11th'] = 11\n",
        "  x[x=='12th'] = 12\n",
        "  \n",
        "  x[x=='Masters'] = 13\n",
        "  x[x=='Preschool'] = 14\n",
        "  x[x=='Prof-school'] = 15\n",
        "  x[x=='Some-college'] = 16\n",
        "  x\n",
        "}\n",
        "\n",
        "df$education = education_labeller(df$education)"
      ],
      "execution_count": null,
      "outputs": []
    },
    {
      "cell_type": "code",
      "metadata": {
        "colab": {
          "base_uri": "https://localhost:8080/",
          "height": 431
        },
        "id": "bc9Ptg4W1kby",
        "outputId": "48ad531f-4773-4513-e34b-f20d3d795ea6"
      },
      "source": [
        "value_counts(df, 'education')"
      ],
      "execution_count": null,
      "outputs": [
        {
          "output_type": "display_data",
          "data": {
            "text/plain": [
              "   values Freq \n",
              "1  1       1067\n",
              "2  10       933\n",
              "3  11      1175\n",
              "4  12       433\n",
              "5  13      1723\n",
              "6  14        51\n",
              "7  15       576\n",
              "8  16      7291\n",
              "9  2       1382\n",
              "10 3       5355\n",
              "11 4        168\n",
              "12 5        413\n",
              "13 6        333\n",
              "14 7      10501\n",
              "15 8        646\n",
              "16 9        514"
            ],
            "text/latex": "A data.frame: 16 × 2\n\\begin{tabular}{ll}\n values & Freq\\\\\n <fct> & <int>\\\\\n\\hline\n\t 1  &  1067\\\\\n\t 10 &   933\\\\\n\t 11 &  1175\\\\\n\t 12 &   433\\\\\n\t 13 &  1723\\\\\n\t 14 &    51\\\\\n\t 15 &   576\\\\\n\t 16 &  7291\\\\\n\t 2  &  1382\\\\\n\t 3  &  5355\\\\\n\t 4  &   168\\\\\n\t 5  &   413\\\\\n\t 6  &   333\\\\\n\t 7  & 10501\\\\\n\t 8  &   646\\\\\n\t 9  &   514\\\\\n\\end{tabular}\n",
            "text/markdown": "\nA data.frame: 16 × 2\n\n| values &lt;fct&gt; | Freq &lt;int&gt; |\n|---|---|\n| 1  |  1067 |\n| 10 |   933 |\n| 11 |  1175 |\n| 12 |   433 |\n| 13 |  1723 |\n| 14 |    51 |\n| 15 |   576 |\n| 16 |  7291 |\n| 2  |  1382 |\n| 3  |  5355 |\n| 4  |   168 |\n| 5  |   413 |\n| 6  |   333 |\n| 7  | 10501 |\n| 8  |   646 |\n| 9  |   514 |\n\n",
            "text/html": [
              "<table>\n",
              "<caption>A data.frame: 16 × 2</caption>\n",
              "<thead>\n",
              "\t<tr><th scope=col>values</th><th scope=col>Freq</th></tr>\n",
              "\t<tr><th scope=col>&lt;fct&gt;</th><th scope=col>&lt;int&gt;</th></tr>\n",
              "</thead>\n",
              "<tbody>\n",
              "\t<tr><td>1 </td><td> 1067</td></tr>\n",
              "\t<tr><td>10</td><td>  933</td></tr>\n",
              "\t<tr><td>11</td><td> 1175</td></tr>\n",
              "\t<tr><td>12</td><td>  433</td></tr>\n",
              "\t<tr><td>13</td><td> 1723</td></tr>\n",
              "\t<tr><td>14</td><td>   51</td></tr>\n",
              "\t<tr><td>15</td><td>  576</td></tr>\n",
              "\t<tr><td>16</td><td> 7291</td></tr>\n",
              "\t<tr><td>2 </td><td> 1382</td></tr>\n",
              "\t<tr><td>3 </td><td> 5355</td></tr>\n",
              "\t<tr><td>4 </td><td>  168</td></tr>\n",
              "\t<tr><td>5 </td><td>  413</td></tr>\n",
              "\t<tr><td>6 </td><td>  333</td></tr>\n",
              "\t<tr><td>7 </td><td>10501</td></tr>\n",
              "\t<tr><td>8 </td><td>  646</td></tr>\n",
              "\t<tr><td>9 </td><td>  514</td></tr>\n",
              "</tbody>\n",
              "</table>\n"
            ]
          },
          "metadata": {
            "tags": []
          }
        }
      ]
    },
    {
      "cell_type": "markdown",
      "metadata": {
        "id": "7IywSGuv2bSv"
      },
      "source": [
        "## Define the response variable for the problem: a variable which takes value 0 if the indi- vidual’s earnings are less 50k USD and 1 is they are more than 50k.\n"
      ]
    },
    {
      "cell_type": "code",
      "metadata": {
        "colab": {
          "base_uri": "https://localhost:8080/",
          "height": 137
        },
        "id": "6eN35mEV2cQp",
        "outputId": "1d63afc8-2f5e-4ccf-ffb9-acb9dc6cbf01"
      },
      "source": [
        "value_counts(df, 'income')"
      ],
      "execution_count": null,
      "outputs": [
        {
          "output_type": "display_data",
          "data": {
            "text/plain": [
              "  values Freq \n",
              "1 <=50K  24720\n",
              "2 >50K    7841"
            ],
            "text/latex": "A data.frame: 2 × 2\n\\begin{tabular}{ll}\n values & Freq\\\\\n <fct> & <int>\\\\\n\\hline\n\t <=50K & 24720\\\\\n\t >50K  &  7841\\\\\n\\end{tabular}\n",
            "text/markdown": "\nA data.frame: 2 × 2\n\n| values &lt;fct&gt; | Freq &lt;int&gt; |\n|---|---|\n| &lt;=50K | 24720 |\n| &gt;50K  |  7841 |\n\n",
            "text/html": [
              "<table>\n",
              "<caption>A data.frame: 2 × 2</caption>\n",
              "<thead>\n",
              "\t<tr><th scope=col>values</th><th scope=col>Freq</th></tr>\n",
              "\t<tr><th scope=col>&lt;fct&gt;</th><th scope=col>&lt;int&gt;</th></tr>\n",
              "</thead>\n",
              "<tbody>\n",
              "\t<tr><td>&lt;=50K</td><td>24720</td></tr>\n",
              "\t<tr><td>&gt;50K </td><td> 7841</td></tr>\n",
              "</tbody>\n",
              "</table>\n"
            ]
          },
          "metadata": {
            "tags": []
          }
        }
      ]
    },
    {
      "cell_type": "code",
      "metadata": {
        "id": "fRb-gREr2ei3"
      },
      "source": [
        "income_labeller = function (x) {\n",
        "  x[x=='<=50K'] = 0\n",
        "  x[x=='>50K'] = 1\n",
        "  x\n",
        "}\n",
        "\n",
        "df$income = income_labeller(df$income)"
      ],
      "execution_count": null,
      "outputs": []
    },
    {
      "cell_type": "code",
      "metadata": {
        "colab": {
          "base_uri": "https://localhost:8080/",
          "height": 137
        },
        "id": "ljp3gthL2tHo",
        "outputId": "7abea1fe-0cf0-4fa9-dfcd-fd2ccaa702b1"
      },
      "source": [
        "value_counts(df, 'income')"
      ],
      "execution_count": null,
      "outputs": [
        {
          "output_type": "display_data",
          "data": {
            "text/plain": [
              "  values Freq \n",
              "1 0      24720\n",
              "2 1       7841"
            ],
            "text/latex": "A data.frame: 2 × 2\n\\begin{tabular}{ll}\n values & Freq\\\\\n <fct> & <int>\\\\\n\\hline\n\t 0 & 24720\\\\\n\t 1 &  7841\\\\\n\\end{tabular}\n",
            "text/markdown": "\nA data.frame: 2 × 2\n\n| values &lt;fct&gt; | Freq &lt;int&gt; |\n|---|---|\n| 0 | 24720 |\n| 1 |  7841 |\n\n",
            "text/html": [
              "<table>\n",
              "<caption>A data.frame: 2 × 2</caption>\n",
              "<thead>\n",
              "\t<tr><th scope=col>values</th><th scope=col>Freq</th></tr>\n",
              "\t<tr><th scope=col>&lt;fct&gt;</th><th scope=col>&lt;int&gt;</th></tr>\n",
              "</thead>\n",
              "<tbody>\n",
              "\t<tr><td>0</td><td>24720</td></tr>\n",
              "\t<tr><td>1</td><td> 7841</td></tr>\n",
              "</tbody>\n",
              "</table>\n"
            ]
          },
          "metadata": {
            "tags": []
          }
        }
      ]
    },
    {
      "cell_type": "markdown",
      "metadata": {
        "id": "WFhI1kFxtMp9"
      },
      "source": [
        "## Transform sex and status into two dummy variable."
      ]
    },
    {
      "cell_type": "code",
      "metadata": {
        "colab": {
          "base_uri": "https://localhost:8080/",
          "height": 225
        },
        "id": "JYeD-2eMvbA6",
        "outputId": "20c8bff5-c2f0-4d7c-ce3a-56cb2608c9cd"
      },
      "source": [
        "value_counts(df, 'marital')"
      ],
      "execution_count": null,
      "outputs": [
        {
          "output_type": "display_data",
          "data": {
            "text/plain": [
              "  values                Freq \n",
              "1 Divorced               4443\n",
              "2 Married-AF-spouse        23\n",
              "3 Married-civ-spouse    14976\n",
              "4 Married-spouse-absent   418\n",
              "5 Never-married         10683\n",
              "6 Separated              1025\n",
              "7 Widowed                 993"
            ],
            "text/latex": "A data.frame: 7 × 2\n\\begin{tabular}{ll}\n values & Freq\\\\\n <fct> & <int>\\\\\n\\hline\n\t Divorced              &  4443\\\\\n\t Married-AF-spouse     &    23\\\\\n\t Married-civ-spouse    & 14976\\\\\n\t Married-spouse-absent &   418\\\\\n\t Never-married         & 10683\\\\\n\t Separated             &  1025\\\\\n\t Widowed               &   993\\\\\n\\end{tabular}\n",
            "text/markdown": "\nA data.frame: 7 × 2\n\n| values &lt;fct&gt; | Freq &lt;int&gt; |\n|---|---|\n| Divorced              |  4443 |\n| Married-AF-spouse     |    23 |\n| Married-civ-spouse    | 14976 |\n| Married-spouse-absent |   418 |\n| Never-married         | 10683 |\n| Separated             |  1025 |\n| Widowed               |   993 |\n\n",
            "text/html": [
              "<table>\n",
              "<caption>A data.frame: 7 × 2</caption>\n",
              "<thead>\n",
              "\t<tr><th scope=col>values</th><th scope=col>Freq</th></tr>\n",
              "\t<tr><th scope=col>&lt;fct&gt;</th><th scope=col>&lt;int&gt;</th></tr>\n",
              "</thead>\n",
              "<tbody>\n",
              "\t<tr><td>Divorced             </td><td> 4443</td></tr>\n",
              "\t<tr><td>Married-AF-spouse    </td><td>   23</td></tr>\n",
              "\t<tr><td>Married-civ-spouse   </td><td>14976</td></tr>\n",
              "\t<tr><td>Married-spouse-absent</td><td>  418</td></tr>\n",
              "\t<tr><td>Never-married        </td><td>10683</td></tr>\n",
              "\t<tr><td>Separated            </td><td> 1025</td></tr>\n",
              "\t<tr><td>Widowed              </td><td>  993</td></tr>\n",
              "</tbody>\n",
              "</table>\n"
            ]
          },
          "metadata": {
            "tags": []
          }
        }
      ]
    },
    {
      "cell_type": "code",
      "metadata": {
        "id": "dDly6UjFtSVW"
      },
      "source": [
        "marital_labeller = function (x) {\n",
        "  # x[x=='Divorced'] = 0\n",
        "  # x[x=='Widowed'] = 0\n",
        "  x[x=='Separated' | x=='Widowed' | x == 'Never-married'] = 0\n",
        "  x[x!=0] = 1\n",
        "  x\n",
        "}\n",
        "\n",
        "df$marital = marital_labeller(df$marital)"
      ],
      "execution_count": null,
      "outputs": []
    },
    {
      "cell_type": "code",
      "metadata": {
        "colab": {
          "base_uri": "https://localhost:8080/",
          "height": 137
        },
        "id": "5bZBHetZtmt2",
        "outputId": "d1127e68-6ec0-4f9e-c836-5d2a79cba78f"
      },
      "source": [
        "value_counts(df, 'marital')"
      ],
      "execution_count": null,
      "outputs": [
        {
          "output_type": "display_data",
          "data": {
            "text/plain": [
              "  values Freq \n",
              "1 0      12701\n",
              "2 1      19860"
            ],
            "text/latex": "A data.frame: 2 × 2\n\\begin{tabular}{ll}\n values & Freq\\\\\n <fct> & <int>\\\\\n\\hline\n\t 0 & 12701\\\\\n\t 1 & 19860\\\\\n\\end{tabular}\n",
            "text/markdown": "\nA data.frame: 2 × 2\n\n| values &lt;fct&gt; | Freq &lt;int&gt; |\n|---|---|\n| 0 | 12701 |\n| 1 | 19860 |\n\n",
            "text/html": [
              "<table>\n",
              "<caption>A data.frame: 2 × 2</caption>\n",
              "<thead>\n",
              "\t<tr><th scope=col>values</th><th scope=col>Freq</th></tr>\n",
              "\t<tr><th scope=col>&lt;fct&gt;</th><th scope=col>&lt;int&gt;</th></tr>\n",
              "</thead>\n",
              "<tbody>\n",
              "\t<tr><td>0</td><td>12701</td></tr>\n",
              "\t<tr><td>1</td><td>19860</td></tr>\n",
              "</tbody>\n",
              "</table>\n"
            ]
          },
          "metadata": {
            "tags": []
          }
        }
      ]
    },
    {
      "cell_type": "code",
      "metadata": {
        "colab": {
          "base_uri": "https://localhost:8080/",
          "height": 137
        },
        "id": "uJGAh3nT0zej",
        "outputId": "c59f04cb-d513-4743-e92a-c347eaea57fc"
      },
      "source": [
        "value_counts(df, 'sex')"
      ],
      "execution_count": null,
      "outputs": [
        {
          "output_type": "display_data",
          "data": {
            "text/plain": [
              "  values Freq \n",
              "1 Female 10771\n",
              "2 Male   21790"
            ],
            "text/latex": "A data.frame: 2 × 2\n\\begin{tabular}{ll}\n values & Freq\\\\\n <fct> & <int>\\\\\n\\hline\n\t Female & 10771\\\\\n\t Male   & 21790\\\\\n\\end{tabular}\n",
            "text/markdown": "\nA data.frame: 2 × 2\n\n| values &lt;fct&gt; | Freq &lt;int&gt; |\n|---|---|\n| Female | 10771 |\n| Male   | 21790 |\n\n",
            "text/html": [
              "<table>\n",
              "<caption>A data.frame: 2 × 2</caption>\n",
              "<thead>\n",
              "\t<tr><th scope=col>values</th><th scope=col>Freq</th></tr>\n",
              "\t<tr><th scope=col>&lt;fct&gt;</th><th scope=col>&lt;int&gt;</th></tr>\n",
              "</thead>\n",
              "<tbody>\n",
              "\t<tr><td>Female</td><td>10771</td></tr>\n",
              "\t<tr><td>Male  </td><td>21790</td></tr>\n",
              "</tbody>\n",
              "</table>\n"
            ]
          },
          "metadata": {
            "tags": []
          }
        }
      ]
    },
    {
      "cell_type": "code",
      "metadata": {
        "id": "mqxKwnAQ04bi"
      },
      "source": [
        "gender_labeller = function (x) {\n",
        "  x[x=='Female'] = 0\n",
        "  x[x!=0] = 1\n",
        "  x\n",
        "}\n",
        "\n",
        "df$sex = gender_labeller(df$sex)"
      ],
      "execution_count": null,
      "outputs": []
    },
    {
      "cell_type": "code",
      "metadata": {
        "colab": {
          "base_uri": "https://localhost:8080/",
          "height": 137
        },
        "id": "F6XHQCgb1AdH",
        "outputId": "89f225c3-d0b4-4d31-f419-497d79f5ec9b"
      },
      "source": [
        "value_counts(df, 'sex')"
      ],
      "execution_count": null,
      "outputs": [
        {
          "output_type": "display_data",
          "data": {
            "text/plain": [
              "  values Freq \n",
              "1 0      10771\n",
              "2 1      21790"
            ],
            "text/latex": "A data.frame: 2 × 2\n\\begin{tabular}{ll}\n values & Freq\\\\\n <fct> & <int>\\\\\n\\hline\n\t 0 & 10771\\\\\n\t 1 & 21790\\\\\n\\end{tabular}\n",
            "text/markdown": "\nA data.frame: 2 × 2\n\n| values &lt;fct&gt; | Freq &lt;int&gt; |\n|---|---|\n| 0 | 10771 |\n| 1 | 21790 |\n\n",
            "text/html": [
              "<table>\n",
              "<caption>A data.frame: 2 × 2</caption>\n",
              "<thead>\n",
              "\t<tr><th scope=col>values</th><th scope=col>Freq</th></tr>\n",
              "\t<tr><th scope=col>&lt;fct&gt;</th><th scope=col>&lt;int&gt;</th></tr>\n",
              "</thead>\n",
              "<tbody>\n",
              "\t<tr><td>0</td><td>10771</td></tr>\n",
              "\t<tr><td>1</td><td>21790</td></tr>\n",
              "</tbody>\n",
              "</table>\n"
            ]
          },
          "metadata": {
            "tags": []
          }
        }
      ]
    },
    {
      "cell_type": "markdown",
      "metadata": {
        "id": "D-_zsiVy0X6d"
      },
      "source": [
        "##Apply a normalization to age and hours worked per week."
      ]
    },
    {
      "cell_type": "code",
      "metadata": {
        "id": "QQzZiD3ovAKT"
      },
      "source": [
        "df$hr_per_week = scale(df$hr_per_week)\n",
        "df$age = scale(df$age)"
      ],
      "execution_count": null,
      "outputs": []
    },
    {
      "cell_type": "markdown",
      "metadata": {
        "id": "xWz2rOiu0j9-"
      },
      "source": [
        "## Run a frequentist analysis for the new dataset."
      ]
    },
    {
      "cell_type": "code",
      "metadata": {
        "colab": {
          "base_uri": "https://localhost:8080/"
        },
        "id": "Kt7jA89q3WVK",
        "outputId": "5c1e10cd-622f-49e0-a5cb-1f637cbc6e28"
      },
      "source": [
        "install.packages(\"superml\")"
      ],
      "execution_count": null,
      "outputs": [
        {
          "output_type": "stream",
          "text": [
            "Installing package into ‘/usr/local/lib/R/site-library’\n",
            "(as ‘lib’ is unspecified)\n",
            "\n"
          ],
          "name": "stderr"
        }
      ]
    },
    {
      "cell_type": "code",
      "metadata": {
        "id": "SPvseqPp3XMV"
      },
      "source": [
        "library(superml)"
      ],
      "execution_count": null,
      "outputs": []
    },
    {
      "cell_type": "code",
      "metadata": {
        "id": "MhYlPrLy3Yna"
      },
      "source": [
        "\n",
        "cols = c('occupation', 'relationship', 'race', 'country')\n",
        "ignore = c('fnlwgt')\n",
        "\n",
        "\n",
        "df = df[ , !(names(df) %in% ignore)]\n"
      ],
      "execution_count": null,
      "outputs": []
    },
    {
      "cell_type": "code",
      "metadata": {
        "id": "bGn1bP4257b5"
      },
      "source": [
        "lbl = LabelEncoder$new()\n",
        "lbl$fit(df$type_employer)\n",
        "df$type_employer = lbl$fit_transform(df$type_employer)"
      ],
      "execution_count": null,
      "outputs": []
    },
    {
      "cell_type": "code",
      "metadata": {
        "id": "xoF1Dgx26toD"
      },
      "source": [
        "lbl = LabelEncoder$new()\n",
        "lbl$fit(df$relationship)\n",
        "df$relationship = lbl$fit_transform(df$relationship)"
      ],
      "execution_count": null,
      "outputs": []
    },
    {
      "cell_type": "code",
      "metadata": {
        "id": "-ee9hvj46f97"
      },
      "source": [
        "lbl = LabelEncoder$new()\n",
        "lbl$fit(df$race)\n",
        "df$race = lbl$fit_transform(df$race)"
      ],
      "execution_count": null,
      "outputs": []
    },
    {
      "cell_type": "code",
      "metadata": {
        "id": "0MIFSxG25-rq"
      },
      "source": [
        "lbl = LabelEncoder$new()\n",
        "lbl$fit(df$occupation)\n",
        "df$occupation = lbl$fit_transform(df$occupation)"
      ],
      "execution_count": null,
      "outputs": []
    },
    {
      "cell_type": "code",
      "metadata": {
        "id": "c84LU5ws6m0u"
      },
      "source": [
        "lbl = LabelEncoder$new()\n",
        "lbl$fit(df$country)\n",
        "df$country = lbl$fit_transform(df$country)"
      ],
      "execution_count": null,
      "outputs": []
    },
    {
      "cell_type": "code",
      "metadata": {
        "id": "CEna-xr77-jc"
      },
      "source": [
        "df$age <- as.numeric(df$age)\n",
        "df$income <- as.numeric(df$income)\n",
        "df$sex <- as.numeric(df$sex)\n",
        "df$education <- as.numeric(df$education)\n",
        "df$marital <- as.numeric(df$marital)"
      ],
      "execution_count": null,
      "outputs": []
    },
    {
      "cell_type": "code",
      "metadata": {
        "colab": {
          "base_uri": "https://localhost:8080/",
          "height": 224
        },
        "id": "6VWN2w0I3NWR",
        "outputId": "9e7f8bac-3735-45fc-afd0-57263de6ca46"
      },
      "source": [
        "head(df)"
      ],
      "execution_count": null,
      "outputs": [
        {
          "output_type": "display_data",
          "data": {
            "text/plain": [
              "  age         type_employer education education_num marital occupation\n",
              "1  0.03067009 0              3        13            0       0         \n",
              "2  0.83709613 1              3        13            1       1         \n",
              "3 -0.04264137 2              7         9            1       2         \n",
              "4  1.05703050 2             11         7            1       2         \n",
              "5 -0.77575595 2              3        13            1       3         \n",
              "6 -0.11595283 2             13        14            1       1         \n",
              "  relationship race sex capital_gain capital_loss hr_per_week country income\n",
              "1 0            0    1   2174         0            -0.0354289  0       0     \n",
              "2 1            0    1      0         0            -2.2221190  0       0     \n",
              "3 0            0    1      0         0            -0.0354289  0       0     \n",
              "4 1            1    1      0         0            -0.0354289  0       0     \n",
              "5 2            1    0      0         0            -0.0354289  1       0     \n",
              "6 2            0    0      0         0            -0.0354289  0       0     "
            ],
            "text/latex": "A data.frame: 6 × 14\n\\begin{tabular}{r|llllllllllllll}\n  & age & type\\_employer & education & education\\_num & marital & occupation & relationship & race & sex & capital\\_gain & capital\\_loss & hr\\_per\\_week & country & income\\\\\n  & <dbl> & <dbl> & <dbl> & <int> & <dbl> & <dbl> & <dbl> & <dbl> & <dbl> & <int> & <int> & <dbl{[},1{]}> & <dbl> & <dbl>\\\\\n\\hline\n\t1 &  0.03067009 & 0 &  3 & 13 & 0 & 0 & 0 & 0 & 1 & 2174 & 0 & -0.0354289 & 0 & 0\\\\\n\t2 &  0.83709613 & 1 &  3 & 13 & 1 & 1 & 1 & 0 & 1 &    0 & 0 & -2.2221190 & 0 & 0\\\\\n\t3 & -0.04264137 & 2 &  7 &  9 & 1 & 2 & 0 & 0 & 1 &    0 & 0 & -0.0354289 & 0 & 0\\\\\n\t4 &  1.05703050 & 2 & 11 &  7 & 1 & 2 & 1 & 1 & 1 &    0 & 0 & -0.0354289 & 0 & 0\\\\\n\t5 & -0.77575595 & 2 &  3 & 13 & 1 & 3 & 2 & 1 & 0 &    0 & 0 & -0.0354289 & 1 & 0\\\\\n\t6 & -0.11595283 & 2 & 13 & 14 & 1 & 1 & 2 & 0 & 0 &    0 & 0 & -0.0354289 & 0 & 0\\\\\n\\end{tabular}\n",
            "text/markdown": "\nA data.frame: 6 × 14\n\n| <!--/--> | age &lt;dbl&gt; | type_employer &lt;dbl&gt; | education &lt;dbl&gt; | education_num &lt;int&gt; | marital &lt;dbl&gt; | occupation &lt;dbl&gt; | relationship &lt;dbl&gt; | race &lt;dbl&gt; | sex &lt;dbl&gt; | capital_gain &lt;int&gt; | capital_loss &lt;int&gt; | hr_per_week &lt;dbl[,1]&gt; | country &lt;dbl&gt; | income &lt;dbl&gt; |\n|---|---|---|---|---|---|---|---|---|---|---|---|---|---|---|\n| 1 |  0.03067009 | 0 |  3 | 13 | 0 | 0 | 0 | 0 | 1 | 2174 | 0 | -0.0354289 | 0 | 0 |\n| 2 |  0.83709613 | 1 |  3 | 13 | 1 | 1 | 1 | 0 | 1 |    0 | 0 | -2.2221190 | 0 | 0 |\n| 3 | -0.04264137 | 2 |  7 |  9 | 1 | 2 | 0 | 0 | 1 |    0 | 0 | -0.0354289 | 0 | 0 |\n| 4 |  1.05703050 | 2 | 11 |  7 | 1 | 2 | 1 | 1 | 1 |    0 | 0 | -0.0354289 | 0 | 0 |\n| 5 | -0.77575595 | 2 |  3 | 13 | 1 | 3 | 2 | 1 | 0 |    0 | 0 | -0.0354289 | 1 | 0 |\n| 6 | -0.11595283 | 2 | 13 | 14 | 1 | 1 | 2 | 0 | 0 |    0 | 0 | -0.0354289 | 0 | 0 |\n\n",
            "text/html": [
              "<table>\n",
              "<caption>A data.frame: 6 × 14</caption>\n",
              "<thead>\n",
              "\t<tr><th></th><th scope=col>age</th><th scope=col>type_employer</th><th scope=col>education</th><th scope=col>education_num</th><th scope=col>marital</th><th scope=col>occupation</th><th scope=col>relationship</th><th scope=col>race</th><th scope=col>sex</th><th scope=col>capital_gain</th><th scope=col>capital_loss</th><th scope=col>hr_per_week</th><th scope=col>country</th><th scope=col>income</th></tr>\n",
              "\t<tr><th></th><th scope=col>&lt;dbl&gt;</th><th scope=col>&lt;dbl&gt;</th><th scope=col>&lt;dbl&gt;</th><th scope=col>&lt;int&gt;</th><th scope=col>&lt;dbl&gt;</th><th scope=col>&lt;dbl&gt;</th><th scope=col>&lt;dbl&gt;</th><th scope=col>&lt;dbl&gt;</th><th scope=col>&lt;dbl&gt;</th><th scope=col>&lt;int&gt;</th><th scope=col>&lt;int&gt;</th><th scope=col>&lt;dbl[,1]&gt;</th><th scope=col>&lt;dbl&gt;</th><th scope=col>&lt;dbl&gt;</th></tr>\n",
              "</thead>\n",
              "<tbody>\n",
              "\t<tr><th scope=row>1</th><td> 0.03067009</td><td>0</td><td> 3</td><td>13</td><td>0</td><td>0</td><td>0</td><td>0</td><td>1</td><td>2174</td><td>0</td><td>-0.0354289</td><td>0</td><td>0</td></tr>\n",
              "\t<tr><th scope=row>2</th><td> 0.83709613</td><td>1</td><td> 3</td><td>13</td><td>1</td><td>1</td><td>1</td><td>0</td><td>1</td><td>   0</td><td>0</td><td>-2.2221190</td><td>0</td><td>0</td></tr>\n",
              "\t<tr><th scope=row>3</th><td>-0.04264137</td><td>2</td><td> 7</td><td> 9</td><td>1</td><td>2</td><td>0</td><td>0</td><td>1</td><td>   0</td><td>0</td><td>-0.0354289</td><td>0</td><td>0</td></tr>\n",
              "\t<tr><th scope=row>4</th><td> 1.05703050</td><td>2</td><td>11</td><td> 7</td><td>1</td><td>2</td><td>1</td><td>1</td><td>1</td><td>   0</td><td>0</td><td>-0.0354289</td><td>0</td><td>0</td></tr>\n",
              "\t<tr><th scope=row>5</th><td>-0.77575595</td><td>2</td><td> 3</td><td>13</td><td>1</td><td>3</td><td>2</td><td>1</td><td>0</td><td>   0</td><td>0</td><td>-0.0354289</td><td>1</td><td>0</td></tr>\n",
              "\t<tr><th scope=row>6</th><td>-0.11595283</td><td>2</td><td>13</td><td>14</td><td>1</td><td>1</td><td>2</td><td>0</td><td>0</td><td>   0</td><td>0</td><td>-0.0354289</td><td>0</td><td>0</td></tr>\n",
              "</tbody>\n",
              "</table>\n"
            ]
          },
          "metadata": {
            "tags": []
          }
        }
      ]
    },
    {
      "cell_type": "code",
      "metadata": {
        "colab": {
          "base_uri": "https://localhost:8080/",
          "height": 51
        },
        "id": "-irW28gIFVpr",
        "outputId": "41108996-af19-4ac4-b5d9-e19c2e704fe4"
      },
      "source": [
        "colnames(df)"
      ],
      "execution_count": null,
      "outputs": [
        {
          "output_type": "display_data",
          "data": {
            "text/plain": [
              " [1] \"age\"           \"type_employer\" \"education\"     \"education_num\"\n",
              " [5] \"marital\"       \"occupation\"    \"relationship\"  \"race\"         \n",
              " [9] \"sex\"           \"capital_gain\"  \"capital_loss\"  \"hr_per_week\"  \n",
              "[13] \"country\"       \"income\"       "
            ],
            "text/latex": "\\begin{enumerate*}\n\\item 'age'\n\\item 'type\\_employer'\n\\item 'education'\n\\item 'education\\_num'\n\\item 'marital'\n\\item 'occupation'\n\\item 'relationship'\n\\item 'race'\n\\item 'sex'\n\\item 'capital\\_gain'\n\\item 'capital\\_loss'\n\\item 'hr\\_per\\_week'\n\\item 'country'\n\\item 'income'\n\\end{enumerate*}\n",
            "text/markdown": "1. 'age'\n2. 'type_employer'\n3. 'education'\n4. 'education_num'\n5. 'marital'\n6. 'occupation'\n7. 'relationship'\n8. 'race'\n9. 'sex'\n10. 'capital_gain'\n11. 'capital_loss'\n12. 'hr_per_week'\n13. 'country'\n14. 'income'\n\n\n",
            "text/html": [
              "<style>\n",
              ".list-inline {list-style: none; margin:0; padding: 0}\n",
              ".list-inline>li {display: inline-block}\n",
              ".list-inline>li:not(:last-child)::after {content: \"\\00b7\"; padding: 0 .5ex}\n",
              "</style>\n",
              "<ol class=list-inline><li>'age'</li><li>'type_employer'</li><li>'education'</li><li>'education_num'</li><li>'marital'</li><li>'occupation'</li><li>'relationship'</li><li>'race'</li><li>'sex'</li><li>'capital_gain'</li><li>'capital_loss'</li><li>'hr_per_week'</li><li>'country'</li><li>'income'</li></ol>\n"
            ]
          },
          "metadata": {
            "tags": []
          }
        }
      ]
    },
    {
      "cell_type": "code",
      "metadata": {
        "colab": {
          "base_uri": "https://localhost:8080/",
          "height": 476
        },
        "id": "J4G5kaaP0jU-",
        "outputId": "b4d9905e-4174-4e6a-c19f-317338a8b5d0"
      },
      "source": [
        "out = glm(income ~ age + education + sex + hr_per_week + marital , data = df, family = binomial, x = T)\n",
        "summary(out)"
      ],
      "execution_count": null,
      "outputs": [
        {
          "output_type": "display_data",
          "data": {
            "text/plain": [
              "\n",
              "Call:\n",
              "glm(formula = income ~ age + education + sex + hr_per_week + \n",
              "    marital, family = binomial, data = df, x = T)\n",
              "\n",
              "Deviance Residuals: \n",
              "    Min       1Q   Median       3Q      Max  \n",
              "-2.1587  -0.8238  -0.3439  -0.1366   2.9926  \n",
              "\n",
              "Coefficients:\n",
              "             Estimate Std. Error z value Pr(>|z|)    \n",
              "(Intercept) -3.034514   0.054018 -56.176  < 2e-16 ***\n",
              "age          0.354969   0.016487  21.530  < 2e-16 ***\n",
              "education   -0.019632   0.002954  -6.645 3.03e-11 ***\n",
              "sex          0.721149   0.037124  19.425  < 2e-16 ***\n",
              "hr_per_week  0.433631   0.015996  27.109  < 2e-16 ***\n",
              "marital      1.829606   0.045484  40.225  < 2e-16 ***\n",
              "---\n",
              "Signif. codes:  0 ‘***’ 0.001 ‘**’ 0.01 ‘*’ 0.05 ‘.’ 0.1 ‘ ’ 1\n",
              "\n",
              "(Dispersion parameter for binomial family taken to be 1)\n",
              "\n",
              "    Null deviance: 35948  on 32560  degrees of freedom\n",
              "Residual deviance: 29260  on 32555  degrees of freedom\n",
              "AIC: 29272\n",
              "\n",
              "Number of Fisher Scoring iterations: 5\n"
            ]
          },
          "metadata": {
            "tags": []
          }
        }
      ]
    },
    {
      "cell_type": "markdown",
      "metadata": {
        "id": "6mdodxdO1EwW"
      },
      "source": [
        "##Write the log-posterior distribution."
      ]
    },
    {
      "cell_type": "code",
      "metadata": {
        "id": "eAn6XOSA86o2"
      },
      "source": [
        "library(mcmc)"
      ],
      "execution_count": null,
      "outputs": []
    },
    {
      "cell_type": "code",
      "metadata": {
        "id": "Ta_B_N6A0rEj"
      },
      "source": [
        "lupost_factory = function(x, y) function(beta) {\n",
        "\n",
        "  # print(beta)\n",
        "  eta = as.numeric(x %*% beta)\n",
        "  logp = ifelse(eta < 0, eta - log1p(exp(eta)), - log1p(exp(- eta)))\n",
        "  logq = ifelse(eta < 0, - log1p(exp(eta)), - eta - log1p(exp(- eta)))\n",
        "  logl = sum(logp[y == 1]) + sum(logq[y == 0])\n",
        "  return (logl - sum(beta^2) / 8)\n",
        "\n",
        "}\n",
        "\n",
        "lupost = lupost_factory(out$x, out$y)"
      ],
      "execution_count": null,
      "outputs": []
    },
    {
      "cell_type": "code",
      "metadata": {
        "colab": {
          "base_uri": "https://localhost:8080/",
          "height": 153
        },
        "id": "UXkT-0oK7Ovz",
        "outputId": "7694b62f-68d2-4b41-b7f7-8f7c6830e643"
      },
      "source": [
        "lupost"
      ],
      "execution_count": null,
      "outputs": [
        {
          "output_type": "display_data",
          "data": {
            "text/plain": [
              "function(beta) {\n",
              "\n",
              "  # print(beta)\n",
              "  eta = as.numeric(x %*% beta)\n",
              "  logp = ifelse(eta < 0, eta - log1p(exp(eta)), - log1p(exp(- eta)))\n",
              "  logq = ifelse(eta < 0, - log1p(exp(eta)), - eta - log1p(exp(- eta)))\n",
              "  logl = sum(logp[y == 1]) + sum(logq[y == 0])\n",
              "  return (logl - sum(beta^2) / 8)\n",
              "\n",
              "}\n",
              "<bytecode: 0x5591ac190e78>\n",
              "<environment: 0x5591aca5d888>"
            ],
            "text/latex": "\\begin{minted}{r}\nfunction (beta) \n\\{\n    eta = as.numeric(x \\%*\\% beta)\n    logp = ifelse(eta < 0, eta - log1p(exp(eta)), -log1p(exp(-eta)))\n    logq = ifelse(eta < 0, -log1p(exp(eta)), -eta - log1p(exp(-eta)))\n    logl = sum(logp{[}y == 1{]}) + sum(logq{[}y == 0{]})\n    return(logl - sum(beta\\textasciicircum{}2)/8)\n\\}\n\\end{minted}",
            "text/markdown": "```r\nfunction (beta) \n{\n    eta = as.numeric(x %*% beta)\n    logp = ifelse(eta < 0, eta - log1p(exp(eta)), -log1p(exp(-eta)))\n    logq = ifelse(eta < 0, -log1p(exp(eta)), -eta - log1p(exp(-eta)))\n    logl = sum(logp[y == 1]) + sum(logq[y == 0])\n    return(logl - sum(beta^2)/8)\n}\n```",
            "text/html": [
              "<pre class=language-r><code>function (beta) \n",
              "{\n",
              "<span style=white-space:pre-wrap>    eta = as.numeric(x %*% beta)</span>\n",
              "<span style=white-space:pre-wrap>    logp = ifelse(eta &lt; 0, eta - log1p(exp(eta)), -log1p(exp(-eta)))</span>\n",
              "<span style=white-space:pre-wrap>    logq = ifelse(eta &lt; 0, -log1p(exp(eta)), -eta - log1p(exp(-eta)))</span>\n",
              "<span style=white-space:pre-wrap>    logl = sum(logp[y == 1]) + sum(logq[y == 0])</span>\n",
              "<span style=white-space:pre-wrap>    return(logl - sum(beta^2)/8)</span>\n",
              "}</code></pre>"
            ]
          },
          "metadata": {
            "tags": []
          }
        }
      ]
    },
    {
      "cell_type": "code",
      "metadata": {
        "id": "hBZNzeqH8ZTA"
      },
      "source": [
        "set.seed(42)"
      ],
      "execution_count": null,
      "outputs": []
    },
    {
      "cell_type": "code",
      "metadata": {
        "colab": {
          "base_uri": "https://localhost:8080/",
          "height": 34
        },
        "id": "5EToE7HpKcSs",
        "outputId": "bbf1afe6-7ea4-443d-edff-fbcbbc7e445b"
      },
      "source": [
        "beta.init = as.numeric(coefficients(out))\n",
        "beta.init"
      ],
      "execution_count": null,
      "outputs": [
        {
          "output_type": "display_data",
          "data": {
            "text/plain": [
              "[1] -3.03451383  0.35496921 -0.01963189  0.72114881  0.43363065  1.82960591"
            ],
            "text/latex": "\\begin{enumerate*}\n\\item -3.0345138293557\n\\item 0.354969208140817\n\\item -0.0196318890926109\n\\item 0.721148810456254\n\\item 0.433630646149513\n\\item 1.82960591188059\n\\end{enumerate*}\n",
            "text/markdown": "1. -3.0345138293557\n2. 0.354969208140817\n3. -0.0196318890926109\n4. 0.721148810456254\n5. 0.433630646149513\n6. 1.82960591188059\n\n\n",
            "text/html": [
              "<style>\n",
              ".list-inline {list-style: none; margin:0; padding: 0}\n",
              ".list-inline>li {display: inline-block}\n",
              ".list-inline>li:not(:last-child)::after {content: \"\\00b7\"; padding: 0 .5ex}\n",
              "</style>\n",
              "<ol class=list-inline><li>-3.0345138293557</li><li>0.354969208140817</li><li>-0.0196318890926109</li><li>0.721148810456254</li><li>0.433630646149513</li><li>1.82960591188059</li></ol>\n"
            ]
          },
          "metadata": {
            "tags": []
          }
        }
      ]
    },
    {
      "cell_type": "code",
      "metadata": {
        "colab": {
          "base_uri": "https://localhost:8080/",
          "height": 34
        },
        "id": "xJGup_kj7Px8",
        "outputId": "203320f9-4a9f-4f4f-c386-63d831da5404"
      },
      "source": [
        "out = metrop(lupost, beta.init, 1e3, scale = 5e-3)\n",
        "out$accept"
      ],
      "execution_count": null,
      "outputs": [
        {
          "output_type": "display_data",
          "data": {
            "text/plain": [
              "[1] 0.275"
            ],
            "text/latex": "0.275",
            "text/markdown": "0.275",
            "text/html": [
              "0.275"
            ]
          },
          "metadata": {
            "tags": []
          }
        }
      ]
    },
    {
      "cell_type": "code",
      "metadata": {
        "colab": {
          "base_uri": "https://localhost:8080/",
          "height": 34
        },
        "id": "THPXfrBQGCmF",
        "outputId": "09c56c5c-b185-45da-e2af-ec2ed2813fce"
      },
      "source": [
        "out = metrop(out, scale = 5e-3 * (1 + 3/4))\n",
        "out$accept"
      ],
      "execution_count": null,
      "outputs": [
        {
          "output_type": "display_data",
          "data": {
            "text/plain": [
              "[1] 0.156"
            ],
            "text/latex": "0.156",
            "text/markdown": "0.156",
            "text/html": [
              "0.156"
            ]
          },
          "metadata": {
            "tags": []
          }
        }
      ]
    },
    {
      "cell_type": "code",
      "metadata": {
        "colab": {
          "base_uri": "https://localhost:8080/",
          "height": 34
        },
        "id": "1W0cegFGLp17",
        "outputId": "ec3d6016-654c-4947-a4a8-2eb13d995f60"
      },
      "source": [
        "out = metrop(out, scale = 6e-3)\n",
        "out$accept"
      ],
      "execution_count": null,
      "outputs": [
        {
          "output_type": "display_data",
          "data": {
            "text/plain": [
              "[1] 0.245"
            ],
            "text/latex": "0.245",
            "text/markdown": "0.245",
            "text/html": [
              "0.245"
            ]
          },
          "metadata": {
            "tags": []
          }
        }
      ]
    },
    {
      "cell_type": "code",
      "metadata": {
        "colab": {
          "base_uri": "https://localhost:8080/",
          "height": 34
        },
        "id": "5M8-GAHwMYsd",
        "outputId": "ad979304-983b-49f2-f3d9-4298b479643d"
      },
      "source": [
        "out = metrop(out, scale = 6.75e-3)\n",
        "out$accept"
      ],
      "execution_count": null,
      "outputs": [
        {
          "output_type": "display_data",
          "data": {
            "text/plain": [
              "[1] 0.215"
            ],
            "text/latex": "0.215",
            "text/markdown": "0.215",
            "text/html": [
              "0.215"
            ]
          },
          "metadata": {
            "tags": []
          }
        }
      ]
    },
    {
      "cell_type": "code",
      "metadata": {
        "colab": {
          "base_uri": "https://localhost:8080/",
          "height": 34
        },
        "id": "MHVSkm5-McJy",
        "outputId": "02fa9b51-662c-484e-a96d-d6e27952c3c4"
      },
      "source": [
        "out = metrop(out, scale = 6.6e-3)\n",
        "out$accept"
      ],
      "execution_count": null,
      "outputs": [
        {
          "output_type": "display_data",
          "data": {
            "text/plain": [
              "[1] 0.227"
            ],
            "text/latex": "0.227",
            "text/markdown": "0.227",
            "text/html": [
              "0.227"
            ]
          },
          "metadata": {
            "tags": []
          }
        }
      ]
    },
    {
      "cell_type": "code",
      "metadata": {
        "colab": {
          "base_uri": "https://localhost:8080/",
          "height": 34
        },
        "id": "lLMbxT4jMpuU",
        "outputId": "39816c54-9afc-4444-a371-d7ed55cb226f"
      },
      "source": [
        " t.test(out$accept.batch)$conf.int"
      ],
      "execution_count": null,
      "outputs": [
        {
          "output_type": "display_data",
          "data": {
            "text/plain": [
              "[1] 0.2009927 0.2530073\n",
              "attr(,\"conf.level\")\n",
              "[1] 0.95"
            ],
            "text/latex": "\\begin{enumerate*}\n\\item 0.200992745274988\n\\item 0.253007254725012\n\\end{enumerate*}\n",
            "text/markdown": "1. 0.200992745274988\n2. 0.253007254725012\n\n\n",
            "text/html": [
              "<style>\n",
              ".list-inline {list-style: none; margin:0; padding: 0}\n",
              ".list-inline>li {display: inline-block}\n",
              ".list-inline>li:not(:last-child)::after {content: \"\\00b7\"; padding: 0 .5ex}\n",
              "</style>\n",
              "<ol class=list-inline><li>0.200992745274988</li><li>0.253007254725012</li></ol>\n"
            ]
          },
          "metadata": {
            "tags": []
          }
        }
      ]
    },
    {
      "cell_type": "code",
      "metadata": {
        "colab": {
          "base_uri": "https://localhost:8080/",
          "height": 437
        },
        "id": "_aXeXRd1M0Mr",
        "outputId": "051c5a4e-bd24-40d1-fd0d-7ce28aa93695"
      },
      "source": [
        "plot(ts(out$batch))"
      ],
      "execution_count": null,
      "outputs": [
        {
          "output_type": "display_data",
          "data": {
            "image/png": "[encoded data removed]",
            "text/plain": [
              "plot without title"
            ]
          },
          "metadata": {
            "tags": [],
            "image/png": {
              "width": 420,
              "height": 420
            }
          }
        }
      ]
    },
    {
      "cell_type": "code",
      "metadata": {
        "colab": {
          "base_uri": "https://localhost:8080/",
          "height": 437
        },
        "id": "GnjX4m-LNUBM",
        "outputId": "4c8b1927-5a9d-474b-96ff-312f5217ef9e"
      },
      "source": [
        " acf(out$batch)"
      ],
      "execution_count": null,
      "outputs": [
        {
          "output_type": "display_data",
          "data": {
            "image/png": "[encoded data removed]",
            "text/plain": [
              "Plot with title “Series 6”"
            ]
          },
          "metadata": {
            "tags": [],
            "image/png": {
              "width": 420,
              "height": 420
            }
          }
        }
      ]
    },
    {
      "cell_type": "code",
      "metadata": {
        "id": "cFyPbEZcNV80"
      },
      "source": [
        ""
      ],
      "execution_count": null,
      "outputs": []
    }
  ]
}